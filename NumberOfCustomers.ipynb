{
 "cells": [
  {
   "cell_type": "code",
   "execution_count": 1,
   "metadata": {},
   "outputs": [],
   "source": [
    "import pandas as pd\n",
    "import numpy as np\n",
    "import seaborn as sns\n",
    "import matplotlib.pyplot as plt\n",
    "from scipy import stats\n",
    "from sklearn.metrics import mean_squared_error\n",
    "import math"
   ]
  },
  {
   "cell_type": "code",
   "execution_count": 2,
   "metadata": {},
   "outputs": [],
   "source": [
    "PCA = False"
   ]
  },
  {
   "cell_type": "code",
   "execution_count": 3,
   "metadata": {},
   "outputs": [],
   "source": [
    "if PCA:\n",
    "    train = pd.read_csv('FinalPCATrain.csv',index_col=0)\n",
    "else:\n",
    "    train = pd.read_csv('FinalTrain.csv',index_col=0)"
   ]
  },
  {
   "cell_type": "markdown",
   "metadata": {},
   "source": [
    "# Without Double Regression"
   ]
  },
  {
   "cell_type": "code",
   "execution_count": 4,
   "metadata": {},
   "outputs": [],
   "source": [
    "from sklearn.ensemble import RandomForestRegressor\n",
    "from sklearn import model_selection\n",
    "from sklearn.metrics import r2_score"
   ]
  },
  {
   "cell_type": "code",
   "execution_count": 5,
   "metadata": {},
   "outputs": [
    {
     "data": {
      "text/html": [
       "<div>\n",
       "<style scoped>\n",
       "    .dataframe tbody tr th:only-of-type {\n",
       "        vertical-align: middle;\n",
       "    }\n",
       "\n",
       "    .dataframe tbody tr th {\n",
       "        vertical-align: top;\n",
       "    }\n",
       "\n",
       "    .dataframe thead th {\n",
       "        text-align: right;\n",
       "    }\n",
       "</style>\n",
       "<table border=\"1\" class=\"dataframe\">\n",
       "  <thead>\n",
       "    <tr style=\"text-align: right;\">\n",
       "      <th></th>\n",
       "      <th>NumberOfCustomers</th>\n",
       "      <th>NumberOfSales</th>\n",
       "      <th>HasPromotions</th>\n",
       "      <th>NearestCompetitor</th>\n",
       "      <th>Region_AreaKM2</th>\n",
       "      <th>Mean_Dew_PointC</th>\n",
       "      <th>Mean_Sea_Level_PressurehPa</th>\n",
       "      <th>Mean_VisibilityKm</th>\n",
       "      <th>Precipitationmm</th>\n",
       "      <th>StandardMarket</th>\n",
       "      <th>...</th>\n",
       "      <th>February</th>\n",
       "      <th>April</th>\n",
       "      <th>May</th>\n",
       "      <th>June</th>\n",
       "      <th>September</th>\n",
       "      <th>October</th>\n",
       "      <th>December</th>\n",
       "      <th>Nothing</th>\n",
       "      <th>Fog</th>\n",
       "      <th>Snow</th>\n",
       "    </tr>\n",
       "  </thead>\n",
       "  <tbody>\n",
       "    <tr>\n",
       "      <th>0</th>\n",
       "      <td>495</td>\n",
       "      <td>2.266354</td>\n",
       "      <td>0.0</td>\n",
       "      <td>0.003281</td>\n",
       "      <td>0.291715</td>\n",
       "      <td>0.400000</td>\n",
       "      <td>0.848485</td>\n",
       "      <td>0.354839</td>\n",
       "      <td>0.0</td>\n",
       "      <td>0.0</td>\n",
       "      <td>...</td>\n",
       "      <td>0.0</td>\n",
       "      <td>0.0</td>\n",
       "      <td>0.0</td>\n",
       "      <td>0.0</td>\n",
       "      <td>0.0</td>\n",
       "      <td>0.0</td>\n",
       "      <td>0.0</td>\n",
       "      <td>0.0</td>\n",
       "      <td>0.0</td>\n",
       "      <td>1.0</td>\n",
       "    </tr>\n",
       "    <tr>\n",
       "      <th>1</th>\n",
       "      <td>608</td>\n",
       "      <td>2.302695</td>\n",
       "      <td>0.0</td>\n",
       "      <td>0.003281</td>\n",
       "      <td>0.291715</td>\n",
       "      <td>0.400000</td>\n",
       "      <td>0.803030</td>\n",
       "      <td>0.419355</td>\n",
       "      <td>0.0</td>\n",
       "      <td>0.0</td>\n",
       "      <td>...</td>\n",
       "      <td>0.0</td>\n",
       "      <td>0.0</td>\n",
       "      <td>0.0</td>\n",
       "      <td>0.0</td>\n",
       "      <td>0.0</td>\n",
       "      <td>0.0</td>\n",
       "      <td>0.0</td>\n",
       "      <td>0.0</td>\n",
       "      <td>0.0</td>\n",
       "      <td>1.0</td>\n",
       "    </tr>\n",
       "    <tr>\n",
       "      <th>2</th>\n",
       "      <td>665</td>\n",
       "      <td>2.304995</td>\n",
       "      <td>0.0</td>\n",
       "      <td>0.003281</td>\n",
       "      <td>0.291715</td>\n",
       "      <td>0.400000</td>\n",
       "      <td>0.757576</td>\n",
       "      <td>0.354839</td>\n",
       "      <td>0.0</td>\n",
       "      <td>0.0</td>\n",
       "      <td>...</td>\n",
       "      <td>0.0</td>\n",
       "      <td>0.0</td>\n",
       "      <td>0.0</td>\n",
       "      <td>0.0</td>\n",
       "      <td>0.0</td>\n",
       "      <td>0.0</td>\n",
       "      <td>0.0</td>\n",
       "      <td>0.0</td>\n",
       "      <td>0.0</td>\n",
       "      <td>0.0</td>\n",
       "    </tr>\n",
       "    <tr>\n",
       "      <th>3</th>\n",
       "      <td>630</td>\n",
       "      <td>2.290064</td>\n",
       "      <td>0.0</td>\n",
       "      <td>0.003281</td>\n",
       "      <td>0.291715</td>\n",
       "      <td>0.314286</td>\n",
       "      <td>0.757576</td>\n",
       "      <td>0.483871</td>\n",
       "      <td>0.0</td>\n",
       "      <td>0.0</td>\n",
       "      <td>...</td>\n",
       "      <td>0.0</td>\n",
       "      <td>0.0</td>\n",
       "      <td>0.0</td>\n",
       "      <td>0.0</td>\n",
       "      <td>0.0</td>\n",
       "      <td>0.0</td>\n",
       "      <td>0.0</td>\n",
       "      <td>1.0</td>\n",
       "      <td>0.0</td>\n",
       "      <td>0.0</td>\n",
       "    </tr>\n",
       "    <tr>\n",
       "      <th>4</th>\n",
       "      <td>763</td>\n",
       "      <td>2.324482</td>\n",
       "      <td>1.0</td>\n",
       "      <td>0.003281</td>\n",
       "      <td>0.291715</td>\n",
       "      <td>0.342857</td>\n",
       "      <td>0.696970</td>\n",
       "      <td>0.709677</td>\n",
       "      <td>0.0</td>\n",
       "      <td>0.0</td>\n",
       "      <td>...</td>\n",
       "      <td>0.0</td>\n",
       "      <td>0.0</td>\n",
       "      <td>0.0</td>\n",
       "      <td>0.0</td>\n",
       "      <td>0.0</td>\n",
       "      <td>0.0</td>\n",
       "      <td>0.0</td>\n",
       "      <td>1.0</td>\n",
       "      <td>0.0</td>\n",
       "      <td>0.0</td>\n",
       "    </tr>\n",
       "  </tbody>\n",
       "</table>\n",
       "<p>5 rows × 34 columns</p>\n",
       "</div>"
      ],
      "text/plain": [
       "   NumberOfCustomers  NumberOfSales  HasPromotions  NearestCompetitor  \\\n",
       "0                495       2.266354            0.0           0.003281   \n",
       "1                608       2.302695            0.0           0.003281   \n",
       "2                665       2.304995            0.0           0.003281   \n",
       "3                630       2.290064            0.0           0.003281   \n",
       "4                763       2.324482            1.0           0.003281   \n",
       "\n",
       "   Region_AreaKM2  Mean_Dew_PointC  Mean_Sea_Level_PressurehPa  \\\n",
       "0        0.291715         0.400000                    0.848485   \n",
       "1        0.291715         0.400000                    0.803030   \n",
       "2        0.291715         0.400000                    0.757576   \n",
       "3        0.291715         0.314286                    0.757576   \n",
       "4        0.291715         0.342857                    0.696970   \n",
       "\n",
       "   Mean_VisibilityKm  Precipitationmm  StandardMarket  ...   February  April  \\\n",
       "0           0.354839              0.0             0.0  ...        0.0    0.0   \n",
       "1           0.419355              0.0             0.0  ...        0.0    0.0   \n",
       "2           0.354839              0.0             0.0  ...        0.0    0.0   \n",
       "3           0.483871              0.0             0.0  ...        0.0    0.0   \n",
       "4           0.709677              0.0             0.0  ...        0.0    0.0   \n",
       "\n",
       "   May  June  September  October  December  Nothing  Fog  Snow  \n",
       "0  0.0   0.0        0.0      0.0       0.0      0.0  0.0   1.0  \n",
       "1  0.0   0.0        0.0      0.0       0.0      0.0  0.0   1.0  \n",
       "2  0.0   0.0        0.0      0.0       0.0      0.0  0.0   0.0  \n",
       "3  0.0   0.0        0.0      0.0       0.0      1.0  0.0   0.0  \n",
       "4  0.0   0.0        0.0      0.0       0.0      1.0  0.0   0.0  \n",
       "\n",
       "[5 rows x 34 columns]"
      ]
     },
     "execution_count": 5,
     "metadata": {},
     "output_type": "execute_result"
    }
   ],
   "source": [
    "train.head()"
   ]
  },
  {
   "cell_type": "code",
   "execution_count": 6,
   "metadata": {},
   "outputs": [
    {
     "data": {
      "text/plain": [
       "Index(['NumberOfCustomers', 'NumberOfSales', 'HasPromotions',\n",
       "       'NearestCompetitor', 'Region_AreaKM2', 'Mean_Dew_PointC',\n",
       "       'Mean_Sea_Level_PressurehPa', 'Mean_VisibilityKm', 'Precipitationmm',\n",
       "       'StandardMarket', 'HyperMarket', 'ShoppingCenter', 'General',\n",
       "       'WithFishDepartment', 'Region0', 'Region1', 'Region3', 'Region4',\n",
       "       'Region5', 'Region6', 'Region7', 'Region8', 'Region9', 'January',\n",
       "       'February', 'April', 'May', 'June', 'September', 'October', 'December',\n",
       "       'Nothing', 'Fog', 'Snow'],\n",
       "      dtype='object')"
      ]
     },
     "execution_count": 6,
     "metadata": {},
     "output_type": "execute_result"
    }
   ],
   "source": [
    "train.columns"
   ]
  },
  {
   "cell_type": "code",
   "execution_count": 7,
   "metadata": {},
   "outputs": [],
   "source": [
    "train_data, test_data = model_selection.train_test_split(train, test_size = 0.3, random_state=1234)"
   ]
  },
  {
   "cell_type": "code",
   "execution_count": 8,
   "metadata": {},
   "outputs": [],
   "source": [
    "NumberOfSales = test_data['NumberOfSales']"
   ]
  },
  {
   "cell_type": "code",
   "execution_count": 9,
   "metadata": {},
   "outputs": [
    {
     "data": {
      "text/plain": [
       "RandomForestRegressor(bootstrap=True, criterion='mse', max_depth=None,\n",
       "           max_features='auto', max_leaf_nodes=None,\n",
       "           min_impurity_decrease=0.0, min_impurity_split=None,\n",
       "           min_samples_leaf=1, min_samples_split=2,\n",
       "           min_weight_fraction_leaf=0.0, n_estimators=50, n_jobs=1,\n",
       "           oob_score=True, random_state=1234, verbose=0, warm_start=False)"
      ]
     },
     "execution_count": 9,
     "metadata": {},
     "output_type": "execute_result"
    }
   ],
   "source": [
    "target = train_data['NumberOfSales']\n",
    "variables = train_data.drop(labels='NumberOfCustomers',axis=1)\n",
    "variables = variables.drop(labels='NumberOfSales', axis=1)\n",
    "\n",
    "    \n",
    "m1 = RandomForestRegressor(oob_score=True,random_state=1234) \n",
    "m1.set_params(n_estimators=50)\n",
    "m1.fit(variables, target)"
   ]
  },
  {
   "cell_type": "code",
   "execution_count": 10,
   "metadata": {},
   "outputs": [],
   "source": [
    "test_data = test_data.drop(labels='NumberOfSales',axis=1)\n",
    "test_data = test_data.drop(labels='NumberOfCustomers',axis=1)"
   ]
  },
  {
   "cell_type": "code",
   "execution_count": 12,
   "metadata": {},
   "outputs": [
    {
     "name": "stdout",
     "output_type": "stream",
     "text": [
      "0.5862392192590752\n"
     ]
    }
   ],
   "source": [
    "yp = m1.predict(test_data)\n",
    "print(str(r2_score(NumberOfSales,yp)))"
   ]
  },
  {
   "cell_type": "code",
   "execution_count": 13,
   "metadata": {},
   "outputs": [
    {
     "name": "stdout",
     "output_type": "stream",
     "text": [
      "0.0009584461479297965\n"
     ]
    }
   ],
   "source": [
    "print(str(mean_squared_error(NumberOfSales,yp)))"
   ]
  },
  {
   "cell_type": "markdown",
   "metadata": {},
   "source": [
    "# Double Regression"
   ]
  },
  {
   "cell_type": "code",
   "execution_count": 14,
   "metadata": {},
   "outputs": [],
   "source": [
    "from sklearn.ensemble import RandomForestRegressor\n",
    "from sklearn import model_selection\n",
    "from sklearn.metrics import r2_score"
   ]
  },
  {
   "cell_type": "code",
   "execution_count": 15,
   "metadata": {},
   "outputs": [
    {
     "data": {
      "text/html": [
       "<div>\n",
       "<style scoped>\n",
       "    .dataframe tbody tr th:only-of-type {\n",
       "        vertical-align: middle;\n",
       "    }\n",
       "\n",
       "    .dataframe tbody tr th {\n",
       "        vertical-align: top;\n",
       "    }\n",
       "\n",
       "    .dataframe thead th {\n",
       "        text-align: right;\n",
       "    }\n",
       "</style>\n",
       "<table border=\"1\" class=\"dataframe\">\n",
       "  <thead>\n",
       "    <tr style=\"text-align: right;\">\n",
       "      <th></th>\n",
       "      <th>NumberOfCustomers</th>\n",
       "      <th>NumberOfSales</th>\n",
       "      <th>HasPromotions</th>\n",
       "      <th>NearestCompetitor</th>\n",
       "      <th>Region_AreaKM2</th>\n",
       "      <th>Mean_Dew_PointC</th>\n",
       "      <th>Mean_Sea_Level_PressurehPa</th>\n",
       "      <th>Mean_VisibilityKm</th>\n",
       "      <th>Precipitationmm</th>\n",
       "      <th>StandardMarket</th>\n",
       "      <th>...</th>\n",
       "      <th>February</th>\n",
       "      <th>April</th>\n",
       "      <th>May</th>\n",
       "      <th>June</th>\n",
       "      <th>September</th>\n",
       "      <th>October</th>\n",
       "      <th>December</th>\n",
       "      <th>Nothing</th>\n",
       "      <th>Fog</th>\n",
       "      <th>Snow</th>\n",
       "    </tr>\n",
       "  </thead>\n",
       "  <tbody>\n",
       "    <tr>\n",
       "      <th>0</th>\n",
       "      <td>495</td>\n",
       "      <td>2.266354</td>\n",
       "      <td>0.0</td>\n",
       "      <td>0.003281</td>\n",
       "      <td>0.291715</td>\n",
       "      <td>0.400000</td>\n",
       "      <td>0.848485</td>\n",
       "      <td>0.354839</td>\n",
       "      <td>0.0</td>\n",
       "      <td>0.0</td>\n",
       "      <td>...</td>\n",
       "      <td>0.0</td>\n",
       "      <td>0.0</td>\n",
       "      <td>0.0</td>\n",
       "      <td>0.0</td>\n",
       "      <td>0.0</td>\n",
       "      <td>0.0</td>\n",
       "      <td>0.0</td>\n",
       "      <td>0.0</td>\n",
       "      <td>0.0</td>\n",
       "      <td>1.0</td>\n",
       "    </tr>\n",
       "    <tr>\n",
       "      <th>1</th>\n",
       "      <td>608</td>\n",
       "      <td>2.302695</td>\n",
       "      <td>0.0</td>\n",
       "      <td>0.003281</td>\n",
       "      <td>0.291715</td>\n",
       "      <td>0.400000</td>\n",
       "      <td>0.803030</td>\n",
       "      <td>0.419355</td>\n",
       "      <td>0.0</td>\n",
       "      <td>0.0</td>\n",
       "      <td>...</td>\n",
       "      <td>0.0</td>\n",
       "      <td>0.0</td>\n",
       "      <td>0.0</td>\n",
       "      <td>0.0</td>\n",
       "      <td>0.0</td>\n",
       "      <td>0.0</td>\n",
       "      <td>0.0</td>\n",
       "      <td>0.0</td>\n",
       "      <td>0.0</td>\n",
       "      <td>1.0</td>\n",
       "    </tr>\n",
       "    <tr>\n",
       "      <th>2</th>\n",
       "      <td>665</td>\n",
       "      <td>2.304995</td>\n",
       "      <td>0.0</td>\n",
       "      <td>0.003281</td>\n",
       "      <td>0.291715</td>\n",
       "      <td>0.400000</td>\n",
       "      <td>0.757576</td>\n",
       "      <td>0.354839</td>\n",
       "      <td>0.0</td>\n",
       "      <td>0.0</td>\n",
       "      <td>...</td>\n",
       "      <td>0.0</td>\n",
       "      <td>0.0</td>\n",
       "      <td>0.0</td>\n",
       "      <td>0.0</td>\n",
       "      <td>0.0</td>\n",
       "      <td>0.0</td>\n",
       "      <td>0.0</td>\n",
       "      <td>0.0</td>\n",
       "      <td>0.0</td>\n",
       "      <td>0.0</td>\n",
       "    </tr>\n",
       "    <tr>\n",
       "      <th>3</th>\n",
       "      <td>630</td>\n",
       "      <td>2.290064</td>\n",
       "      <td>0.0</td>\n",
       "      <td>0.003281</td>\n",
       "      <td>0.291715</td>\n",
       "      <td>0.314286</td>\n",
       "      <td>0.757576</td>\n",
       "      <td>0.483871</td>\n",
       "      <td>0.0</td>\n",
       "      <td>0.0</td>\n",
       "      <td>...</td>\n",
       "      <td>0.0</td>\n",
       "      <td>0.0</td>\n",
       "      <td>0.0</td>\n",
       "      <td>0.0</td>\n",
       "      <td>0.0</td>\n",
       "      <td>0.0</td>\n",
       "      <td>0.0</td>\n",
       "      <td>1.0</td>\n",
       "      <td>0.0</td>\n",
       "      <td>0.0</td>\n",
       "    </tr>\n",
       "    <tr>\n",
       "      <th>4</th>\n",
       "      <td>763</td>\n",
       "      <td>2.324482</td>\n",
       "      <td>1.0</td>\n",
       "      <td>0.003281</td>\n",
       "      <td>0.291715</td>\n",
       "      <td>0.342857</td>\n",
       "      <td>0.696970</td>\n",
       "      <td>0.709677</td>\n",
       "      <td>0.0</td>\n",
       "      <td>0.0</td>\n",
       "      <td>...</td>\n",
       "      <td>0.0</td>\n",
       "      <td>0.0</td>\n",
       "      <td>0.0</td>\n",
       "      <td>0.0</td>\n",
       "      <td>0.0</td>\n",
       "      <td>0.0</td>\n",
       "      <td>0.0</td>\n",
       "      <td>1.0</td>\n",
       "      <td>0.0</td>\n",
       "      <td>0.0</td>\n",
       "    </tr>\n",
       "  </tbody>\n",
       "</table>\n",
       "<p>5 rows × 34 columns</p>\n",
       "</div>"
      ],
      "text/plain": [
       "   NumberOfCustomers  NumberOfSales  HasPromotions  NearestCompetitor  \\\n",
       "0                495       2.266354            0.0           0.003281   \n",
       "1                608       2.302695            0.0           0.003281   \n",
       "2                665       2.304995            0.0           0.003281   \n",
       "3                630       2.290064            0.0           0.003281   \n",
       "4                763       2.324482            1.0           0.003281   \n",
       "\n",
       "   Region_AreaKM2  Mean_Dew_PointC  Mean_Sea_Level_PressurehPa  \\\n",
       "0        0.291715         0.400000                    0.848485   \n",
       "1        0.291715         0.400000                    0.803030   \n",
       "2        0.291715         0.400000                    0.757576   \n",
       "3        0.291715         0.314286                    0.757576   \n",
       "4        0.291715         0.342857                    0.696970   \n",
       "\n",
       "   Mean_VisibilityKm  Precipitationmm  StandardMarket  ...   February  April  \\\n",
       "0           0.354839              0.0             0.0  ...        0.0    0.0   \n",
       "1           0.419355              0.0             0.0  ...        0.0    0.0   \n",
       "2           0.354839              0.0             0.0  ...        0.0    0.0   \n",
       "3           0.483871              0.0             0.0  ...        0.0    0.0   \n",
       "4           0.709677              0.0             0.0  ...        0.0    0.0   \n",
       "\n",
       "   May  June  September  October  December  Nothing  Fog  Snow  \n",
       "0  0.0   0.0        0.0      0.0       0.0      0.0  0.0   1.0  \n",
       "1  0.0   0.0        0.0      0.0       0.0      0.0  0.0   1.0  \n",
       "2  0.0   0.0        0.0      0.0       0.0      0.0  0.0   0.0  \n",
       "3  0.0   0.0        0.0      0.0       0.0      1.0  0.0   0.0  \n",
       "4  0.0   0.0        0.0      0.0       0.0      1.0  0.0   0.0  \n",
       "\n",
       "[5 rows x 34 columns]"
      ]
     },
     "execution_count": 15,
     "metadata": {},
     "output_type": "execute_result"
    }
   ],
   "source": [
    "if PCA:\n",
    "    train = pd.read_csv('FinalPCATrain.csv',index_col=0)\n",
    "else:\n",
    "    train = pd.read_csv('FinalTrain.csv',index_col=0)\n",
    "    \n",
    "train.head()"
   ]
  },
  {
   "cell_type": "markdown",
   "metadata": {},
   "source": [
    "## 50"
   ]
  },
  {
   "cell_type": "code",
   "execution_count": 16,
   "metadata": {},
   "outputs": [],
   "source": [
    "train_data, test_data = model_selection.train_test_split(train, test_size = 0.3, random_state=1234)"
   ]
  },
  {
   "cell_type": "code",
   "execution_count": 17,
   "metadata": {},
   "outputs": [],
   "source": [
    "NumberOfCust = test_data['NumberOfCustomers']\n",
    "NumberOfSales = test_data['NumberOfSales']"
   ]
  },
  {
   "cell_type": "code",
   "execution_count": 18,
   "metadata": {},
   "outputs": [
    {
     "data": {
      "text/plain": [
       "0.7755768584917917"
      ]
     },
     "execution_count": 18,
     "metadata": {},
     "output_type": "execute_result"
    }
   ],
   "source": [
    "target = train_data['NumberOfCustomers']\n",
    "variables = train_data.drop(labels='NumberOfCustomers',axis=1)\n",
    "variables = variables.drop(labels='NumberOfSales', axis=1)\n",
    "\n",
    "rfr = RandomForestRegressor(random_state=1234) \n",
    "rfr.set_params(n_estimators=50)\n",
    "rfr.fit(variables, target)\n",
    "\n",
    "\n",
    "cust = rfr.predict(variables)\n",
    "target = train_data['NumberOfSales']\n",
    "variables['NumberOfCustomers'] = cust\n",
    "\n",
    "m1 = RandomForestRegressor(oob_score=True,random_state=1234) \n",
    "m1.set_params(n_estimators=50)\n",
    "m1.fit(variables, target)\n",
    "m1.oob_score_  "
   ]
  },
  {
   "cell_type": "code",
   "execution_count": 19,
   "metadata": {},
   "outputs": [],
   "source": [
    "test_data = test_data.drop(labels='NumberOfSales',axis=1)"
   ]
  },
  {
   "cell_type": "code",
   "execution_count": 20,
   "metadata": {},
   "outputs": [
    {
     "name": "stdout",
     "output_type": "stream",
     "text": [
      "-1391.1552815284049\n",
      "3.2248244130622252\n"
     ]
    }
   ],
   "source": [
    "yp = m1.predict(test_data)\n",
    "print(str(r2_score(NumberOfSales,yp)))\n",
    "print(str(mean_squared_error(NumberOfSales,yp)))"
   ]
  },
  {
   "cell_type": "markdown",
   "metadata": {},
   "source": [
    "## 50 reducing max depth"
   ]
  },
  {
   "cell_type": "code",
   "execution_count": 21,
   "metadata": {},
   "outputs": [],
   "source": [
    "train_data, test_data = model_selection.train_test_split(train, test_size = 0.3, random_state=1234)"
   ]
  },
  {
   "cell_type": "code",
   "execution_count": 22,
   "metadata": {},
   "outputs": [],
   "source": [
    "NumberOfCust = test_data['NumberOfCustomers']\n",
    "NumberOfSales = test_data['NumberOfSales']"
   ]
  },
  {
   "cell_type": "code",
   "execution_count": 23,
   "metadata": {},
   "outputs": [
    {
     "data": {
      "text/plain": [
       "0.7732149628382522"
      ]
     },
     "execution_count": 23,
     "metadata": {},
     "output_type": "execute_result"
    }
   ],
   "source": [
    "target = train_data['NumberOfCustomers']\n",
    "variables = train_data.drop(labels='NumberOfCustomers',axis=1)\n",
    "variables = variables.drop(labels='NumberOfSales', axis=1)\n",
    "\n",
    "rfr = RandomForestRegressor(random_state=1234,max_depth=50) \n",
    "rfr.set_params(n_estimators=50)\n",
    "rfr.fit(variables, target)\n",
    "\n",
    "\n",
    "cust = rfr.predict(variables)\n",
    "target = train_data['NumberOfSales']\n",
    "variables['NumberOfCustomers'] = cust\n",
    "\n",
    "m1 = RandomForestRegressor(oob_score=True,random_state=1234,max_depth=50) \n",
    "m1.set_params(n_estimators=50)\n",
    "m1.fit(variables, target)\n",
    "m1.oob_score_  "
   ]
  },
  {
   "cell_type": "code",
   "execution_count": 24,
   "metadata": {},
   "outputs": [],
   "source": [
    "test_data = test_data.drop(labels='NumberOfSales',axis=1)"
   ]
  },
  {
   "cell_type": "code",
   "execution_count": 25,
   "metadata": {},
   "outputs": [
    {
     "name": "stdout",
     "output_type": "stream",
     "text": [
      "-1527.631708500277\n",
      "3.540961929721438\n"
     ]
    }
   ],
   "source": [
    "yp = m1.predict(test_data)\n",
    "print(str(r2_score(NumberOfSales,yp)))\n",
    "print(str(mean_squared_error(NumberOfSales,yp)))"
   ]
  },
  {
   "cell_type": "markdown",
   "metadata": {},
   "source": [
    "## 75"
   ]
  },
  {
   "cell_type": "code",
   "execution_count": 6,
   "metadata": {},
   "outputs": [],
   "source": [
    "train_data, test_data = model_selection.train_test_split(train, test_size = 0.3, random_state=1234)"
   ]
  },
  {
   "cell_type": "code",
   "execution_count": 7,
   "metadata": {},
   "outputs": [],
   "source": [
    "NumberOfCust = test_data['NumberOfCustomers']\n",
    "NumberOfSales = test_data['NumberOfSales']"
   ]
  },
  {
   "cell_type": "code",
   "execution_count": 8,
   "metadata": {},
   "outputs": [
    {
     "data": {
      "text/plain": [
       "0.775395117962749"
      ]
     },
     "execution_count": 8,
     "metadata": {},
     "output_type": "execute_result"
    }
   ],
   "source": [
    "target = train_data['NumberOfCustomers']\n",
    "variables = train_data.drop(labels='NumberOfCustomers',axis=1)\n",
    "variables = variables.drop(labels='NumberOfSales', axis=1)\n",
    "\n",
    "rfr = RandomForestRegressor(random_state=1234) \n",
    "rfr.set_params(n_estimators=75)\n",
    "rfr.fit(variables, target)\n",
    "\n",
    "\n",
    "cust = rfr.predict(variables)\n",
    "target = train_data['NumberOfSales']\n",
    "variables['NumberOfCustomers'] = cust\n",
    "\n",
    "m1 = RandomForestRegressor(oob_score=True,random_state=1234) \n",
    "m1.set_params(n_estimators=75)\n",
    "m1.fit(variables, target)\n",
    "m1.oob_score_  "
   ]
  },
  {
   "cell_type": "code",
   "execution_count": 9,
   "metadata": {},
   "outputs": [],
   "source": [
    "test_data = test_data.drop(labels='NumberOfSales',axis=1)"
   ]
  },
  {
   "cell_type": "code",
   "execution_count": 11,
   "metadata": {},
   "outputs": [
    {
     "name": "stdout",
     "output_type": "stream",
     "text": [
      "-0.367840578599403\n",
      "0.0031685012078550333\n"
     ]
    }
   ],
   "source": [
    "yp = m1.predict(test_data)\n",
    "print(str(r2_score(NumberOfSales,yp)))\n",
    "print(str(mean_squared_error(NumberOfSales,yp)))"
   ]
  },
  {
   "cell_type": "markdown",
   "metadata": {},
   "source": [
    "## 100"
   ]
  },
  {
   "cell_type": "code",
   "execution_count": 10,
   "metadata": {},
   "outputs": [],
   "source": [
    "train_data, test_data = model_selection.train_test_split(train, test_size = 0.3, random_state=1234)"
   ]
  },
  {
   "cell_type": "code",
   "execution_count": 11,
   "metadata": {},
   "outputs": [],
   "source": [
    "NumberOfCust = test_data['NumberOfCustomers']\n",
    "NumberOfSales = test_data['NumberOfSales']"
   ]
  },
  {
   "cell_type": "code",
   "execution_count": 12,
   "metadata": {},
   "outputs": [],
   "source": [
    "target = train_data['NumberOfCustomers']\n",
    "variables = train_data.drop(labels='NumberOfCustomers',axis=1)\n",
    "variables = variables.drop(labels='NumberOfSales', axis=1)\n",
    "    \n",
    "m1 = RandomForestRegressor(oob_score=True,random_state=1234) \n",
    "m1.set_params(n_estimators=100)\n",
    "m1.fit(variables, target)\n",
    "\n",
    "    \n",
    "cust = m1.predict(variables)\n",
    "target = train_data['NumberOfSales']\n",
    "variables['NumberOfCustomers'] = cust\n",
    "    \n",
    "m2 = RandomForestRegressor(oob_score=True,random_state=1234)\n",
    "m2.set_params(n_estimators=100)\n",
    "m2.fit(variables, target)\n",
    "    \n",
    "m2.oob_score_"
   ]
  },
  {
   "cell_type": "code",
   "execution_count": 16,
   "metadata": {},
   "outputs": [],
   "source": [
    "test_data = test_data.drop(labels='NumberOfSales',axis=1)"
   ]
  },
  {
   "cell_type": "code",
   "execution_count": 17,
   "metadata": {},
   "outputs": [],
   "source": [
    "yp = m2.predict(test_data)\n",
    "print(str(r2_score(NumberOfSales,yp)))\n",
    "print(str(mean_squared_error(NumberOfSales,yp)))"
   ]
  },
  {
   "cell_type": "markdown",
   "metadata": {},
   "source": [
    "## 125"
   ]
  },
  {
   "cell_type": "code",
   "execution_count": 91,
   "metadata": {},
   "outputs": [],
   "source": [
    "train_data, test_data = model_selection.train_test_split(train, test_size = 0.3, random_state=1234)"
   ]
  },
  {
   "cell_type": "code",
   "execution_count": 92,
   "metadata": {},
   "outputs": [],
   "source": [
    "NumberOfCust = test_data['NumberOfCustomers']\n",
    "NumberOfSales = test_data['NumberOfSales']"
   ]
  },
  {
   "cell_type": "code",
   "execution_count": 93,
   "metadata": {},
   "outputs": [
    {
     "data": {
      "text/plain": [
       "RandomForestRegressor(bootstrap=True, criterion='mse', max_depth=None,\n",
       "           max_features='auto', max_leaf_nodes=None,\n",
       "           min_impurity_decrease=0.0, min_impurity_split=None,\n",
       "           min_samples_leaf=1, min_samples_split=2,\n",
       "           min_weight_fraction_leaf=0.0, n_estimators=125, n_jobs=1,\n",
       "           oob_score=True, random_state=1234, verbose=0, warm_start=False)"
      ]
     },
     "execution_count": 93,
     "metadata": {},
     "output_type": "execute_result"
    }
   ],
   "source": [
    "target = train_data['NumberOfCustomers']\n",
    "variables = train_data.drop(labels='NumberOfCustomers',axis=1)\n",
    "variables = variables.drop(labels='NumberOfSales', axis=1)\n",
    "    \n",
    "m1 = RandomForestRegressor(oob_score=True,random_state=1234) \n",
    "m1.set_params(n_estimators=125)\n",
    "m1.fit(variables, target)\n",
    "    \n",
    "    \n",
    "cust = m1.predict(variables)\n",
    "target = train_data['NumberOfSales']\n",
    "variables['NumberOfCustomers'] = cust\n",
    "    \n",
    "m2 = RandomForestRegressor(oob_score=True,random_state=1234)\n",
    "m2.set_params(n_estimators=125)\n",
    "m2.fit(variables, target)\n",
    "m2.oob_score_"
   ]
  },
  {
   "cell_type": "code",
   "execution_count": null,
   "metadata": {},
   "outputs": [],
   "source": [
    "test_data = test_data.drop(labels='NumberOfSales',axis=1)"
   ]
  },
  {
   "cell_type": "code",
   "execution_count": 94,
   "metadata": {},
   "outputs": [],
   "source": [
    "yp = m2.predict(test_data)\n",
    "print(str(r2_score(NumberOfSales,yp)))\n",
    "print(str(mean_squared_error(NumberOfSales,yp)))"
   ]
  },
  {
   "cell_type": "markdown",
   "metadata": {},
   "source": [
    "## 150"
   ]
  },
  {
   "cell_type": "code",
   "execution_count": 5,
   "metadata": {},
   "outputs": [],
   "source": [
    "train_data, test_data = model_selection.train_test_split(train, test_size = 0.3, random_state=1234)"
   ]
  },
  {
   "cell_type": "code",
   "execution_count": 6,
   "metadata": {},
   "outputs": [],
   "source": [
    "NumberOfCust = test_data['NumberOfCustomers']\n",
    "NumberOfSales = test_data['NumberOfSales']"
   ]
  },
  {
   "cell_type": "code",
   "execution_count": 7,
   "metadata": {},
   "outputs": [
    {
     "data": {
      "text/plain": [
       "0.7975070406543506"
      ]
     },
     "execution_count": 7,
     "metadata": {},
     "output_type": "execute_result"
    }
   ],
   "source": [
    "target = train_data['NumberOfCustomers']\n",
    "variables = train_data.drop(labels='NumberOfCustomers',axis=1)\n",
    "variables = variables.drop(labels='NumberOfSales', axis=1)\n",
    "    \n",
    "m1 = RandomForestRegressor(oob_score=True,random_state=1234) \n",
    "m1.set_params(n_estimators=150)\n",
    "m1.fit(variables, target)\n",
    "    \n",
    "    \n",
    "cust = m1.predict(variables)\n",
    "target = train_data['NumberOfSales']\n",
    "variables['NumberOfCustomers'] = cust\n",
    "    \n",
    "m2 = RandomForestRegressor(oob_score=True,random_state=1234)\n",
    "m2.set_params(n_estimators=150)\n",
    "m2.fit(variables, target)\n",
    "m2.oob_score_"
   ]
  },
  {
   "cell_type": "code",
   "execution_count": 8,
   "metadata": {},
   "outputs": [],
   "source": [
    "test_data = test_data.drop(labels='NumberOfSales',axis=1)"
   ]
  },
  {
   "cell_type": "code",
   "execution_count": 9,
   "metadata": {},
   "outputs": [
    {
     "name": "stdout",
     "output_type": "stream",
     "text": [
      "-1377.020339913655\n",
      "3.1920818696108864\n"
     ]
    }
   ],
   "source": [
    "yp = m2.predict(test_data)\n",
    "print(str(r2_score(NumberOfSales,yp)))\n",
    "print(str(mean_squared_error(NumberOfSales,yp)))"
   ]
  },
  {
   "cell_type": "code",
   "execution_count": 11,
   "metadata": {},
   "outputs": [
    {
     "data": {
      "text/plain": [
       "array([0.42927986, 0.22501983, 0.41657731, ..., 0.24087278, 0.53151844,\n",
       "       0.44351347])"
      ]
     },
     "execution_count": 11,
     "metadata": {},
     "output_type": "execute_result"
    }
   ],
   "source": [
    "yp"
   ]
  },
  {
   "cell_type": "code",
   "execution_count": 12,
   "metadata": {},
   "outputs": [
    {
     "data": {
      "text/plain": [
       "308671    2.242744\n",
       "344782    2.235271\n",
       "413557    2.233817\n",
       "102151    2.301304\n",
       "331232    2.178203\n",
       "395986    2.234992\n",
       "356933    2.259066\n",
       "149549    2.180649\n",
       "99185     2.210892\n",
       "280138    2.297457\n",
       "381147    2.262648\n",
       "362603    2.266573\n",
       "150488    2.201208\n",
       "282569    2.241944\n",
       "356738    2.227747\n",
       "329637    2.248294\n",
       "133485    2.134382\n",
       "351973    2.219563\n",
       "31323     2.223869\n",
       "159151    2.293522\n",
       "139585    2.248603\n",
       "414339    2.282379\n",
       "74751     2.394906\n",
       "193551    2.212599\n",
       "292208    2.197524\n",
       "275860    2.241684\n",
       "260794    2.167087\n",
       "64293     2.250198\n",
       "220447    2.220333\n",
       "403812    2.278756\n",
       "            ...   \n",
       "367012    2.138159\n",
       "72159     2.243537\n",
       "23744     2.211378\n",
       "419434    2.208658\n",
       "422557    2.214434\n",
       "294794    2.217973\n",
       "263682    2.247674\n",
       "92727     2.271732\n",
       "234145    2.252573\n",
       "425030    2.278371\n",
       "21241     2.249633\n",
       "121268    2.251553\n",
       "354620    2.177797\n",
       "214118    2.249590\n",
       "123687    2.211087\n",
       "290019    2.264305\n",
       "99093     2.228537\n",
       "307181    2.232810\n",
       "2350      2.202631\n",
       "10594     2.256059\n",
       "267413    2.212503\n",
       "402303    2.290881\n",
       "386457    2.248867\n",
       "81480     2.243164\n",
       "313109    2.304574\n",
       "2571      2.215710\n",
       "229250    2.196553\n",
       "102955    2.268806\n",
       "102292    2.143834\n",
       "398675    2.241304\n",
       "Name: NumberOfSales, Length: 130188, dtype: float64"
      ]
     },
     "execution_count": 12,
     "metadata": {},
     "output_type": "execute_result"
    }
   ],
   "source": [
    "NumberOfSales"
   ]
  },
  {
   "cell_type": "markdown",
   "metadata": {},
   "source": [
    "# Trying to build a regressor model for each type of store"
   ]
  },
  {
   "cell_type": "code",
   "execution_count": 1,
   "metadata": {},
   "outputs": [],
   "source": [
    "import pandas as pd\n",
    "import numpy as np\n",
    "import seaborn as sns\n",
    "import matplotlib.pyplot as plt\n",
    "from scipy import stats\n",
    "from sklearn.metrics import mean_squared_error\n",
    "import math\n",
    "from sklearn.ensemble import RandomForestRegressor\n",
    "from sklearn import model_selection\n",
    "from sklearn.metrics import r2_score"
   ]
  },
  {
   "cell_type": "code",
   "execution_count": 2,
   "metadata": {},
   "outputs": [],
   "source": [
    "if PCA:\n",
    "    train = pd.read_csv('FinalPCATrain.csv',index_col=0)\n",
    "else:\n",
    "    train = pd.read_csv('FinalTrain.csv',index_col=0)"
   ]
  },
  {
   "cell_type": "code",
   "execution_count": 3,
   "metadata": {},
   "outputs": [],
   "source": [
    "train_data, test_data = model_selection.train_test_split(train, test_size = 0.3, random_state=1234)"
   ]
  },
  {
   "cell_type": "code",
   "execution_count": 4,
   "metadata": {},
   "outputs": [],
   "source": [
    "target = train_data['NumberOfCustomers']\n",
    "variables = train_data.drop(labels='NumberOfCustomers',axis=1)\n",
    "variables = variables.drop(labels='NumberOfSales', axis=1)\n",
    "\n",
    "var_1 = variables.loc[variables['HyperMarket'] == 1]\n",
    "var_2 = variables.loc[variables['SuperMarket'] == 1]\n",
    "var_3 = variables.loc[variables['StandardMarket'] == 1]\n",
    "var_4 = variables.loc[variables['ShoppingCenter'] == 1]\n",
    "\n",
    "tar_1 = train_data.loc[train_data['HyperMarket'] == 1]['NumberOfCustomers']\n",
    "tar_2 = train_data.loc[train_data['SuperMarket'] == 1]['NumberOfCustomers']\n",
    "tar_3 = train_data.loc[train_data['StandardMarket'] == 1]['NumberOfCustomers']\n",
    "tar_4 = train_data.loc[train_data['ShoppingCenter'] == 1]['NumberOfCustomers']"
   ]
  },
  {
   "cell_type": "code",
   "execution_count": 5,
   "metadata": {},
   "outputs": [
    {
     "name": "stderr",
     "output_type": "stream",
     "text": [
      "D:\\Anaconda\\lib\\site-packages\\ipykernel_launcher.py:19: SettingWithCopyWarning: \n",
      "A value is trying to be set on a copy of a slice from a DataFrame.\n",
      "Try using .loc[row_indexer,col_indexer] = value instead\n",
      "\n",
      "See the caveats in the documentation: http://pandas.pydata.org/pandas-docs/stable/indexing.html#indexing-view-versus-copy\n",
      "D:\\Anaconda\\lib\\site-packages\\ipykernel_launcher.py:20: SettingWithCopyWarning: \n",
      "A value is trying to be set on a copy of a slice from a DataFrame.\n",
      "Try using .loc[row_indexer,col_indexer] = value instead\n",
      "\n",
      "See the caveats in the documentation: http://pandas.pydata.org/pandas-docs/stable/indexing.html#indexing-view-versus-copy\n",
      "D:\\Anaconda\\lib\\site-packages\\ipykernel_launcher.py:21: SettingWithCopyWarning: \n",
      "A value is trying to be set on a copy of a slice from a DataFrame.\n",
      "Try using .loc[row_indexer,col_indexer] = value instead\n",
      "\n",
      "See the caveats in the documentation: http://pandas.pydata.org/pandas-docs/stable/indexing.html#indexing-view-versus-copy\n",
      "D:\\Anaconda\\lib\\site-packages\\ipykernel_launcher.py:22: SettingWithCopyWarning: \n",
      "A value is trying to be set on a copy of a slice from a DataFrame.\n",
      "Try using .loc[row_indexer,col_indexer] = value instead\n",
      "\n",
      "See the caveats in the documentation: http://pandas.pydata.org/pandas-docs/stable/indexing.html#indexing-view-versus-copy\n"
     ]
    },
    {
     "ename": "NameError",
     "evalue": "name 'S4' is not defined",
     "output_type": "error",
     "traceback": [
      "\u001b[1;31m---------------------------------------------------------------------------\u001b[0m",
      "\u001b[1;31mNameError\u001b[0m                                 Traceback (most recent call last)",
      "\u001b[1;32m<ipython-input-5-2a69bd8a70cc>\u001b[0m in \u001b[0;36m<module>\u001b[1;34m()\u001b[0m\n\u001b[0;32m     40\u001b[0m \u001b[0ms2\u001b[0m\u001b[1;33m.\u001b[0m\u001b[0mfit\u001b[0m\u001b[1;33m(\u001b[0m\u001b[0mvar_2\u001b[0m\u001b[1;33m,\u001b[0m \u001b[0mtar_2\u001b[0m\u001b[1;33m)\u001b[0m\u001b[1;33m\u001b[0m\u001b[0m\n\u001b[0;32m     41\u001b[0m \u001b[0ms3\u001b[0m\u001b[1;33m.\u001b[0m\u001b[0mfit\u001b[0m\u001b[1;33m(\u001b[0m\u001b[0mvar_3\u001b[0m\u001b[1;33m,\u001b[0m \u001b[0mtar_3\u001b[0m\u001b[1;33m)\u001b[0m\u001b[1;33m\u001b[0m\u001b[0m\n\u001b[1;32m---> 42\u001b[1;33m \u001b[0mS4\u001b[0m\u001b[1;33m.\u001b[0m\u001b[0mfit\u001b[0m\u001b[1;33m(\u001b[0m\u001b[0mvar_4\u001b[0m\u001b[1;33m,\u001b[0m \u001b[0mtar_4\u001b[0m\u001b[1;33m)\u001b[0m\u001b[1;33m\u001b[0m\u001b[0m\n\u001b[0m",
      "\u001b[1;31mNameError\u001b[0m: name 'S4' is not defined"
     ]
    }
   ],
   "source": [
    "c1 = RandomForestRegressor(random_state=1234) \n",
    "c2 = RandomForestRegressor(random_state=1234) \n",
    "c3 = RandomForestRegressor(random_state=1234) \n",
    "c4 = RandomForestRegressor(random_state=1234) \n",
    "c1.set_params(n_estimators=125)\n",
    "c2.set_params(n_estimators=125)\n",
    "c3.set_params(n_estimators=125)\n",
    "c4.set_params(n_estimators=125)\n",
    "c1.fit(var_1, tar_1)\n",
    "c2.fit(var_2, tar_2)\n",
    "c3.fit(var_3, tar_3)\n",
    "c4.fit(var_4, tar_4)\n",
    "\n",
    "cust1 = c1.predict(var_1)\n",
    "cust2 = c2.predict(var_2)\n",
    "cust3 = c3.predict(var_3)\n",
    "cust4 = c4.predict(var_4)\n",
    "\n",
    "var_1['NumberOfCustomers'] = cust1\n",
    "var_2['NumberOfCustomers'] = cust2\n",
    "var_3['NumberOfCustomers'] = cust3\n",
    "var_4['NumberOfCustomers'] = cust4\n",
    "\n",
    "tar_1 = train_data.loc[train_data['HyperMarket'] == 1]['NumberOfSales']\n",
    "tar_2 = train_data.loc[train_data['SuperMarket'] == 1]['NumberOfSales']\n",
    "tar_3 = train_data.loc[train_data['StandardMarket'] == 1]['NumberOfSales']\n",
    "tar_4 = train_data.loc[train_data['ShoppingCenter'] == 1]['NumberOfSales']\n",
    "\n",
    "\n",
    "\n",
    "s1 = RandomForestRegressor(oob_score=True,random_state=1234) \n",
    "s2 = RandomForestRegressor(oob_score=True,random_state=1234) \n",
    "s3 = RandomForestRegressor(oob_score=True,random_state=1234) \n",
    "s4 = RandomForestRegressor(oob_score=True,random_state=1234)\n",
    "s1.set_params(n_estimators=125)\n",
    "s2.set_params(n_estimators=125)\n",
    "s3.set_params(n_estimators=125)\n",
    "s4.set_params(n_estimators=125)\n",
    "s1.fit(var_1, tar_1)\n",
    "s2.fit(var_2, tar_2)\n",
    "s3.fit(var_3, tar_3)\n",
    "s4.fit(var_4, tar_4)"
   ]
  },
  {
   "cell_type": "code",
   "execution_count": 7,
   "metadata": {},
   "outputs": [],
   "source": [
    "test_1 =  test_data.loc[test_data['HyperMarket'] == 1]\n",
    "test_2 =  test_data.loc[test_data['SuperMarket'] == 1]\n",
    "test_3 =  test_data.loc[test_data['StandardMarket'] == 1]\n",
    "test_4 =  test_data.loc[test_data['ShoppingCenter'] == 1]"
   ]
  },
  {
   "cell_type": "code",
   "execution_count": 8,
   "metadata": {},
   "outputs": [],
   "source": [
    "sales1 = test_1['NumberOfSales']\n",
    "sales2 = test_2['NumberOfSales']\n",
    "sales3 = test_3['NumberOfSales']\n",
    "sales4 = test_4['NumberOfSales']"
   ]
  },
  {
   "cell_type": "code",
   "execution_count": 9,
   "metadata": {},
   "outputs": [],
   "source": [
    "test_1 = test_1.drop(labels='NumberOfSales',axis=1)\n",
    "test_2 = test_2.drop(labels='NumberOfSales',axis=1)\n",
    "test_3 = test_3.drop(labels='NumberOfSales',axis=1)\n",
    "test_4 = test_4.drop(labels='NumberOfSales',axis=1)"
   ]
  },
  {
   "cell_type": "code",
   "execution_count": 10,
   "metadata": {},
   "outputs": [
    {
     "name": "stdout",
     "output_type": "stream",
     "text": [
      "0.6390843396667892\n",
      "0.00098727583135878\n",
      "0.6895962886483329\n",
      "0.0006364810986711153\n",
      "0.6660428748543659\n",
      "0.0005042486842456487\n",
      "0.9406875528177541\n",
      "0.00012673677152988746\n"
     ]
    }
   ],
   "source": [
    "yp = s1.predict(test_1)\n",
    "print(str(r2_score(sales1,yp)))\n",
    "print(str(mean_squared_error(sales1,yp)))\n",
    "yp = s2.predict(test_2)\n",
    "print(str(r2_score(sales2,yp)))\n",
    "print(str(mean_squared_error(sales2,yp)))\n",
    "yp = s3.predict(test_3)\n",
    "print(str(r2_score(sales3,yp)))\n",
    "print(str(mean_squared_error(sales3,yp)))\n",
    "yp = s4.predict(test_4)\n",
    "print(str(r2_score(sales4,yp)))\n",
    "print(str(mean_squared_error(sales4,yp)))"
   ]
  }
 ],
 "metadata": {
  "kernelspec": {
   "display_name": "Python 3",
   "language": "python",
   "name": "python3"
  },
  "language_info": {
   "codemirror_mode": {
    "name": "ipython",
    "version": 3
   },
   "file_extension": ".py",
   "mimetype": "text/x-python",
   "name": "python",
   "nbconvert_exporter": "python",
   "pygments_lexer": "ipython3",
   "version": "3.6.4"
  }
 },
 "nbformat": 4,
 "nbformat_minor": 2
}
