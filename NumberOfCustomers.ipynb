{
 "cells": [
  {
   "cell_type": "code",
   "execution_count": 4,
   "metadata": {},
   "outputs": [],
   "source": [
    "import pandas as pd\n",
    "import numpy as np\n",
    "import seaborn as sns\n",
    "import matplotlib.pyplot as plt\n",
    "from scipy import stats\n",
    "from sklearn.metrics import mean_squared_error\n",
    "import math"
   ]
  },
  {
   "cell_type": "code",
   "execution_count": 2,
   "metadata": {},
   "outputs": [],
   "source": [
    "train = pd.read_csv('FinalTrain.csv',index_col=0)"
   ]
  },
  {
   "cell_type": "code",
   "execution_count": 3,
   "metadata": {},
   "outputs": [],
   "source": [
    "bool_cols = [col for col in train if train[col].dropna().value_counts().index.isin([0,1]).all()]"
   ]
  },
  {
   "cell_type": "code",
   "execution_count": 4,
   "metadata": {},
   "outputs": [],
   "source": [
    "binary = pd.Index(bool_cols)"
   ]
  },
  {
   "cell_type": "code",
   "execution_count": 6,
   "metadata": {},
   "outputs": [],
   "source": [
    "continous_variables = train.columns.difference(binary)\n",
    "#continous_variables = continous_variables.drop('CloudCover')"
   ]
  },
  {
   "cell_type": "code",
   "execution_count": 7,
   "metadata": {},
   "outputs": [],
   "source": [
    "ordinal_variables = pd.Index(['CloudCover'])"
   ]
  },
  {
   "cell_type": "markdown",
   "metadata": {},
   "source": [
    "# Without Double Regression"
   ]
  },
  {
   "cell_type": "code",
   "execution_count": null,
   "metadata": {},
   "outputs": [],
   "source": [
    "from sklearn.ensemble import RandomForestRegressor\n",
    "from sklearn import model_selection\n",
    "from sklearn.metrics import r2_score"
   ]
  },
  {
   "cell_type": "code",
   "execution_count": null,
   "metadata": {},
   "outputs": [],
   "source": [
    "train.head()"
   ]
  },
  {
   "cell_type": "code",
   "execution_count": null,
   "metadata": {},
   "outputs": [],
   "source": [
    "train_data, test_data = model_selection.train_test_split(train, test_size = 0.3, random_state=1234)"
   ]
  },
  {
   "cell_type": "code",
   "execution_count": null,
   "metadata": {},
   "outputs": [],
   "source": [
    "NumberOfSales = test_data['NumberOfSales']"
   ]
  },
  {
   "cell_type": "code",
   "execution_count": null,
   "metadata": {},
   "outputs": [],
   "source": [
    "r2_num_of_sales = []\n",
    "models = []\n",
    "\n",
    "target = train_data['NumberOfSales']\n",
    "variables = train_data.drop(labels='NumberOfCustomers',axis=1)\n",
    "variables = variables.drop(labels='NumberOfSales', axis=1)\n",
    "\n",
    "for i in range(100,151,25):\n",
    "\n",
    "    \n",
    "    m1 = RandomForestRegressor(oob_score=True,random_state=1234) \n",
    "    m1.set_params(n_estimators=i)\n",
    "    m1.fit(variables, target)\n",
    "    \n",
    "    r2_num_of_sales.append(m1.oob_score_)"
   ]
  },
  {
   "cell_type": "code",
   "execution_count": null,
   "metadata": {},
   "outputs": [],
   "source": [
    "r2"
   ]
  },
  {
   "cell_type": "code",
   "execution_count": null,
   "metadata": {},
   "outputs": [],
   "source": [
    "test_data = test_data.drop(labels='NumberOfSales',axis=1)\n",
    "test_data = test_data.drop(labels='NumberOfCustomers',axis=1)"
   ]
  },
  {
   "cell_type": "markdown",
   "metadata": {},
   "source": [
    "Check r2 and mse also on the test for each model built"
   ]
  },
  {
   "cell_type": "code",
   "execution_count": null,
   "metadata": {},
   "outputs": [],
   "source": [
    "r2_on_test_set = []\n",
    "mse_on_test_set = []\n",
    "for model in models:\n",
    "    yp = model.predict(test_data)\n",
    "    r2_on_test_set.append(r2_score(NumberOfSales,yp))\n",
    "    mse_on_test_set.append(mean_squared_error(NumberOfSales,yp))"
   ]
  },
  {
   "cell_type": "code",
   "execution_count": null,
   "metadata": {},
   "outputs": [],
   "source": [
    "r2_on_test_set"
   ]
  },
  {
   "cell_type": "code",
   "execution_count": null,
   "metadata": {},
   "outputs": [],
   "source": [
    "np.sqrt(mse_on_test_set)"
   ]
  },
  {
   "cell_type": "code",
   "execution_count": null,
   "metadata": {},
   "outputs": [],
   "source": [
    "NumberOfSales.describe()"
   ]
  },
  {
   "cell_type": "markdown",
   "metadata": {},
   "source": [
    "# Double Regression"
   ]
  },
  {
   "cell_type": "code",
   "execution_count": 2,
   "metadata": {},
   "outputs": [],
   "source": [
    "from sklearn.ensemble import RandomForestRegressor\n",
    "from sklearn import model_selection\n",
    "from sklearn.metrics import r2_score"
   ]
  },
  {
   "cell_type": "code",
   "execution_count": 5,
   "metadata": {},
   "outputs": [
    {
     "data": {
      "text/html": [
       "<div>\n",
       "<style scoped>\n",
       "    .dataframe tbody tr th:only-of-type {\n",
       "        vertical-align: middle;\n",
       "    }\n",
       "\n",
       "    .dataframe tbody tr th {\n",
       "        vertical-align: top;\n",
       "    }\n",
       "\n",
       "    .dataframe thead th {\n",
       "        text-align: right;\n",
       "    }\n",
       "</style>\n",
       "<table border=\"1\" class=\"dataframe\">\n",
       "  <thead>\n",
       "    <tr style=\"text-align: right;\">\n",
       "      <th></th>\n",
       "      <th>component 1</th>\n",
       "      <th>component 2</th>\n",
       "      <th>component 3</th>\n",
       "      <th>component 5</th>\n",
       "      <th>component 6</th>\n",
       "      <th>component 7</th>\n",
       "      <th>component 8</th>\n",
       "      <th>component 9</th>\n",
       "      <th>component 10</th>\n",
       "      <th>HasPromotions</th>\n",
       "      <th>...</th>\n",
       "      <th>May</th>\n",
       "      <th>June</th>\n",
       "      <th>September</th>\n",
       "      <th>October</th>\n",
       "      <th>November</th>\n",
       "      <th>December</th>\n",
       "      <th>Fog</th>\n",
       "      <th>Snow</th>\n",
       "      <th>NumberOfCustomers</th>\n",
       "      <th>NumberOfSales</th>\n",
       "    </tr>\n",
       "  </thead>\n",
       "  <tbody>\n",
       "    <tr>\n",
       "      <th>0</th>\n",
       "      <td>3.381430</td>\n",
       "      <td>1.782698</td>\n",
       "      <td>-1.783757</td>\n",
       "      <td>-1.810411</td>\n",
       "      <td>-0.243794</td>\n",
       "      <td>0.433565</td>\n",
       "      <td>1.163843</td>\n",
       "      <td>-1.407220</td>\n",
       "      <td>-0.700026</td>\n",
       "      <td>0</td>\n",
       "      <td>...</td>\n",
       "      <td>0</td>\n",
       "      <td>0</td>\n",
       "      <td>0</td>\n",
       "      <td>0</td>\n",
       "      <td>0</td>\n",
       "      <td>0</td>\n",
       "      <td>0</td>\n",
       "      <td>1</td>\n",
       "      <td>495</td>\n",
       "      <td>2.266354</td>\n",
       "    </tr>\n",
       "    <tr>\n",
       "      <th>1</th>\n",
       "      <td>2.332788</td>\n",
       "      <td>2.793018</td>\n",
       "      <td>-0.828153</td>\n",
       "      <td>-0.597817</td>\n",
       "      <td>-0.693162</td>\n",
       "      <td>0.771066</td>\n",
       "      <td>1.181362</td>\n",
       "      <td>-1.565924</td>\n",
       "      <td>-0.065226</td>\n",
       "      <td>0</td>\n",
       "      <td>...</td>\n",
       "      <td>0</td>\n",
       "      <td>0</td>\n",
       "      <td>0</td>\n",
       "      <td>0</td>\n",
       "      <td>0</td>\n",
       "      <td>0</td>\n",
       "      <td>0</td>\n",
       "      <td>1</td>\n",
       "      <td>608</td>\n",
       "      <td>2.302695</td>\n",
       "    </tr>\n",
       "    <tr>\n",
       "      <th>2</th>\n",
       "      <td>2.238024</td>\n",
       "      <td>2.548715</td>\n",
       "      <td>0.108930</td>\n",
       "      <td>-0.898286</td>\n",
       "      <td>-0.640268</td>\n",
       "      <td>0.550553</td>\n",
       "      <td>1.165865</td>\n",
       "      <td>-1.488746</td>\n",
       "      <td>-0.003380</td>\n",
       "      <td>0</td>\n",
       "      <td>...</td>\n",
       "      <td>0</td>\n",
       "      <td>0</td>\n",
       "      <td>0</td>\n",
       "      <td>0</td>\n",
       "      <td>0</td>\n",
       "      <td>0</td>\n",
       "      <td>0</td>\n",
       "      <td>0</td>\n",
       "      <td>665</td>\n",
       "      <td>2.304995</td>\n",
       "    </tr>\n",
       "    <tr>\n",
       "      <th>3</th>\n",
       "      <td>1.768849</td>\n",
       "      <td>4.284677</td>\n",
       "      <td>0.925293</td>\n",
       "      <td>-0.049667</td>\n",
       "      <td>-0.584788</td>\n",
       "      <td>-0.535921</td>\n",
       "      <td>1.217520</td>\n",
       "      <td>-0.808803</td>\n",
       "      <td>0.639240</td>\n",
       "      <td>0</td>\n",
       "      <td>...</td>\n",
       "      <td>0</td>\n",
       "      <td>0</td>\n",
       "      <td>0</td>\n",
       "      <td>0</td>\n",
       "      <td>0</td>\n",
       "      <td>0</td>\n",
       "      <td>0</td>\n",
       "      <td>0</td>\n",
       "      <td>630</td>\n",
       "      <td>2.290064</td>\n",
       "    </tr>\n",
       "    <tr>\n",
       "      <th>4</th>\n",
       "      <td>1.379854</td>\n",
       "      <td>3.592518</td>\n",
       "      <td>1.562039</td>\n",
       "      <td>0.092145</td>\n",
       "      <td>-1.278158</td>\n",
       "      <td>-0.375772</td>\n",
       "      <td>1.574675</td>\n",
       "      <td>-0.333073</td>\n",
       "      <td>-0.517771</td>\n",
       "      <td>1</td>\n",
       "      <td>...</td>\n",
       "      <td>0</td>\n",
       "      <td>0</td>\n",
       "      <td>0</td>\n",
       "      <td>0</td>\n",
       "      <td>0</td>\n",
       "      <td>0</td>\n",
       "      <td>0</td>\n",
       "      <td>0</td>\n",
       "      <td>763</td>\n",
       "      <td>2.324482</td>\n",
       "    </tr>\n",
       "  </tbody>\n",
       "</table>\n",
       "<p>5 rows × 38 columns</p>\n",
       "</div>"
      ],
      "text/plain": [
       "   component 1  component 2  component 3  component 5  component 6  \\\n",
       "0     3.381430     1.782698    -1.783757    -1.810411    -0.243794   \n",
       "1     2.332788     2.793018    -0.828153    -0.597817    -0.693162   \n",
       "2     2.238024     2.548715     0.108930    -0.898286    -0.640268   \n",
       "3     1.768849     4.284677     0.925293    -0.049667    -0.584788   \n",
       "4     1.379854     3.592518     1.562039     0.092145    -1.278158   \n",
       "\n",
       "   component 7  component 8  component 9  component 10  HasPromotions  \\\n",
       "0     0.433565     1.163843    -1.407220     -0.700026              0   \n",
       "1     0.771066     1.181362    -1.565924     -0.065226              0   \n",
       "2     0.550553     1.165865    -1.488746     -0.003380              0   \n",
       "3    -0.535921     1.217520    -0.808803      0.639240              0   \n",
       "4    -0.375772     1.574675    -0.333073     -0.517771              1   \n",
       "\n",
       "       ...        May  June  September  October  November  December  Fog  \\\n",
       "0      ...          0     0          0        0         0         0    0   \n",
       "1      ...          0     0          0        0         0         0    0   \n",
       "2      ...          0     0          0        0         0         0    0   \n",
       "3      ...          0     0          0        0         0         0    0   \n",
       "4      ...          0     0          0        0         0         0    0   \n",
       "\n",
       "   Snow  NumberOfCustomers  NumberOfSales  \n",
       "0     1                495       2.266354  \n",
       "1     1                608       2.302695  \n",
       "2     0                665       2.304995  \n",
       "3     0                630       2.290064  \n",
       "4     0                763       2.324482  \n",
       "\n",
       "[5 rows x 38 columns]"
      ]
     },
     "execution_count": 5,
     "metadata": {},
     "output_type": "execute_result"
    }
   ],
   "source": [
    "train = pd.read_csv('FinalTrain.csv',index_col=0)\n",
    "train.head()"
   ]
  },
  {
   "cell_type": "markdown",
   "metadata": {},
   "source": [
    "## 50"
   ]
  },
  {
   "cell_type": "code",
   "execution_count": 15,
   "metadata": {},
   "outputs": [],
   "source": [
    "train_data, test_data = model_selection.train_test_split(train, test_size = 0.3, random_state=1234)"
   ]
  },
  {
   "cell_type": "code",
   "execution_count": 16,
   "metadata": {},
   "outputs": [],
   "source": [
    "NumberOfCust = test_data['NumberOfCustomers']\n",
    "NumberOfSales = test_data['NumberOfSales']"
   ]
  },
  {
   "cell_type": "code",
   "execution_count": 17,
   "metadata": {},
   "outputs": [
    {
     "data": {
      "text/plain": [
       "0.7822755473217412"
      ]
     },
     "execution_count": 17,
     "metadata": {},
     "output_type": "execute_result"
    }
   ],
   "source": [
    "target = train_data['NumberOfCustomers']\n",
    "variables = train_data.drop(labels='NumberOfCustomers',axis=1)\n",
    "variables = variables.drop(labels='NumberOfSales', axis=1)\n",
    "\n",
    "rfr = RandomForestRegressor(random_state=1234) \n",
    "rfr.set_params(n_estimators=50)\n",
    "rfr.fit(variables, target)\n",
    "\n",
    "\n",
    "cust = rfr.predict(variables)\n",
    "target = train_data['NumberOfSales']\n",
    "variables['NumberOfCustomers'] = cust\n",
    "\n",
    "m1 = RandomForestRegressor(oob_score=True,random_state=1234) \n",
    "m1.set_params(n_estimators=50)\n",
    "m1.fit(variables, target)\n",
    "m1.oob_score_  "
   ]
  },
  {
   "cell_type": "code",
   "execution_count": 18,
   "metadata": {},
   "outputs": [],
   "source": [
    "test_data = test_data.drop(labels='NumberOfSales',axis=1)"
   ]
  },
  {
   "cell_type": "code",
   "execution_count": 20,
   "metadata": {},
   "outputs": [
    {
     "name": "stdout",
     "output_type": "stream",
     "text": [
      "-0.3383220985816786\n",
      "0.0031001238391371276\n"
     ]
    }
   ],
   "source": [
    "yp = m1.predict(test_data)\n",
    "print(str(r2_score(NumberOfSales,yp)))\n",
    "print(str(mean_squared_error(NumberOfSales,yp)))"
   ]
  },
  {
   "cell_type": "markdown",
   "metadata": {},
   "source": [
    "## 75"
   ]
  },
  {
   "cell_type": "code",
   "execution_count": 6,
   "metadata": {},
   "outputs": [],
   "source": [
    "train_data, test_data = model_selection.train_test_split(train, test_size = 0.3, random_state=1234)"
   ]
  },
  {
   "cell_type": "code",
   "execution_count": 7,
   "metadata": {},
   "outputs": [],
   "source": [
    "NumberOfCust = test_data['NumberOfCustomers']\n",
    "NumberOfSales = test_data['NumberOfSales']"
   ]
  },
  {
   "cell_type": "code",
   "execution_count": 8,
   "metadata": {},
   "outputs": [
    {
     "data": {
      "text/plain": [
       "0.775395117962749"
      ]
     },
     "execution_count": 8,
     "metadata": {},
     "output_type": "execute_result"
    }
   ],
   "source": [
    "target = train_data['NumberOfCustomers']\n",
    "variables = train_data.drop(labels='NumberOfCustomers',axis=1)\n",
    "variables = variables.drop(labels='NumberOfSales', axis=1)\n",
    "\n",
    "rfr = RandomForestRegressor(random_state=1234) \n",
    "rfr.set_params(n_estimators=75)\n",
    "rfr.fit(variables, target)\n",
    "\n",
    "\n",
    "cust = rfr.predict(variables)\n",
    "target = train_data['NumberOfSales']\n",
    "variables['NumberOfCustomers'] = cust\n",
    "\n",
    "m1 = RandomForestRegressor(oob_score=True,random_state=1234) \n",
    "m1.set_params(n_estimators=75)\n",
    "m1.fit(variables, target)\n",
    "m1.oob_score_  "
   ]
  },
  {
   "cell_type": "code",
   "execution_count": 9,
   "metadata": {},
   "outputs": [],
   "source": [
    "test_data = test_data.drop(labels='NumberOfSales',axis=1)"
   ]
  },
  {
   "cell_type": "code",
   "execution_count": 11,
   "metadata": {},
   "outputs": [
    {
     "name": "stdout",
     "output_type": "stream",
     "text": [
      "-0.367840578599403\n",
      "0.0031685012078550333\n"
     ]
    }
   ],
   "source": [
    "yp = m1.predict(test_data)\n",
    "print(str(r2_score(NumberOfSales,yp)))\n",
    "print(str(mean_squared_error(NumberOfSales,yp)))"
   ]
  },
  {
   "cell_type": "markdown",
   "metadata": {},
   "source": [
    "## 100"
   ]
  },
  {
   "cell_type": "code",
   "execution_count": 10,
   "metadata": {},
   "outputs": [],
   "source": [
    "train_data, test_data = model_selection.train_test_split(train, test_size = 0.3, random_state=1234)"
   ]
  },
  {
   "cell_type": "code",
   "execution_count": 11,
   "metadata": {},
   "outputs": [],
   "source": [
    "NumberOfCust = test_data['NumberOfCustomers']\n",
    "NumberOfSales = test_data['NumberOfSales']"
   ]
  },
  {
   "cell_type": "code",
   "execution_count": 12,
   "metadata": {},
   "outputs": [],
   "source": [
    "target = train_data['NumberOfCustomers']\n",
    "variables = train_data.drop(labels='NumberOfCustomers',axis=1)\n",
    "variables = variables.drop(labels='NumberOfSales', axis=1)\n",
    "    \n",
    "m1 = RandomForestRegressor(oob_score=True,random_state=1234) \n",
    "m1.set_params(n_estimators=100)\n",
    "m1.fit(variables, target)\n",
    "\n",
    "    \n",
    "cust = m1.predict(variables)\n",
    "target = train_data['NumberOfSales']\n",
    "variables['NumberOfCustomers'] = cust\n",
    "    \n",
    "m2 = RandomForestRegressor(oob_score=True,random_state=1234)\n",
    "m2.set_params(n_estimators=100)\n",
    "m2.fit(variables, target)\n",
    "    \n",
    "m2.oob_score_"
   ]
  },
  {
   "cell_type": "code",
   "execution_count": 16,
   "metadata": {},
   "outputs": [],
   "source": [
    "test_data = test_data.drop(labels='NumberOfSales',axis=1)"
   ]
  },
  {
   "cell_type": "code",
   "execution_count": 17,
   "metadata": {},
   "outputs": [],
   "source": [
    "yp = m2.predict(test_data)\n",
    "print(str(r2_score(NumberOfSales,yp)))\n",
    "print(str(mean_squared_error(NumberOfSales,yp)))"
   ]
  },
  {
   "cell_type": "markdown",
   "metadata": {},
   "source": [
    "## 125"
   ]
  },
  {
   "cell_type": "code",
   "execution_count": 91,
   "metadata": {},
   "outputs": [],
   "source": [
    "train_data, test_data = model_selection.train_test_split(train, test_size = 0.3, random_state=1234)"
   ]
  },
  {
   "cell_type": "code",
   "execution_count": 92,
   "metadata": {},
   "outputs": [],
   "source": [
    "NumberOfCust = test_data['NumberOfCustomers']\n",
    "NumberOfSales = test_data['NumberOfSales']"
   ]
  },
  {
   "cell_type": "code",
   "execution_count": 93,
   "metadata": {},
   "outputs": [
    {
     "data": {
      "text/plain": [
       "RandomForestRegressor(bootstrap=True, criterion='mse', max_depth=None,\n",
       "           max_features='auto', max_leaf_nodes=None,\n",
       "           min_impurity_decrease=0.0, min_impurity_split=None,\n",
       "           min_samples_leaf=1, min_samples_split=2,\n",
       "           min_weight_fraction_leaf=0.0, n_estimators=125, n_jobs=1,\n",
       "           oob_score=True, random_state=1234, verbose=0, warm_start=False)"
      ]
     },
     "execution_count": 93,
     "metadata": {},
     "output_type": "execute_result"
    }
   ],
   "source": [
    "target = train_data['NumberOfCustomers']\n",
    "variables = train_data.drop(labels='NumberOfCustomers',axis=1)\n",
    "variables = variables.drop(labels='NumberOfSales', axis=1)\n",
    "    \n",
    "m1 = RandomForestRegressor(oob_score=True,random_state=1234) \n",
    "m1.set_params(n_estimators=125)\n",
    "m1.fit(variables, target)\n",
    "    \n",
    "    \n",
    "cust = m1.predict(variables)\n",
    "target = train_data['NumberOfSales']\n",
    "variables['NumberOfCustomers'] = cust\n",
    "    \n",
    "m2 = RandomForestRegressor(oob_score=True,random_state=1234)\n",
    "m2.set_params(n_estimators=125)\n",
    "m2.fit(variables, target)\n",
    "m2.oob_score_"
   ]
  },
  {
   "cell_type": "code",
   "execution_count": null,
   "metadata": {},
   "outputs": [],
   "source": [
    "test_data = test_data.drop(labels='NumberOfSales',axis=1)"
   ]
  },
  {
   "cell_type": "code",
   "execution_count": 94,
   "metadata": {},
   "outputs": [],
   "source": [
    "yp = m2.predict(test_data)\n",
    "print(str(r2_score(NumberOfSales,yp)))\n",
    "print(str(mean_squared_error(NumberOfSales,yp)))"
   ]
  },
  {
   "cell_type": "markdown",
   "metadata": {},
   "source": [
    "## 150"
   ]
  },
  {
   "cell_type": "code",
   "execution_count": 97,
   "metadata": {},
   "outputs": [],
   "source": [
    "train_data, test_data = model_selection.train_test_split(train, test_size = 0.3, random_state=1234)"
   ]
  },
  {
   "cell_type": "code",
   "execution_count": 98,
   "metadata": {},
   "outputs": [],
   "source": [
    "NumberOfCust = test_data['NumberOfCustomers']\n",
    "NumberOfSales = test_data['NumberOfSales']"
   ]
  },
  {
   "cell_type": "code",
   "execution_count": 99,
   "metadata": {},
   "outputs": [
    {
     "data": {
      "text/plain": [
       "RandomForestRegressor(bootstrap=True, criterion='mse', max_depth=None,\n",
       "           max_features='auto', max_leaf_nodes=None,\n",
       "           min_impurity_decrease=0.0, min_impurity_split=None,\n",
       "           min_samples_leaf=1, min_samples_split=2,\n",
       "           min_weight_fraction_leaf=0.0, n_estimators=150, n_jobs=1,\n",
       "           oob_score=True, random_state=1234, verbose=0, warm_start=False)"
      ]
     },
     "execution_count": 99,
     "metadata": {},
     "output_type": "execute_result"
    }
   ],
   "source": [
    "target = train_data['NumberOfCustomers']\n",
    "variables = train_data.drop(labels='NumberOfCustomers',axis=1)\n",
    "variables = variables.drop(labels='NumberOfSales', axis=1)\n",
    "    \n",
    "m1 = RandomForestRegressor(oob_score=True,random_state=1234) \n",
    "m1.set_params(n_estimators=150)\n",
    "m1.fit(variables, target)\n",
    "    \n",
    "    \n",
    "cust = m1.predict(variables)\n",
    "target = train_data['NumberOfSales']\n",
    "variables['NumberOfCustomers'] = cust\n",
    "    \n",
    "m2 = RandomForestRegressor(oob_score=True,random_state=1234)\n",
    "m2.set_params(n_estimators=150)\n",
    "m2.fit(variables, target)\n",
    "m2.oob_score_"
   ]
  },
  {
   "cell_type": "code",
   "execution_count": null,
   "metadata": {},
   "outputs": [],
   "source": [
    "test_data = test_data.drop(labels='NumberOfSales',axis=1)"
   ]
  },
  {
   "cell_type": "code",
   "execution_count": 102,
   "metadata": {},
   "outputs": [
    {
     "name": "stdout",
     "output_type": "stream",
     "text": [
      "0.726603625418111\n",
      "0.0007496384340665233\n"
     ]
    }
   ],
   "source": [
    "yp = m2.predict(test_data)\n",
    "print(str(r2_score(NumberOfSales,yp)))\n",
    "print(str(mean_squared_error(NumberOfSales,yp)))"
   ]
  },
  {
   "cell_type": "markdown",
   "metadata": {},
   "source": [
    "# Trying to build a regressor model for each type of store"
   ]
  },
  {
   "cell_type": "code",
   "execution_count": 1,
   "metadata": {},
   "outputs": [],
   "source": [
    "import pandas as pd\n",
    "import numpy as np\n",
    "import seaborn as sns\n",
    "import matplotlib.pyplot as plt\n",
    "from scipy import stats\n",
    "from sklearn.metrics import mean_squared_error\n",
    "import math\n",
    "from sklearn.ensemble import RandomForestRegressor\n",
    "from sklearn import model_selection\n",
    "from sklearn.metrics import r2_score"
   ]
  },
  {
   "cell_type": "code",
   "execution_count": 2,
   "metadata": {},
   "outputs": [],
   "source": [
    "train = pd.read_csv('FinalTrain.csv',index_col=0)"
   ]
  },
  {
   "cell_type": "code",
   "execution_count": 3,
   "metadata": {},
   "outputs": [],
   "source": [
    "train_data, test_data = model_selection.train_test_split(train, test_size = 0.3, random_state=1234)"
   ]
  },
  {
   "cell_type": "code",
   "execution_count": 4,
   "metadata": {},
   "outputs": [],
   "source": [
    "target = train_data['NumberOfCustomers']\n",
    "variables = train_data.drop(labels='NumberOfCustomers',axis=1)\n",
    "variables = variables.drop(labels='NumberOfSales', axis=1)\n",
    "\n",
    "var_1 = variables.loc[variables['HyperMarket'] == 1]\n",
    "var_2 = variables.loc[variables['SuperMarket'] == 1]\n",
    "var_3 = variables.loc[variables['StandardMarket'] == 1]\n",
    "var_4 = variables.loc[variables['ShoppingCenter'] == 1]\n",
    "\n",
    "tar_1 = train_data.loc[train_data['HyperMarket'] == 1]['NumberOfCustomers']\n",
    "tar_2 = train_data.loc[train_data['SuperMarket'] == 1]['NumberOfCustomers']\n",
    "tar_3 = train_data.loc[train_data['StandardMarket'] == 1]['NumberOfCustomers']\n",
    "tar_4 = train_data.loc[train_data['ShoppingCenter'] == 1]['NumberOfCustomers']"
   ]
  },
  {
   "cell_type": "code",
   "execution_count": 5,
   "metadata": {},
   "outputs": [
    {
     "name": "stderr",
     "output_type": "stream",
     "text": [
      "D:\\Anaconda\\lib\\site-packages\\ipykernel_launcher.py:19: SettingWithCopyWarning: \n",
      "A value is trying to be set on a copy of a slice from a DataFrame.\n",
      "Try using .loc[row_indexer,col_indexer] = value instead\n",
      "\n",
      "See the caveats in the documentation: http://pandas.pydata.org/pandas-docs/stable/indexing.html#indexing-view-versus-copy\n",
      "D:\\Anaconda\\lib\\site-packages\\ipykernel_launcher.py:20: SettingWithCopyWarning: \n",
      "A value is trying to be set on a copy of a slice from a DataFrame.\n",
      "Try using .loc[row_indexer,col_indexer] = value instead\n",
      "\n",
      "See the caveats in the documentation: http://pandas.pydata.org/pandas-docs/stable/indexing.html#indexing-view-versus-copy\n",
      "D:\\Anaconda\\lib\\site-packages\\ipykernel_launcher.py:21: SettingWithCopyWarning: \n",
      "A value is trying to be set on a copy of a slice from a DataFrame.\n",
      "Try using .loc[row_indexer,col_indexer] = value instead\n",
      "\n",
      "See the caveats in the documentation: http://pandas.pydata.org/pandas-docs/stable/indexing.html#indexing-view-versus-copy\n",
      "D:\\Anaconda\\lib\\site-packages\\ipykernel_launcher.py:22: SettingWithCopyWarning: \n",
      "A value is trying to be set on a copy of a slice from a DataFrame.\n",
      "Try using .loc[row_indexer,col_indexer] = value instead\n",
      "\n",
      "See the caveats in the documentation: http://pandas.pydata.org/pandas-docs/stable/indexing.html#indexing-view-versus-copy\n"
     ]
    },
    {
     "ename": "NameError",
     "evalue": "name 'S4' is not defined",
     "output_type": "error",
     "traceback": [
      "\u001b[1;31m---------------------------------------------------------------------------\u001b[0m",
      "\u001b[1;31mNameError\u001b[0m                                 Traceback (most recent call last)",
      "\u001b[1;32m<ipython-input-5-2a69bd8a70cc>\u001b[0m in \u001b[0;36m<module>\u001b[1;34m()\u001b[0m\n\u001b[0;32m     40\u001b[0m \u001b[0ms2\u001b[0m\u001b[1;33m.\u001b[0m\u001b[0mfit\u001b[0m\u001b[1;33m(\u001b[0m\u001b[0mvar_2\u001b[0m\u001b[1;33m,\u001b[0m \u001b[0mtar_2\u001b[0m\u001b[1;33m)\u001b[0m\u001b[1;33m\u001b[0m\u001b[0m\n\u001b[0;32m     41\u001b[0m \u001b[0ms3\u001b[0m\u001b[1;33m.\u001b[0m\u001b[0mfit\u001b[0m\u001b[1;33m(\u001b[0m\u001b[0mvar_3\u001b[0m\u001b[1;33m,\u001b[0m \u001b[0mtar_3\u001b[0m\u001b[1;33m)\u001b[0m\u001b[1;33m\u001b[0m\u001b[0m\n\u001b[1;32m---> 42\u001b[1;33m \u001b[0mS4\u001b[0m\u001b[1;33m.\u001b[0m\u001b[0mfit\u001b[0m\u001b[1;33m(\u001b[0m\u001b[0mvar_4\u001b[0m\u001b[1;33m,\u001b[0m \u001b[0mtar_4\u001b[0m\u001b[1;33m)\u001b[0m\u001b[1;33m\u001b[0m\u001b[0m\n\u001b[0m",
      "\u001b[1;31mNameError\u001b[0m: name 'S4' is not defined"
     ]
    }
   ],
   "source": [
    "c1 = RandomForestRegressor(random_state=1234) \n",
    "c2 = RandomForestRegressor(random_state=1234) \n",
    "c3 = RandomForestRegressor(random_state=1234) \n",
    "c4 = RandomForestRegressor(random_state=1234) \n",
    "c1.set_params(n_estimators=125)\n",
    "c2.set_params(n_estimators=125)\n",
    "c3.set_params(n_estimators=125)\n",
    "c4.set_params(n_estimators=125)\n",
    "c1.fit(var_1, tar_1)\n",
    "c2.fit(var_2, tar_2)\n",
    "c3.fit(var_3, tar_3)\n",
    "c4.fit(var_4, tar_4)\n",
    "\n",
    "cust1 = c1.predict(var_1)\n",
    "cust2 = c2.predict(var_2)\n",
    "cust3 = c3.predict(var_3)\n",
    "cust4 = c4.predict(var_4)\n",
    "\n",
    "var_1['NumberOfCustomers'] = cust1\n",
    "var_2['NumberOfCustomers'] = cust2\n",
    "var_3['NumberOfCustomers'] = cust3\n",
    "var_4['NumberOfCustomers'] = cust4\n",
    "\n",
    "tar_1 = train_data.loc[train_data['HyperMarket'] == 1]['NumberOfSales']\n",
    "tar_2 = train_data.loc[train_data['SuperMarket'] == 1]['NumberOfSales']\n",
    "tar_3 = train_data.loc[train_data['StandardMarket'] == 1]['NumberOfSales']\n",
    "tar_4 = train_data.loc[train_data['ShoppingCenter'] == 1]['NumberOfSales']\n",
    "\n",
    "\n",
    "\n",
    "s1 = RandomForestRegressor(oob_score=True,random_state=1234) \n",
    "s2 = RandomForestRegressor(oob_score=True,random_state=1234) \n",
    "s3 = RandomForestRegressor(oob_score=True,random_state=1234) \n",
    "s4 = RandomForestRegressor(oob_score=True,random_state=1234)\n",
    "s1.set_params(n_estimators=125)\n",
    "s2.set_params(n_estimators=125)\n",
    "s3.set_params(n_estimators=125)\n",
    "s4.set_params(n_estimators=125)\n",
    "s1.fit(var_1, tar_1)\n",
    "s2.fit(var_2, tar_2)\n",
    "s3.fit(var_3, tar_3)\n",
    "s4.fit(var_4, tar_4)"
   ]
  },
  {
   "cell_type": "code",
   "execution_count": 7,
   "metadata": {},
   "outputs": [],
   "source": [
    "test_1 =  test_data.loc[test_data['HyperMarket'] == 1]\n",
    "test_2 =  test_data.loc[test_data['SuperMarket'] == 1]\n",
    "test_3 =  test_data.loc[test_data['StandardMarket'] == 1]\n",
    "test_4 =  test_data.loc[test_data['ShoppingCenter'] == 1]"
   ]
  },
  {
   "cell_type": "code",
   "execution_count": 8,
   "metadata": {},
   "outputs": [],
   "source": [
    "sales1 = test_1['NumberOfSales']\n",
    "sales2 = test_2['NumberOfSales']\n",
    "sales3 = test_3['NumberOfSales']\n",
    "sales4 = test_4['NumberOfSales']"
   ]
  },
  {
   "cell_type": "code",
   "execution_count": 9,
   "metadata": {},
   "outputs": [],
   "source": [
    "test_1 = test_1.drop(labels='NumberOfSales',axis=1)\n",
    "test_2 = test_2.drop(labels='NumberOfSales',axis=1)\n",
    "test_3 = test_3.drop(labels='NumberOfSales',axis=1)\n",
    "test_4 = test_4.drop(labels='NumberOfSales',axis=1)"
   ]
  },
  {
   "cell_type": "code",
   "execution_count": 10,
   "metadata": {},
   "outputs": [
    {
     "name": "stdout",
     "output_type": "stream",
     "text": [
      "0.6390843396667892\n",
      "0.00098727583135878\n",
      "0.6895962886483329\n",
      "0.0006364810986711153\n",
      "0.6660428748543659\n",
      "0.0005042486842456487\n",
      "0.9406875528177541\n",
      "0.00012673677152988746\n"
     ]
    }
   ],
   "source": [
    "yp = s1.predict(test_1)\n",
    "print(str(r2_score(sales1,yp)))\n",
    "print(str(mean_squared_error(sales1,yp)))\n",
    "yp = s2.predict(test_2)\n",
    "print(str(r2_score(sales2,yp)))\n",
    "print(str(mean_squared_error(sales2,yp)))\n",
    "yp = s3.predict(test_3)\n",
    "print(str(r2_score(sales3,yp)))\n",
    "print(str(mean_squared_error(sales3,yp)))\n",
    "yp = s4.predict(test_4)\n",
    "print(str(r2_score(sales4,yp)))\n",
    "print(str(mean_squared_error(sales4,yp)))"
   ]
  }
 ],
 "metadata": {
  "kernelspec": {
   "display_name": "Python 3",
   "language": "python",
   "name": "python3"
  },
  "language_info": {
   "codemirror_mode": {
    "name": "ipython",
    "version": 3
   },
   "file_extension": ".py",
   "mimetype": "text/x-python",
   "name": "python",
   "nbconvert_exporter": "python",
   "pygments_lexer": "ipython3",
   "version": "3.6.4"
  }
 },
 "nbformat": 4,
 "nbformat_minor": 2
}
