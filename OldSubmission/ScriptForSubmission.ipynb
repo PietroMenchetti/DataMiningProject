{
 "cells": [
  {
   "cell_type": "code",
   "execution_count": 8,
   "metadata": {},
   "outputs": [],
   "source": [
    "import pandas as pd\n",
    "import numpy as np\n",
    "from scipy import stats\n",
    "import math\n",
    "from sklearn.ensemble import RandomForestRegressor\n",
    "import warnings \n",
    "warnings.filterwarnings(\"ignore\")"
   ]
  },
  {
   "cell_type": "code",
   "execution_count": 9,
   "metadata": {},
   "outputs": [],
   "source": [
    "test = pd.read_csv('TestClean.csv',index_col=0)\n",
    "train = pd.read_csv('TrainClean.csv',index_col=0)"
   ]
  },
  {
   "cell_type": "code",
   "execution_count": 31,
   "metadata": {},
   "outputs": [],
   "source": [
    "def predictSales(to_return,model1,model2,test,stores,months):\n",
    "    for store in stores:\n",
    "        temp = test.loc[test['StoreID'] == store]\n",
    "        for month in months:\n",
    "            X = temp.loc[temp[month] == 1]\n",
    "            X = X.drop(labels='StoreID', axis=1)\n",
    "            customers = model1.predict(X)\n",
    "            X['NumberOfCustomers'] = customers\n",
    "            res = model2.predict(X)\n",
    "            res = np.expm1(res)\n",
    "            res = np.round(res)\n",
    "            if(month == 'March'):\n",
    "                   res = {'StoreID' : [store], 'Month' : [3], 'NumberOfSales' : [np.sum(res)]}\n",
    "            else:\n",
    "                   res = {'StoreID' : [store], 'Month' : [4], 'NumberOfSales' : [np.sum(res)]}\n",
    "            res = pd.DataFrame(res)\n",
    "            to_return = to_return.append(res,ignore_index=True)\n",
    "    \n",
    "    to_return.to_csv(\"Results.csv\")"
   ]
  },
  {
   "cell_type": "code",
   "execution_count": 12,
   "metadata": {},
   "outputs": [
    {
     "data": {
      "text/plain": [
       "RandomForestRegressor(bootstrap=True, criterion='mse', max_depth=None,\n",
       "           max_features='auto', max_leaf_nodes=None,\n",
       "           min_impurity_decrease=0.0, min_impurity_split=None,\n",
       "           min_samples_leaf=5, min_samples_split=2,\n",
       "           min_weight_fraction_leaf=0.0, n_estimators=150, n_jobs=1,\n",
       "           oob_score=False, random_state=12345, verbose=0,\n",
       "           warm_start=False)"
      ]
     },
     "execution_count": 12,
     "metadata": {},
     "output_type": "execute_result"
    }
   ],
   "source": [
    "variablesC = train.columns.drop('NumberOfCustomers')\n",
    "variablesC = variablesC.drop('NumberOfSales')\n",
    "variablesS =  train.columns.drop('NumberOfSales')\n",
    "        \n",
    "var = train[variablesC]\n",
    "tar = train['NumberOfCustomers']\n",
    "    \n",
    "model1 = RandomForestRegressor(random_state=12345,min_samples_leaf=5) #model 1 customers\n",
    "model1.set_params(n_estimators=150)\n",
    "model1.fit(var, tar)\n",
    "    \n",
    "var = train[variablesS]\n",
    "tar = train['NumberOfSales']\n",
    "    \n",
    "model2 = RandomForestRegressor(random_state=12345,min_samples_leaf=5) #model 2 sales\n",
    "model2.set_params(n_estimators=150)\n",
    "model2.fit(var, tar)"
   ]
  },
  {
   "cell_type": "code",
   "execution_count": 33,
   "metadata": {},
   "outputs": [],
   "source": [
    "stores = test['StoreID'].unique()\n",
    "months = ['March','April']\n",
    "df = pd.DataFrame(columns=['StoreID', 'Month', 'NumberOfSales'])\n",
    "predictSales(df,model1,model2,test,stores,months)"
   ]
  },
  {
   "cell_type": "code",
   "execution_count": null,
   "metadata": {},
   "outputs": [],
   "source": []
  }
 ],
 "metadata": {
  "kernelspec": {
   "display_name": "Python 3",
   "language": "python",
   "name": "python3"
  },
  "language_info": {
   "codemirror_mode": {
    "name": "ipython",
    "version": 3
   },
   "file_extension": ".py",
   "mimetype": "text/x-python",
   "name": "python",
   "nbconvert_exporter": "python",
   "pygments_lexer": "ipython3",
   "version": "3.6.4"
  }
 },
 "nbformat": 4,
 "nbformat_minor": 2
}
