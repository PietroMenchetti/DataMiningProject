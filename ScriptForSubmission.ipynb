{
 "cells": [
  {
   "cell_type": "code",
   "execution_count": 42,
   "metadata": {},
   "outputs": [],
   "source": [
    "import pandas as pd\n",
    "import numpy as np\n",
    "import seaborn as sns\n",
    "import matplotlib\n",
    "import matplotlib.pyplot as plt\n",
    "import scipy.stats as sc\n",
    "from sklearn import neighbors\n",
    "from sklearn.model_selection import KFold\n",
    "from sklearn.model_selection import cross_val_score\n",
    "from sklearn import model_selection"
   ]
  },
  {
   "cell_type": "code",
   "execution_count": 43,
   "metadata": {},
   "outputs": [],
   "source": [
    "def predictSales(df,model,test,stores,months):\n",
    "    for store in stores:\n",
    "        temp = test.loc[test['StoreID'] == store]\n",
    "        for month in months:\n",
    "            X = temp.loc[temp[month] == 1]\n",
    "            X = X.drop(labels='StoreID', axis=1)\n",
    "            res = model.predict(X)\n",
    "            res = np.expm1(res)\n",
    "            res = {'StoreID' : [store], 'Month' : [month], 'NumberOfSales' : [np.sum(res)]}\n",
    "            res = pd.DataFrame(res)\n",
    "            df = df.append(res,ignore_index=True)\n",
    "    \n",
    "    df.to_csv(\"Results.csv\")"
   ]
  },
  {
   "cell_type": "code",
   "execution_count": 17,
   "metadata": {},
   "outputs": [],
   "source": [
    "\n",
    "# Need train set, index of varibales, index of target, test size and seed\n",
    "\n",
    "def randomSplit(dataset, variable,target,test_size=0.33, random_state=1234):\n",
    "\n",
    "    train_data, test_data = model_selection.train_test_split(dataset, test_size=0.33, random_state=1234)\n",
    "\n",
    "\n",
    "    train_x = train_data[variable].values\n",
    "    train_y = train_data[target].values\n",
    "\n",
    "    test_x = test_data[variable].values\n",
    "    test_y = test_data[target].values\n",
    "\n",
    "#    train_x = train_x.reshape(len(train_x), degree)\n",
    "    train_y = train_y.reshape(len(train_y), 1)\n",
    "#    test_x = test_x.reshape(len(test_y), degree)\n",
    "    test_y = test_y.reshape(len(test_y), 1)\n",
    "\n",
    "\n",
    "    return train_x,train_y,test_x,test_y"
   ]
  },
  {
   "cell_type": "code",
   "execution_count": 45,
   "metadata": {},
   "outputs": [],
   "source": [
    "#stores = test['StoreID'].unique()\n",
    "#months = ['March','April']\n",
    "#df = pd.DataFrame(columns=['StoreID', 'Month', 'NumberOfSales'])\n",
    "#predictSales(df,knn,test,stores,months)"
   ]
  },
  {
   "cell_type": "markdown",
   "metadata": {},
   "source": [
    "# K Nearest Neighbors "
   ]
  },
  {
   "cell_type": "code",
   "execution_count": 46,
   "metadata": {},
   "outputs": [],
   "source": [
    "train = pd.read_csv('TrainClean.csv',index_col=0)\n",
    "test = pd.read_csv('TestClean.csv',index_col=0)"
   ]
  },
  {
   "cell_type": "code",
   "execution_count": 47,
   "metadata": {},
   "outputs": [],
   "source": [
    "target = train['NumberOfSales']\n",
    "variables = train.drop(labels='NumberOfSales',axis=1)"
   ]
  },
  {
   "cell_type": "code",
   "execution_count": 48,
   "metadata": {},
   "outputs": [
    {
     "data": {
      "text/plain": [
       "count    433958.000000\n",
       "mean          2.239679\n",
       "std           0.050325\n",
       "min           0.000000\n",
       "25%           2.211314\n",
       "50%           2.241269\n",
       "75%           2.270551\n",
       "max           2.415042\n",
       "Name: NumberOfSales, dtype: float64"
      ]
     },
     "execution_count": 48,
     "metadata": {},
     "output_type": "execute_result"
    }
   ],
   "source": [
    "train['NumberOfSales'].describe()"
   ]
  },
  {
   "cell_type": "code",
   "execution_count": 49,
   "metadata": {},
   "outputs": [],
   "source": [
    "#target = np.expm1(target.values)"
   ]
  },
  {
   "cell_type": "code",
   "execution_count": 50,
   "metadata": {},
   "outputs": [],
   "source": [
    "#sc.describe(target)"
   ]
  },
  {
   "cell_type": "code",
   "execution_count": 51,
   "metadata": {},
   "outputs": [],
   "source": [
    "var = train.columns.drop('NumberOfSales')\n",
    "tar = 'NumberOfSales'"
   ]
  },
  {
   "cell_type": "code",
   "execution_count": 52,
   "metadata": {},
   "outputs": [
    {
     "name": "stdout",
     "output_type": "stream",
     "text": [
      "TEST RESULTS ->RMSE : [0.04291793] R2 :0.21128278961651506 for KNN with 2 neighbors\n",
      "TEST RESULTS ->RMSE : [0.03966811] R2 :0.3262065645045549 for KNN with 3 neighbors\n",
      "TEST RESULTS ->RMSE : [0.03804062] R2 :0.3803606164800103 for KNN with 4 neighbors\n"
     ]
    }
   ],
   "source": [
    "RMSE = {}\n",
    "R2 = {}\n",
    "\n",
    "for ii in range(2,5):\n",
    "    \n",
    "    tr_x,tr_y,tes_x,tes_y = randomSplit(train,var,tar)\n",
    "    \n",
    "    n_neighbors = ii\n",
    "    knn = neighbors.KNeighborsRegressor(n_neighbors)\n",
    "    knn = knn.fit(tr_x, tr_y)\n",
    "\n",
    "    yp = knn.predict(tes_x)\n",
    "    yt = tes_y\n",
    "\n",
    "    RMSE[ii]=np.sqrt (sum((yt - yp)*(yt - yp)) / len(yt))\n",
    "    R2[ii]=knn.score(tes_x,tes_y)\n",
    "\n",
    "    print(\"TEST RESULTS ->RMSE : \"+str(RMSE[ii])+\" R2 :\"+str(R2[ii]) +\" for KNN with \"+str(n_neighbors)+\" neighbors\")"
   ]
  },
  {
   "cell_type": "code",
   "execution_count": 10,
   "metadata": {},
   "outputs": [],
   "source": [
    "#scores = cross_val_score(knn, variables, target, cv=KFold(n_splits=10, random_state=1234, shuffle=True))"
   ]
  },
  {
   "cell_type": "markdown",
   "metadata": {},
   "source": [
    "# Random Forset"
   ]
  },
  {
   "cell_type": "code",
   "execution_count": 12,
   "metadata": {},
   "outputs": [],
   "source": [
    "from sklearn.ensemble import RandomForestRegressor\n",
    "import pandas as pd\n",
    "import numpy as np\n",
    "import seaborn as sns\n",
    "import matplotlib\n",
    "import matplotlib.pyplot as plt\n",
    "import scipy.stats as sc\n",
    "from sklearn import neighbors\n",
    "from sklearn.model_selection import KFold\n",
    "from sklearn.model_selection import cross_val_score\n",
    "from sklearn import model_selection"
   ]
  },
  {
   "cell_type": "code",
   "execution_count": 13,
   "metadata": {},
   "outputs": [],
   "source": [
    "train = pd.read_csv('TrainClean.csv',index_col=0)\n",
    "test = pd.read_csv('TestClean.csv',index_col=0)"
   ]
  },
  {
   "cell_type": "code",
   "execution_count": 14,
   "metadata": {},
   "outputs": [],
   "source": [
    "target = train['NumberOfSales']\n",
    "variables = train.drop(labels='NumberOfSales',axis=1)"
   ]
  },
  {
   "cell_type": "code",
   "execution_count": 15,
   "metadata": {},
   "outputs": [],
   "source": [
    "ensemble_clfs = [\n",
    "    (\"RandomForestRegressor, max_features='sqrt'\",\n",
    "        RandomForestRegressor(oob_score=True,\n",
    "                               max_features=\"sqrt\",\n",
    "                               random_state=1234)),\n",
    "    (\"RandomForestRegressor, max_features='log2'\",\n",
    "        RandomForestRegressor(max_features='log2', oob_score=True,\n",
    "                               random_state=1234)),\n",
    "    (\"RandomForestRegressor, max_features=None\",\n",
    "        RandomForestRegressor(max_features=None, oob_score=True,\n",
    "                               random_state=1234))\n",
    "]\n",
    "# Warm_start = When set to True, reuse the solution of the previous call to fit and add more estimators to the ensemble, otherwise, just fit a whole new forest."
   ]
  },
  {
   "cell_type": "code",
   "execution_count": null,
   "metadata": {},
   "outputs": [],
   "source": [
    "estimators = 100\n",
    "OOB_Scores = {}\n",
    "\n",
    "for label, clf in ensemble_clfs:\n",
    "        clf.set_params(n_estimators=estimators)\n",
    "        clf.fit(variables, target)\n",
    "        OOB_Scores[(label,clf)] = oob_error = 1 - clf.oob_score_"
   ]
  },
  {
   "cell_type": "code",
   "execution_count": null,
   "metadata": {},
   "outputs": [],
   "source": []
  }
 ],
 "metadata": {
  "kernelspec": {
   "display_name": "Python 3",
   "language": "python",
   "name": "python3"
  },
  "language_info": {
   "codemirror_mode": {
    "name": "ipython",
    "version": 3
   },
   "file_extension": ".py",
   "mimetype": "text/x-python",
   "name": "python",
   "nbconvert_exporter": "python",
   "pygments_lexer": "ipython3",
   "version": "3.6.4"
  }
 },
 "nbformat": 4,
 "nbformat_minor": 2
}
