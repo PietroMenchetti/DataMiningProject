{
 "cells": [
  {
   "cell_type": "code",
   "execution_count": 1,
   "metadata": {},
   "outputs": [],
   "source": [
    "import pandas as pd\n",
    "import numpy as np\n",
    "import seaborn as sns\n",
    "import matplotlib\n",
    "import matplotlib.pyplot as plt\n",
    "import scipy.stats as sc\n",
    "from sklearn import neighbors\n",
    "from sklearn.model_selection import KFold\n",
    "from sklearn.model_selection import cross_val_score\n",
    "from sklearn import model_selection"
   ]
  },
  {
   "cell_type": "code",
   "execution_count": 2,
   "metadata": {},
   "outputs": [],
   "source": [
    "def predictSales(df,model,test,stores,months):\n",
    "    for store in stores:\n",
    "        temp = test.loc[test['StoreID'] == store]\n",
    "        for month in months:\n",
    "            X = temp.loc[temp[month] == 1]\n",
    "            X = X.drop(labels='StoreID', axis=1)\n",
    "            res = model.predict(X)\n",
    "            res = np.expm1(res)\n",
    "            res = {'StoreID' : [store], 'Month' : [month], 'NumberOfSales' : [np.sum(res)]}\n",
    "            res = pd.DataFrame(res)\n",
    "            df = df.append(res,ignore_index=True)\n",
    "    \n",
    "    df.to_csv(\"Results.csv\")"
   ]
  },
  {
   "cell_type": "code",
   "execution_count": 3,
   "metadata": {},
   "outputs": [],
   "source": [
    "\n",
    "# Need train set, index of varibales, index of target, test size and seed\n",
    "\n",
    "def randomSplit(dataset, variable,target,test_size=0.33, random_state=1234):\n",
    "\n",
    "    train_data, test_data = model_selection.train_test_split(dataset, test_size=0.33, random_state=1234)\n",
    "\n",
    "\n",
    "    train_x = train_data[variable]\n",
    "    train_y = train_data[target]\n",
    "\n",
    "    test_x = test_data[variable].values\n",
    "    test_y = test_data[target].values\n",
    "\n",
    "\n",
    "    return train_x,train_y,test_x,test_y"
   ]
  },
  {
   "cell_type": "code",
   "execution_count": 4,
   "metadata": {},
   "outputs": [],
   "source": [
    "#stores = test['StoreID'].unique()\n",
    "#months = ['March','April']\n",
    "#df = pd.DataFrame(columns=['StoreID', 'Month', 'NumberOfSales'])\n",
    "#predictSales(df,knn,test,stores,months)"
   ]
  },
  {
   "cell_type": "markdown",
   "metadata": {},
   "source": [
    "# K Nearest Neighbors "
   ]
  },
  {
   "cell_type": "code",
   "execution_count": 5,
   "metadata": {},
   "outputs": [],
   "source": [
    "from sklearn.metrics import mean_squared_error\n",
    "from sklearn.metrics import r2_score\n",
    "import pandas as pd\n",
    "import numpy as np\n",
    "import seaborn as sns\n",
    "import matplotlib\n",
    "import matplotlib.pyplot as plt\n",
    "import scipy.stats as sc\n",
    "from sklearn import neighbors\n",
    "from sklearn.model_selection import KFold\n",
    "from sklearn.model_selection import cross_val_score\n",
    "from sklearn import model_selection"
   ]
  },
  {
   "cell_type": "code",
   "execution_count": 6,
   "metadata": {},
   "outputs": [],
   "source": [
    "train = pd.read_csv('TrainClean.csv',index_col=0)\n",
    "test = pd.read_csv('TestClean.csv',index_col=0)\n",
    "\n",
    "NumberOfSales = train['NumberOfSales']\n",
    "NumberOfCustomers = train['NumberOfCustomers']"
   ]
  },
  {
   "cell_type": "code",
   "execution_count": 7,
   "metadata": {},
   "outputs": [],
   "source": [
    "variabless = train.drop(labels='NumberOfSales',axis=1)\n",
    "target = NumberOfCustomers"
   ]
  },
  {
   "cell_type": "code",
   "execution_count": 8,
   "metadata": {},
   "outputs": [],
   "source": [
    "variables = sc.zscore(variabless)\n",
    "variables = pd.DataFrame(data=variables,columns=variabless.columns)\n",
    "target = sc.zscore(target)"
   ]
  },
  {
   "cell_type": "code",
   "execution_count": 9,
   "metadata": {},
   "outputs": [],
   "source": [
    "var = train.columns\n",
    "var = var.drop('NumberOfSales')\n",
    "var = var.drop('NumberOfCustomers')\n",
    "tar = 'NumberOfCustomers'"
   ]
  },
  {
   "cell_type": "code",
   "execution_count": null,
   "metadata": {},
   "outputs": [],
   "source": [
    "tr_x,tr_y,tes_x,tes_y = randomSplit(variables,var,tar)"
   ]
  },
  {
   "cell_type": "code",
   "execution_count": null,
   "metadata": {},
   "outputs": [],
   "source": [
    "RMSE = {}\n",
    "R2 = {}\n",
    "\n",
    "\n",
    "    \n",
    "knn = neighbors.KNeighborsRegressor(3)\n",
    "knn = knn.fit(tr_x, tr_y)\n",
    "\n",
    "yp = knn.predict(tes_x)\n",
    "yt = tes_y\n",
    "\n",
    "RMSE[0]=mean_squared_error(yt,yp) (sum((yt - yp)*(yt - yp)) / len(yt))\n",
    "R2[0]=knn.score(tes_x,tes_y)\n",
    "\n",
    "print(\"TEST RESULTS ->RMSE : \"+str(RMSE[0])+\" R2 :\"+str(R2[0]) +\" for KNN with \"+str(6)+\" neighbors\")"
   ]
  },
  {
   "cell_type": "code",
   "execution_count": 10,
   "metadata": {},
   "outputs": [],
   "source": [
    "#scores = cross_val_score(knn, variables, target, cv=KFold(n_splits=10, random_state=1234, shuffle=True))"
   ]
  },
  {
   "cell_type": "markdown",
   "metadata": {},
   "source": [
    "# Support Vector Machine"
   ]
  },
  {
   "cell_type": "code",
   "execution_count": 63,
   "metadata": {},
   "outputs": [],
   "source": [
    "from sklearn.svm import SVR\n",
    "import pandas as pd\n",
    "import numpy as np\n",
    "import seaborn as sns\n",
    "import matplotlib\n",
    "import matplotlib.pyplot as plt\n",
    "import scipy.stats as sc\n",
    "from sklearn import neighbors\n",
    "from sklearn.model_selection import KFold\n",
    "from sklearn.model_selection import cross_val_score\n",
    "from sklearn import model_selection"
   ]
  },
  {
   "cell_type": "code",
   "execution_count": 64,
   "metadata": {},
   "outputs": [],
   "source": [
    "train = pd.read_csv('TrainClean.csv',index_col=0)\n",
    "test = pd.read_csv('TestClean.csv',index_col=0)"
   ]
  },
  {
   "cell_type": "code",
   "execution_count": null,
   "metadata": {},
   "outputs": [],
   "source": [
    "target = train['NumberOfSales']\n",
    "variables = train.drop(labels='NumberOfSales',axis=1)"
   ]
  },
  {
   "cell_type": "code",
   "execution_count": null,
   "metadata": {},
   "outputs": [],
   "source": [
    "clf = SVR(C=1.0, epsilon=0.2)\n",
    "clf.fit(variables,target)\n",
    "clf.score(variables,target)"
   ]
  }
 ],
 "metadata": {
  "kernelspec": {
   "display_name": "Python 3",
   "language": "python",
   "name": "python3"
  },
  "language_info": {
   "codemirror_mode": {
    "name": "ipython",
    "version": 3
   },
   "file_extension": ".py",
   "mimetype": "text/x-python",
   "name": "python",
   "nbconvert_exporter": "python",
   "pygments_lexer": "ipython3",
   "version": "3.6.4"
  }
 },
 "nbformat": 4,
 "nbformat_minor": 2
}
