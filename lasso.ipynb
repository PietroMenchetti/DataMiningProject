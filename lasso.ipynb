{
 "cells": [
  {
   "cell_type": "code",
   "execution_count": 1,
   "metadata": {
    "collapsed": true
   },
   "outputs": [],
   "source": [
    "import pandas as pd\n",
    "import numpy as np\n",
    "import seaborn as sns\n",
    "import matplotlib\n",
    "import matplotlib.pyplot as plt\n",
    "from scipy import stats\n",
    "from scipy import stats\n",
    "import math\n",
    "from sklearn.preprocessing import MinMaxScaler,PolynomialFeatures, StandardScaler\n",
    "from sklearn import tree,linear_model,neighbors\n",
    "from sklearn.decomposition import PCA\n",
    "from sklearn.model_selection import cross_val_score\n",
    "from sklearn.metrics import mean_squared_error,r2_score\n",
    "%matplotlib inline\n",
    "import warnings \n",
    "warnings.filterwarnings(\"ignore\")\n",
    "sns.set(style=\"white\", color_codes=True)\n",
    "sns.set_context(rc={\"font.family\":'sans',\"font.size\":10,\"axes.titlesize\":24,\"axes.labelsize\":24}) \n",
    "from sklearn.linear_model import Lasso"
   ]
  },
  {
   "cell_type": "markdown",
   "metadata": {},
   "source": [
    "# Upload data"
   ]
  },
  {
   "cell_type": "code",
   "execution_count": 2,
   "metadata": {},
   "outputs": [
    {
     "data": {
      "text/html": [
       "<div>\n",
       "<style scoped>\n",
       "    .dataframe tbody tr th:only-of-type {\n",
       "        vertical-align: middle;\n",
       "    }\n",
       "\n",
       "    .dataframe tbody tr th {\n",
       "        vertical-align: top;\n",
       "    }\n",
       "\n",
       "    .dataframe thead th {\n",
       "        text-align: right;\n",
       "    }\n",
       "</style>\n",
       "<table border=\"1\" class=\"dataframe\">\n",
       "  <thead>\n",
       "    <tr style=\"text-align: right;\">\n",
       "      <th></th>\n",
       "      <th>IsHoliday</th>\n",
       "      <th>HasPromotions</th>\n",
       "      <th>NearestCompetitor</th>\n",
       "      <th>Region_AreaKM2</th>\n",
       "      <th>Region_GDP</th>\n",
       "      <th>Region_PopulationK</th>\n",
       "      <th>Mean_Dew_PointC</th>\n",
       "      <th>Mean_Humidity</th>\n",
       "      <th>Mean_Sea_Level_PressurehPa</th>\n",
       "      <th>Mean_TemperatureC</th>\n",
       "      <th>...</th>\n",
       "      <th>December</th>\n",
       "      <th>Fog</th>\n",
       "      <th>Nothing</th>\n",
       "      <th>Rain</th>\n",
       "      <th>Thunderstorm</th>\n",
       "      <th>Snow</th>\n",
       "      <th>Hail</th>\n",
       "      <th>ZeroClouds</th>\n",
       "      <th>NumberOfSales</th>\n",
       "      <th>NumberOfCustomers</th>\n",
       "    </tr>\n",
       "  </thead>\n",
       "  <tbody>\n",
       "    <tr>\n",
       "      <th>count</th>\n",
       "      <td>433958.000000</td>\n",
       "      <td>433958.000000</td>\n",
       "      <td>433958.000000</td>\n",
       "      <td>433958.000000</td>\n",
       "      <td>433958.000000</td>\n",
       "      <td>433958.000000</td>\n",
       "      <td>433958.000000</td>\n",
       "      <td>433958.000000</td>\n",
       "      <td>433958.000000</td>\n",
       "      <td>433958.00000</td>\n",
       "      <td>...</td>\n",
       "      <td>433958.000000</td>\n",
       "      <td>433958.000000</td>\n",
       "      <td>433958.000000</td>\n",
       "      <td>433958.000000</td>\n",
       "      <td>433958.000000</td>\n",
       "      <td>433958.000000</td>\n",
       "      <td>433958.000000</td>\n",
       "      <td>433958.000000</td>\n",
       "      <td>433958.000000</td>\n",
       "      <td>433958.000000</td>\n",
       "    </tr>\n",
       "    <tr>\n",
       "      <th>mean</th>\n",
       "      <td>0.000945</td>\n",
       "      <td>0.449507</td>\n",
       "      <td>8042.993882</td>\n",
       "      <td>12313.341916</td>\n",
       "      <td>14045.556837</td>\n",
       "      <td>3845.765475</td>\n",
       "      <td>6.285320</td>\n",
       "      <td>74.859115</td>\n",
       "      <td>1014.979698</td>\n",
       "      <td>10.33585</td>\n",
       "      <td>...</td>\n",
       "      <td>0.077973</td>\n",
       "      <td>0.254421</td>\n",
       "      <td>0.238873</td>\n",
       "      <td>0.592698</td>\n",
       "      <td>0.061453</td>\n",
       "      <td>0.076784</td>\n",
       "      <td>0.006415</td>\n",
       "      <td>0.000129</td>\n",
       "      <td>2.239679</td>\n",
       "      <td>312.547433</td>\n",
       "    </tr>\n",
       "    <tr>\n",
       "      <th>std</th>\n",
       "      <td>0.030723</td>\n",
       "      <td>0.497444</td>\n",
       "      <td>11640.203554</td>\n",
       "      <td>9114.075588</td>\n",
       "      <td>2760.416990</td>\n",
       "      <td>2816.324768</td>\n",
       "      <td>5.862926</td>\n",
       "      <td>12.928407</td>\n",
       "      <td>8.262854</td>\n",
       "      <td>7.04847</td>\n",
       "      <td>...</td>\n",
       "      <td>0.268129</td>\n",
       "      <td>0.435536</td>\n",
       "      <td>0.426396</td>\n",
       "      <td>0.491333</td>\n",
       "      <td>0.240160</td>\n",
       "      <td>0.266249</td>\n",
       "      <td>0.079839</td>\n",
       "      <td>0.011359</td>\n",
       "      <td>0.050325</td>\n",
       "      <td>158.106619</td>\n",
       "    </tr>\n",
       "    <tr>\n",
       "      <th>min</th>\n",
       "      <td>0.000000</td>\n",
       "      <td>0.000000</td>\n",
       "      <td>47.000000</td>\n",
       "      <td>344.000000</td>\n",
       "      <td>9893.000000</td>\n",
       "      <td>816.000000</td>\n",
       "      <td>-15.000000</td>\n",
       "      <td>30.000000</td>\n",
       "      <td>974.000000</td>\n",
       "      <td>-13.00000</td>\n",
       "      <td>...</td>\n",
       "      <td>0.000000</td>\n",
       "      <td>0.000000</td>\n",
       "      <td>0.000000</td>\n",
       "      <td>0.000000</td>\n",
       "      <td>0.000000</td>\n",
       "      <td>0.000000</td>\n",
       "      <td>0.000000</td>\n",
       "      <td>0.000000</td>\n",
       "      <td>0.000000</td>\n",
       "      <td>0.000000</td>\n",
       "    </tr>\n",
       "    <tr>\n",
       "      <th>25%</th>\n",
       "      <td>0.000000</td>\n",
       "      <td>0.000000</td>\n",
       "      <td>1057.000000</td>\n",
       "      <td>7215.000000</td>\n",
       "      <td>11849.000000</td>\n",
       "      <td>1293.000000</td>\n",
       "      <td>2.000000</td>\n",
       "      <td>66.000000</td>\n",
       "      <td>1010.000000</td>\n",
       "      <td>4.00000</td>\n",
       "      <td>...</td>\n",
       "      <td>0.000000</td>\n",
       "      <td>0.000000</td>\n",
       "      <td>0.000000</td>\n",
       "      <td>0.000000</td>\n",
       "      <td>0.000000</td>\n",
       "      <td>0.000000</td>\n",
       "      <td>0.000000</td>\n",
       "      <td>0.000000</td>\n",
       "      <td>2.211314</td>\n",
       "      <td>214.000000</td>\n",
       "    </tr>\n",
       "    <tr>\n",
       "      <th>50%</th>\n",
       "      <td>0.000000</td>\n",
       "      <td>0.000000</td>\n",
       "      <td>3307.000000</td>\n",
       "      <td>9337.000000</td>\n",
       "      <td>15017.000000</td>\n",
       "      <td>1892.000000</td>\n",
       "      <td>7.000000</td>\n",
       "      <td>76.000000</td>\n",
       "      <td>1015.000000</td>\n",
       "      <td>11.00000</td>\n",
       "      <td>...</td>\n",
       "      <td>0.000000</td>\n",
       "      <td>0.000000</td>\n",
       "      <td>0.000000</td>\n",
       "      <td>1.000000</td>\n",
       "      <td>0.000000</td>\n",
       "      <td>0.000000</td>\n",
       "      <td>0.000000</td>\n",
       "      <td>0.000000</td>\n",
       "      <td>2.241269</td>\n",
       "      <td>278.000000</td>\n",
       "    </tr>\n",
       "    <tr>\n",
       "      <th>75%</th>\n",
       "      <td>0.000000</td>\n",
       "      <td>1.000000</td>\n",
       "      <td>9761.000000</td>\n",
       "      <td>15566.000000</td>\n",
       "      <td>15931.000000</td>\n",
       "      <td>5727.000000</td>\n",
       "      <td>11.000000</td>\n",
       "      <td>85.000000</td>\n",
       "      <td>1020.000000</td>\n",
       "      <td>16.00000</td>\n",
       "      <td>...</td>\n",
       "      <td>0.000000</td>\n",
       "      <td>1.000000</td>\n",
       "      <td>0.000000</td>\n",
       "      <td>1.000000</td>\n",
       "      <td>0.000000</td>\n",
       "      <td>0.000000</td>\n",
       "      <td>0.000000</td>\n",
       "      <td>0.000000</td>\n",
       "      <td>2.270551</td>\n",
       "      <td>369.000000</td>\n",
       "    </tr>\n",
       "    <tr>\n",
       "      <th>max</th>\n",
       "      <td>1.000000</td>\n",
       "      <td>1.000000</td>\n",
       "      <td>85070.000000</td>\n",
       "      <td>32221.000000</td>\n",
       "      <td>23931.000000</td>\n",
       "      <td>8146.000000</td>\n",
       "      <td>20.000000</td>\n",
       "      <td>100.000000</td>\n",
       "      <td>1040.000000</td>\n",
       "      <td>30.00000</td>\n",
       "      <td>...</td>\n",
       "      <td>1.000000</td>\n",
       "      <td>1.000000</td>\n",
       "      <td>1.000000</td>\n",
       "      <td>1.000000</td>\n",
       "      <td>1.000000</td>\n",
       "      <td>1.000000</td>\n",
       "      <td>1.000000</td>\n",
       "      <td>1.000000</td>\n",
       "      <td>2.415042</td>\n",
       "      <td>2206.000000</td>\n",
       "    </tr>\n",
       "  </tbody>\n",
       "</table>\n",
       "<p>8 rows × 51 columns</p>\n",
       "</div>"
      ],
      "text/plain": [
       "           IsHoliday  HasPromotions  NearestCompetitor  Region_AreaKM2  \\\n",
       "count  433958.000000  433958.000000      433958.000000   433958.000000   \n",
       "mean        0.000945       0.449507        8042.993882    12313.341916   \n",
       "std         0.030723       0.497444       11640.203554     9114.075588   \n",
       "min         0.000000       0.000000          47.000000      344.000000   \n",
       "25%         0.000000       0.000000        1057.000000     7215.000000   \n",
       "50%         0.000000       0.000000        3307.000000     9337.000000   \n",
       "75%         0.000000       1.000000        9761.000000    15566.000000   \n",
       "max         1.000000       1.000000       85070.000000    32221.000000   \n",
       "\n",
       "          Region_GDP  Region_PopulationK  Mean_Dew_PointC  Mean_Humidity  \\\n",
       "count  433958.000000       433958.000000    433958.000000  433958.000000   \n",
       "mean    14045.556837         3845.765475         6.285320      74.859115   \n",
       "std      2760.416990         2816.324768         5.862926      12.928407   \n",
       "min      9893.000000          816.000000       -15.000000      30.000000   \n",
       "25%     11849.000000         1293.000000         2.000000      66.000000   \n",
       "50%     15017.000000         1892.000000         7.000000      76.000000   \n",
       "75%     15931.000000         5727.000000        11.000000      85.000000   \n",
       "max     23931.000000         8146.000000        20.000000     100.000000   \n",
       "\n",
       "       Mean_Sea_Level_PressurehPa  Mean_TemperatureC        ...          \\\n",
       "count               433958.000000       433958.00000        ...           \n",
       "mean                  1014.979698           10.33585        ...           \n",
       "std                      8.262854            7.04847        ...           \n",
       "min                    974.000000          -13.00000        ...           \n",
       "25%                   1010.000000            4.00000        ...           \n",
       "50%                   1015.000000           11.00000        ...           \n",
       "75%                   1020.000000           16.00000        ...           \n",
       "max                   1040.000000           30.00000        ...           \n",
       "\n",
       "            December            Fog        Nothing           Rain  \\\n",
       "count  433958.000000  433958.000000  433958.000000  433958.000000   \n",
       "mean        0.077973       0.254421       0.238873       0.592698   \n",
       "std         0.268129       0.435536       0.426396       0.491333   \n",
       "min         0.000000       0.000000       0.000000       0.000000   \n",
       "25%         0.000000       0.000000       0.000000       0.000000   \n",
       "50%         0.000000       0.000000       0.000000       1.000000   \n",
       "75%         0.000000       1.000000       0.000000       1.000000   \n",
       "max         1.000000       1.000000       1.000000       1.000000   \n",
       "\n",
       "        Thunderstorm           Snow           Hail     ZeroClouds  \\\n",
       "count  433958.000000  433958.000000  433958.000000  433958.000000   \n",
       "mean        0.061453       0.076784       0.006415       0.000129   \n",
       "std         0.240160       0.266249       0.079839       0.011359   \n",
       "min         0.000000       0.000000       0.000000       0.000000   \n",
       "25%         0.000000       0.000000       0.000000       0.000000   \n",
       "50%         0.000000       0.000000       0.000000       0.000000   \n",
       "75%         0.000000       0.000000       0.000000       0.000000   \n",
       "max         1.000000       1.000000       1.000000       1.000000   \n",
       "\n",
       "       NumberOfSales  NumberOfCustomers  \n",
       "count  433958.000000      433958.000000  \n",
       "mean        2.239679         312.547433  \n",
       "std         0.050325         158.106619  \n",
       "min         0.000000           0.000000  \n",
       "25%         2.211314         214.000000  \n",
       "50%         2.241269         278.000000  \n",
       "75%         2.270551         369.000000  \n",
       "max         2.415042        2206.000000  \n",
       "\n",
       "[8 rows x 51 columns]"
      ]
     },
     "execution_count": 2,
     "metadata": {},
     "output_type": "execute_result"
    }
   ],
   "source": [
    "train = pd.read_csv('TrainClean.csv',index_col=0).reset_index(drop=True)\n",
    "test = pd.read_csv('TestClean.csv',index_col=0).reset_index(drop=True)\n",
    "train.describe()"
   ]
  },
  {
   "cell_type": "code",
   "execution_count": 3,
   "metadata": {},
   "outputs": [
    {
     "data": {
      "text/plain": [
       "Index(['IsHoliday', 'HasPromotions', 'NearestCompetitor', 'Region_AreaKM2',\n",
       "       'Region_GDP', 'Region_PopulationK', 'Mean_Dew_PointC', 'Mean_Humidity',\n",
       "       'Mean_Sea_Level_PressurehPa', 'Mean_TemperatureC', 'Mean_VisibilityKm',\n",
       "       'Mean_Wind_SpeedKm_h', 'Precipitationmm', 'StandardMarket',\n",
       "       'HyperMarket', 'SuperMarket', 'ShoppingCenter', 'General',\n",
       "       'WithFishDepartment', 'WithNonFoodDepartment', 'Region0', 'Region1',\n",
       "       'Region2', 'Region3', 'Region4', 'Region5', 'Region6', 'Region7',\n",
       "       'Region8', 'Region9', 'January', 'February', 'March', 'April', 'May',\n",
       "       'June', 'July', 'August', 'September', 'October', 'November',\n",
       "       'December', 'Fog', 'Nothing', 'Rain', 'Thunderstorm', 'Snow', 'Hail',\n",
       "       'ZeroClouds', 'NumberOfSales', 'NumberOfCustomers'],\n",
       "      dtype='object')"
      ]
     },
     "execution_count": 3,
     "metadata": {},
     "output_type": "execute_result"
    }
   ],
   "source": [
    "train.columns"
   ]
  },
  {
   "cell_type": "markdown",
   "metadata": {},
   "source": [
    "# Normalization"
   ]
  },
  {
   "cell_type": "code",
   "execution_count": 4,
   "metadata": {
    "collapsed": true
   },
   "outputs": [],
   "source": [
    "all_data_index = train.columns.drop(['NumberOfSales','NumberOfCustomers'])\n",
    "all_data = pd.concat((train.loc[:,all_data_index],test.loc[:,all_data_index]), ignore_index=True)\n",
    "columns = all_data.columns"
   ]
  },
  {
   "cell_type": "code",
   "execution_count": 5,
   "metadata": {
    "collapsed": true
   },
   "outputs": [],
   "source": [
    "x = all_data.values\n",
    "min_max_scaler = MinMaxScaler()\n",
    "all_data_normalized = pd.DataFrame(min_max_scaler.fit_transform(x))\n",
    "all_data_normalized.columns = columns"
   ]
  },
  {
   "cell_type": "code",
   "execution_count": 6,
   "metadata": {},
   "outputs": [],
   "source": [
    "test_offset = train.shape[0]\n",
    "train_normalized = all_data_normalized.iloc[0:test_offset,:]\n",
    "train_normalized['NumberOfSales'] = train[\"NumberOfSales\"]\n",
    "train_normalized['NumberOfCustomers'] = train[\"NumberOfCustomers\"]"
   ]
  },
  {
   "cell_type": "code",
   "execution_count": 7,
   "metadata": {},
   "outputs": [],
   "source": [
    "test_normalized = all_data_normalized.iloc[test_offset:all_data_normalized.shape[0],:]\n",
    "train=train_normalized\n",
    "test=test_normalized"
   ]
  },
  {
   "cell_type": "markdown",
   "metadata": {},
   "source": [
    "# Lasso for Number Of Customers"
   ]
  },
  {
   "cell_type": "code",
   "execution_count": 19,
   "metadata": {},
   "outputs": [],
   "source": [
    "y=train['NumberOfCustomers'].values.reshape(-1,1)\n",
    "x=train.drop(columns=['NumberOfCustomers','NumberOfSales'],axis=1)"
   ]
  },
  {
   "cell_type": "code",
   "execution_count": 20,
   "metadata": {},
   "outputs": [
    {
     "name": "stdout",
     "output_type": "stream",
     "text": [
      "Linear Regression with Lasso\n",
      "==================================================\n",
      "\t                  Train R2=0.321\n",
      "\t                  Train RMSE=16981.830\n",
      "\n",
      "Linear Regression with Lasso - Chosen Features\n",
      "HasPromotions\t63.246\n",
      "NearestCompetitor\t-102.751\n",
      "Region_AreaKM2\t-52.519\n",
      "Mean_Dew_PointC\t-13.654\n",
      "Mean_Sea_Level_PressurehPa\t12.577\n",
      "Mean_VisibilityKm\t1.168\n",
      "Precipitationmm\t-21.329\n",
      "StandardMarket\t-66.951\n",
      "HyperMarket\t-11.400\n",
      "ShoppingCenter\t293.108\n",
      "General\t-25.889\n",
      "WithFishDepartment\t373.501\n",
      "Region0\t5.987\n",
      "Region1\t-18.504\n",
      "Region3\t50.425\n",
      "Region4\t88.786\n",
      "Region5\t-19.120\n",
      "Region6\t-28.981\n",
      "Region7\t-24.684\n",
      "Region8\t-57.956\n",
      "Region9\t9.543\n",
      "January\t-9.032\n",
      "February\t-7.175\n",
      "April\t3.059\n",
      "May\t10.251\n",
      "June\t4.644\n",
      "September\t-4.643\n",
      "October\t-2.917\n",
      "November\t0.538\n",
      "December\t50.819\n",
      "Fog\t-1.644\n",
      "Nothing\t1.202\n",
      "Snow\t-5.067\n"
     ]
    },
    {
     "data": {
      "text/plain": [
       "Index(['HasPromotions', 'NearestCompetitor', 'Region_AreaKM2',\n",
       "       'Mean_Dew_PointC', 'Mean_Sea_Level_PressurehPa', 'Mean_VisibilityKm',\n",
       "       'Precipitationmm', 'StandardMarket', 'HyperMarket', 'ShoppingCenter',\n",
       "       'General', 'WithFishDepartment', 'Region0', 'Region1', 'Region3',\n",
       "       'Region4', 'Region5', 'Region6', 'Region7', 'Region8', 'Region9',\n",
       "       'January', 'February', 'April', 'May', 'June', 'September', 'October',\n",
       "       'November', 'December', 'Fog', 'Nothing', 'Snow'],\n",
       "      dtype='object')"
      ]
     },
     "execution_count": 20,
     "metadata": {},
     "output_type": "execute_result"
    }
   ],
   "source": [
    "NumOfCustF = []\n",
    "\n",
    "lasso = linear_model.LassoCV(cv=10)\n",
    "lasso_fit=lasso.fit(x,y)\n",
    "yp_lasso = lasso.predict(x)\n",
    "r2_simple_train = r2_score(y,yp_lasso)\n",
    "rmse_simple_train = mean_squared_error(y,yp_lasso,multioutput='raw_values')\n",
    "print(\"Linear Regression with Lasso\")\n",
    "print(\"==================================================\")\n",
    "print(\"\\t                  Train R2=%.3f\"%(r2_simple_train))\n",
    "print(\"\\t                  Train RMSE=%.3f\"%(rmse_simple_train))\n",
    "print(\"\\nLinear Regression with Lasso - Chosen Features\")\n",
    "selected=[]\n",
    "threshold=0\n",
    "for i,c in enumerate(np.append(lasso_fit.intercept_,lasso_fit.coef_)):\n",
    "    \n",
    "    if abs(c)>threshold and not i == 0:\n",
    "        NumOfCustF.append(x.columns[i-1])\n",
    "        print(\"%s\\t%3.3f\" % (x.columns[i-1],c) )\n",
    "        \n",
    "z=x[NumOfCustF]\n",
    "z.columns"
   ]
  },
  {
   "cell_type": "markdown",
   "metadata": {},
   "source": [
    "# Lasso for number of sales with direct passage"
   ]
  },
  {
   "cell_type": "code",
   "execution_count": 8,
   "metadata": {},
   "outputs": [],
   "source": [
    "y=train['NumberOfSales'].values.reshape(-1,1)\n",
    "x=train.drop(columns=['NumberOfCustomers','NumberOfSales'],axis=1)"
   ]
  },
  {
   "cell_type": "code",
   "execution_count": 9,
   "metadata": {},
   "outputs": [
    {
     "name": "stdout",
     "output_type": "stream",
     "text": [
      "Linear Regression with Lasso\n",
      "==================================================\n",
      "\t                  Train R2=0.229\n",
      "\t                  Train RMSE=0.002\n",
      "\n",
      "Linear Regression with Lasso - Chosen Features\n",
      "HasPromotions\t0.038\n",
      "NearestCompetitor\t-0.003\n",
      "Region_GDP\t0.006\n",
      "Mean_Sea_Level_PressurehPa\t0.006\n",
      "Mean_TemperatureC\t-0.005\n",
      "Precipitationmm\t-0.005\n",
      "StandardMarket\t-0.000\n",
      "HyperMarket\t-0.004\n",
      "SuperMarket\t0.000\n",
      "ShoppingCenter\t0.032\n",
      "General\t-0.017\n",
      "WithFishDepartment\t0.003\n",
      "Region0\t0.005\n",
      "Region1\t-0.000\n",
      "Region2\t0.005\n",
      "Region3\t0.024\n",
      "Region4\t0.012\n",
      "Region5\t-0.004\n",
      "Region6\t-0.008\n",
      "Region8\t-0.011\n",
      "Region9\t0.009\n",
      "January\t-0.002\n",
      "February\t-0.001\n",
      "March\t-0.001\n",
      "May\t0.003\n",
      "June\t0.002\n",
      "July\t0.000\n",
      "September\t-0.003\n",
      "October\t-0.002\n",
      "November\t0.002\n",
      "December\t0.024\n",
      "Fog\t-0.001\n",
      "Snow\t-0.001\n"
     ]
    },
    {
     "data": {
      "text/plain": [
       "Index(['HasPromotions', 'NearestCompetitor', 'Region_GDP',\n",
       "       'Mean_Sea_Level_PressurehPa', 'Mean_TemperatureC', 'Precipitationmm',\n",
       "       'StandardMarket', 'HyperMarket', 'SuperMarket', 'ShoppingCenter',\n",
       "       'General', 'WithFishDepartment', 'Region0', 'Region1', 'Region2',\n",
       "       'Region3', 'Region4', 'Region5', 'Region6', 'Region8', 'Region9',\n",
       "       'January', 'February', 'March', 'May', 'June', 'July', 'September',\n",
       "       'October', 'November', 'December', 'Fog', 'Snow'],\n",
       "      dtype='object')"
      ]
     },
     "execution_count": 9,
     "metadata": {},
     "output_type": "execute_result"
    }
   ],
   "source": [
    "NumOfCustF = []\n",
    "\n",
    "lasso = linear_model.LassoCV(cv=10)\n",
    "lasso_fit=lasso.fit(x,y)\n",
    "yp_lasso = lasso.predict(x)\n",
    "r2_simple_train = r2_score(y,yp_lasso)\n",
    "rmse_simple_train = mean_squared_error(y,yp_lasso,multioutput='raw_values')\n",
    "print(\"Linear Regression with Lasso\")\n",
    "print(\"==================================================\")\n",
    "print(\"\\t                  Train R2=%.3f\"%(r2_simple_train))\n",
    "print(\"\\t                  Train RMSE=%.3f\"%(rmse_simple_train))\n",
    "print(\"\\nLinear Regression with Lasso - Chosen Features\")\n",
    "selected=[]\n",
    "threshold=0\n",
    "for i,c in enumerate(np.append(lasso_fit.intercept_,lasso_fit.coef_)):\n",
    "    \n",
    "    if abs(c)>threshold and not i == 0:\n",
    "        NumOfCustF.append(x.columns[i-1])\n",
    "        print(\"%s\\t%3.3f\" % (x.columns[i-1],c) )\n",
    "        \n",
    "z=x[NumOfCustF]\n",
    "z.columns"
   ]
  },
  {
   "cell_type": "markdown",
   "metadata": {},
   "source": [
    "# Normalization of number of customers"
   ]
  },
  {
   "cell_type": "code",
   "execution_count": 21,
   "metadata": {},
   "outputs": [],
   "source": [
    "x = train['NumberOfCustomers'].values\n",
    "min_max_scaler = MinMaxScaler()\n",
    "train['NumberOfCustomers'] = min_max_scaler.fit_transform(x.reshape(-1,1))\n",
    "x = train.drop(columns=['NumberOfSales'],axis=1)\n",
    "y =train['NumberOfSales'].values.reshape(-1,1)"
   ]
  },
  {
   "cell_type": "markdown",
   "metadata": {},
   "source": [
    "# Lasso for Number Of Sales"
   ]
  },
  {
   "cell_type": "code",
   "execution_count": 22,
   "metadata": {},
   "outputs": [
    {
     "name": "stdout",
     "output_type": "stream",
     "text": [
      "Linear Regression with Lasso\n",
      "==================================================\n",
      "\t                  Train R2=0.665\n",
      "\t                  Train RMSE=0.001\n",
      "\n",
      "Linear Regression with Lasso - Chosen Features\n",
      "IsHoliday\t-0.008\n",
      "HasPromotions\t0.022\n",
      "NearestCompetitor\t0.021\n",
      "Region_AreaKM2\t0.012\n",
      "Region_PopulationK\t0.008\n",
      "Mean_Humidity\t0.003\n",
      "Mean_Sea_Level_PressurehPa\t0.004\n",
      "Mean_TemperatureC\t-0.007\n",
      "Mean_Wind_SpeedKm_h\t0.000\n",
      "Precipitationmm\t-0.001\n",
      "StandardMarket\t0.017\n",
      "HyperMarket\t-0.000\n",
      "SuperMarket\t0.001\n",
      "ShoppingCenter\t-0.041\n",
      "WithFishDepartment\t-0.073\n",
      "WithNonFoodDepartment\t0.010\n",
      "Region0\t0.003\n",
      "Region1\t0.002\n",
      "Region2\t0.003\n",
      "Region3\t0.011\n",
      "Region4\t-0.004\n",
      "Region6\t-0.003\n",
      "Region7\t0.006\n",
      "Region8\t0.003\n",
      "January\t-0.002\n",
      "February\t-0.002\n",
      "March\t-0.003\n",
      "April\t-0.002\n",
      "May\t0.000\n",
      "June\t0.001\n",
      "July\t0.001\n",
      "September\t-0.003\n",
      "October\t-0.002\n",
      "November\t0.001\n",
      "December\t0.009\n",
      "Fog\t-0.001\n",
      "Nothing\t-0.000\n",
      "Rain\t0.000\n",
      "Thunderstorm\t0.000\n",
      "Snow\t-0.000\n",
      "NumberOfCustomers\t0.558\n"
     ]
    },
    {
     "data": {
      "text/plain": [
       "Index(['IsHoliday', 'HasPromotions', 'NearestCompetitor', 'Region_AreaKM2',\n",
       "       'Region_PopulationK', 'Mean_Humidity', 'Mean_Sea_Level_PressurehPa',\n",
       "       'Mean_TemperatureC', 'Mean_Wind_SpeedKm_h', 'Precipitationmm',\n",
       "       'StandardMarket', 'HyperMarket', 'SuperMarket', 'ShoppingCenter',\n",
       "       'WithFishDepartment', 'WithNonFoodDepartment', 'Region0', 'Region1',\n",
       "       'Region2', 'Region3', 'Region4', 'Region6', 'Region7', 'Region8',\n",
       "       'January', 'February', 'March', 'April', 'May', 'June', 'July',\n",
       "       'September', 'October', 'November', 'December', 'Fog', 'Nothing',\n",
       "       'Rain', 'Thunderstorm', 'Snow', 'NumberOfCustomers'],\n",
       "      dtype='object')"
      ]
     },
     "execution_count": 22,
     "metadata": {},
     "output_type": "execute_result"
    }
   ],
   "source": [
    "NumOfSalesF = []\n",
    "\n",
    "lasso = linear_model.LassoCV(cv=10)\n",
    "lasso_fit=lasso.fit(x,y)\n",
    "yp_lasso = lasso.predict(x)\n",
    "r2_simple_train = r2_score(y,yp_lasso)\n",
    "rmse_simple_train = mean_squared_error(y,yp_lasso,multioutput='raw_values')\n",
    "print(\"Linear Regression with Lasso\")\n",
    "print(\"==================================================\")\n",
    "print(\"\\t                  Train R2=%.3f\"%(r2_simple_train))\n",
    "print(\"\\t                  Train RMSE=%.3f\"%(rmse_simple_train))\n",
    "print(\"\\nLinear Regression with Lasso - Chosen Features\")\n",
    "selected=[]\n",
    "threshold=0\n",
    "for i,c in enumerate(np.append(lasso_fit.intercept_,lasso_fit.coef_)):\n",
    "    #print(\"%d\\t%3.3f\" % (i,c) )\n",
    "    if abs(c)>threshold and not i == 0:\n",
    "        NumOfSalesF.append(x.columns[i-1])\n",
    "        print(\"%s\\t%3.3f\" % (x.columns[i-1],c) )\n",
    "        \n",
    "z=x[NumOfSalesF]\n",
    "z.columns"
   ]
  },
  {
   "cell_type": "code",
   "execution_count": 23,
   "metadata": {},
   "outputs": [
    {
     "data": {
      "text/plain": [
       "41"
      ]
     },
     "execution_count": 23,
     "metadata": {},
     "output_type": "execute_result"
    }
   ],
   "source": [
    "len(NumOfSalesF)"
   ]
  },
  {
   "cell_type": "code",
   "execution_count": 24,
   "metadata": {},
   "outputs": [
    {
     "data": {
      "text/plain": [
       "33"
      ]
     },
     "execution_count": 24,
     "metadata": {},
     "output_type": "execute_result"
    }
   ],
   "source": [
    "len(NumOfCustF)"
   ]
  },
  {
   "cell_type": "code",
   "execution_count": null,
   "metadata": {},
   "outputs": [],
   "source": []
  }
 ],
 "metadata": {
  "kernelspec": {
   "display_name": "Python 3",
   "language": "python",
   "name": "python3"
  },
  "language_info": {
   "codemirror_mode": {
    "name": "ipython",
    "version": 3
   },
   "file_extension": ".py",
   "mimetype": "text/x-python",
   "name": "python",
   "nbconvert_exporter": "python",
   "pygments_lexer": "ipython3",
   "version": "3.6.4"
  }
 },
 "nbformat": 4,
 "nbformat_minor": 2
}
