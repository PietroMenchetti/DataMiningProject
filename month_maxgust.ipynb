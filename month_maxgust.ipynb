{
 "cells": [
  {
   "cell_type": "code",
   "execution_count": 35,
   "metadata": {},
   "outputs": [],
   "source": [
    "import pandas as pd\n",
    "import numpy as np\n",
    "import seaborn as sns\n",
    "import matplotlib\n",
    "import matplotlib.pyplot as plt\n",
    "import math"
   ]
  },
  {
   "cell_type": "code",
   "execution_count": 36,
   "metadata": {},
   "outputs": [],
   "source": [
    "# Dataframe, Column, Quantile\n",
    "def outliers(df,minq,maxq,col):\n",
    "    min_v = df.quantile(minq)[col]\n",
    "    max_v = df.quantile(maxq)[col]\n",
    "    df1 = df.loc[df[col] > max_v]\n",
    "    df2 = df.loc[df[col] < min_v]   \n",
    "    return pd.concat((df1,df2))[col]"
   ]
  },
  {
   "cell_type": "code",
   "execution_count": 37,
   "metadata": {},
   "outputs": [],
   "source": [
    "def Winsorizing(df,minq,maxq,col):\n",
    "    min_v = df.quantile(minq)[col]\n",
    "    max_v = df.quantile(maxq)[col]\n",
    "    df[col] = df[col].apply(lambda x: max_v if x > max_v else x)\n",
    "    df[col] = df[col].apply(lambda x: min_v if x < min_v else x)"
   ]
  },
  {
   "cell_type": "markdown",
   "metadata": {},
   "source": [
    "# Loading data"
   ]
  },
  {
   "cell_type": "code",
   "execution_count": 38,
   "metadata": {},
   "outputs": [],
   "source": [
    "train = pd.read_csv('train.csv')\n",
    "train = train[train.IsOpen != 0]\n",
    "target = train['NumberOfSales']\n",
    "test = pd.read_csv('test.csv')"
   ]
  },
  {
   "cell_type": "code",
   "execution_count": 39,
   "metadata": {},
   "outputs": [
    {
     "data": {
      "text/plain": [
       "Index(['StoreID', 'Date', 'IsHoliday', 'IsOpen', 'HasPromotions', 'StoreType',\n",
       "       'AssortmentType', 'NearestCompetitor', 'Region', 'Region_AreaKM2',\n",
       "       'Region_GDP', 'Region_PopulationK', 'CloudCover', 'Events',\n",
       "       'Max_Dew_PointC', 'Max_Gust_SpeedKm_h', 'Max_Humidity',\n",
       "       'Max_Sea_Level_PressurehPa', 'Max_TemperatureC', 'Max_VisibilityKm',\n",
       "       'Max_Wind_SpeedKm_h', 'Mean_Dew_PointC', 'Mean_Humidity',\n",
       "       'Mean_Sea_Level_PressurehPa', 'Mean_TemperatureC', 'Mean_VisibilityKm',\n",
       "       'Mean_Wind_SpeedKm_h', 'Min_Dew_PointC', 'Min_Humidity',\n",
       "       'Min_Sea_Level_PressurehPa', 'Min_TemperatureC', 'Min_VisibilitykM',\n",
       "       'Precipitationmm', 'WindDirDegrees'],\n",
       "      dtype='object')"
      ]
     },
     "execution_count": 39,
     "metadata": {},
     "output_type": "execute_result"
    }
   ],
   "source": [
    "all_data_index = train.columns.drop(['NumberOfSales','NumberOfCustomers'])\n",
    "all_data = pd.concat((train.loc[:,all_data_index],test.loc[:,all_data_index]))\n",
    "test_offset = train.shape[0]\n",
    "all_data.columns"
   ]
  },
  {
   "cell_type": "markdown",
   "metadata": {},
   "source": [
    "## Analyzing Features"
   ]
  },
  {
   "cell_type": "code",
   "execution_count": 40,
   "metadata": {},
   "outputs": [],
   "source": [
    "my_numerical_variables = (pd.Index(['Min_Dew_PointC', 'Min_Humidity', 'Min_Sea_Level_PressurehPa','Min_TemperatureC','Min_VisibilitykM','Precipitationmm','WindDirDegrees']))"
   ]
  },
  {
   "cell_type": "markdown",
   "metadata": {},
   "source": [
    "Precence of missing values"
   ]
  },
  {
   "cell_type": "code",
   "execution_count": 41,
   "metadata": {},
   "outputs": [
    {
     "data": {
      "text/html": [
       "<div>\n",
       "<style scoped>\n",
       "    .dataframe tbody tr th:only-of-type {\n",
       "        vertical-align: middle;\n",
       "    }\n",
       "\n",
       "    .dataframe tbody tr th {\n",
       "        vertical-align: top;\n",
       "    }\n",
       "\n",
       "    .dataframe thead th {\n",
       "        text-align: right;\n",
       "    }\n",
       "</style>\n",
       "<table border=\"1\" class=\"dataframe\">\n",
       "  <thead>\n",
       "    <tr style=\"text-align: right;\">\n",
       "      <th></th>\n",
       "      <th>Missing Ratio</th>\n",
       "    </tr>\n",
       "  </thead>\n",
       "  <tbody>\n",
       "    <tr>\n",
       "      <th>Max_Gust_SpeedKm_h</th>\n",
       "      <td>78.358042</td>\n",
       "    </tr>\n",
       "    <tr>\n",
       "      <th>Events</th>\n",
       "      <td>25.039665</td>\n",
       "    </tr>\n",
       "    <tr>\n",
       "      <th>CloudCover</th>\n",
       "      <td>8.855471</td>\n",
       "    </tr>\n",
       "    <tr>\n",
       "      <th>Min_VisibilitykM</th>\n",
       "      <td>2.476613</td>\n",
       "    </tr>\n",
       "    <tr>\n",
       "      <th>Mean_VisibilityKm</th>\n",
       "      <td>2.476613</td>\n",
       "    </tr>\n",
       "    <tr>\n",
       "      <th>Max_VisibilityKm</th>\n",
       "      <td>2.476613</td>\n",
       "    </tr>\n",
       "  </tbody>\n",
       "</table>\n",
       "</div>"
      ],
      "text/plain": [
       "                    Missing Ratio\n",
       "Max_Gust_SpeedKm_h      78.358042\n",
       "Events                  25.039665\n",
       "CloudCover               8.855471\n",
       "Min_VisibilitykM         2.476613\n",
       "Mean_VisibilityKm        2.476613\n",
       "Max_VisibilityKm         2.476613"
      ]
     },
     "execution_count": 41,
     "metadata": {},
     "output_type": "execute_result"
    }
   ],
   "source": [
    "ratios = (all_data.isnull().sum() / len(all_data))*100\n",
    "rate = ratios.drop(ratios[ratios == 0].index).sort_values(ascending=False)[:30]\n",
    "missing_data = pd.DataFrame({'Missing Ratio' :rate})\n",
    "missing_data"
   ]
  },
  {
   "cell_type": "code",
   "execution_count": 42,
   "metadata": {},
   "outputs": [
    {
     "data": {
      "text/plain": [
       "11879"
      ]
     },
     "execution_count": 42,
     "metadata": {},
     "output_type": "execute_result"
    }
   ],
   "source": [
    "len(all_data.loc[np.isnan(all_data['Min_VisibilitykM'])]['Mean_VisibilityKm'])"
   ]
  },
  {
   "cell_type": "code",
   "execution_count": 43,
   "metadata": {},
   "outputs": [
    {
     "data": {
      "text/plain": [
       "11879"
      ]
     },
     "execution_count": 43,
     "metadata": {},
     "output_type": "execute_result"
    }
   ],
   "source": [
    "len(all_data.loc[np.isnan(all_data['Min_VisibilitykM'])]['Max_VisibilityKm'])"
   ]
  },
  {
   "cell_type": "code",
   "execution_count": 44,
   "metadata": {},
   "outputs": [],
   "source": [
    "mean_of_min = math.ceil(all_data.loc[~np.isnan(all_data['Min_VisibilitykM'])]['Min_VisibilitykM'].describe()['mean'])"
   ]
  },
  {
   "cell_type": "code",
   "execution_count": 45,
   "metadata": {},
   "outputs": [],
   "source": [
    "mean_of_max = math.ceil(all_data.loc[~np.isnan(all_data['Max_VisibilityKm'])]['Max_VisibilityKm'].describe()['mean'])"
   ]
  },
  {
   "cell_type": "code",
   "execution_count": 46,
   "metadata": {},
   "outputs": [],
   "source": [
    "mean_of_mean = math.ceil(all_data.loc[~np.isnan(all_data['Max_VisibilityKm'])]['Max_VisibilityKm'].describe()['mean'])"
   ]
  },
  {
   "cell_type": "code",
   "execution_count": 47,
   "metadata": {},
   "outputs": [
    {
     "data": {
      "text/html": [
       "<div>\n",
       "<style scoped>\n",
       "    .dataframe tbody tr th:only-of-type {\n",
       "        vertical-align: middle;\n",
       "    }\n",
       "\n",
       "    .dataframe tbody tr th {\n",
       "        vertical-align: top;\n",
       "    }\n",
       "\n",
       "    .dataframe thead th {\n",
       "        text-align: right;\n",
       "    }\n",
       "</style>\n",
       "<table border=\"1\" class=\"dataframe\">\n",
       "  <thead>\n",
       "    <tr style=\"text-align: right;\">\n",
       "      <th></th>\n",
       "      <th>Missing Ratio</th>\n",
       "    </tr>\n",
       "  </thead>\n",
       "  <tbody>\n",
       "    <tr>\n",
       "      <th>Max_Gust_SpeedKm_h</th>\n",
       "      <td>78.358042</td>\n",
       "    </tr>\n",
       "    <tr>\n",
       "      <th>Events</th>\n",
       "      <td>25.039665</td>\n",
       "    </tr>\n",
       "    <tr>\n",
       "      <th>CloudCover</th>\n",
       "      <td>8.855471</td>\n",
       "    </tr>\n",
       "  </tbody>\n",
       "</table>\n",
       "</div>"
      ],
      "text/plain": [
       "                    Missing Ratio\n",
       "Max_Gust_SpeedKm_h      78.358042\n",
       "Events                  25.039665\n",
       "CloudCover               8.855471"
      ]
     },
     "execution_count": 47,
     "metadata": {},
     "output_type": "execute_result"
    }
   ],
   "source": [
    "all_data['Max_VisibilityKm'] = all_data['Max_VisibilityKm'].fillna(mean_of_max)\n",
    "all_data['Min_VisibilitykM'] = all_data['Min_VisibilitykM'].fillna(mean_of_min)\n",
    "all_data['Mean_VisibilityKm'] = all_data['Mean_VisibilityKm'].fillna(mean_of_mean)\n",
    "ratios = (all_data.isnull().sum() / len(all_data))*100\n",
    "rate = ratios.drop(ratios[ratios == 0].index).sort_values(ascending=False)[:30]\n",
    "missing_data = pd.DataFrame({'Missing Ratio' :rate})\n",
    "missing_data"
   ]
  },
  {
   "cell_type": "code",
   "execution_count": 48,
   "metadata": {},
   "outputs": [
    {
     "data": {
      "text/html": [
       "<div>\n",
       "<style scoped>\n",
       "    .dataframe tbody tr th:only-of-type {\n",
       "        vertical-align: middle;\n",
       "    }\n",
       "\n",
       "    .dataframe tbody tr th {\n",
       "        vertical-align: top;\n",
       "    }\n",
       "\n",
       "    .dataframe thead th {\n",
       "        text-align: right;\n",
       "    }\n",
       "</style>\n",
       "<table border=\"1\" class=\"dataframe\">\n",
       "  <thead>\n",
       "    <tr style=\"text-align: right;\">\n",
       "      <th></th>\n",
       "      <th>StoreID</th>\n",
       "      <th>Date</th>\n",
       "      <th>IsHoliday</th>\n",
       "      <th>IsOpen</th>\n",
       "      <th>HasPromotions</th>\n",
       "      <th>StoreType</th>\n",
       "      <th>AssortmentType</th>\n",
       "      <th>NearestCompetitor</th>\n",
       "      <th>Region</th>\n",
       "      <th>Region_AreaKM2</th>\n",
       "      <th>...</th>\n",
       "      <th>Mean_TemperatureC</th>\n",
       "      <th>Mean_VisibilityKm</th>\n",
       "      <th>Mean_Wind_SpeedKm_h</th>\n",
       "      <th>Min_Dew_PointC</th>\n",
       "      <th>Min_Humidity</th>\n",
       "      <th>Min_Sea_Level_PressurehPa</th>\n",
       "      <th>Min_TemperatureC</th>\n",
       "      <th>Min_VisibilitykM</th>\n",
       "      <th>Precipitationmm</th>\n",
       "      <th>WindDirDegrees</th>\n",
       "    </tr>\n",
       "  </thead>\n",
       "  <tbody>\n",
       "    <tr>\n",
       "      <th>0</th>\n",
       "      <td>1000</td>\n",
       "      <td>01/03/2018</td>\n",
       "      <td>0</td>\n",
       "      <td>1</td>\n",
       "      <td>0</td>\n",
       "      <td>Hyper Market</td>\n",
       "      <td>General</td>\n",
       "      <td>326</td>\n",
       "      <td>7</td>\n",
       "      <td>9643</td>\n",
       "      <td>...</td>\n",
       "      <td>6</td>\n",
       "      <td>14.0</td>\n",
       "      <td>5</td>\n",
       "      <td>-1</td>\n",
       "      <td>46</td>\n",
       "      <td>1011</td>\n",
       "      <td>2</td>\n",
       "      <td>10.0</td>\n",
       "      <td>0.0</td>\n",
       "      <td>180</td>\n",
       "    </tr>\n",
       "  </tbody>\n",
       "</table>\n",
       "<p>1 rows × 34 columns</p>\n",
       "</div>"
      ],
      "text/plain": [
       "   StoreID        Date  IsHoliday  IsOpen  HasPromotions     StoreType  \\\n",
       "0     1000  01/03/2018          0       1              0  Hyper Market   \n",
       "\n",
       "  AssortmentType  NearestCompetitor  Region  Region_AreaKM2       ...        \\\n",
       "0        General                326       7            9643       ...         \n",
       "\n",
       "   Mean_TemperatureC  Mean_VisibilityKm  Mean_Wind_SpeedKm_h Min_Dew_PointC  \\\n",
       "0                  6               14.0                    5             -1   \n",
       "\n",
       "   Min_Humidity  Min_Sea_Level_PressurehPa  Min_TemperatureC  \\\n",
       "0            46                       1011                 2   \n",
       "\n",
       "   Min_VisibilitykM  Precipitationmm  WindDirDegrees  \n",
       "0              10.0              0.0             180  \n",
       "\n",
       "[1 rows x 34 columns]"
      ]
     },
     "execution_count": 48,
     "metadata": {},
     "output_type": "execute_result"
    }
   ],
   "source": [
    "all_data.iloc[[test_offset]]   #get row by index, here i verified that the date are above train and below test so they can be splitted\n",
    "                               #X_test = all_data[train.shape[0]:]"
   ]
  },
  {
   "cell_type": "code",
   "execution_count": 49,
   "metadata": {},
   "outputs": [
    {
     "data": {
      "text/html": [
       "<div>\n",
       "<style scoped>\n",
       "    .dataframe tbody tr th:only-of-type {\n",
       "        vertical-align: middle;\n",
       "    }\n",
       "\n",
       "    .dataframe tbody tr th {\n",
       "        vertical-align: top;\n",
       "    }\n",
       "\n",
       "    .dataframe thead th {\n",
       "        text-align: right;\n",
       "    }\n",
       "</style>\n",
       "<table border=\"1\" class=\"dataframe\">\n",
       "  <thead>\n",
       "    <tr style=\"text-align: right;\">\n",
       "      <th></th>\n",
       "      <th>StoreID</th>\n",
       "      <th>Date</th>\n",
       "      <th>IsHoliday</th>\n",
       "      <th>IsOpen</th>\n",
       "      <th>HasPromotions</th>\n",
       "      <th>StoreType</th>\n",
       "      <th>AssortmentType</th>\n",
       "      <th>NearestCompetitor</th>\n",
       "      <th>Region</th>\n",
       "      <th>Region_AreaKM2</th>\n",
       "      <th>...</th>\n",
       "      <th>Mean_TemperatureC</th>\n",
       "      <th>Mean_VisibilityKm</th>\n",
       "      <th>Mean_Wind_SpeedKm_h</th>\n",
       "      <th>Min_Dew_PointC</th>\n",
       "      <th>Min_Humidity</th>\n",
       "      <th>Min_Sea_Level_PressurehPa</th>\n",
       "      <th>Min_TemperatureC</th>\n",
       "      <th>Min_VisibilitykM</th>\n",
       "      <th>Precipitationmm</th>\n",
       "      <th>WindDirDegrees</th>\n",
       "    </tr>\n",
       "  </thead>\n",
       "  <tbody>\n",
       "    <tr>\n",
       "      <th>0</th>\n",
       "      <td>1000</td>\n",
       "      <td>01/03/2018</td>\n",
       "      <td>0</td>\n",
       "      <td>1</td>\n",
       "      <td>0</td>\n",
       "      <td>Hyper Market</td>\n",
       "      <td>General</td>\n",
       "      <td>326</td>\n",
       "      <td>7</td>\n",
       "      <td>9643</td>\n",
       "      <td>...</td>\n",
       "      <td>6</td>\n",
       "      <td>14.0</td>\n",
       "      <td>5</td>\n",
       "      <td>-1</td>\n",
       "      <td>46</td>\n",
       "      <td>1011</td>\n",
       "      <td>2</td>\n",
       "      <td>10.0</td>\n",
       "      <td>0.0</td>\n",
       "      <td>180</td>\n",
       "    </tr>\n",
       "  </tbody>\n",
       "</table>\n",
       "<p>1 rows × 34 columns</p>\n",
       "</div>"
      ],
      "text/plain": [
       "   StoreID        Date  IsHoliday  IsOpen  HasPromotions     StoreType  \\\n",
       "0     1000  01/03/2018          0       1              0  Hyper Market   \n",
       "\n",
       "  AssortmentType  NearestCompetitor  Region  Region_AreaKM2       ...        \\\n",
       "0        General                326       7            9643       ...         \n",
       "\n",
       "   Mean_TemperatureC  Mean_VisibilityKm  Mean_Wind_SpeedKm_h Min_Dew_PointC  \\\n",
       "0                  6               14.0                    5             -1   \n",
       "\n",
       "   Min_Humidity  Min_Sea_Level_PressurehPa  Min_TemperatureC  \\\n",
       "0            46                       1011                 2   \n",
       "\n",
       "   Min_VisibilitykM  Precipitationmm  WindDirDegrees  \n",
       "0              10.0              0.0             180  \n",
       "\n",
       "[1 rows x 34 columns]"
      ]
     },
     "execution_count": 49,
     "metadata": {},
     "output_type": "execute_result"
    }
   ],
   "source": [
    "test.iloc[[0]]"
   ]
  },
  {
   "cell_type": "markdown",
   "metadata": {},
   "source": [
    "## Converting each date in int"
   ]
  },
  {
   "cell_type": "code",
   "execution_count": 50,
   "metadata": {},
   "outputs": [],
   "source": [
    "months = []\n",
    "all_date = all_data['Date']\n",
    "for s in all_date:\n",
    "    months.append(int(s[3:5]))"
   ]
  },
  {
   "cell_type": "markdown",
   "metadata": {},
   "source": [
    "## Adding the new feature to all data"
   ]
  },
  {
   "cell_type": "code",
   "execution_count": 51,
   "metadata": {},
   "outputs": [],
   "source": [
    "all_data['Month'] = months\n",
    "b = pd.get_dummies(all_data['Month'],drop_first=True,prefix=\"month\")\n",
    "pd.concat([all_data, b['month_2'],b['month_3'],b['month_4'],b['month_5'],b['month_6'],b['month_7'],b['month_8'],b['month_9'],b['month_10'],b['month_11'],b['month_12']], axis=1)\n",
    "all_data.drop(labels='Month', axis=1)\n",
    "all_data.drop(labels='Date', axis=1);"
   ]
  },
  {
   "cell_type": "code",
   "execution_count": 52,
   "metadata": {},
   "outputs": [
    {
     "data": {
      "text/html": [
       "<div>\n",
       "<style scoped>\n",
       "    .dataframe tbody tr th:only-of-type {\n",
       "        vertical-align: middle;\n",
       "    }\n",
       "\n",
       "    .dataframe tbody tr th {\n",
       "        vertical-align: top;\n",
       "    }\n",
       "\n",
       "    .dataframe thead th {\n",
       "        text-align: right;\n",
       "    }\n",
       "</style>\n",
       "<table border=\"1\" class=\"dataframe\">\n",
       "  <thead>\n",
       "    <tr style=\"text-align: right;\">\n",
       "      <th></th>\n",
       "      <th>StoreID</th>\n",
       "      <th>Date</th>\n",
       "      <th>IsHoliday</th>\n",
       "      <th>IsOpen</th>\n",
       "      <th>HasPromotions</th>\n",
       "      <th>StoreType</th>\n",
       "      <th>AssortmentType</th>\n",
       "      <th>NearestCompetitor</th>\n",
       "      <th>Region</th>\n",
       "      <th>Region_AreaKM2</th>\n",
       "      <th>...</th>\n",
       "      <th>Mean_VisibilityKm</th>\n",
       "      <th>Mean_Wind_SpeedKm_h</th>\n",
       "      <th>Min_Dew_PointC</th>\n",
       "      <th>Min_Humidity</th>\n",
       "      <th>Min_Sea_Level_PressurehPa</th>\n",
       "      <th>Min_TemperatureC</th>\n",
       "      <th>Min_VisibilitykM</th>\n",
       "      <th>Precipitationmm</th>\n",
       "      <th>WindDirDegrees</th>\n",
       "      <th>Month</th>\n",
       "    </tr>\n",
       "  </thead>\n",
       "  <tbody>\n",
       "    <tr>\n",
       "      <th>55341</th>\n",
       "      <td>1078</td>\n",
       "      <td>18/01/2018</td>\n",
       "      <td>0</td>\n",
       "      <td>1</td>\n",
       "      <td>1</td>\n",
       "      <td>Super Market</td>\n",
       "      <td>General</td>\n",
       "      <td>355</td>\n",
       "      <td>3</td>\n",
       "      <td>407</td>\n",
       "      <td>...</td>\n",
       "      <td>13.0</td>\n",
       "      <td>19</td>\n",
       "      <td>-1</td>\n",
       "      <td>50</td>\n",
       "      <td>1001</td>\n",
       "      <td>1</td>\n",
       "      <td>10.0</td>\n",
       "      <td>2.03</td>\n",
       "      <td>188</td>\n",
       "      <td>1</td>\n",
       "    </tr>\n",
       "  </tbody>\n",
       "</table>\n",
       "<p>1 rows × 35 columns</p>\n",
       "</div>"
      ],
      "text/plain": [
       "       StoreID        Date  IsHoliday  IsOpen  HasPromotions     StoreType  \\\n",
       "55341     1078  18/01/2018          0       1              1  Super Market   \n",
       "\n",
       "      AssortmentType  NearestCompetitor  Region  Region_AreaKM2  ...    \\\n",
       "55341        General                355       3             407  ...     \n",
       "\n",
       "       Mean_VisibilityKm  Mean_Wind_SpeedKm_h  Min_Dew_PointC Min_Humidity  \\\n",
       "55341               13.0                   19              -1           50   \n",
       "\n",
       "       Min_Sea_Level_PressurehPa  Min_TemperatureC  Min_VisibilitykM  \\\n",
       "55341                       1001                 1              10.0   \n",
       "\n",
       "       Precipitationmm  WindDirDegrees  Month  \n",
       "55341             2.03             188      1  \n",
       "\n",
       "[1 rows x 35 columns]"
      ]
     },
     "execution_count": 52,
     "metadata": {},
     "output_type": "execute_result"
    }
   ],
   "source": [
    "# Simple test!!!!\n",
    "all_data.iloc[[45674]]"
   ]
  },
  {
   "cell_type": "markdown",
   "metadata": {},
   "source": [
    "## Filling Max_Gust_SpeedKm_h "
   ]
  },
  {
   "cell_type": "code",
   "execution_count": 53,
   "metadata": {},
   "outputs": [],
   "source": [
    "all_data['Max_Gust_SpeedKm_h'] = all_data['Max_Gust_SpeedKm_h'].apply(lambda x: 0 if np.isnan(x) else 1);"
   ]
  },
  {
   "cell_type": "code",
   "execution_count": 54,
   "metadata": {},
   "outputs": [
    {
     "data": {
      "text/html": [
       "<div>\n",
       "<style scoped>\n",
       "    .dataframe tbody tr th:only-of-type {\n",
       "        vertical-align: middle;\n",
       "    }\n",
       "\n",
       "    .dataframe tbody tr th {\n",
       "        vertical-align: top;\n",
       "    }\n",
       "\n",
       "    .dataframe thead th {\n",
       "        text-align: right;\n",
       "    }\n",
       "</style>\n",
       "<table border=\"1\" class=\"dataframe\">\n",
       "  <thead>\n",
       "    <tr style=\"text-align: right;\">\n",
       "      <th></th>\n",
       "      <th>Missing Ratio</th>\n",
       "    </tr>\n",
       "  </thead>\n",
       "  <tbody>\n",
       "    <tr>\n",
       "      <th>Events</th>\n",
       "      <td>25.039665</td>\n",
       "    </tr>\n",
       "    <tr>\n",
       "      <th>CloudCover</th>\n",
       "      <td>8.855471</td>\n",
       "    </tr>\n",
       "  </tbody>\n",
       "</table>\n",
       "</div>"
      ],
      "text/plain": [
       "            Missing Ratio\n",
       "Events          25.039665\n",
       "CloudCover       8.855471"
      ]
     },
     "execution_count": 54,
     "metadata": {},
     "output_type": "execute_result"
    }
   ],
   "source": [
    "ratios = (all_data.isnull().sum() / len(all_data))*100\n",
    "rate = ratios.drop(ratios[ratios == 0].index).sort_values(ascending=False)[:30]\n",
    "missing_data = pd.DataFrame({'Missing Ratio' :rate})\n",
    "missing_data"
   ]
  },
  {
   "cell_type": "markdown",
   "metadata": {},
   "source": [
    "# Looking for outliers(train)"
   ]
  },
  {
   "cell_type": "markdown",
   "metadata": {},
   "source": [
    "Looking for outliers in the train set"
   ]
  },
  {
   "cell_type": "code",
   "execution_count": 55,
   "metadata": {},
   "outputs": [],
   "source": [
    "my_train_data = all_data.iloc[0:test_offset,:]"
   ]
  },
  {
   "cell_type": "markdown",
   "metadata": {},
   "source": [
    "Outliers that are below .5 quantile or above the .95"
   ]
  },
  {
   "cell_type": "code",
   "execution_count": 56,
   "metadata": {},
   "outputs": [
    {
     "name": "stdout",
     "output_type": "stream",
     "text": [
      "Number of outlier according to .05 and .95 quantile for Min_Dew_PointC are : 30834\n",
      "Perc. of outlier w.r.t the whole train 7.105295904211928\n",
      "\n",
      "Number of outlier according to .05 and .95 quantile for Min_Humidity are : 39186\n",
      "Perc. of outlier w.r.t the whole train 9.029906119947091\n",
      "\n",
      "Number of outlier according to .05 and .95 quantile for Min_Sea_Level_PressurehPa are : 37247\n",
      "Perc. of outlier w.r.t the whole train 8.583088686001872\n",
      "\n",
      "Number of outlier according to .05 and .95 quantile for Min_TemperatureC are : 35677\n",
      "Perc. of outlier w.r.t the whole train 8.221302522363915\n",
      "\n",
      "Number of outlier according to .05 and .95 quantile for Min_VisibilitykM are : 19412\n",
      "Perc. of outlier w.r.t the whole train 4.473243954484075\n",
      "\n",
      "Number of outlier according to .05 and .95 quantile for Precipitationmm are : 17471\n",
      "Perc. of outlier w.r.t the whole train 4.025965646445048\n",
      "\n",
      "Number of outlier according to .05 and .95 quantile for WindDirDegrees are : 21670\n",
      "Perc. of outlier w.r.t the whole train 4.993570806391403\n",
      "\n"
     ]
    }
   ],
   "source": [
    "out1 = {}\n",
    "for v in my_numerical_variables:\n",
    "    out1[v] = outliers(my_train_data,.05,.95,v).values\n",
    "    print(\"Number of outlier according to .05 and .95 quantile for \"+v+\" are : \"+str(len(out1[v])))\n",
    "    print(\"Perc. of outlier w.r.t the whole train \"+ str(100*(len(out1[v])/my_train_data.shape[0])))\n",
    "    print(\"\")"
   ]
  },
  {
   "cell_type": "markdown",
   "metadata": {},
   "source": [
    "Just to be sure i normalized the considered data, but as expected the results are the same"
   ]
  },
  {
   "cell_type": "code",
   "execution_count": 57,
   "metadata": {},
   "outputs": [],
   "source": [
    "from sklearn.preprocessing import StandardScaler\n",
    "scaler = StandardScaler().fit(my_train_data[my_numerical_variables])\n",
    "df_normalized_values = scaler.transform(my_train_data[my_numerical_variables])\n",
    "df_normalized = pd.DataFrame(data = df_normalized_values, columns=my_numerical_variables)\n",
    "#df_normalized"
   ]
  },
  {
   "cell_type": "code",
   "execution_count": 58,
   "metadata": {},
   "outputs": [
    {
     "name": "stdout",
     "output_type": "stream",
     "text": [
      "Number of outlier according to .05 and .95 quantile for Min_Dew_PointC are : 30834\n",
      "Perc. of outlier w.r.t the whole train 7.105295904211928\n",
      "\n",
      "Number of outlier according to .05 and .95 quantile for Min_Humidity are : 39186\n",
      "Perc. of outlier w.r.t the whole train 9.029906119947091\n",
      "\n",
      "Number of outlier according to .05 and .95 quantile for Min_Sea_Level_PressurehPa are : 37247\n",
      "Perc. of outlier w.r.t the whole train 8.583088686001872\n",
      "\n",
      "Number of outlier according to .05 and .95 quantile for Min_TemperatureC are : 35677\n",
      "Perc. of outlier w.r.t the whole train 8.221302522363915\n",
      "\n",
      "Number of outlier according to .05 and .95 quantile for Min_VisibilitykM are : 19412\n",
      "Perc. of outlier w.r.t the whole train 4.473243954484075\n",
      "\n",
      "Number of outlier according to .05 and .95 quantile for Precipitationmm are : 336671\n",
      "Perc. of outlier w.r.t the whole train 77.58147101793261\n",
      "\n",
      "Number of outlier according to .05 and .95 quantile for WindDirDegrees are : 21670\n",
      "Perc. of outlier w.r.t the whole train 4.993570806391403\n",
      "\n"
     ]
    }
   ],
   "source": [
    "out_n = {}\n",
    "for v in my_numerical_variables:\n",
    "    out_n[v] = outliers(df_normalized,.05,.95,v).values\n",
    "    print(\"Number of outlier according to .05 and .95 quantile for \"+v+\" are : \"+str(len(out_n[v])))\n",
    "    print(\"Perc. of outlier w.r.t the whole train \"+ str(100*(len(out_n[v])/df_normalized.shape[0])))\n",
    "    print(\"\")"
   ]
  },
  {
   "cell_type": "markdown",
   "metadata": {},
   "source": [
    "Outliers that are below .1 quantile or above the .99"
   ]
  },
  {
   "cell_type": "code",
   "execution_count": 59,
   "metadata": {},
   "outputs": [
    {
     "name": "stdout",
     "output_type": "stream",
     "text": [
      "Number of outlier according to .01 and .99 quantile for Min_Dew_PointC are : 6098\n",
      "Perc. of outlier w.r.t the whole train 1.4052051120154485\n",
      "\n",
      "Number of outlier according to .01 and .99 quantile for Min_Humidity are : 5874\n",
      "Perc. of outlier w.r.t the whole train 1.3535872135091416\n",
      "\n",
      "Number of outlier according to .01 and .99 quantile for Min_Sea_Level_PressurehPa are : 7670\n",
      "Perc. of outlier w.r.t the whole train 1.7674521497472107\n",
      "\n",
      "Number of outlier according to .01 and .99 quantile for Min_TemperatureC are : 5044\n",
      "Perc. of outlier w.r.t the whole train 1.1623244645795217\n",
      "\n",
      "Number of outlier according to .01 and .99 quantile for Min_VisibilitykM are : 4261\n",
      "Perc. of outlier w.r.t the whole train 0.98189225685435\n",
      "\n",
      "Number of outlier according to .01 and .99 quantile for Precipitationmm are : 3876\n",
      "Perc. of outlier w.r.t the whole train 0.8931739937966346\n",
      "\n",
      "Number of outlier according to .01 and .99 quantile for WindDirDegrees are : 4091\n",
      "Perc. of outlier w.r.t the whole train 0.9427179588808133\n",
      "\n"
     ]
    }
   ],
   "source": [
    "out2 = {}\n",
    "for v in my_numerical_variables:\n",
    "    out2[v] = outliers(my_train_data,.01,.99,v).values\n",
    "    print(\"Number of outlier according to .01 and .99 quantile for \"+v+\" are : \"+str(len(out2[v])))\n",
    "    print(\"Perc. of outlier w.r.t the whole train \"+ str(100*(len(out2[v])/my_train_data.shape[0])))\n",
    "    print(\"\")"
   ]
  },
  {
   "cell_type": "markdown",
   "metadata": {},
   "source": [
    "Set the outliers found below the .01 quantile and above the .99 quantile to the associated quantile"
   ]
  },
  {
   "cell_type": "code",
   "execution_count": 60,
   "metadata": {},
   "outputs": [],
   "source": [
    "my_train_data_c = my_train_data.copy()\n",
    "for v in my_numerical_variables:\n",
    "    Winsorizing(my_train_data_c,.01,0.99,v)"
   ]
  },
  {
   "cell_type": "markdown",
   "metadata": {},
   "source": [
    "# Changing basis function and look for correlation"
   ]
  },
  {
   "cell_type": "code",
   "execution_count": 27,
   "metadata": {},
   "outputs": [
    {
     "data": {
      "text/plain": [
       "0     23.0\n",
       "1     56.0\n",
       "2     22.0\n",
       "3    108.0\n",
       "5     68.0\n",
       "Name: WindDirDegrees, dtype: float64"
      ]
     },
     "execution_count": 27,
     "metadata": {},
     "output_type": "execute_result"
    }
   ],
   "source": [
    "my_train_data_c['NumberOfSales'] = target\n",
    "my_train_data_c['WindDirDegrees'].head()"
   ]
  },
  {
   "cell_type": "code",
   "execution_count": 42,
   "metadata": {},
   "outputs": [],
   "source": [
    "def compute_corr(df,var,degree):\n",
    "    sns.set_context(\"notebook\", font_scale=1.5, rc={\"lines.linewidth\": 2.5})\n",
    "    new_dataset = df\n",
    "    current_column = var\n",
    "    corr = {}\n",
    "    indexes = []\n",
    "    for d in range(2,degree+1):\n",
    "        column_name = var+\" at the power of \" + str(d)\n",
    "        new_dataset[column_name] = new_dataset[current_column]*df[var]\n",
    "       #new_dataset.plot(kind=\"scatter\", x=column_name, y=\"NumberOfSales\")\n",
    "        corr[column_name] = new_dataset.corr()['NumberOfSales'][column_name]\n",
    "        print(column_name +\"  CORRELATION ::\"+str(corr[column_name]))\n",
    "        current_column = column_name\n",
    "        indexes.append(current_column)\n",
    "    \n",
    "    if (df[var].values > 0).all():\n",
    "        column_name = var+\"logbase2\"   \n",
    "        new_dataset[column_name] = np.log2(df[var])\n",
    "        indexes.append(current_column)\n",
    "        #new_dataset.plot(kind=\"scatter\", x=column_name, y=\"NumberOfSales\")\n",
    "        corr[column_name] = new_dataset.corr()['NumberOfSales'][column_name]\n",
    "        print(column_name +\"  CORRELATION ::\"+str(corr[column_name]))\n",
    "        column_name = var+\"logbase10\"\n",
    "        new_dataset[column_name] = np.log10(df[var])\n",
    "        indexes.append(current_column)\n",
    "       #new_dataset.plot(kind=\"scatter\", x=column_name, y=\"NumberOfSales\")\n",
    "        corr[column_name] = new_dataset.corr()['NumberOfSales'][column_name]\n",
    "        print(column_name +\"  CORRELATION ::\"+str(corr[column_name]))\n",
    "    \n",
    "    return corr,indexes\n",
    "    #return new_dataset[indexes]"
   ]
  },
  {
   "cell_type": "code",
   "execution_count": 43,
   "metadata": {},
   "outputs": [
    {
     "name": "stdout",
     "output_type": "stream",
     "text": [
      "Min_Dew_PointC at the power of 2  CORRELATION ::-0.040598532860458315\n",
      "Min_Dew_PointC at the power of 3  CORRELATION ::-0.035715453647362116\n",
      "Min_Humidity at the power of 2  CORRELATION ::0.011814169101291992\n",
      "Min_Humidity at the power of 3  CORRELATION ::0.008906455410652648\n",
      "Min_Humiditylogbase2  CORRELATION ::0.013773256202913059\n",
      "Min_Humiditylogbase10  CORRELATION ::0.013773256202918477\n",
      "Min_Sea_Level_PressurehPa at the power of 2  CORRELATION ::-0.004084657895934583\n",
      "Min_Sea_Level_PressurehPa at the power of 3  CORRELATION ::-0.004072306033114736\n",
      "Min_Sea_Level_PressurehPalogbase2  CORRELATION ::-0.004111476079502595\n",
      "Min_Sea_Level_PressurehPalogbase10  CORRELATION ::-0.004111476079499107\n",
      "Min_TemperatureC at the power of 2  CORRELATION ::-0.03999911280729609\n",
      "Min_TemperatureC at the power of 3  CORRELATION ::-0.035709916257314914\n",
      "Min_VisibilitykM at the power of 2  CORRELATION ::0.01233513232030087\n",
      "Min_VisibilitykM at the power of 3  CORRELATION ::0.0082996505248679\n",
      "Precipitationmm at the power of 2  CORRELATION ::-0.020065188585936405\n",
      "Precipitationmm at the power of 3  CORRELATION ::-0.017614935695000906\n",
      "WindDirDegrees at the power of 2  CORRELATION ::0.02041776134670297\n",
      "WindDirDegrees at the power of 3  CORRELATION ::0.012031431943641471\n"
     ]
    }
   ],
   "source": [
    "#add_degress returns a new small dataframe for each variable\n",
    "correlations = {}\n",
    "indx = {}\n",
    "for v in my_numerical_variables:\n",
    "    df = my_train_data_c[[v,'NumberOfSales']].copy()\n",
    "    correlations[v] , indx[v] = compute_corr(df,v,3)"
   ]
  },
  {
   "cell_type": "code",
   "execution_count": 49,
   "metadata": {},
   "outputs": [
    {
     "name": "stdout",
     "output_type": "stream",
     "text": [
      "Min_Dew_PointC  LINEAR CORRELATION ::-0.04186373501690499\n",
      "Min_Dew_PointC  Difference in CORRELATION btw + Min_Dew_PointC and Min_Dew_PointC at the power of 2::0.001265202156446675\n",
      "Min_Dew_PointC  Difference in CORRELATION btw + Min_Dew_PointC and Min_Dew_PointC at the power of 3::0.006148281369542874\n",
      "Min_Humidity  LINEAR CORRELATION ::0.013635576424895882\n",
      "Min_Humidity  Difference in CORRELATION btw + Min_Humidity and Min_Humidity at the power of 2::0.0018214073236038908\n",
      "Min_Humidity  Difference in CORRELATION btw + Min_Humidity and Min_Humidity at the power of 3::0.004729121014243234\n",
      "Min_Humidity  Difference in CORRELATION btw + Min_Humidity and Min_Humidity at the power of 3::0.004729121014243234\n",
      "Min_Humidity  Difference in CORRELATION btw + Min_Humidity and Min_Humidity at the power of 3::0.004729121014243234\n",
      "Min_Sea_Level_PressurehPa  LINEAR CORRELATION ::-0.004097714730857049\n",
      "Min_Sea_Level_PressurehPa  Difference in CORRELATION btw + Min_Sea_Level_PressurehPa and Min_Sea_Level_PressurehPa at the power of 2::1.3056834922466239e-05\n",
      "Min_Sea_Level_PressurehPa  Difference in CORRELATION btw + Min_Sea_Level_PressurehPa and Min_Sea_Level_PressurehPa at the power of 3::2.5408697742312913e-05\n",
      "Min_Sea_Level_PressurehPa  Difference in CORRELATION btw + Min_Sea_Level_PressurehPa and Min_Sea_Level_PressurehPa at the power of 3::2.5408697742312913e-05\n",
      "Min_Sea_Level_PressurehPa  Difference in CORRELATION btw + Min_Sea_Level_PressurehPa and Min_Sea_Level_PressurehPa at the power of 3::2.5408697742312913e-05\n",
      "Min_TemperatureC  LINEAR CORRELATION ::-0.03468211119044942\n",
      "Min_TemperatureC  Difference in CORRELATION btw + Min_TemperatureC and Min_TemperatureC at the power of 2::0.005317001616846666\n",
      "Min_TemperatureC  Difference in CORRELATION btw + Min_TemperatureC and Min_TemperatureC at the power of 3::0.001027805066865492\n",
      "Min_VisibilitykM  LINEAR CORRELATION ::0.016494269910031445\n",
      "Min_VisibilitykM  Difference in CORRELATION btw + Min_VisibilitykM and Min_VisibilitykM at the power of 2::0.004159137589730575\n",
      "Min_VisibilitykM  Difference in CORRELATION btw + Min_VisibilitykM and Min_VisibilitykM at the power of 3::0.008194619385163545\n",
      "Precipitationmm  LINEAR CORRELATION ::-0.021816250731879296\n",
      "Precipitationmm  Difference in CORRELATION btw + Precipitationmm and Precipitationmm at the power of 2::0.0017510621459428909\n",
      "Precipitationmm  Difference in CORRELATION btw + Precipitationmm and Precipitationmm at the power of 3::0.00420131503687839\n",
      "WindDirDegrees  LINEAR CORRELATION ::0.032768740853586185\n",
      "WindDirDegrees  Difference in CORRELATION btw + WindDirDegrees and WindDirDegrees at the power of 2::0.012350979506883214\n",
      "WindDirDegrees  Difference in CORRELATION btw + WindDirDegrees and WindDirDegrees at the power of 3::0.020737308909944713\n"
     ]
    }
   ],
   "source": [
    "for v in my_numerical_variables:\n",
    "    print(v +\"  LINEAR CORRELATION ::\"+str(my_train_data_c.corr()['NumberOfSales'][v]))\n",
    "    for k in indx[v]:\n",
    "        print(v +\"  Difference in CORRELATION btw + \"+ v +\" and \"+ k +\" :: \"+str(np.absolute(my_train_data_c.corr()['NumberOfSales'][v] - correlations[v][k])))"
   ]
  },
  {
   "cell_type": "code",
   "execution_count": null,
   "metadata": {},
   "outputs": [],
   "source": []
  },
  {
   "cell_type": "code",
   "execution_count": null,
   "metadata": {},
   "outputs": [],
   "source": []
  }
 ],
 "metadata": {
  "kernelspec": {
   "display_name": "Python 3",
   "language": "python",
   "name": "python3"
  },
  "language_info": {
   "codemirror_mode": {
    "name": "ipython",
    "version": 3
   },
   "file_extension": ".py",
   "mimetype": "text/x-python",
   "name": "python",
   "nbconvert_exporter": "python",
   "pygments_lexer": "ipython3",
   "version": "3.6.4"
  }
 },
 "nbformat": 4,
 "nbformat_minor": 2
}
