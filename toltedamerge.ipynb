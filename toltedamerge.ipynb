{
 "cells": [
  {
   "cell_type": "markdown",
   "metadata": {},
   "source": [
    "# Feature selection"
   ]
  },
  {
   "cell_type": "markdown",
   "metadata": {},
   "source": [
    "## PCA"
   ]
  },
  {
   "cell_type": "code",
   "execution_count": 59,
   "metadata": {},
   "outputs": [],
   "source": [
    "train = pd.read_csv('trainClean.csv')\n",
    "test = pd.read_csv('testClean.csv')"
   ]
  },
  {
   "cell_type": "code",
   "execution_count": 60,
   "metadata": {},
   "outputs": [],
   "source": [
    "NumberOfCustomers = train['NumberOfCustomers']\n",
    "all_data_index = train.columns.drop(['NumberOfSales','NumberOfCustomers'])\n",
    "all_data = train.loc[:,all_data_index].append([test.loc[:,all_data_index]])\n",
    "all_data = all_data.reset_index(drop=True)"
   ]
  },
  {
   "cell_type": "code",
   "execution_count": 61,
   "metadata": {},
   "outputs": [],
   "source": [
    "numerical_cols = [col for col in all_data if all_data[col].dropna().value_counts().index.isin([0,1]).all()==0]\n",
    "numerical_indx = pd.Index(numerical_cols)\n",
    "numerical_variables = all_data[numerical_indx]"
   ]
  },
  {
   "cell_type": "code",
   "execution_count": 62,
   "metadata": {},
   "outputs": [],
   "source": [
    "x = StandardScaler().fit_transform(numerical_variables)"
   ]
  },
  {
   "cell_type": "code",
   "execution_count": 63,
   "metadata": {},
   "outputs": [
    {
     "data": {
      "text/plain": [
       "Text(0,0.5,'Cumulative Explained Variance Ratio')"
      ]
     },
     "execution_count": 63,
     "metadata": {},
     "output_type": "execute_result"
    },
    {
     "data": {
      "image/png": "[encoded data removed]",
      "text/plain": [
       "<matplotlib.figure.Figure at 0x1dac8314d30>"
      ]
     },
     "metadata": {},
     "output_type": "display_data"
    }
   ],
   "source": [
    "plt.semilogy(PCA().fit(x).explained_variance_ratio_.cumsum(), '--o');\n",
    "plt.xticks(np.arange(0,x.shape[1],1));\n",
    "plt.xlabel(\"Features\")\n",
    "plt.ylabel(\"Cumulative Explained Variance Ratio\")"
   ]
  },
  {
   "cell_type": "code",
   "execution_count": 64,
   "metadata": {},
   "outputs": [],
   "source": [
    "n_components = 10\n",
    "column_names = []\n",
    "for i in range (0, n_components):\n",
    "    col_name = \"component {}\".format(i+1);\n",
    "    column_names.append(col_name)"
   ]
  },
  {
   "cell_type": "code",
   "execution_count": 65,
   "metadata": {},
   "outputs": [],
   "source": [
    "pca = PCA(n_components)\n",
    "new_data = pca.fit_transform(x)\n",
    "pca_all_data = pd.DataFrame(data = new_data, \n",
    "                        columns = column_names)"
   ]
  },
  {
   "cell_type": "code",
   "execution_count": 66,
   "metadata": {},
   "outputs": [
    {
     "name": "stdout",
     "output_type": "stream",
     "text": [
      "Explained Variance\n",
      "component 1 0.26241266316726264\n",
      "component 2 0.14939905859654684\n",
      "component 3 0.13713289777178397\n",
      "component 4 0.0894228020518301\n",
      "component 5 0.060838434837961586\n",
      "component 6 0.04908629445646782\n",
      "component 7 0.045014609482339485\n",
      "component 8 0.04135986375124349\n",
      "component 9 0.03684599568175085\n",
      "component 10 0.029528910916331662\n",
      "   Total Explained Variance 0.90\n"
     ]
    }
   ],
   "source": [
    "print(\"Explained Variance\")\n",
    "for i in range (0, n_components):\n",
    "    string = \"component {} {}\".format(i+1, pca.explained_variance_ratio_[i])\n",
    "    print(string)\n",
    "print(\"   Total Explained Variance %3.2f\"%sum(pca.explained_variance_ratio_))"
   ]
  },
  {
   "cell_type": "markdown",
   "metadata": {},
   "source": [
    "We finally decided to hold the first 10 pca"
   ]
  },
  {
   "cell_type": "code",
   "execution_count": 67,
   "metadata": {},
   "outputs": [],
   "source": [
    "bool_cols = [col for col in all_data if all_data[col].dropna().value_counts().index.isin([0,1]).all()]\n",
    "bool_indx = pd.Index(bool_cols)\n",
    "bool_variables = all_data[bool_indx]"
   ]
  },
  {
   "cell_type": "code",
   "execution_count": 68,
   "metadata": {},
   "outputs": [],
   "source": [
    "test_offset = train.shape[0]\n",
    "finalTrain = pd.concat([pca_all_data.iloc[0:test_offset,:], bool_variables.iloc[0:test_offset,:]], axis=1)\n",
    "finalTrain['NumberOfSales'] = train[\"NumberOfSales\"]\n",
    "finalTrain['NumberOfCustomers'] = train[\"NumberOfCustomers\"]\n",
    "finalTest = pd.concat([pca_all_data.iloc[test_offset:pca_all_data.shape[0],:], bool_variables.iloc[test_offset:pca_all_data.shape[0],:]], axis=1)"
   ]
  },
  {
   "cell_type": "markdown",
   "metadata": {},
   "source": [
    "Store in finalTrain and finalTest the 10 pca + the binary variables"
   ]
  },
  {
   "cell_type": "code",
   "execution_count": 84,
   "metadata": {},
   "outputs": [],
   "source": [
    "train = finalTrain\n",
    "test = finalTest\n",
    "#train = train.drop(labels='Unnamed: 0', axis=1) #there is this new misterious and useless column\n",
    "all_data_index = train.columns.drop(['NumberOfSales','NumberOfCustomers'])\n",
    "all_data = pd.concat((train.loc[:,all_data_index],test.loc[:,all_data_index]), ignore_index=True)\n",
    "columns = all_data.columns"
   ]
  },
  {
   "cell_type": "code",
   "execution_count": 85,
   "metadata": {},
   "outputs": [],
   "source": [
    "x = all_data.values\n",
    "min_max_scaler = MinMaxScaler()\n",
    "all_data_normalized = pd.DataFrame(min_max_scaler.fit_transform(x))\n",
    "all_data_normalized.columns = columns"
   ]
  },
  {
   "cell_type": "code",
   "execution_count": 86,
   "metadata": {},
   "outputs": [
    {
     "data": {
      "text/html": [
       "<div>\n",
       "<style scoped>\n",
       "    .dataframe tbody tr th:only-of-type {\n",
       "        vertical-align: middle;\n",
       "    }\n",
       "\n",
       "    .dataframe tbody tr th {\n",
       "        vertical-align: top;\n",
       "    }\n",
       "\n",
       "    .dataframe thead th {\n",
       "        text-align: right;\n",
       "    }\n",
       "</style>\n",
       "<table border=\"1\" class=\"dataframe\">\n",
       "  <thead>\n",
       "    <tr style=\"text-align: right;\">\n",
       "      <th></th>\n",
       "      <th>component 1</th>\n",
       "      <th>component 2</th>\n",
       "      <th>component 3</th>\n",
       "      <th>component 4</th>\n",
       "      <th>component 5</th>\n",
       "      <th>component 6</th>\n",
       "      <th>component 7</th>\n",
       "      <th>component 8</th>\n",
       "      <th>component 9</th>\n",
       "      <th>component 10</th>\n",
       "      <th>...</th>\n",
       "      <th>October</th>\n",
       "      <th>November</th>\n",
       "      <th>December</th>\n",
       "      <th>Snow</th>\n",
       "      <th>Nothing</th>\n",
       "      <th>Hail</th>\n",
       "      <th>Thunderstorm</th>\n",
       "      <th>Rain</th>\n",
       "      <th>Fog</th>\n",
       "      <th>ZeroClouds</th>\n",
       "    </tr>\n",
       "  </thead>\n",
       "  <tbody>\n",
       "    <tr>\n",
       "      <th>count</th>\n",
       "      <td>471544.000000</td>\n",
       "      <td>471544.000000</td>\n",
       "      <td>471544.000000</td>\n",
       "      <td>471544.000000</td>\n",
       "      <td>471544.000000</td>\n",
       "      <td>471544.000000</td>\n",
       "      <td>471544.000000</td>\n",
       "      <td>471544.000000</td>\n",
       "      <td>471544.000000</td>\n",
       "      <td>471544.000000</td>\n",
       "      <td>...</td>\n",
       "      <td>471544.000000</td>\n",
       "      <td>471544.000000</td>\n",
       "      <td>471544.000000</td>\n",
       "      <td>471544.000000</td>\n",
       "      <td>471544.000000</td>\n",
       "      <td>471544.000000</td>\n",
       "      <td>471544.000000</td>\n",
       "      <td>471544.000000</td>\n",
       "      <td>471544.000000</td>\n",
       "      <td>471544.000000</td>\n",
       "    </tr>\n",
       "    <tr>\n",
       "      <th>mean</th>\n",
       "      <td>0.481627</td>\n",
       "      <td>0.445751</td>\n",
       "      <td>0.440529</td>\n",
       "      <td>0.476864</td>\n",
       "      <td>0.466292</td>\n",
       "      <td>0.348164</td>\n",
       "      <td>0.476544</td>\n",
       "      <td>0.471768</td>\n",
       "      <td>0.296269</td>\n",
       "      <td>0.385266</td>\n",
       "      <td>...</td>\n",
       "      <td>0.073293</td>\n",
       "      <td>0.073843</td>\n",
       "      <td>0.071758</td>\n",
       "      <td>0.077098</td>\n",
       "      <td>0.248940</td>\n",
       "      <td>0.009299</td>\n",
       "      <td>0.059390</td>\n",
       "      <td>0.584923</td>\n",
       "      <td>0.249934</td>\n",
       "      <td>0.000238</td>\n",
       "    </tr>\n",
       "    <tr>\n",
       "      <th>std</th>\n",
       "      <td>0.156752</td>\n",
       "      <td>0.133096</td>\n",
       "      <td>0.147608</td>\n",
       "      <td>0.179560</td>\n",
       "      <td>0.111261</td>\n",
       "      <td>0.100635</td>\n",
       "      <td>0.109330</td>\n",
       "      <td>0.150777</td>\n",
       "      <td>0.098072</td>\n",
       "      <td>0.104065</td>\n",
       "      <td>...</td>\n",
       "      <td>0.260618</td>\n",
       "      <td>0.261515</td>\n",
       "      <td>0.258087</td>\n",
       "      <td>0.266747</td>\n",
       "      <td>0.432399</td>\n",
       "      <td>0.095983</td>\n",
       "      <td>0.236353</td>\n",
       "      <td>0.492736</td>\n",
       "      <td>0.432975</td>\n",
       "      <td>0.015410</td>\n",
       "    </tr>\n",
       "    <tr>\n",
       "      <th>min</th>\n",
       "      <td>0.000000</td>\n",
       "      <td>0.000000</td>\n",
       "      <td>0.000000</td>\n",
       "      <td>0.000000</td>\n",
       "      <td>0.000000</td>\n",
       "      <td>0.000000</td>\n",
       "      <td>0.000000</td>\n",
       "      <td>0.000000</td>\n",
       "      <td>0.000000</td>\n",
       "      <td>0.000000</td>\n",
       "      <td>...</td>\n",
       "      <td>0.000000</td>\n",
       "      <td>0.000000</td>\n",
       "      <td>0.000000</td>\n",
       "      <td>0.000000</td>\n",
       "      <td>0.000000</td>\n",
       "      <td>0.000000</td>\n",
       "      <td>0.000000</td>\n",
       "      <td>0.000000</td>\n",
       "      <td>0.000000</td>\n",
       "      <td>0.000000</td>\n",
       "    </tr>\n",
       "    <tr>\n",
       "      <th>25%</th>\n",
       "      <td>0.362799</td>\n",
       "      <td>0.357169</td>\n",
       "      <td>0.340339</td>\n",
       "      <td>0.315306</td>\n",
       "      <td>0.395940</td>\n",
       "      <td>0.277341</td>\n",
       "      <td>0.408095</td>\n",
       "      <td>0.350600</td>\n",
       "      <td>0.230568</td>\n",
       "      <td>0.319339</td>\n",
       "      <td>...</td>\n",
       "      <td>0.000000</td>\n",
       "      <td>0.000000</td>\n",
       "      <td>0.000000</td>\n",
       "      <td>0.000000</td>\n",
       "      <td>0.000000</td>\n",
       "      <td>0.000000</td>\n",
       "      <td>0.000000</td>\n",
       "      <td>0.000000</td>\n",
       "      <td>0.000000</td>\n",
       "      <td>0.000000</td>\n",
       "    </tr>\n",
       "    <tr>\n",
       "      <th>50%</th>\n",
       "      <td>0.484430</td>\n",
       "      <td>0.440765</td>\n",
       "      <td>0.431581</td>\n",
       "      <td>0.467268</td>\n",
       "      <td>0.469982</td>\n",
       "      <td>0.338085</td>\n",
       "      <td>0.482806</td>\n",
       "      <td>0.473225</td>\n",
       "      <td>0.286190</td>\n",
       "      <td>0.374104</td>\n",
       "      <td>...</td>\n",
       "      <td>0.000000</td>\n",
       "      <td>0.000000</td>\n",
       "      <td>0.000000</td>\n",
       "      <td>0.000000</td>\n",
       "      <td>0.000000</td>\n",
       "      <td>0.000000</td>\n",
       "      <td>0.000000</td>\n",
       "      <td>1.000000</td>\n",
       "      <td>0.000000</td>\n",
       "      <td>0.000000</td>\n",
       "    </tr>\n",
       "    <tr>\n",
       "      <th>75%</th>\n",
       "      <td>0.598008</td>\n",
       "      <td>0.530612</td>\n",
       "      <td>0.531957</td>\n",
       "      <td>0.635813</td>\n",
       "      <td>0.542160</td>\n",
       "      <td>0.408121</td>\n",
       "      <td>0.549567</td>\n",
       "      <td>0.596894</td>\n",
       "      <td>0.349254</td>\n",
       "      <td>0.433125</td>\n",
       "      <td>...</td>\n",
       "      <td>0.000000</td>\n",
       "      <td>0.000000</td>\n",
       "      <td>0.000000</td>\n",
       "      <td>0.000000</td>\n",
       "      <td>0.000000</td>\n",
       "      <td>0.000000</td>\n",
       "      <td>0.000000</td>\n",
       "      <td>1.000000</td>\n",
       "      <td>0.000000</td>\n",
       "      <td>0.000000</td>\n",
       "    </tr>\n",
       "    <tr>\n",
       "      <th>max</th>\n",
       "      <td>1.000000</td>\n",
       "      <td>1.000000</td>\n",
       "      <td>1.000000</td>\n",
       "      <td>1.000000</td>\n",
       "      <td>1.000000</td>\n",
       "      <td>1.000000</td>\n",
       "      <td>1.000000</td>\n",
       "      <td>1.000000</td>\n",
       "      <td>1.000000</td>\n",
       "      <td>1.000000</td>\n",
       "      <td>...</td>\n",
       "      <td>1.000000</td>\n",
       "      <td>1.000000</td>\n",
       "      <td>1.000000</td>\n",
       "      <td>1.000000</td>\n",
       "      <td>1.000000</td>\n",
       "      <td>1.000000</td>\n",
       "      <td>1.000000</td>\n",
       "      <td>1.000000</td>\n",
       "      <td>1.000000</td>\n",
       "      <td>1.000000</td>\n",
       "    </tr>\n",
       "  </tbody>\n",
       "</table>\n",
       "<p>8 rows × 48 columns</p>\n",
       "</div>"
      ],
      "text/plain": [
       "         component 1    component 2    component 3    component 4  \\\n",
       "count  471544.000000  471544.000000  471544.000000  471544.000000   \n",
       "mean        0.481627       0.445751       0.440529       0.476864   \n",
       "std         0.156752       0.133096       0.147608       0.179560   \n",
       "min         0.000000       0.000000       0.000000       0.000000   \n",
       "25%         0.362799       0.357169       0.340339       0.315306   \n",
       "50%         0.484430       0.440765       0.431581       0.467268   \n",
       "75%         0.598008       0.530612       0.531957       0.635813   \n",
       "max         1.000000       1.000000       1.000000       1.000000   \n",
       "\n",
       "         component 5    component 6    component 7    component 8  \\\n",
       "count  471544.000000  471544.000000  471544.000000  471544.000000   \n",
       "mean        0.466292       0.348164       0.476544       0.471768   \n",
       "std         0.111261       0.100635       0.109330       0.150777   \n",
       "min         0.000000       0.000000       0.000000       0.000000   \n",
       "25%         0.395940       0.277341       0.408095       0.350600   \n",
       "50%         0.469982       0.338085       0.482806       0.473225   \n",
       "75%         0.542160       0.408121       0.549567       0.596894   \n",
       "max         1.000000       1.000000       1.000000       1.000000   \n",
       "\n",
       "         component 9   component 10      ...              October  \\\n",
       "count  471544.000000  471544.000000      ...        471544.000000   \n",
       "mean        0.296269       0.385266      ...             0.073293   \n",
       "std         0.098072       0.104065      ...             0.260618   \n",
       "min         0.000000       0.000000      ...             0.000000   \n",
       "25%         0.230568       0.319339      ...             0.000000   \n",
       "50%         0.286190       0.374104      ...             0.000000   \n",
       "75%         0.349254       0.433125      ...             0.000000   \n",
       "max         1.000000       1.000000      ...             1.000000   \n",
       "\n",
       "            November       December           Snow        Nothing  \\\n",
       "count  471544.000000  471544.000000  471544.000000  471544.000000   \n",
       "mean        0.073843       0.071758       0.077098       0.248940   \n",
       "std         0.261515       0.258087       0.266747       0.432399   \n",
       "min         0.000000       0.000000       0.000000       0.000000   \n",
       "25%         0.000000       0.000000       0.000000       0.000000   \n",
       "50%         0.000000       0.000000       0.000000       0.000000   \n",
       "75%         0.000000       0.000000       0.000000       0.000000   \n",
       "max         1.000000       1.000000       1.000000       1.000000   \n",
       "\n",
       "                Hail   Thunderstorm           Rain            Fog  \\\n",
       "count  471544.000000  471544.000000  471544.000000  471544.000000   \n",
       "mean        0.009299       0.059390       0.584923       0.249934   \n",
       "std         0.095983       0.236353       0.492736       0.432975   \n",
       "min         0.000000       0.000000       0.000000       0.000000   \n",
       "25%         0.000000       0.000000       0.000000       0.000000   \n",
       "50%         0.000000       0.000000       1.000000       0.000000   \n",
       "75%         0.000000       0.000000       1.000000       0.000000   \n",
       "max         1.000000       1.000000       1.000000       1.000000   \n",
       "\n",
       "          ZeroClouds  \n",
       "count  471544.000000  \n",
       "mean        0.000238  \n",
       "std         0.015410  \n",
       "min         0.000000  \n",
       "25%         0.000000  \n",
       "50%         0.000000  \n",
       "75%         0.000000  \n",
       "max         1.000000  \n",
       "\n",
       "[8 rows x 48 columns]"
      ]
     },
     "execution_count": 86,
     "metadata": {},
     "output_type": "execute_result"
    }
   ],
   "source": [
    "all_data_normalized.describe()"
   ]
  },
  {
   "cell_type": "code",
   "execution_count": 87,
   "metadata": {},
   "outputs": [],
   "source": [
    "test_offset = train.shape[0]\n",
    "train_normalized = all_data_normalized.iloc[0:test_offset,:]\n",
    "train_normalized['NumberOfSales'] = train[\"NumberOfSales\"]\n",
    "train_normalized['NumberOfCustomers'] = train[\"NumberOfCustomers\"]\n",
    "test_normalized = all_data_normalized.iloc[test_offset:all_data_normalized.shape[0],:]"
   ]
  },
  {
   "cell_type": "markdown",
   "metadata": {},
   "source": [
    "# Feature selection"
   ]
  },
  {
   "cell_type": "markdown",
   "metadata": {},
   "source": [
    "## Lasso feature selection"
   ]
  },
  {
   "cell_type": "code",
   "execution_count": 88,
   "metadata": {},
   "outputs": [
    {
     "data": {
      "text/plain": [
       "Index(['component 1', 'component 2', 'component 3', 'component 4',\n",
       "       'component 5', 'component 6', 'component 7', 'component 8',\n",
       "       'component 9', 'component 10', 'IsHoliday', 'HasPromotions',\n",
       "       'StandardMarket', 'HyperMarket', 'SuperMarket', 'ShoppingCenter',\n",
       "       'General', 'WithFishDepartment', 'WithNonFoodDepartment', 'Region0',\n",
       "       'Region1', 'Region2', 'Region3', 'Region4', 'Region5', 'Region6',\n",
       "       'Region7', 'Region8', 'Region9', 'January', 'February', 'March',\n",
       "       'April', 'May', 'June', 'July', 'August', 'September', 'October',\n",
       "       'November', 'December', 'Snow', 'Nothing', 'Hail', 'Thunderstorm',\n",
       "       'Rain', 'Fog', 'ZeroClouds'],\n",
       "      dtype='object')"
      ]
     },
     "execution_count": 88,
     "metadata": {},
     "output_type": "execute_result"
    }
   ],
   "source": [
    "X_train_complete=train_normalized\n",
    "X_test=test_normalized\n",
    "# Regression on NumberOfCustomers\n",
    "y=X_train_complete['NumberOfCustomers'].values.reshape(-1,1)\n",
    "x=X_train_complete.drop(columns=['NumberOfCustomers','NumberOfSales'],axis=1)\n",
    "x.columns"
   ]
  },
  {
   "cell_type": "code",
   "execution_count": 89,
   "metadata": {},
   "outputs": [
    {
     "name": "stdout",
     "output_type": "stream",
     "text": [
      "Linear Regression with Lasso\n",
      "==================================================\n",
      "\t                  Train R2=0.321\n",
      "\t                  Train RMSE=16968.712\n",
      "\n",
      "Linear Regression with Lasso - Chosen Features\n"
     ]
    },
    {
     "data": {
      "text/plain": [
       "Index(['component 1', 'component 2', 'component 3', 'component 5',\n",
       "       'component 6', 'component 7', 'component 8', 'component 9',\n",
       "       'component 10', 'HasPromotions', 'StandardMarket', 'HyperMarket',\n",
       "       'ShoppingCenter', 'General', 'WithFishDepartment', 'Region0', 'Region1',\n",
       "       'Region2', 'Region3', 'Region4', 'Region5', 'Region6', 'Region7',\n",
       "       'Region8', 'Region9', 'January', 'February', 'April', 'May', 'June',\n",
       "       'September', 'October', 'November', 'December', 'Snow', 'Fog'],\n",
       "      dtype='object')"
      ]
     },
     "execution_count": 89,
     "metadata": {},
     "output_type": "execute_result"
    }
   ],
   "source": [
    "lasso = linear_model.LassoCV(cv=10)\n",
    "lasso_fit=lasso.fit(x,y)\n",
    "yp_lasso = lasso.predict(x)\n",
    "r2_simple_train = r2_score(y,yp_lasso)\n",
    "rmse_simple_train = mean_squared_error(y,yp_lasso,multioutput='raw_values')\n",
    "print(\"Linear Regression with Lasso\")\n",
    "print(\"==================================================\")\n",
    "print(\"\\t                  Train R2=%.3f\"%(r2_simple_train))\n",
    "print(\"\\t                  Train RMSE=%.3f\"%(rmse_simple_train))\n",
    "print(\"\\nLinear Regression with Lasso - Chosen Features\")\n",
    "selected=[]\n",
    "threshold=1\n",
    "for i,c in enumerate(np.append(lasso_fit.intercept_,lasso_fit.coef_)):\n",
    "    #print(\"%d\\t%3.3f\" % (i,c) )\n",
    "    if abs(c)>threshold and not i == 0:\n",
    "        selected.append(x.columns[i-1])\n",
    "x=x[selected]\n",
    "x.columns"
   ]
  },
  {
   "cell_type": "markdown",
   "metadata": {},
   "source": [
    "# Super Clean Dataset Creation\n",
    "Given pca and lasso we decided to leave just the seleted features in order to train faster our models"
   ]
  },
  {
   "cell_type": "code",
   "execution_count": 90,
   "metadata": {},
   "outputs": [],
   "source": [
    "all_data_final = pd.concat((finalTrain.loc[:,all_data_index],finalTest.loc[:,all_data_index]), ignore_index=True)"
   ]
  },
  {
   "cell_type": "code",
   "execution_count": 91,
   "metadata": {},
   "outputs": [],
   "source": [
    "all_data_final = all_data_final.drop(columns=['component 4','IsHoliday','SuperMarket','WithNonFoodDepartment','March','July','August','Hail','Nothing','Rain','Thunderstorm','ZeroClouds'],axis=1)"
   ]
  },
  {
   "cell_type": "code",
   "execution_count": 92,
   "metadata": {},
   "outputs": [],
   "source": [
    "test_offset = finalTrain.shape[0]\n",
    "finalTrain = all_data_final.iloc[0:test_offset,:]\n",
    "finalTrain['NumberOfCustomers'] = train[\"NumberOfCustomers\"]\n",
    "finalTrain['NumberOfSales'] = train[\"NumberOfSales\"]\n",
    "finalTest = all_data_final.iloc[test_offset:pca_all_data.shape[0],:]"
   ]
  },
  {
   "cell_type": "code",
   "execution_count": 93,
   "metadata": {},
   "outputs": [],
   "source": [
    "finalTrain.to_csv(\"FinalTrain.csv\")\n",
    "finalTest.to_csv(\"FinalTest.csv\")"
   ]
  }
 ],
 "metadata": {
  "kernelspec": {
   "display_name": "Python 3",
   "language": "python",
   "name": "python3"
  },
  "language_info": {
   "codemirror_mode": {
    "name": "ipython",
    "version": 3
   },
   "file_extension": ".py",
   "mimetype": "text/x-python",
   "name": "python",
   "nbconvert_exporter": "python",
   "pygments_lexer": "ipython3",
   "version": "3.6.4"
  }
 },
 "nbformat": 4,
 "nbformat_minor": 2
}
