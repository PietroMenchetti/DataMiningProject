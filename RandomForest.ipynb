{
 "cells": [
  {
   "cell_type": "code",
   "execution_count": 3,
   "metadata": {},
   "outputs": [],
   "source": [
    "import pandas as pd\n",
    "import numpy as np\n",
    "import seaborn as sns\n",
    "import matplotlib.pyplot as plt\n",
    "from scipy import stats\n",
    "from sklearn.metrics import mean_squared_error\n",
    "import math\n",
    "from sklearn.ensemble import RandomForestRegressor\n",
    "from sklearn import model_selection\n",
    "from sklearn.metrics import r2_score\n",
    "import warnings \n",
    "from sklearn import model_selection\n",
    "warnings.filterwarnings(\"ignore\")"
   ]
  },
  {
   "cell_type": "code",
   "execution_count": 2,
   "metadata": {},
   "outputs": [
    {
     "data": {
      "text/plain": [
       "Index(['IsHoliday', 'HasPromotions', 'NearestCompetitor', 'Region_AreaKM2',\n",
       "       'Region_GDP', 'Region_PopulationK', 'Mean_Dew_PointC', 'Mean_Humidity',\n",
       "       'Mean_Sea_Level_PressurehPa', 'Mean_TemperatureC', 'Mean_VisibilityKm',\n",
       "       'Mean_Wind_SpeedKm_h', 'Precipitationmm', 'StandardMarket',\n",
       "       'HyperMarket', 'SuperMarket', 'ShoppingCenter', 'General',\n",
       "       'WithFishDepartment', 'WithNonFoodDepartment', 'Region0', 'Region1',\n",
       "       'Region2', 'Region3', 'Region4', 'Region5', 'Region6', 'Region7',\n",
       "       'Region8', 'Region9', 'January', 'February', 'March', 'April', 'May',\n",
       "       'June', 'July', 'August', 'September', 'October', 'November',\n",
       "       'December', 'Fog', 'Nothing', 'Rain', 'Thunderstorm', 'Snow', 'Hail',\n",
       "       'ZeroClouds', 'NumberOfSales', 'NumberOfCustomers'],\n",
       "      dtype='object')"
      ]
     },
     "execution_count": 2,
     "metadata": {},
     "output_type": "execute_result"
    }
   ],
   "source": [
    "train = pd.read_csv('TrainClean.csv',index_col=0)\n",
    "train.columns"
   ]
  },
  {
   "cell_type": "markdown",
   "metadata": {},
   "source": [
    "# 50 all"
   ]
  },
  {
   "cell_type": "code",
   "execution_count": 8,
   "metadata": {},
   "outputs": [
    {
     "data": {
      "text/plain": [
       "0.5561216497013555"
      ]
     },
     "execution_count": 8,
     "metadata": {},
     "output_type": "execute_result"
    }
   ],
   "source": [
    "train_data, test_data = model_selection.train_test_split(train,test_size =0.1, random_state=12345)\n",
    "\n",
    "tar = train_data['NumberOfCustomers']\n",
    "var = train_data.drop(labels='NumberOfCustomers',axis=1)\n",
    "var = var.drop(labels='NumberOfSales',axis=1)\n",
    "#else:\n",
    "#    var = train_data[cust_i]\n",
    "\n",
    "model1 = RandomForestRegressor(random_state=12345) #model 1 predice customers\n",
    "model1.set_params(n_estimators=50)\n",
    "model1.fit(var, tar)\n",
    "\n",
    "FitCust = model1.predict(var)\n",
    "\n",
    "tar = train_data['NumberOfSales']\n",
    "var = train_data.drop(labels='NumberOfSales',axis=1)\n",
    "var['NumberOfCustomers'] = FitCust\n",
    "\n",
    "model2 = RandomForestRegressor(random_state=12345) #model 2 predice sales\n",
    "model2.set_params(n_estimators=50)\n",
    "model2.fit(var, tar)\n",
    "    \n",
    "    ###############################################################################################testing step\n",
    "    \n",
    "NumOfCust = test_data['NumberOfCustomers']   #metto da parte i cust\n",
    "NumOfSales = test_data['NumberOfSales']      #metto da parte le sales\n",
    "\n",
    "\n",
    "first_test = test_data.drop(labels='NumberOfSales',axis=1)\n",
    "first_test = first_test.drop(labels='NumberOfCustomers',axis=1)\n",
    "\n",
    "\n",
    "\n",
    "Custp = model1.predict(first_test) #model1 predice cust\n",
    "    \n",
    "R2_c = r2_score(NumOfCust,Custp) #calcolo R2 dei cust\n",
    "MSE_c = mean_squared_error(NumOfCust,Custp) #calcolo MSE dei cust\n",
    "    \n",
    "second_test = test_data.drop(labels='NumberOfSales',axis=1)\n",
    "#second_test = test_data[sales_i] #un po inutile solo per chiarezza\n",
    "second_test['NumberOfCustomers'] = Custp #metto i cust predetti dal model1 nel test per predire le vendite future\n",
    "    \n",
    "Salesp = model2.predict(second_test) #model2 predice sales\n",
    "    \n",
    "R2_s = r2_score(NumOfSales,Salesp)\n",
    "R2_s"
   ]
  },
  {
   "cell_type": "markdown",
   "metadata": {},
   "source": [
    "## 50 all direct(without double regr)"
   ]
  },
  {
   "cell_type": "code",
   "execution_count": 9,
   "metadata": {},
   "outputs": [
    {
     "data": {
      "text/plain": [
       "0.5704139615610619"
      ]
     },
     "execution_count": 9,
     "metadata": {},
     "output_type": "execute_result"
    }
   ],
   "source": [
    "train_data, test_data = model_selection.train_test_split(train,test_size =0.1, random_state=12345)\n",
    "\n",
    "tar = train_data['NumberOfSales']\n",
    "var = train_data.drop(labels='NumberOfCustomers',axis=1)\n",
    "var = var.drop(labels='NumberOfSales',axis=1)\n",
    "\n",
    "\n",
    "model1 = RandomForestRegressor(random_state=12345) \n",
    "model1.set_params(n_estimators=50)\n",
    "model1.fit(var, tar)\n",
    "\n",
    "y = test_data['NumberOfSales']\n",
    "test = test_data.drop(labels='NumberOfCustomers',axis=1)\n",
    "test = test.drop(labels='NumberOfSales',axis=1)\n",
    "\n",
    "yp = model1.predict(test)\n",
    "    \n",
    "R2_s = r2_score(y,yp)\n",
    "R2_s"
   ]
  },
  {
   "cell_type": "markdown",
   "metadata": {},
   "source": [
    "# 50 LassoFS"
   ]
  },
  {
   "cell_type": "code",
   "execution_count": 10,
   "metadata": {},
   "outputs": [],
   "source": [
    "cust_i = pd.Index(['HasPromotions', 'NearestCompetitor', 'Region_AreaKM2',\n",
    "       'Mean_Dew_PointC', 'Mean_Sea_Level_PressurehPa', 'Mean_VisibilityKm',\n",
    "       'Precipitationmm', 'StandardMarket', 'HyperMarket', 'ShoppingCenter',\n",
    "       'General', 'WithFishDepartment', 'Region0', 'Region1', 'Region3',\n",
    "       'Region4', 'Region5', 'Region6', 'Region7', 'Region8', 'Region9',\n",
    "       'January', 'February', 'April', 'May', 'June', 'September', 'October',\n",
    "       'November', 'December', 'Fog', 'Nothing', 'Snow'])\n",
    "sales_i = pd.Index(['IsHoliday', 'HasPromotions', 'NearestCompetitor', 'Region_AreaKM2',\n",
    "       'Region_PopulationK', 'Mean_Humidity', 'Mean_Sea_Level_PressurehPa',\n",
    "       'Mean_TemperatureC', 'Mean_Wind_SpeedKm_h', 'Precipitationmm',\n",
    "       'StandardMarket', 'HyperMarket', 'SuperMarket', 'ShoppingCenter',\n",
    "       'WithFishDepartment', 'WithNonFoodDepartment', 'Region0', 'Region1',\n",
    "       'Region2', 'Region3', 'Region4', 'Region6', 'Region7', 'Region8',\n",
    "       'January', 'February', 'March', 'April', 'May', 'June', 'July',\n",
    "       'September', 'October', 'November', 'December', 'Fog', 'Nothing',\n",
    "       'Rain', 'Thunderstorm', 'Snow', 'NumberOfCustomers'])"
   ]
  },
  {
   "cell_type": "code",
   "execution_count": 11,
   "metadata": {},
   "outputs": [
    {
     "data": {
      "text/plain": [
       "0.5445671786792377"
      ]
     },
     "execution_count": 11,
     "metadata": {},
     "output_type": "execute_result"
    }
   ],
   "source": [
    "train_data, test_data = model_selection.train_test_split(train,test_size =0.1, random_state=12345)\n",
    "\n",
    "tar = train_data['NumberOfCustomers']\n",
    "var = train_data[cust_i]\n",
    "\n",
    "\n",
    "model1 = RandomForestRegressor(random_state=12345) #model 1 predice customers\n",
    "model1.set_params(n_estimators=50)\n",
    "model1.fit(var, tar)\n",
    "\n",
    "FitCust = model1.predict(var)\n",
    "\n",
    "tar = train_data['NumberOfSales']\n",
    "var = train_data[sales_i]\n",
    "var['NumberOfCustomers'] = FitCust\n",
    "\n",
    "model2 = RandomForestRegressor(random_state=12345) #model 2 predice sales\n",
    "model2.set_params(n_estimators=50)\n",
    "model2.fit(var, tar)\n",
    "    \n",
    "    ###############################################################################################testing step\n",
    "    \n",
    "NumOfCust = test_data['NumberOfCustomers']   #metto da parte i cust\n",
    "NumOfSales = test_data['NumberOfSales']      #metto da parte le sales\n",
    "\n",
    "\n",
    "\n",
    "first_test = test_data[cust_i]\n",
    "    \n",
    "\n",
    "\n",
    "Custp = model1.predict(first_test) #model1 predice cust\n",
    "    \n",
    "R2_c = r2_score(NumOfCust,Custp) #calcolo R2 dei cust\n",
    "MSE_c = mean_squared_error(NumOfCust,Custp) #calcolo MSE dei cust\n",
    "    \n",
    "\n",
    "second_test = test_data[sales_i]\n",
    "second_test['NumberOfCustomers'] = Custp #metto i cust predetti dal model1 nel test per predire le vendite future\n",
    "    \n",
    "Salesp = model2.predict(second_test) #model2 predice sales\n",
    "    \n",
    "R2_s = r2_score(NumOfSales,Salesp)\n",
    "MSE_s = mean_squared_error(NumOfSales,Salesp)\n",
    "R2_s"
   ]
  },
  {
   "cell_type": "markdown",
   "metadata": {},
   "source": [
    "## 50 LassoFS direct(without double regr)"
   ]
  },
  {
   "cell_type": "code",
   "execution_count": 12,
   "metadata": {},
   "outputs": [],
   "source": [
    "direct_features = pd.Index(['HasPromotions', 'NearestCompetitor', 'Region_GDP',\n",
    "       'Mean_Sea_Level_PressurehPa', 'Mean_TemperatureC', 'Precipitationmm',\n",
    "       'StandardMarket', 'HyperMarket', 'SuperMarket', 'ShoppingCenter',\n",
    "       'General', 'WithFishDepartment', 'Region0', 'Region1', 'Region2',\n",
    "       'Region3', 'Region4', 'Region5', 'Region6', 'Region8', 'Region9',\n",
    "       'January', 'February', 'March', 'May', 'June', 'July', 'September',\n",
    "       'October', 'November', 'December', 'Fog', 'Snow'])"
   ]
  },
  {
   "cell_type": "code",
   "execution_count": 14,
   "metadata": {},
   "outputs": [
    {
     "data": {
      "text/plain": [
       "0.5613196609425526"
      ]
     },
     "execution_count": 14,
     "metadata": {},
     "output_type": "execute_result"
    }
   ],
   "source": [
    "train_data, test_data = model_selection.train_test_split(train,test_size =0.1, random_state=12345)\n",
    "\n",
    "tar = train_data['NumberOfSales']\n",
    "var = train_data[direct_features]\n",
    "\n",
    "\n",
    "model1 = RandomForestRegressor(random_state=12345) \n",
    "model1.set_params(n_estimators=50)\n",
    "model1.fit(var, tar)\n",
    "\n",
    "y = test_data['NumberOfSales']\n",
    "test = test_data[direct_features]\n",
    "\n",
    "yp = model1.predict(test)\n",
    "    \n",
    "R2_s = r2_score(y,yp)\n",
    "R2_s"
   ]
  },
  {
   "cell_type": "markdown",
   "metadata": {},
   "source": [
    "# 50 RFFS"
   ]
  },
  {
   "cell_type": "code",
   "execution_count": 15,
   "metadata": {},
   "outputs": [],
   "source": [
    "cust_i = pd.Index(['NearestCompetitor','ShoppingCenter','Region3','HasPromotions','StandardMarket',\n",
    "                        'Region7','Region_AreaKM2','WithNonFoodDepartment','General','Mean_Sea_Level_PressurehPa'])\n",
    "sales_i = pd.Index(['NumberOfCustomers','HasPromotions','NearestCompetitor','StandardMarket','General','December',\n",
    "                        'Region_AreaKM2','Region3','Region_PopulationK','Region_GDP'])"
   ]
  },
  {
   "cell_type": "code",
   "execution_count": 16,
   "metadata": {},
   "outputs": [
    {
     "data": {
      "text/plain": [
       "0.5550378468570795"
      ]
     },
     "execution_count": 16,
     "metadata": {},
     "output_type": "execute_result"
    }
   ],
   "source": [
    "train_data, test_data = model_selection.train_test_split(train,test_size =0.1, random_state=12345)\n",
    "\n",
    "tar = train_data['NumberOfCustomers']\n",
    "var = train_data[cust_i]\n",
    "\n",
    "\n",
    "model1 = RandomForestRegressor(random_state=12345) #model 1 predice customers\n",
    "model1.set_params(n_estimators=50)\n",
    "model1.fit(var, tar)\n",
    "\n",
    "FitCust = model1.predict(var)\n",
    "\n",
    "tar = train_data['NumberOfSales']\n",
    "var = train_data[sales_i]\n",
    "var['NumberOfCustomers'] = FitCust\n",
    "\n",
    "model2 = RandomForestRegressor(random_state=12345) #model 2 predice sales\n",
    "model2.set_params(n_estimators=50)\n",
    "model2.fit(var, tar)\n",
    "    \n",
    "    ###############################################################################################testing step\n",
    "    \n",
    "NumOfCust = test_data['NumberOfCustomers']   #metto da parte i cust\n",
    "NumOfSales = test_data['NumberOfSales']      #metto da parte le sales\n",
    "\n",
    "\n",
    "\n",
    "first_test = test_data[cust_i]\n",
    "    \n",
    "\n",
    "\n",
    "Custp = model1.predict(first_test) #model1 predice cust\n",
    "    \n",
    "R2_c = r2_score(NumOfCust,Custp) #calcolo R2 dei cust\n",
    "MSE_c = mean_squared_error(NumOfCust,Custp) #calcolo MSE dei cust\n",
    "    \n",
    "\n",
    "second_test = test_data[sales_i]\n",
    "second_test['NumberOfCustomers'] = Custp #metto i cust predetti dal model1 nel test per predire le vendite future\n",
    "    \n",
    "Salesp = model2.predict(second_test) #model2 predice sales\n",
    "    \n",
    "R2_s = r2_score(NumOfSales,Salesp)\n",
    "MSE_s = mean_squared_error(NumOfSales,Salesp)\n",
    "R2_s"
   ]
  },
  {
   "cell_type": "markdown",
   "metadata": {},
   "source": [
    "# All below without fitting the second model with the predict"
   ]
  },
  {
   "cell_type": "markdown",
   "metadata": {},
   "source": [
    "# 50 all"
   ]
  },
  {
   "cell_type": "code",
   "execution_count": 17,
   "metadata": {},
   "outputs": [
    {
     "data": {
      "text/plain": [
       "0.5890858215299143"
      ]
     },
     "execution_count": 17,
     "metadata": {},
     "output_type": "execute_result"
    }
   ],
   "source": [
    "train_data, test_data = model_selection.train_test_split(train,test_size =0.1, random_state=12345)\n",
    "\n",
    "tar = train_data['NumberOfCustomers']\n",
    "var = train_data.drop(labels='NumberOfCustomers',axis=1)\n",
    "var = var.drop(labels='NumberOfSales',axis=1)\n",
    "#else:\n",
    "#    var = train_data[cust_i]\n",
    "\n",
    "model1 = RandomForestRegressor(random_state=12345) #model 1 predice customers\n",
    "model1.set_params(n_estimators=50)\n",
    "model1.fit(var, tar)\n",
    "\n",
    "\n",
    "\n",
    "tar = train_data['NumberOfSales']\n",
    "var = train_data.drop(labels='NumberOfSales',axis=1)\n",
    "\n",
    "model2 = RandomForestRegressor(random_state=12345) #model 2 predice sales\n",
    "model2.set_params(n_estimators=50)\n",
    "model2.fit(var, tar)\n",
    "    \n",
    "    ###############################################################################################testing step\n",
    "    \n",
    "NumOfCust = test_data['NumberOfCustomers']   #metto da parte i cust\n",
    "NumOfSales = test_data['NumberOfSales']      #metto da parte le sales\n",
    "\n",
    "\n",
    "first_test = test_data.drop(labels='NumberOfSales',axis=1)\n",
    "first_test = first_test.drop(labels='NumberOfCustomers',axis=1)\n",
    "#else:\n",
    "#    first_test = test_data[cust_i]\n",
    "    \n",
    "\n",
    "\n",
    "Custp = model1.predict(first_test) #model1 predice cust\n",
    "    \n",
    "R2_c = r2_score(NumOfCust,Custp) #calcolo R2 dei cust\n",
    "MSE_c = mean_squared_error(NumOfCust,Custp) #calcolo MSE dei cust\n",
    "    \n",
    "second_test = test_data.drop(labels='NumberOfSales',axis=1)\n",
    "#second_test = test_data[sales_i] #un po inutile solo per chiarezza\n",
    "second_test['NumberOfCustomers'] = Custp #metto i cust predetti dal model1 nel test per predire le vendite future\n",
    "    \n",
    "Salesp = model2.predict(second_test) #model2 predice sales\n",
    "    \n",
    "R2_s = r2_score(NumOfSales,Salesp)\n",
    "R2_s"
   ]
  },
  {
   "cell_type": "markdown",
   "metadata": {},
   "source": [
    "# 50 LassoFS"
   ]
  },
  {
   "cell_type": "code",
   "execution_count": 18,
   "metadata": {},
   "outputs": [],
   "source": [
    "cust_i = pd.Index(['HasPromotions', 'NearestCompetitor', 'Region_AreaKM2',\n",
    "       'Mean_Dew_PointC', 'Mean_Sea_Level_PressurehPa', 'Mean_VisibilityKm',\n",
    "       'Precipitationmm', 'StandardMarket', 'HyperMarket', 'ShoppingCenter',\n",
    "       'General', 'WithFishDepartment', 'Region0', 'Region1', 'Region3',\n",
    "       'Region4', 'Region5', 'Region6', 'Region7', 'Region8', 'Region9',\n",
    "       'January', 'February', 'April', 'May', 'June', 'September', 'October',\n",
    "       'November', 'December', 'Fog', 'Nothing', 'Snow'])\n",
    "sales_i = pd.Index(['IsHoliday', 'HasPromotions', 'NearestCompetitor', 'Region_AreaKM2',\n",
    "       'Region_PopulationK', 'Mean_Humidity', 'Mean_Sea_Level_PressurehPa',\n",
    "       'Mean_TemperatureC', 'Mean_Wind_SpeedKm_h', 'Precipitationmm',\n",
    "       'StandardMarket', 'HyperMarket', 'SuperMarket', 'ShoppingCenter',\n",
    "       'WithFishDepartment', 'WithNonFoodDepartment', 'Region0', 'Region1',\n",
    "       'Region2', 'Region3', 'Region4', 'Region6', 'Region7', 'Region8',\n",
    "       'January', 'February', 'March', 'April', 'May', 'June', 'July',\n",
    "       'September', 'October', 'November', 'December', 'Fog', 'Nothing',\n",
    "       'Rain', 'Thunderstorm', 'Snow', 'NumberOfCustomers'])"
   ]
  },
  {
   "cell_type": "code",
   "execution_count": 19,
   "metadata": {},
   "outputs": [
    {
     "data": {
      "text/plain": [
       "0.5825169948387502"
      ]
     },
     "execution_count": 19,
     "metadata": {},
     "output_type": "execute_result"
    }
   ],
   "source": [
    "train_data, test_data = model_selection.train_test_split(train,test_size =0.1, random_state=12345)\n",
    "\n",
    "tar = train_data['NumberOfCustomers']\n",
    "var = train_data[cust_i]\n",
    "\n",
    "\n",
    "model1 = RandomForestRegressor(random_state=12345) #model 1 predice customers\n",
    "model1.set_params(n_estimators=50)\n",
    "model1.fit(var, tar)\n",
    "\n",
    "\n",
    "tar = train_data['NumberOfSales']\n",
    "var = train_data[sales_i]\n",
    "\n",
    "model2 = RandomForestRegressor(random_state=12345) #model 2 predice sales\n",
    "model2.set_params(n_estimators=50)\n",
    "model2.fit(var, tar)\n",
    "    \n",
    "    ###############################################################################################testing step\n",
    "    \n",
    "NumOfCust = test_data['NumberOfCustomers']   #metto da parte i cust\n",
    "NumOfSales = test_data['NumberOfSales']      #metto da parte le sales\n",
    "\n",
    "\n",
    "\n",
    "first_test = test_data[cust_i]\n",
    "    \n",
    "\n",
    "\n",
    "Custp = model1.predict(first_test) #model1 predice cust\n",
    "    \n",
    "R2_c = r2_score(NumOfCust,Custp) #calcolo R2 dei cust\n",
    "MSE_c = mean_squared_error(NumOfCust,Custp) #calcolo MSE dei cust\n",
    "    \n",
    "\n",
    "second_test = test_data[sales_i]\n",
    "second_test['NumberOfCustomers'] = Custp #metto i cust predetti dal model1 nel test per predire le vendite future\n",
    "    \n",
    "Salesp = model2.predict(second_test) #model2 predice sales\n",
    "    \n",
    "R2_s = r2_score(NumOfSales,Salesp)\n",
    "MSE_s = mean_squared_error(NumOfSales,Salesp)\n",
    "R2_s"
   ]
  },
  {
   "cell_type": "markdown",
   "metadata": {},
   "source": [
    "# 50 RFFS"
   ]
  },
  {
   "cell_type": "code",
   "execution_count": 20,
   "metadata": {},
   "outputs": [],
   "source": [
    "cust_i = pd.Index(['NearestCompetitor','ShoppingCenter','Region3','HasPromotions','StandardMarket',\n",
    "                        'Region7','Region_AreaKM2','WithNonFoodDepartment','General','Mean_Sea_Level_PressurehPa'])\n",
    "sales_i = pd.Index(['NumberOfCustomers','HasPromotions','NearestCompetitor','StandardMarket','General','December',\n",
    "                        'Region_AreaKM2','Region3','Region_PopulationK','Region_GDP'])"
   ]
  },
  {
   "cell_type": "code",
   "execution_count": 21,
   "metadata": {},
   "outputs": [
    {
     "data": {
      "text/plain": [
       "0.5511879076491573"
      ]
     },
     "execution_count": 21,
     "metadata": {},
     "output_type": "execute_result"
    }
   ],
   "source": [
    "train_data, test_data = model_selection.train_test_split(train,test_size =0.1, random_state=12345)\n",
    "\n",
    "tar = train_data['NumberOfCustomers']\n",
    "var = train_data[cust_i]\n",
    "\n",
    "\n",
    "model1 = RandomForestRegressor(random_state=12345) #model 1 predice customers\n",
    "model1.set_params(n_estimators=50)\n",
    "model1.fit(var, tar)\n",
    "\n",
    "\n",
    "tar = train_data['NumberOfSales']\n",
    "var = train_data[sales_i]\n",
    "\n",
    "model2 = RandomForestRegressor(random_state=12345) #model 2 predice sales\n",
    "model2.set_params(n_estimators=50)\n",
    "model2.fit(var, tar)\n",
    "    \n",
    "    ###############################################################################################testing step\n",
    "    \n",
    "NumOfCust = test_data['NumberOfCustomers']   #metto da parte i cust\n",
    "NumOfSales = test_data['NumberOfSales']      #metto da parte le sales\n",
    "\n",
    "\n",
    "\n",
    "first_test = test_data[cust_i]\n",
    "    \n",
    "\n",
    "\n",
    "Custp = model1.predict(first_test) #model1 predice cust\n",
    "    \n",
    "R2_c = r2_score(NumOfCust,Custp) #calcolo R2 dei cust\n",
    "MSE_c = mean_squared_error(NumOfCust,Custp) #calcolo MSE dei cust\n",
    "    \n",
    "\n",
    "second_test = test_data[sales_i]\n",
    "second_test['NumberOfCustomers'] = Custp #metto i cust predetti dal model1 nel test per predire le vendite future\n",
    "    \n",
    "Salesp = model2.predict(second_test) #model2 predice sales\n",
    "    \n",
    "R2_s = r2_score(NumOfSales,Salesp)\n",
    "MSE_s = mean_squared_error(NumOfSales,Salesp)\n",
    "R2_s"
   ]
  },
  {
   "cell_type": "code",
   "execution_count": null,
   "metadata": {},
   "outputs": [],
   "source": []
  },
  {
   "cell_type": "code",
   "execution_count": null,
   "metadata": {},
   "outputs": [],
   "source": []
  },
  {
   "cell_type": "code",
   "execution_count": null,
   "metadata": {},
   "outputs": [],
   "source": []
  },
  {
   "cell_type": "code",
   "execution_count": null,
   "metadata": {},
   "outputs": [],
   "source": []
  },
  {
   "cell_type": "code",
   "execution_count": null,
   "metadata": {},
   "outputs": [],
   "source": []
  },
  {
   "cell_type": "code",
   "execution_count": null,
   "metadata": {},
   "outputs": [],
   "source": []
  },
  {
   "cell_type": "code",
   "execution_count": null,
   "metadata": {},
   "outputs": [],
   "source": []
  },
  {
   "cell_type": "code",
   "execution_count": null,
   "metadata": {},
   "outputs": [],
   "source": []
  },
  {
   "cell_type": "code",
   "execution_count": null,
   "metadata": {},
   "outputs": [],
   "source": []
  },
  {
   "cell_type": "code",
   "execution_count": null,
   "metadata": {},
   "outputs": [],
   "source": []
  },
  {
   "cell_type": "code",
   "execution_count": null,
   "metadata": {},
   "outputs": [],
   "source": []
  },
  {
   "cell_type": "code",
   "execution_count": null,
   "metadata": {},
   "outputs": [],
   "source": []
  },
  {
   "cell_type": "code",
   "execution_count": null,
   "metadata": {},
   "outputs": [],
   "source": []
  },
  {
   "cell_type": "code",
   "execution_count": null,
   "metadata": {},
   "outputs": [],
   "source": []
  },
  {
   "cell_type": "code",
   "execution_count": null,
   "metadata": {},
   "outputs": [],
   "source": []
  },
  {
   "cell_type": "code",
   "execution_count": null,
   "metadata": {},
   "outputs": [],
   "source": []
  },
  {
   "cell_type": "code",
   "execution_count": null,
   "metadata": {},
   "outputs": [],
   "source": []
  },
  {
   "cell_type": "code",
   "execution_count": null,
   "metadata": {},
   "outputs": [],
   "source": []
  },
  {
   "cell_type": "code",
   "execution_count": null,
   "metadata": {},
   "outputs": [],
   "source": []
  },
  {
   "cell_type": "code",
   "execution_count": null,
   "metadata": {},
   "outputs": [],
   "source": []
  },
  {
   "cell_type": "markdown",
   "metadata": {},
   "source": [
    "# 150 all"
   ]
  },
  {
   "cell_type": "code",
   "execution_count": 4,
   "metadata": {},
   "outputs": [
    {
     "data": {
      "text/plain": [
       "0.5589411624175771"
      ]
     },
     "execution_count": 4,
     "metadata": {},
     "output_type": "execute_result"
    }
   ],
   "source": [
    "train_data, test_data = model_selection.train_test_split(train,test_size =0.1, random_state=12345)\n",
    "\n",
    "tar = train_data['NumberOfCustomers']\n",
    "var = train_data.drop(labels='NumberOfCustomers',axis=1)\n",
    "var = var.drop(labels='NumberOfSales',axis=1)\n",
    "#else:\n",
    "#    var = train_data[cust_i]\n",
    "\n",
    "model1 = RandomForestRegressor(random_state=12345) #model 1 predice customers\n",
    "model1.set_params(n_estimators=150)\n",
    "model1.fit(var, tar)\n",
    "\n",
    "FitCust = model1.predict(var)\n",
    "\n",
    "tar = train_data['NumberOfSales']\n",
    "var = train_data.drop(labels='NumberOfSales',axis=1)\n",
    "var['NumberOfCustomers'] = FitCust\n",
    "\n",
    "model2 = RandomForestRegressor(random_state=12345) #model 2 predice sales\n",
    "model2.set_params(n_estimators=150)\n",
    "model2.fit(var, tar)\n",
    "    \n",
    "    ###############################################################################################testing step\n",
    "    \n",
    "NumOfCust = test_data['NumberOfCustomers']   #metto da parte i cust\n",
    "NumOfSales = test_data['NumberOfSales']      #metto da parte le sales\n",
    "\n",
    "\n",
    "first_test = test_data.drop(labels='NumberOfSales',axis=1)\n",
    "first_test = first_test.drop(labels='NumberOfCustomers',axis=1)\n",
    "\n",
    "\n",
    "\n",
    "Custp = model1.predict(first_test) #model1 predice cust\n",
    "    \n",
    "R2_c = r2_score(NumOfCust,Custp) #calcolo R2 dei cust\n",
    "MSE_c = mean_squared_error(NumOfCust,Custp) #calcolo MSE dei cust\n",
    "    \n",
    "second_test = test_data.drop(labels='NumberOfSales',axis=1)\n",
    "#second_test = test_data[sales_i] #un po inutile solo per chiarezza\n",
    "second_test['NumberOfCustomers'] = Custp #metto i cust predetti dal model1 nel test per predire le vendite future\n",
    "    \n",
    "Salesp = model2.predict(second_test) #model2 predice sales\n",
    "    \n",
    "R2_s = r2_score(NumOfSales,Salesp)\n",
    "R2_s"
   ]
  },
  {
   "cell_type": "markdown",
   "metadata": {},
   "source": [
    "## 150 all direct(without double regr)"
   ]
  },
  {
   "cell_type": "code",
   "execution_count": 3,
   "metadata": {},
   "outputs": [
    {
     "data": {
      "text/plain": [
       "0.5687147445138454"
      ]
     },
     "execution_count": 3,
     "metadata": {},
     "output_type": "execute_result"
    }
   ],
   "source": [
    "train_data, test_data = model_selection.train_test_split(train,test_size =0.1, random_state=12345)\n",
    "\n",
    "tar = train_data['NumberOfSales']\n",
    "var = train_data.drop(labels='NumberOfCustomers',axis=1)\n",
    "var = var.drop(labels='NumberOfSales',axis=1)\n",
    "\n",
    "\n",
    "model1 = RandomForestRegressor(random_state=12345) \n",
    "model1.set_params(n_estimators=150)\n",
    "model1.fit(var, tar)\n",
    "\n",
    "y = test_data['NumberOfSales']\n",
    "test = test_data.drop(labels='NumberOfCustomers',axis=1)\n",
    "test = test.drop(labels='NumberOfSales',axis=1)\n",
    "\n",
    "yp = model1.predict(test)\n",
    "    \n",
    "R2_s = r2_score(y,yp)\n",
    "R2_s"
   ]
  },
  {
   "cell_type": "markdown",
   "metadata": {},
   "source": [
    "# 150 LassoFS"
   ]
  },
  {
   "cell_type": "code",
   "execution_count": 3,
   "metadata": {},
   "outputs": [],
   "source": [
    "cust_i = pd.Index(['HasPromotions', 'NearestCompetitor', 'Region_AreaKM2',\n",
    "       'Mean_Dew_PointC', 'Mean_Sea_Level_PressurehPa', 'Mean_VisibilityKm',\n",
    "       'Precipitationmm', 'StandardMarket', 'HyperMarket', 'ShoppingCenter',\n",
    "       'General', 'WithFishDepartment', 'Region0', 'Region1', 'Region3',\n",
    "       'Region4', 'Region5', 'Region6', 'Region7', 'Region8', 'Region9',\n",
    "       'January', 'February', 'April', 'May', 'June', 'September', 'October',\n",
    "       'November', 'December', 'Fog', 'Nothing', 'Snow'])\n",
    "sales_i = pd.Index(['IsHoliday', 'HasPromotions', 'NearestCompetitor', 'Region_AreaKM2',\n",
    "       'Region_PopulationK', 'Mean_Humidity', 'Mean_Sea_Level_PressurehPa',\n",
    "       'Mean_TemperatureC', 'Mean_Wind_SpeedKm_h', 'Precipitationmm',\n",
    "       'StandardMarket', 'HyperMarket', 'SuperMarket', 'ShoppingCenter',\n",
    "       'WithFishDepartment', 'WithNonFoodDepartment', 'Region0', 'Region1',\n",
    "       'Region2', 'Region3', 'Region4', 'Region6', 'Region7', 'Region8',\n",
    "       'January', 'February', 'March', 'April', 'May', 'June', 'July',\n",
    "       'September', 'October', 'November', 'December', 'Fog', 'Nothing',\n",
    "       'Rain', 'Thunderstorm', 'Snow', 'NumberOfCustomers'])"
   ]
  },
  {
   "cell_type": "code",
   "execution_count": 4,
   "metadata": {},
   "outputs": [
    {
     "data": {
      "text/plain": [
       "0.5439718209040934"
      ]
     },
     "execution_count": 4,
     "metadata": {},
     "output_type": "execute_result"
    }
   ],
   "source": [
    "train_data, test_data = model_selection.train_test_split(train,test_size =0.1, random_state=12345)\n",
    "\n",
    "tar = train_data['NumberOfCustomers']\n",
    "var = train_data[cust_i]\n",
    "\n",
    "\n",
    "model1 = RandomForestRegressor(random_state=12345) #model 1 predice customers\n",
    "model1.set_params(n_estimators=150)\n",
    "model1.fit(var, tar)\n",
    "\n",
    "FitCust = model1.predict(var)\n",
    "\n",
    "tar = train_data['NumberOfSales']\n",
    "var = train_data[sales_i]\n",
    "var['NumberOfCustomers'] = FitCust\n",
    "\n",
    "model2 = RandomForestRegressor(random_state=12345) #model 2 predice sales\n",
    "model2.set_params(n_estimators=150)\n",
    "model2.fit(var, tar)\n",
    "    \n",
    "    ###############################################################################################testing step\n",
    "    \n",
    "NumOfCust = test_data['NumberOfCustomers']   #metto da parte i cust\n",
    "NumOfSales = test_data['NumberOfSales']      #metto da parte le sales\n",
    "\n",
    "\n",
    "\n",
    "first_test = test_data[cust_i]\n",
    "    \n",
    "\n",
    "\n",
    "Custp = model1.predict(first_test) #model1 predice cust\n",
    "    \n",
    "R2_c = r2_score(NumOfCust,Custp) #calcolo R2 dei cust\n",
    "MSE_c = mean_squared_error(NumOfCust,Custp) #calcolo MSE dei cust\n",
    "    \n",
    "\n",
    "second_test = test_data[sales_i]\n",
    "second_test['NumberOfCustomers'] = Custp #metto i cust predetti dal model1 nel test per predire le vendite future\n",
    "    \n",
    "Salesp = model2.predict(second_test) #model2 predice sales\n",
    "    \n",
    "R2_s = r2_score(NumOfSales,Salesp)\n",
    "MSE_s = mean_squared_error(NumOfSales,Salesp)\n",
    "R2_s"
   ]
  },
  {
   "cell_type": "markdown",
   "metadata": {},
   "source": [
    "## 150 LassoFS direct(without double regr)"
   ]
  },
  {
   "cell_type": "code",
   "execution_count": 3,
   "metadata": {},
   "outputs": [],
   "source": [
    "direct_features = pd.Index(['HasPromotions', 'NearestCompetitor', 'Region_GDP',\n",
    "       'Mean_Sea_Level_PressurehPa', 'Mean_TemperatureC', 'Precipitationmm',\n",
    "       'StandardMarket', 'HyperMarket', 'SuperMarket', 'ShoppingCenter',\n",
    "       'General', 'WithFishDepartment', 'Region0', 'Region1', 'Region2',\n",
    "       'Region3', 'Region4', 'Region5', 'Region6', 'Region8', 'Region9',\n",
    "       'January', 'February', 'March', 'May', 'June', 'July', 'September',\n",
    "       'October', 'November', 'December', 'Fog', 'Snow'])"
   ]
  },
  {
   "cell_type": "code",
   "execution_count": 4,
   "metadata": {},
   "outputs": [
    {
     "data": {
      "text/plain": [
       "0.5602375368944853"
      ]
     },
     "execution_count": 4,
     "metadata": {},
     "output_type": "execute_result"
    }
   ],
   "source": [
    "train_data, test_data = model_selection.train_test_split(train,test_size =0.1, random_state=12345)\n",
    "\n",
    "tar = train_data['NumberOfSales']\n",
    "var = train_data[direct_features]\n",
    "\n",
    "\n",
    "model1 = RandomForestRegressor(random_state=12345) \n",
    "model1.set_params(n_estimators=150)\n",
    "model1.fit(var, tar)\n",
    "\n",
    "y = test_data['NumberOfSales']\n",
    "test = test_data[direct_features]\n",
    "\n",
    "yp = model1.predict(test)\n",
    "    \n",
    "R2_s = r2_score(y,yp)\n",
    "R2_s"
   ]
  },
  {
   "cell_type": "markdown",
   "metadata": {},
   "source": [
    "# 150 RFFS"
   ]
  },
  {
   "cell_type": "code",
   "execution_count": 5,
   "metadata": {},
   "outputs": [],
   "source": [
    "cust_i = pd.Index(['NearestCompetitor','ShoppingCenter','Region3','HasPromotions','StandardMarket',\n",
    "                        'Region7','Region_AreaKM2','WithNonFoodDepartment','General','Mean_Sea_Level_PressurehPa'])\n",
    "sales_i = pd.Index(['NumberOfCustomers','HasPromotions','NearestCompetitor','StandardMarket','General','December',\n",
    "                        'Region_AreaKM2','Region3','Region_PopulationK','Region_GDP'])"
   ]
  },
  {
   "cell_type": "code",
   "execution_count": 6,
   "metadata": {},
   "outputs": [
    {
     "data": {
      "text/plain": [
       "0.554867769944209"
      ]
     },
     "execution_count": 6,
     "metadata": {},
     "output_type": "execute_result"
    }
   ],
   "source": [
    "train_data, test_data = model_selection.train_test_split(train,test_size =0.1, random_state=12345)\n",
    "\n",
    "tar = train_data['NumberOfCustomers']\n",
    "var = train_data[cust_i]\n",
    "\n",
    "\n",
    "model1 = RandomForestRegressor(random_state=12345) #model 1 predice customers\n",
    "model1.set_params(n_estimators=150)\n",
    "model1.fit(var, tar)\n",
    "\n",
    "FitCust = model1.predict(var)\n",
    "\n",
    "tar = train_data['NumberOfSales']\n",
    "var = train_data[sales_i]\n",
    "var['NumberOfCustomers'] = FitCust\n",
    "\n",
    "model2 = RandomForestRegressor(random_state=12345) #model 2 predice sales\n",
    "model2.set_params(n_estimators=150)\n",
    "model2.fit(var, tar)\n",
    "    \n",
    "    ###############################################################################################testing step\n",
    "    \n",
    "NumOfCust = test_data['NumberOfCustomers']   #metto da parte i cust\n",
    "NumOfSales = test_data['NumberOfSales']      #metto da parte le sales\n",
    "\n",
    "\n",
    "\n",
    "first_test = test_data[cust_i]\n",
    "    \n",
    "\n",
    "\n",
    "Custp = model1.predict(first_test) #model1 predice cust\n",
    "    \n",
    "R2_c = r2_score(NumOfCust,Custp) #calcolo R2 dei cust\n",
    "MSE_c = mean_squared_error(NumOfCust,Custp) #calcolo MSE dei cust\n",
    "    \n",
    "\n",
    "second_test = test_data[sales_i]\n",
    "second_test['NumberOfCustomers'] = Custp #metto i cust predetti dal model1 nel test per predire le vendite future\n",
    "    \n",
    "Salesp = model2.predict(second_test) #model2 predice sales\n",
    "    \n",
    "R2_s = r2_score(NumOfSales,Salesp)\n",
    "MSE_s = mean_squared_error(NumOfSales,Salesp)\n",
    "R2_s"
   ]
  },
  {
   "cell_type": "markdown",
   "metadata": {},
   "source": [
    "# All below without fitting the second model with the predict"
   ]
  },
  {
   "cell_type": "markdown",
   "metadata": {},
   "source": [
    "# 150 all"
   ]
  },
  {
   "cell_type": "code",
   "execution_count": 7,
   "metadata": {},
   "outputs": [
    {
     "data": {
      "text/plain": [
       "0.5917494380533623"
      ]
     },
     "execution_count": 7,
     "metadata": {},
     "output_type": "execute_result"
    }
   ],
   "source": [
    "train_data, test_data = model_selection.train_test_split(train,test_size =0.1, random_state=12345)\n",
    "\n",
    "tar = train_data['NumberOfCustomers']\n",
    "var = train_data.drop(labels='NumberOfCustomers',axis=1)\n",
    "var = var.drop(labels='NumberOfSales',axis=1)\n",
    "#else:\n",
    "#    var = train_data[cust_i]\n",
    "\n",
    "model1 = RandomForestRegressor(random_state=12345) #model 1 predice customers\n",
    "model1.set_params(n_estimators=150)\n",
    "model1.fit(var, tar)\n",
    "\n",
    "\n",
    "\n",
    "tar = train_data['NumberOfSales']\n",
    "var = train_data.drop(labels='NumberOfSales',axis=1)\n",
    "\n",
    "model2 = RandomForestRegressor(random_state=12345) #model 2 predice sales\n",
    "model2.set_params(n_estimators=150)\n",
    "model2.fit(var, tar)\n",
    "    \n",
    "    ###############################################################################################testing step\n",
    "    \n",
    "NumOfCust = test_data['NumberOfCustomers']   #metto da parte i cust\n",
    "NumOfSales = test_data['NumberOfSales']      #metto da parte le sales\n",
    "\n",
    "\n",
    "first_test = test_data.drop(labels='NumberOfSales',axis=1)\n",
    "first_test = first_test.drop(labels='NumberOfCustomers',axis=1)\n",
    "#else:\n",
    "#    first_test = test_data[cust_i]\n",
    "    \n",
    "\n",
    "\n",
    "Custp = model1.predict(first_test) #model1 predice cust\n",
    "    \n",
    "R2_c = r2_score(NumOfCust,Custp) #calcolo R2 dei cust\n",
    "MSE_c = mean_squared_error(NumOfCust,Custp) #calcolo MSE dei cust\n",
    "    \n",
    "second_test = test_data.drop(labels='NumberOfSales',axis=1)\n",
    "#second_test = test_data[sales_i] #un po inutile solo per chiarezza\n",
    "second_test['NumberOfCustomers'] = Custp #metto i cust predetti dal model1 nel test per predire le vendite future\n",
    "    \n",
    "Salesp = model2.predict(second_test) #model2 predice sales\n",
    "    \n",
    "R2_s = r2_score(NumOfSales,Salesp)\n",
    "R2_s"
   ]
  },
  {
   "cell_type": "markdown",
   "metadata": {},
   "source": [
    "# 150 LassoFS"
   ]
  },
  {
   "cell_type": "code",
   "execution_count": 3,
   "metadata": {},
   "outputs": [],
   "source": [
    "cust_i = pd.Index(['HasPromotions', 'NearestCompetitor', 'Region_AreaKM2',\n",
    "       'Mean_Dew_PointC', 'Mean_Sea_Level_PressurehPa', 'Mean_VisibilityKm',\n",
    "       'Precipitationmm', 'StandardMarket', 'HyperMarket', 'ShoppingCenter',\n",
    "       'General', 'WithFishDepartment', 'Region0', 'Region1', 'Region3',\n",
    "       'Region4', 'Region5', 'Region6', 'Region7', 'Region8', 'Region9',\n",
    "       'January', 'February', 'April', 'May', 'June', 'September', 'October',\n",
    "       'November', 'December', 'Fog', 'Nothing', 'Snow'])\n",
    "sales_i = pd.Index(['IsHoliday', 'HasPromotions', 'NearestCompetitor', 'Region_AreaKM2',\n",
    "       'Region_PopulationK', 'Mean_Humidity', 'Mean_Sea_Level_PressurehPa',\n",
    "       'Mean_TemperatureC', 'Mean_Wind_SpeedKm_h', 'Precipitationmm',\n",
    "       'StandardMarket', 'HyperMarket', 'SuperMarket', 'ShoppingCenter',\n",
    "       'WithFishDepartment', 'WithNonFoodDepartment', 'Region0', 'Region1',\n",
    "       'Region2', 'Region3', 'Region4', 'Region6', 'Region7', 'Region8',\n",
    "       'January', 'February', 'March', 'April', 'May', 'June', 'July',\n",
    "       'September', 'October', 'November', 'December', 'Fog', 'Nothing',\n",
    "       'Rain', 'Thunderstorm', 'Snow', 'NumberOfCustomers'])"
   ]
  },
  {
   "cell_type": "code",
   "execution_count": 4,
   "metadata": {},
   "outputs": [
    {
     "data": {
      "text/plain": [
       "0.5836246263298124"
      ]
     },
     "execution_count": 4,
     "metadata": {},
     "output_type": "execute_result"
    }
   ],
   "source": [
    "train_data, test_data = model_selection.train_test_split(train,test_size =0.1, random_state=12345)\n",
    "\n",
    "tar = train_data['NumberOfCustomers']\n",
    "var = train_data[cust_i]\n",
    "\n",
    "\n",
    "model1 = RandomForestRegressor(random_state=12345) #model 1 predice customers\n",
    "model1.set_params(n_estimators=150)\n",
    "model1.fit(var, tar)\n",
    "\n",
    "\n",
    "tar = train_data['NumberOfSales']\n",
    "var = train_data[sales_i]\n",
    "\n",
    "model2 = RandomForestRegressor(random_state=12345) #model 2 predice sales\n",
    "model2.set_params(n_estimators=150)\n",
    "model2.fit(var, tar)\n",
    "    \n",
    "    ###############################################################################################testing step\n",
    "    \n",
    "NumOfCust = test_data['NumberOfCustomers']   #metto da parte i cust\n",
    "NumOfSales = test_data['NumberOfSales']      #metto da parte le sales\n",
    "\n",
    "\n",
    "\n",
    "first_test = test_data[cust_i]\n",
    "    \n",
    "\n",
    "\n",
    "Custp = model1.predict(first_test) #model1 predice cust\n",
    "    \n",
    "R2_c = r2_score(NumOfCust,Custp) #calcolo R2 dei cust\n",
    "MSE_c = mean_squared_error(NumOfCust,Custp) #calcolo MSE dei cust\n",
    "    \n",
    "\n",
    "second_test = test_data[sales_i]\n",
    "second_test['NumberOfCustomers'] = Custp #metto i cust predetti dal model1 nel test per predire le vendite future\n",
    "    \n",
    "Salesp = model2.predict(second_test) #model2 predice sales\n",
    "    \n",
    "R2_s = r2_score(NumOfSales,Salesp)\n",
    "MSE_s = mean_squared_error(NumOfSales,Salesp)\n",
    "R2_s"
   ]
  },
  {
   "cell_type": "markdown",
   "metadata": {},
   "source": [
    "# 150 RFFS"
   ]
  },
  {
   "cell_type": "code",
   "execution_count": 3,
   "metadata": {},
   "outputs": [],
   "source": [
    "cust_i = pd.Index(['NearestCompetitor','ShoppingCenter','Region3','HasPromotions','StandardMarket',\n",
    "                        'Region7','Region_AreaKM2','WithNonFoodDepartment','General','Mean_Sea_Level_PressurehPa'])\n",
    "sales_i = pd.Index(['NumberOfCustomers','HasPromotions','NearestCompetitor','StandardMarket','General','December',\n",
    "                        'Region_AreaKM2','Region3','Region_PopulationK','Region_GDP'])"
   ]
  },
  {
   "cell_type": "code",
   "execution_count": 4,
   "metadata": {},
   "outputs": [
    {
     "data": {
      "text/plain": [
       "0.5511980673035823"
      ]
     },
     "execution_count": 4,
     "metadata": {},
     "output_type": "execute_result"
    }
   ],
   "source": [
    "train_data, test_data = model_selection.train_test_split(train,test_size =0.1, random_state=12345)\n",
    "\n",
    "tar = train_data['NumberOfCustomers']\n",
    "var = train_data[cust_i]\n",
    "\n",
    "\n",
    "model1 = RandomForestRegressor(random_state=12345) #model 1 predice customers\n",
    "model1.set_params(n_estimators=150)\n",
    "model1.fit(var, tar)\n",
    "\n",
    "\n",
    "tar = train_data['NumberOfSales']\n",
    "var = train_data[sales_i]\n",
    "\n",
    "model2 = RandomForestRegressor(random_state=12345) #model 2 predice sales\n",
    "model2.set_params(n_estimators=150)\n",
    "model2.fit(var, tar)\n",
    "    \n",
    "    ###############################################################################################testing step\n",
    "    \n",
    "NumOfCust = test_data['NumberOfCustomers']   #metto da parte i cust\n",
    "NumOfSales = test_data['NumberOfSales']      #metto da parte le sales\n",
    "\n",
    "\n",
    "\n",
    "first_test = test_data[cust_i]\n",
    "    \n",
    "\n",
    "\n",
    "Custp = model1.predict(first_test) #model1 predice cust\n",
    "    \n",
    "R2_c = r2_score(NumOfCust,Custp) #calcolo R2 dei cust\n",
    "MSE_c = mean_squared_error(NumOfCust,Custp) #calcolo MSE dei cust\n",
    "    \n",
    "\n",
    "second_test = test_data[sales_i]\n",
    "second_test['NumberOfCustomers'] = Custp #metto i cust predetti dal model1 nel test per predire le vendite future\n",
    "    \n",
    "Salesp = model2.predict(second_test) #model2 predice sales\n",
    "    \n",
    "R2_s = r2_score(NumOfSales,Salesp)\n",
    "MSE_s = mean_squared_error(NumOfSales,Salesp)\n",
    "R2_s"
   ]
  },
  {
   "cell_type": "code",
   "execution_count": null,
   "metadata": {},
   "outputs": [],
   "source": []
  },
  {
   "cell_type": "code",
   "execution_count": null,
   "metadata": {},
   "outputs": [],
   "source": []
  },
  {
   "cell_type": "code",
   "execution_count": null,
   "metadata": {},
   "outputs": [],
   "source": []
  },
  {
   "cell_type": "code",
   "execution_count": null,
   "metadata": {},
   "outputs": [],
   "source": []
  },
  {
   "cell_type": "code",
   "execution_count": null,
   "metadata": {},
   "outputs": [],
   "source": []
  },
  {
   "cell_type": "code",
   "execution_count": null,
   "metadata": {},
   "outputs": [],
   "source": []
  },
  {
   "cell_type": "code",
   "execution_count": null,
   "metadata": {},
   "outputs": [],
   "source": []
  },
  {
   "cell_type": "code",
   "execution_count": null,
   "metadata": {},
   "outputs": [],
   "source": []
  },
  {
   "cell_type": "code",
   "execution_count": null,
   "metadata": {},
   "outputs": [],
   "source": []
  },
  {
   "cell_type": "code",
   "execution_count": null,
   "metadata": {},
   "outputs": [],
   "source": []
  },
  {
   "cell_type": "code",
   "execution_count": null,
   "metadata": {},
   "outputs": [],
   "source": []
  },
  {
   "cell_type": "code",
   "execution_count": null,
   "metadata": {},
   "outputs": [],
   "source": []
  },
  {
   "cell_type": "code",
   "execution_count": null,
   "metadata": {},
   "outputs": [],
   "source": []
  },
  {
   "cell_type": "code",
   "execution_count": null,
   "metadata": {},
   "outputs": [],
   "source": []
  },
  {
   "cell_type": "code",
   "execution_count": null,
   "metadata": {},
   "outputs": [],
   "source": []
  },
  {
   "cell_type": "code",
   "execution_count": null,
   "metadata": {},
   "outputs": [],
   "source": []
  },
  {
   "cell_type": "code",
   "execution_count": null,
   "metadata": {},
   "outputs": [],
   "source": []
  },
  {
   "cell_type": "code",
   "execution_count": null,
   "metadata": {},
   "outputs": [],
   "source": []
  },
  {
   "cell_type": "code",
   "execution_count": null,
   "metadata": {},
   "outputs": [],
   "source": []
  },
  {
   "cell_type": "code",
   "execution_count": null,
   "metadata": {},
   "outputs": [],
   "source": []
  },
  {
   "cell_type": "code",
   "execution_count": null,
   "metadata": {},
   "outputs": [],
   "source": []
  }
 ],
 "metadata": {
  "kernelspec": {
   "display_name": "Python 3",
   "language": "python",
   "name": "python3"
  },
  "language_info": {
   "codemirror_mode": {
    "name": "ipython",
    "version": 3
   },
   "file_extension": ".py",
   "mimetype": "text/x-python",
   "name": "python",
   "nbconvert_exporter": "python",
   "pygments_lexer": "ipython3",
   "version": "3.6.4"
  }
 },
 "nbformat": 4,
 "nbformat_minor": 2
}
