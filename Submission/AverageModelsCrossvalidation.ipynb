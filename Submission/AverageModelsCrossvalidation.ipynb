{
 "cells": [
  {
   "cell_type": "code",
   "execution_count": 3,
   "metadata": {},
   "outputs": [],
   "source": [
    "import pandas as pd\n",
    "import numpy as np\n",
    "import seaborn as sns\n",
    "import matplotlib\n",
    "import matplotlib.pyplot as plt\n",
    "from scipy import stats\n",
    "from scipy import stats\n",
    "import math\n",
    "from sklearn import tree,linear_model,neighbors\n",
    "from sklearn.decomposition import PCA\n",
    "from sklearn.model_selection import cross_val_score\n",
    "from sklearn.metrics import mean_squared_error,r2_score\n",
    "from sklearn.ensemble import RandomForestRegressor\n",
    "%matplotlib inline\n",
    "import warnings \n",
    "warnings.filterwarnings(\"ignore\")\n",
    "sns.set(style=\"white\", color_codes=True)\n",
    "sns.set_context(rc={\"font.family\":'sans',\"font.size\":10,\"axes.titlesize\":24,\"axes.labelsize\":24}) \n",
    "from sklearn import model_selection"
   ]
  },
  {
   "cell_type": "markdown",
   "metadata": {},
   "source": [
    "# Upload data (customers model)"
   ]
  },
  {
   "cell_type": "code",
   "execution_count": 4,
   "metadata": {},
   "outputs": [],
   "source": [
    "train=pd.read_csv('TrainClean.csv',index_col=0).reset_index(drop=True)\n",
    "#test=pd.read_csv('TestClean.csv',index_col=0).reset_index(drop=True)\n",
    "\n",
    "columnscustomers_lasso=['HasPromotions', 'NearestCompetitor', 'Region_AreaKM2',\n",
    "       'Mean_Dew_PointC', 'Mean_Sea_Level_PressurehPa', 'Precipitationmm',\n",
    "       'StandardMarket', 'HyperMarket', 'ShoppingCenter', 'General',\n",
    "       'WithFishDepartment', 'Region0', 'Region1', 'Region3', 'Region4',\n",
    "       'Region5', 'Region6', 'Region7', 'Region8', 'Region9', 'January',\n",
    "       'February', 'April', 'May', 'June', 'September', 'October', 'November',\n",
    "       'December', 'Wednesday', 'Friday', 'Saturday', 'Monday', 'Thursday',\n",
    "       'Fog', 'Snow']\n",
    "columnssales_lasso=['IsHoliday', 'HasPromotions', 'NearestCompetitor', 'Region_AreaKM2',\n",
    "       'Region_PopulationK', 'Mean_Humidity', 'Mean_Sea_Level_PressurehPa',\n",
    "       'Mean_TemperatureC', 'Mean_VisibilityKm', 'Precipitationmm',\n",
    "       'StandardMarket', 'HyperMarket', 'SuperMarket', 'ShoppingCenter',\n",
    "       'WithFishDepartment', 'WithNonFoodDepartment', 'Region0', 'Region1',\n",
    "       'Region2', 'Region3', 'Region4', 'Region6', 'Region7', 'Region8',\n",
    "       'January', 'February', 'March', 'April', 'May', 'June', 'July',\n",
    "       'September', 'October', 'November', 'December', 'Tuesday', 'Friday',\n",
    "       'Saturday', 'Monday', 'Thursday', 'Sunday', 'Fog', 'Snow', 'Nothing',\n",
    "       'Rain', 'Thunderstorm', 'NumberOfCustomers']\n",
    "columnsdirect_lasso=['HasPromotions', 'NearestCompetitor', 'Region_GDP', 'Mean_Dew_PointC',\n",
    "       'Mean_Sea_Level_PressurehPa', 'Precipitationmm', 'HyperMarket',\n",
    "       'ShoppingCenter', 'General', 'Region0', 'Region2', 'Region3', 'Region4',\n",
    "       'Region5', 'Region6', 'Region8', 'Region9', 'January', 'May', 'June',\n",
    "       'September', 'October', 'November', 'December', 'Tuesday', 'Wednesday',\n",
    "       'Friday', 'Saturday', 'Monday']\n",
    "columnscustomers_rfs=['NearestCompetitor', 'ShoppingCenter', 'Region3', 'HasPromotions',\n",
    "       'StandardMarket', 'Region7', 'General', 'Region_AreaKM2', 'Region_GDP',\n",
    "       'WithNonFoodDepartment', 'HyperMarket', 'SuperMarket', 'Monday',\n",
    "       'December', 'Saturday', 'Region8', 'Region_PopulationK', 'Region0',\n",
    "       'Region9', 'Region2', 'Mean_Sea_Level_PressurehPa', 'Mean_Humidity',\n",
    "       'Region4', 'Mean_Dew_PointC', 'Mean_VisibilityKm']\n",
    "columnssales_rfs=['NumberOfCustomers', 'HasPromotions', 'NearestCompetitor',\n",
    "       'StandardMarket', 'Monday', 'General', 'December', 'Region_AreaKM2',\n",
    "       'Region3', 'Region_GDP', 'Region_PopulationK', 'WithNonFoodDepartment',\n",
    "       'HyperMarket', 'Region2', 'ShoppingCenter', 'Saturday', 'Region9',\n",
    "       'SuperMarket', 'Region6', 'Region5', 'Region7', 'Region0',\n",
    "       'WithFishDepartment', 'Mean_Sea_Level_PressurehPa', 'Mean_VisibilityKm']\n",
    "direcly_sales_rfs = ['NearestCompetitor', 'HasPromotions', 'General', 'HyperMarket',\n",
    "       'December', 'Region3', 'Monday', 'Region_GDP', 'ShoppingCenter',\n",
    "       'Region_AreaKM2', 'Saturday', 'Region_PopulationK', 'StandardMarket',\n",
    "       'SuperMarket', 'Mean_Sea_Level_PressurehPa', 'Region9',\n",
    "       'Mean_VisibilityKm', 'Mean_Humidity', 'Region7', 'Mean_Dew_PointC', 'H',\n",
    "       'Mean_Wind_SpeedKm_h', 'Mean_TemperatureC', 'WCI', 'Region5']"
   ]
  },
  {
   "cell_type": "markdown",
   "metadata": {},
   "source": [
    "# Function definition"
   ]
  },
  {
   "cell_type": "code",
   "execution_count": 14,
   "metadata": {},
   "outputs": [],
   "source": [
    "def AverageModelsCrossvalidation(dataset, features, target, no_boosting_runs):\n",
    "    \n",
    "    dataset_size = dataset.shape[0]\n",
    "    crossperf = []\n",
    "    r2mean = []\n",
    "    dataset = dataset.sample(frac=1,random_state=1234)\n",
    "    k = 3\n",
    "    step = math.floor(dataset_size/k)\n",
    "    \n",
    "    for i in range(0,dataset_size,step+1):\n",
    "        perf = []\n",
    "        model_list = []\n",
    "        \n",
    "        train_data, test_data = DataSplit(dataset,i,step)\n",
    "    \n",
    "        x = train_data[features]\n",
    "        y_residual = train_data[target].values.reshape(-1,1)    \n",
    "        x_test = test_data[features]\n",
    "        y_test = test_data[target].values.reshape(-1,1)\n",
    "    \n",
    "        for i in range(no_boosting_runs):\n",
    "            y_residual,yp_boosting = DT_FittingAndEvaluation(x, x_test, y_residual, y_test, perf, model_list)\n",
    "        \n",
    "        y =  train_data[target]\n",
    "        model1 = RandomForestRegressor(random_state=12345) \n",
    "        model1.set_params(n_estimators=150,min_samples_leaf=5)\n",
    "        model1.fit(x,y)\n",
    "        \n",
    "        yp_forest = model1.predict(x_test)\n",
    "        \n",
    "        mean_predictions = []\n",
    "        \n",
    "        for i in range(yp_forest.shape[0]):\n",
    "            mean_predictions.append((yp_boosting[i]+yp_forest[i])/2)\n",
    "    \n",
    "        r2mean.append(r2_score(y_test,mean_predictions))\n",
    "        crossperf.append(perf)\n",
    "    \n",
    "    return crossperf,r2mean"
   ]
  },
  {
   "cell_type": "code",
   "execution_count": 5,
   "metadata": {},
   "outputs": [],
   "source": [
    "def DataSplit(dataset,i,step):\n",
    "    left_data = dataset[0:i]\n",
    "    test_data = dataset[i:i+step]\n",
    "    right_data = dataset[i+step+1:dataset.shape[0]]        \n",
    "    train_data = left_data.append(right_data)\n",
    "    train_data = train_data.reset_index(drop=True)\n",
    "    return train_data, test_data"
   ]
  },
  {
   "cell_type": "code",
   "execution_count": 6,
   "metadata": {},
   "outputs": [],
   "source": [
    "def DT_FittingAndEvaluation(x, x_test, y_residual, y_test, perf, model_list):\n",
    "    y_residual = DT_Fitting(x, y_residual, model_list)\n",
    "    result=GradientBoosting_eval(model_list,x_test)\n",
    "    perf.append(r2_score(y_test,result))\n",
    "    perf[-20:]\n",
    "    return y_residual,result"
   ]
  },
  {
   "cell_type": "code",
   "execution_count": 7,
   "metadata": {},
   "outputs": [],
   "source": [
    "def DT_Fitting(x, y_residual, model_list):\n",
    "    clf = tree.DecisionTreeRegressor(max_depth=6)\n",
    "    clf = clf.fit(x, y_residual)\n",
    "    model_list.append(clf)\n",
    "    yp = clf.predict(x).reshape(-1,1)\n",
    "    y_residual = y_residual-yp\n",
    "    return y_residual"
   ]
  },
  {
   "cell_type": "code",
   "execution_count": 8,
   "metadata": {},
   "outputs": [],
   "source": [
    "def GradientBoosting_eval(models,data_to_predict):\n",
    "    prediction = np.zeros((len(data_to_predict),1))\n",
    "    for model in models:\n",
    "        yp = model.predict(data_to_predict).reshape(-1,1)\n",
    "        prediction += yp\n",
    "    return prediction.reshape(-1,1)"
   ]
  },
  {
   "cell_type": "code",
   "execution_count": 9,
   "metadata": {},
   "outputs": [],
   "source": [
    "def GradientBoosting_performances(crossperf):\n",
    "    finalperf = []\n",
    "    for i in range(len(crossperf[0])):\n",
    "        perflist=[]\n",
    "        for performance in crossperf:\n",
    "            perflist.append(performance[i])\n",
    "        finalperf.append(np.average(perflist))\n",
    "        del perflist\n",
    "        print(\"Boosting %d : %d modelli - R2: %f\\n\" % (i,i+1,finalperf[i]))\n",
    "    plt.plot(finalperf)"
   ]
  },
  {
   "cell_type": "markdown",
   "metadata": {},
   "source": [
    "# Predict Sales direclty"
   ]
  },
  {
   "cell_type": "markdown",
   "metadata": {},
   "source": [
    "### No Features Selection"
   ]
  },
  {
   "cell_type": "code",
   "execution_count": 12,
   "metadata": {},
   "outputs": [],
   "source": [
    "all_features = train.drop(columns=['NumberOfSales','NumberOfCustomers']).columns"
   ]
  },
  {
   "cell_type": "code",
   "execution_count": 15,
   "metadata": {},
   "outputs": [],
   "source": [
    "crossperf,meanperf = AverageModelsCrossvalidation(train,all_features,'NumberOfSales',130)"
   ]
  },
  {
   "cell_type": "code",
   "execution_count": 25,
   "metadata": {},
   "outputs": [
    {
     "data": {
      "text/plain": [
       "0.8483283792414286"
      ]
     },
     "execution_count": 25,
     "metadata": {},
     "output_type": "execute_result"
    }
   ],
   "source": [
    "np.average([crossperf[0][129] , crossperf[1][129] , crossperf[2][129]])"
   ]
  },
  {
   "cell_type": "code",
   "execution_count": 26,
   "metadata": {},
   "outputs": [
    {
     "data": {
      "text/plain": [
       "0.8681417308283904"
      ]
     },
     "execution_count": 26,
     "metadata": {},
     "output_type": "execute_result"
    }
   ],
   "source": [
    "np.average(meanperf)"
   ]
  }
 ],
 "metadata": {
  "kernelspec": {
   "display_name": "Python 3",
   "language": "python",
   "name": "python3"
  },
  "language_info": {
   "codemirror_mode": {
    "name": "ipython",
    "version": 3
   },
   "file_extension": ".py",
   "mimetype": "text/x-python",
   "name": "python",
   "nbconvert_exporter": "python",
   "pygments_lexer": "ipython3",
   "version": "3.6.4"
  }
 },
 "nbformat": 4,
 "nbformat_minor": 2
}
