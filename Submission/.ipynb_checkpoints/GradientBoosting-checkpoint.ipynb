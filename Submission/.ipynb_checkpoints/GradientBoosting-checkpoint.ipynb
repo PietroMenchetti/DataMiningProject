{
 "cells": [
  {
   "cell_type": "markdown",
   "metadata": {},
   "source": [
    "# Gradient boosting"
   ]
  },
  {
   "cell_type": "markdown",
   "metadata": {},
   "source": [
    "## Load libraries"
   ]
  },
  {
   "cell_type": "code",
   "execution_count": 18,
   "metadata": {
    "collapsed": true
   },
   "outputs": [],
   "source": [
    "import pandas as pd\n",
    "import numpy as np\n",
    "import seaborn as sns\n",
    "import matplotlib\n",
    "import matplotlib.pyplot as plt\n",
    "%matplotlib inline\n",
    "import warnings \n",
    "warnings.filterwarnings(\"ignore\")\n",
    "sns.set(style=\"white\", color_codes=True)\n",
    "sns.set_context(rc={\"font.family\":'sans',\"font.size\":10,\"axes.titlesize\":24,\"axes.labelsize\":24}) \n",
    "from sklearn import tree\n",
    "from sklearn import linear_model\n",
    "from sklearn import neighbors\n",
    "from sklearn.model_selection import cross_val_score\n",
    "from sklearn.preprocessing import PolynomialFeatures\n",
    "from scipy import stats\n",
    "from sklearn.metrics import mean_squared_error,r2_score"
   ]
  },
  {
   "cell_type": "markdown",
   "metadata": {},
   "source": [
    "## Load data"
   ]
  },
  {
   "cell_type": "code",
   "execution_count": 19,
   "metadata": {
    "collapsed": true
   },
   "outputs": [],
   "source": [
    "X_train_complete = pd.read_csv(\"TrainNormalized.csv\")\n",
    "X_test = pd.read_csv(\"TestNormalized.csv\")\n",
    "#X_PCA = pd.read_csv(\"TrainClean10PCA.csv\")\n",
    "#X_train_complete.describe()"
   ]
  },
  {
   "cell_type": "code",
   "execution_count": 20,
   "metadata": {
    "collapsed": true,
    "scrolled": true
   },
   "outputs": [],
   "source": [
    "#X_train_complete.columns"
   ]
  },
  {
   "cell_type": "markdown",
   "metadata": {},
   "source": [
    "## Regression on NumberOfCustomers"
   ]
  },
  {
   "cell_type": "code",
   "execution_count": 21,
   "metadata": {
    "collapsed": true
   },
   "outputs": [],
   "source": [
    "y=X_train_complete['NumberOfCustomers'].values.reshape(-1,1)\n",
    "x=X_train_complete.drop(columns=[X_train_complete.columns[0],'NumberOfCustomers','NumberOfSales'],axis=1)"
   ]
  },
  {
   "cell_type": "markdown",
   "metadata": {},
   "source": [
    "## Lasso feature selection"
   ]
  },
  {
   "cell_type": "code",
   "execution_count": 22,
   "metadata": {},
   "outputs": [
    {
     "data": {
      "text/plain": [
       "68"
      ]
     },
     "execution_count": 22,
     "metadata": {},
     "output_type": "execute_result"
    }
   ],
   "source": [
    "i"
   ]
  },
  {
   "cell_type": "code",
   "execution_count": 23,
   "metadata": {
    "scrolled": true
   },
   "outputs": [
    {
     "name": "stdout",
     "output_type": "stream",
     "text": [
      "Linear Regression with Lasso\n",
      "==================================================\n",
      "\t                  Train R2=0.322\n",
      "\t                  Train RMSE=16958.834\n",
      "\n",
      "Linear Regression with Lasso - Chosen Features\n"
     ]
    },
    {
     "data": {
      "text/plain": [
       "Index(['HasPromotions', 'NearestCompetitor', 'Region_AreaKM2', 'CloudCover',\n",
       "       'Max_Dew_PointC', 'Max_Humidity', 'Max_Sea_Level_PressurehPa',\n",
       "       'Max_TemperatureC', 'Max_VisibilityKm', 'Mean_VisibilityKm',\n",
       "       'Min_Humidity', 'Min_Sea_Level_PressurehPa', 'Min_VisibilitykM',\n",
       "       'Precipitationmm', 'StandardMarket', 'HyperMarket', 'ShoppingCenter',\n",
       "       'General', 'WithFishDepartment', 'Region0', 'Region1', 'Region3',\n",
       "       'Region4', 'Region5', 'Region6', 'Region7', 'Region8', 'Region9',\n",
       "       'January', 'February', 'March', 'April', 'May', 'June', 'September',\n",
       "       'October', 'December', 'Fog', 'Nothing', 'Snow', 'Wind2', 'Wind3',\n",
       "       'Wind6', 'Wind7'],\n",
       "      dtype='object')"
      ]
     },
     "execution_count": 23,
     "metadata": {},
     "output_type": "execute_result"
    }
   ],
   "source": [
    "lasso = linear_model.LassoCV(cv=10)\n",
    "lasso_fit=lasso.fit(x,y)\n",
    "yp_lasso = lasso.predict(x)\n",
    "r2_simple_train = r2_score(y,yp_lasso)\n",
    "rmse_simple_train = mean_squared_error(y,yp_lasso,multioutput='raw_values')\n",
    "print(\"Linear Regression with Lasso\")\n",
    "print(\"==================================================\")\n",
    "print(\"\\t                  Train R2=%.3f\"%(r2_simple_train))\n",
    "print(\"\\t                  Train RMSE=%.3f\"%(rmse_simple_train))\n",
    "print(\"\\nLinear Regression with Lasso - Chosen Features\")\n",
    "selected=[]\n",
    "threshold=0.5\n",
    "for i,c in enumerate(np.append(lasso_fit.intercept_,lasso_fit.coef_)):\n",
    "    #print(\"%d\\t%3.3f\" % (i,c) )\n",
    "    if abs(c)>threshold and not i == 0:\n",
    "        selected.append(x.columns[i-1])\n",
    "x=x[selected]\n",
    "x.columns"
   ]
  },
  {
   "cell_type": "markdown",
   "metadata": {},
   "source": [
    "## Try different model complexities"
   ]
  },
  {
   "cell_type": "code",
   "execution_count": 24,
   "metadata": {},
   "outputs": [
    {
     "name": "stdout",
     "output_type": "stream",
     "text": [
      "Complexity , RMSE , R2 , crossval_score\n"
     ]
    },
    {
     "data": {
      "text/plain": [
       "[(1, 21459.044300149246, 0.14155738044153643, 0.033292279518822),\n",
       " (2, 18379.00021871257, 0.264770747851643, 0.006328134220939326),\n",
       " (3, 16466.648484948204, 0.34127202204112006, 0.03946724982168693),\n",
       " (4, 14939.593369403545, 0.40235997988597105, 0.17185766193083363),\n",
       " (5, 13963.837133617744, 0.44139390550644453, 0.18039380975738598),\n",
       " (6, 13227.672736705228, 0.47084325490299994, 0.18483152500792568),\n",
       " (7, 12426.210207524215, 0.5029047756028437, 0.18007207602222605),\n",
       " (8, 11409.427435060974, 0.5435799172590448, 0.10325872977723079)]"
      ]
     },
     "execution_count": 24,
     "metadata": {},
     "output_type": "execute_result"
    }
   ],
   "source": [
    "perf=[]\n",
    "cross_tot=[]\n",
    "n=8\n",
    "for i in np.arange(n)+1:\n",
    "    \n",
    "    clf = tree.DecisionTreeRegressor(max_depth=i)\n",
    "    \n",
    "    #clf = linear_model.LinearRegression()\n",
    "    #poly=PolynomialFeatures(x)\n",
    "    #poly.fit_transform(x)\n",
    "    \n",
    "    #clf=neighbors.KNeighborsRegressor(i)\n",
    "    \n",
    "    clf = clf.fit(x, y)\n",
    "    #clf = clf.fit(xp, y)\n",
    "    yp = clf.predict(x).reshape(-1,1)\n",
    "    #yp = clf.predict(xp).reshape(-1,1)\n",
    "    \n",
    "    cross=cross_val_score(clf,x,y).mean() # This is a 3 folds cross-val. As the dataset is big, it's enough!\n",
    "    #cross=cross_val_score(clf,xp,y).mean()\n",
    "    cross_tot.append(cross)\n",
    "    perf.append((i,mean_squared_error(y,yp),r2_score(y,yp),cross))\n",
    "print(\"Complexity , RMSE , R2 , crossval_score\")\n",
    "perf"
   ]
  },
  {
   "cell_type": "code",
   "execution_count": 25,
   "metadata": {},
   "outputs": [
    {
     "data": {
      "text/plain": [
       "[<matplotlib.lines.Line2D at 0x1b897727748>]"
      ]
     },
     "execution_count": 25,
     "metadata": {},
     "output_type": "execute_result"
    },
    {
     "data": {
      "image/png": "[encoded data removed]",
      "text/plain": [
       "<matplotlib.figure.Figure at 0x1b8976c7668>"
      ]
     },
     "metadata": {},
     "output_type": "display_data"
    }
   ],
   "source": [
    "plt.plot(list(np.arange(n)+1),cross_tot,)"
   ]
  },
  {
   "cell_type": "markdown",
   "metadata": {},
   "source": [
    "## Gradient Boosting"
   ]
  },
  {
   "cell_type": "markdown",
   "metadata": {},
   "source": [
    "Step 1 generating the first model"
   ]
  },
  {
   "cell_type": "code",
   "execution_count": 30,
   "metadata": {
    "collapsed": true
   },
   "outputs": [],
   "source": [
    "perf=[]\n",
    "model_list=[] # lol\n",
    "prediction = np.zeros((len(y),1))\n",
    "clf = tree.DecisionTreeRegressor(max_depth=6) # it is the best one\n",
    "#clf = linear_model.LinearRegression()\n",
    "#clf=neighbors.KNeighborsRegressor(2)\n",
    "clf = clf.fit(x, y)\n",
    "model_list.append(clf)\n",
    "yp = clf.predict(x).reshape(-1,1)\n",
    "prediction += yp\n",
    "y_residual = y-yp\n",
    "perf.append((mean_squared_error(y,prediction),r2_score(y,prediction)))"
   ]
  },
  {
   "cell_type": "markdown",
   "metadata": {},
   "source": [
    "Step 2 loop generating models to describe residuals of the previous models"
   ]
  },
  {
   "cell_type": "code",
   "execution_count": 35,
   "metadata": {
    "collapsed": true
   },
   "outputs": [],
   "source": [
    "no_boosting_runs = 100\n",
    "for i in range(no_boosting_runs):\n",
    "    clf = tree.DecisionTreeRegressor(max_depth=6) # it is the best one\n",
    "    #clf = linear_model.LinearRegression()\n",
    "    # suggested no_boosting_runs = 3 for KNN\n",
    "    #clf=neighbors.KNeighborsRegressor(2)\n",
    "    clf = clf.fit(x, y_residual)\n",
    "    model_list.append(clf)\n",
    "    yp = clf.predict(x).reshape(-1,1)\n",
    "    # update the prediction\n",
    "    prediction += yp\n",
    "    y_residual = y-prediction\n",
    "    perf.append((mean_squared_error(y,prediction),r2_score(y,prediction)))"
   ]
  },
  {
   "cell_type": "code",
   "execution_count": 36,
   "metadata": {},
   "outputs": [
    {
     "name": "stdout",
     "output_type": "stream",
     "text": [
      "RMSE , R2\n"
     ]
    },
    {
     "data": {
      "text/plain": [
       "[(2446.0680466392528, 0.902148062504319),\n",
       " (2435.0683211327237, 0.9025880929663551),\n",
       " (2425.8344449710044, 0.9029574828017118),\n",
       " (2420.394656428584, 0.9031750948379649),\n",
       " (2415.5729367411473, 0.9033679817914267),\n",
       " (2408.927271209743, 0.9036338334504146),\n",
       " (2400.8619485885706, 0.9039564767415912),\n",
       " (2394.1889743862607, 0.9042234208503014),\n",
       " (2390.564927812392, 0.9043683963669534),\n",
       " (2387.2769136127195, 0.9044999293226262),\n",
       " (2381.882289321428, 0.9047157346186766),\n",
       " (2377.5731865932707, 0.9048881149624685),\n",
       " (2373.3965691704007, 0.9050551953949069),\n",
       " (2367.5561177846907, 0.9052888354544),\n",
       " (2364.403085084837, 0.9054149686415334),\n",
       " (2352.5061763538843, 0.9058908898127095),\n",
       " (2349.0714707888524, 0.9060282909756605),\n",
       " (2343.4155803157923, 0.9062545479033093),\n",
       " (2340.5012462471486, 0.9063711322458905),\n",
       " (2331.3003714755255, 0.9067392019013097)]"
      ]
     },
     "execution_count": 36,
     "metadata": {},
     "output_type": "execute_result"
    }
   ],
   "source": [
    "print(\"RMSE , R2\")\n",
    "perf[-20:]"
   ]
  },
  {
   "cell_type": "markdown",
   "metadata": {},
   "source": [
    "Define a function to perform model evaluation"
   ]
  },
  {
   "cell_type": "code",
   "execution_count": 33,
   "metadata": {
    "collapsed": true
   },
   "outputs": [],
   "source": [
    "def GradientBoosting_eval(models,x):\n",
    "    prediction = np.zeros((len(x),1))\n",
    "    for model in models:\n",
    "        yp = model.predict(x).reshape(-1,1)\n",
    "        prediction += yp\n",
    "    return prediction.reshape(-1,1)\n",
    "\n",
    "result=GradientBoosting_eval(model_list,x)"
   ]
  },
  {
   "cell_type": "code",
   "execution_count": 34,
   "metadata": {},
   "outputs": [
    {
     "data": {
      "text/plain": [
       "array([[579.2991262 ],\n",
       "       [579.2991262 ],\n",
       "       [579.2991262 ],\n",
       "       ...,\n",
       "       [175.56712235],\n",
       "       [210.22476211],\n",
       "       [206.66568995]])"
      ]
     },
     "execution_count": 34,
     "metadata": {},
     "output_type": "execute_result"
    }
   ],
   "source": [
    "result"
   ]
  }
 ],
 "metadata": {
  "kernelspec": {
   "display_name": "Python 3",
   "language": "python",
   "name": "python3"
  },
  "language_info": {
   "codemirror_mode": {
    "name": "ipython",
    "version": 3
   },
   "file_extension": ".py",
   "mimetype": "text/x-python",
   "name": "python",
   "nbconvert_exporter": "python",
   "pygments_lexer": "ipython3",
   "version": "3.6.4"
  }
 },
 "nbformat": 4,
 "nbformat_minor": 2
}
