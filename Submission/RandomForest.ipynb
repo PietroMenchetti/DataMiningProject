{
 "cells": [
  {
   "cell_type": "code",
   "execution_count": 1,
   "metadata": {},
   "outputs": [],
   "source": [
    "import pandas as pd\n",
    "import numpy as np\n",
    "import seaborn as sns\n",
    "import matplotlib.pyplot as plt\n",
    "from scipy import stats\n",
    "from sklearn.metrics import mean_squared_error\n",
    "import math\n",
    "from sklearn.ensemble import RandomForestRegressor\n",
    "from sklearn import model_selection\n",
    "from sklearn.metrics import r2_score\n",
    "import warnings \n",
    "from sklearn import model_selection\n",
    "from sklearn import linear_model #import LinearRegression, Ridge, RidgeCV, ElasticNet, Lasso, LassoCV\n",
    "from sklearn.model_selection import cross_val_score\n",
    "from sklearn.model_selection import KFold\n",
    "from sklearn.metrics import r2_score\n",
    "from sklearn.metrics import mean_squared_error\n",
    "warnings.filterwarnings(\"ignore\")"
   ]
  },
  {
   "cell_type": "code",
   "execution_count": 3,
   "metadata": {},
   "outputs": [
    {
     "data": {
      "text/plain": [
       "Index(['IsHoliday', 'HasPromotions', 'NearestCompetitor', 'Region_AreaKM2',\n",
       "       'Region_GDP', 'Region_PopulationK', 'Mean_Dew_PointC', 'Mean_Humidity',\n",
       "       'Mean_Sea_Level_PressurehPa', 'Mean_TemperatureC', 'Mean_VisibilityKm',\n",
       "       'Mean_Wind_SpeedKm_h', 'Precipitationmm', 'StandardMarket',\n",
       "       'HyperMarket', 'SuperMarket', 'ShoppingCenter', 'General',\n",
       "       'WithFishDepartment', 'WithNonFoodDepartment', 'Region0', 'Region1',\n",
       "       'Region2', 'Region3', 'Region4', 'Region5', 'Region6', 'Region7',\n",
       "       'Region8', 'Region9', 'January', 'February', 'March', 'April', 'May',\n",
       "       'June', 'July', 'August', 'September', 'October', 'November',\n",
       "       'December', 'Tuesday', 'Wednesday', 'Friday', 'Saturday', 'Monday',\n",
       "       'Thursday', 'Sunday', 'Snow', 'Fog', 'Thunderstorm', 'Hail', 'Nothing',\n",
       "       'Rain', 'ZeroClouds', 'H', 'WCI', 'NumberOfSales', 'NumberOfCustomers'],\n",
       "      dtype='object')"
      ]
     },
     "execution_count": 3,
     "metadata": {},
     "output_type": "execute_result"
    }
   ],
   "source": [
    "train = pd.read_csv('TrainClean.csv',index_col=0)\n",
    "train.columns"
   ]
  },
  {
   "cell_type": "code",
   "execution_count": 4,
   "metadata": {},
   "outputs": [],
   "source": [
    "# Simula kfold cross validation per RF\n",
    "def mycvRF(dataset,fold,trees,rand,variablesC,variablesS,all):\n",
    "    \n",
    "    dataset = dataset.sample(frac=1,random_state=rand)\n",
    "    \n",
    "    size = dataset.shape[0]\n",
    "    k = fold\n",
    "    step = math.floor(size/k) # size for each fold\n",
    "    \n",
    "    R2_c = []\n",
    "    MSE_c = []\n",
    "    R2_s = []\n",
    "    MSE_s = []\n",
    "    \n",
    "    if all:\n",
    "        variablesC = dataset.columns.drop('NumberOfCustomers')\n",
    "        variablesC = variablesC.drop('NumberOfSales')\n",
    "        variablesS =  dataset.columns.drop('NumberOfSales')\n",
    "    \n",
    "      \n",
    "    for i in range(0,dataset.shape[0],step+1):\n",
    "        \n",
    "        left_data = dataset[0:i]\n",
    "        test_data = dataset[i:i+step]                         #train_data < test_data > train_data\n",
    "        right_data = dataset[i+step+1:dataset.shape[0]]\n",
    "        \n",
    "        \n",
    "        train_data = left_data.append(right_data)\n",
    "        train_data = train_data.reset_index(drop=True)\n",
    "\n",
    "        \n",
    "    \n",
    "        var = train_data[variablesC]\n",
    "        tar = train_data['NumberOfCustomers']\n",
    "    \n",
    "        model1 = RandomForestRegressor(random_state=rand,n_jobs =2,min_samples_leaf=5) #model 1 predice customers\n",
    "        model1.set_params(n_estimators=trees)\n",
    "        model1.fit(var, tar)\n",
    "    \n",
    "        var = train_data[variablesS]\n",
    "        tar = train_data['NumberOfSales']\n",
    "    \n",
    "        model2 = RandomForestRegressor(random_state=rand,n_jobs =2,min_samples_leaf=5) #model 2 predice sales\n",
    "        model2.set_params(n_estimators=trees)\n",
    "        model2.fit(var, tar)\n",
    "    \n",
    "        ###############################################################################################testing step\n",
    "    \n",
    "\n",
    "        NumOfCust = test_data['NumberOfCustomers']  \n",
    "        NumOfSales = test_data['NumberOfSales']      \n",
    "    \n",
    "        first_test = test_data[variablesC]  \n",
    "    \n",
    "        Custp = model1.predict(first_test) \n",
    "    \n",
    "        R2_c.append(r2_score(NumOfCust,Custp)) \n",
    "        MSE_c.append(mean_squared_error(NumOfCust,Custp)) \n",
    "    \n",
    "        second_test = test_data[variablesS] \n",
    "        second_test['NumberOfCustomers'] = Custp \n",
    "    \n",
    "        Salesp = model2.predict(second_test) \n",
    "    \n",
    "        R2_s.append(r2_score(NumOfSales,Salesp))\n",
    "        MSE_s.append(mean_squared_error(NumOfSales,Salesp));\n",
    "    \n",
    "    return R2_c , MSE_c , R2_s , MSE_s"
   ]
  },
  {
   "cell_type": "code",
   "execution_count": 5,
   "metadata": {},
   "outputs": [],
   "source": [
    "# Simula kfold cross validation per RF\n",
    "def mycvRFDirect(dataset,fold,trees,rand):\n",
    "    \n",
    "    dataset = dataset.sample(frac=1,random_state=rand)\n",
    "    \n",
    "    size = dataset.shape[0]\n",
    "    k = fold\n",
    "    step = math.floor(size/k) # size for each fold\n",
    "    \n",
    "    R2_c = []\n",
    "    MSE_c = []\n",
    "    R2_s = []\n",
    "    MSE_s = []\n",
    "    \n",
    "    variablesC = dataset.columns.drop('NumberOfCustomers')\n",
    "    variablesC = variablesC.drop('NumberOfSales')\n",
    "    \n",
    "      \n",
    "    for i in range(0,dataset.shape[0],step+1):\n",
    "        \n",
    "        left_data = dataset[0:i]\n",
    "        test_data = dataset[i:i+step]                         #train_data < test_data > train_data\n",
    "        right_data = dataset[i+step+1:dataset.shape[0]]\n",
    "        \n",
    "        \n",
    "        train_data = left_data.append(right_data)\n",
    "        train_data = train_data.reset_index(drop=True)\n",
    "\n",
    "        \n",
    "        #train_data, test_data = model_selection.train_test_split(dataset,train_size = test_size =0.3, random_state=rand)\n",
    "    \n",
    "        var = train_data[variablesC]\n",
    "        tar = train_data['NumberOfSales']\n",
    "    \n",
    "        model1 = RandomForestRegressor(random_state=rand,n_jobs =2,min_samples_leaf=5) #model 1 predice customers\n",
    "        model1.set_params(n_estimators=trees)\n",
    "        model1.fit(var, tar)\n",
    "    \n",
    "    \n",
    "        ###############################################################################################testing step\n",
    "    \n",
    "\n",
    "        NumOfSales = test_data['NumberOfSales']     \n",
    "    \n",
    "        first_test = test_data[variablesC]  \n",
    "    \n",
    "        Salesp = model1.predict(first_test) \n",
    "    \n",
    "        R2_s.append(r2_score(NumOfSales,Salesp)) \n",
    "        MSE_s.append(mean_squared_error(NumOfSales,Salesp)) \n",
    "    \n",
    "    \n",
    "    return  R2_s , MSE_s"
   ]
  },
  {
   "cell_type": "markdown",
   "metadata": {},
   "source": [
    "# 50 all"
   ]
  },
  {
   "cell_type": "code",
   "execution_count": 6,
   "metadata": {},
   "outputs": [
    {
     "data": {
      "text/plain": [
       "0.7930716530025319"
      ]
     },
     "execution_count": 6,
     "metadata": {},
     "output_type": "execute_result"
    }
   ],
   "source": [
    "train_data, test_data = model_selection.train_test_split(train,test_size =0.3, random_state=12345)\n",
    "\n",
    "tar = train_data['NumberOfCustomers']\n",
    "var = train_data.drop(labels='NumberOfCustomers',axis=1)\n",
    "var = var.drop(labels='NumberOfSales',axis=1)\n",
    "#else:\n",
    "#    var = train_data[cust_i]\n",
    "\n",
    "model1 = RandomForestRegressor(random_state=12345,n_jobs=2) #model 1 predice customers\n",
    "model1.set_params(n_estimators=50)\n",
    "model1.fit(var, tar)\n",
    "\n",
    "FitCust = model1.predict(var)\n",
    "\n",
    "tar = train_data['NumberOfSales']\n",
    "var = train_data.drop(labels='NumberOfSales',axis=1)\n",
    "var['NumberOfCustomers'] = FitCust\n",
    "\n",
    "model2 = RandomForestRegressor(random_state=12345,n_jobs =2) #model 2 predice sales\n",
    "model2.set_params(n_estimators=50)\n",
    "model2.fit(var, tar)\n",
    "    \n",
    "    ###############################################################################################testing step\n",
    "    \n",
    "NumOfCust = test_data['NumberOfCustomers']   #metto da parte i cust\n",
    "NumOfSales = test_data['NumberOfSales']      #metto da parte le sales\n",
    "\n",
    "\n",
    "first_test = test_data.drop(labels='NumberOfSales',axis=1)\n",
    "first_test = first_test.drop(labels='NumberOfCustomers',axis=1)\n",
    "\n",
    "\n",
    "\n",
    "Custp = model1.predict(first_test) #model1 predice cust\n",
    "    \n",
    "R2_c = r2_score(NumOfCust,Custp) #calcolo R2 dei cust\n",
    "MSE_c = mean_squared_error(NumOfCust,Custp) #calcolo MSE dei cust\n",
    "    \n",
    "second_test = test_data.drop(labels='NumberOfSales',axis=1)\n",
    "#second_test = test_data[sales_i] #un po inutile solo per chiarezza\n",
    "second_test['NumberOfCustomers'] = Custp #metto i cust predetti dal model1 nel test per predire le vendite future\n",
    "    \n",
    "Salesp = model2.predict(second_test) #model2 predice sales\n",
    "    \n",
    "R2_s = r2_score(NumOfSales,Salesp)\n",
    "R2_s"
   ]
  },
  {
   "cell_type": "markdown",
   "metadata": {},
   "source": [
    "## 50 all direct(without double regr)"
   ]
  },
  {
   "cell_type": "code",
   "execution_count": 7,
   "metadata": {},
   "outputs": [
    {
     "data": {
      "text/plain": [
       "0.8159499827080461"
      ]
     },
     "execution_count": 7,
     "metadata": {},
     "output_type": "execute_result"
    }
   ],
   "source": [
    "train_data, test_data = model_selection.train_test_split(train,test_size =0.3, random_state=12345)\n",
    "\n",
    "tar = train_data['NumberOfSales']\n",
    "var = train_data.drop(labels='NumberOfCustomers',axis=1)\n",
    "var = var.drop(labels='NumberOfSales',axis=1)\n",
    "\n",
    "\n",
    "model1 = RandomForestRegressor(random_state=12345,oob_score=True) \n",
    "model1.set_params(n_estimators=50)\n",
    "model1.fit(var, tar)\n",
    "model1.oob_score_"
   ]
  },
  {
   "cell_type": "markdown",
   "metadata": {},
   "source": [
    "# 50 LassoFS"
   ]
  },
  {
   "cell_type": "code",
   "execution_count": 8,
   "metadata": {},
   "outputs": [],
   "source": [
    "cust_i = pd.Index(['HasPromotions', 'NearestCompetitor', 'Region_AreaKM2',\n",
    "       'Mean_Dew_PointC', 'Mean_Sea_Level_PressurehPa', 'Precipitationmm',\n",
    "       'StandardMarket', 'HyperMarket', 'ShoppingCenter', 'General',\n",
    "       'WithFishDepartment', 'Region0', 'Region1', 'Region3', 'Region4',\n",
    "       'Region5', 'Region6', 'Region7', 'Region8', 'Region9', 'January',\n",
    "       'February', 'April', 'May', 'June', 'September', 'October', 'November',\n",
    "       'December', 'Wednesday', 'Friday', 'Saturday', 'Monday', 'Thursday',\n",
    "       'Snow', 'Fog'])\n",
    "sales_i = pd.Index(['IsHoliday', 'HasPromotions', 'NearestCompetitor', 'Region_AreaKM2',\n",
    "       'Region_PopulationK', 'Mean_Humidity', 'Mean_Sea_Level_PressurehPa',\n",
    "       'Mean_TemperatureC', 'Mean_VisibilityKm', 'Precipitationmm',\n",
    "       'StandardMarket', 'HyperMarket', 'SuperMarket', 'ShoppingCenter',\n",
    "       'General', 'WithFishDepartment', 'WithNonFoodDepartment', 'Region0',\n",
    "       'Region1', 'Region3', 'Region4', 'Region5', 'Region6', 'Region7',\n",
    "       'Region8', 'January', 'February', 'March', 'April', 'May', 'June',\n",
    "       'July', 'August', 'September', 'October', 'November', 'December',\n",
    "       'Tuesday', 'Wednesday', 'Friday', 'Monday', 'Thursday', 'Sunday',\n",
    "       'Snow', 'Fog', 'Nothing', 'Rain', 'NumberOfCustomers'])"
   ]
  },
  {
   "cell_type": "code",
   "execution_count": 9,
   "metadata": {},
   "outputs": [
    {
     "data": {
      "text/plain": [
       "0.7816388857147238"
      ]
     },
     "execution_count": 9,
     "metadata": {},
     "output_type": "execute_result"
    }
   ],
   "source": [
    "train_data, test_data = model_selection.train_test_split(train,test_size =0.3, random_state=12345)\n",
    "\n",
    "tar = train_data['NumberOfCustomers']\n",
    "var = train_data[cust_i]\n",
    "\n",
    "\n",
    "model1 = RandomForestRegressor(random_state=12345) #model 1 predice customers\n",
    "model1.set_params(n_estimators=50)\n",
    "model1.fit(var, tar)\n",
    "\n",
    "FitCust = model1.predict(var)\n",
    "\n",
    "tar = train_data['NumberOfSales']\n",
    "var = train_data[sales_i]\n",
    "var['NumberOfCustomers'] = FitCust\n",
    "\n",
    "model2 = RandomForestRegressor(random_state=12345) #model 2 predice sales\n",
    "model2.set_params(n_estimators=50)\n",
    "model2.fit(var, tar)\n",
    "    \n",
    "    ###############################################################################################testing step\n",
    "    \n",
    "NumOfCust = test_data['NumberOfCustomers']   #metto da parte i cust\n",
    "NumOfSales = test_data['NumberOfSales']      #metto da parte le sales\n",
    "\n",
    "\n",
    "\n",
    "first_test = test_data[cust_i]\n",
    "    \n",
    "\n",
    "\n",
    "Custp = model1.predict(first_test) #model1 predice cust\n",
    "    \n",
    "R2_c = r2_score(NumOfCust,Custp) #calcolo R2 dei cust\n",
    "MSE_c = mean_squared_error(NumOfCust,Custp) #calcolo MSE dei cust\n",
    "    \n",
    "\n",
    "second_test = test_data[sales_i]\n",
    "second_test['NumberOfCustomers'] = Custp #metto i cust predetti dal model1 nel test per predire le vendite future\n",
    "    \n",
    "Salesp = model2.predict(second_test) #model2 predice sales\n",
    "    \n",
    "R2_s = r2_score(NumOfSales,Salesp)\n",
    "MSE_s = mean_squared_error(NumOfSales,Salesp)\n",
    "R2_s"
   ]
  },
  {
   "cell_type": "markdown",
   "metadata": {},
   "source": [
    "## 50 LassoFS direct(without double regr)"
   ]
  },
  {
   "cell_type": "code",
   "execution_count": 10,
   "metadata": {},
   "outputs": [],
   "source": [
    "direct_features = pd.Index(['HasPromotions', 'NearestCompetitor', 'Region_GDP',\n",
    "       'Mean_Sea_Level_PressurehPa', 'Mean_TemperatureC', 'Precipitationmm',\n",
    "       'StandardMarket', 'HyperMarket', 'SuperMarket', 'ShoppingCenter',\n",
    "       'General', 'WithFishDepartment', 'Region0', 'Region2', 'Region3',\n",
    "       'Region4', 'Region5', 'Region6', 'Region8', 'Region9', 'January',\n",
    "       'February', 'March', 'April', 'May', 'June', 'September', 'October',\n",
    "       'November', 'December', 'Tuesday', 'Wednesday', 'Friday', 'Saturday',\n",
    "       'Monday', 'Snow', 'Fog', 'Rain'])"
   ]
  },
  {
   "cell_type": "code",
   "execution_count": 11,
   "metadata": {},
   "outputs": [
    {
     "data": {
      "text/plain": [
       "0.7967498359482068"
      ]
     },
     "execution_count": 11,
     "metadata": {},
     "output_type": "execute_result"
    }
   ],
   "source": [
    "train_data, test_data = model_selection.train_test_split(train,test_size =0.3, random_state=12345)\n",
    "\n",
    "tar = train_data['NumberOfSales']\n",
    "var = train_data[direct_features]\n",
    "\n",
    "model1 = RandomForestRegressor(random_state=12345) \n",
    "model1.set_params(n_estimators=50)\n",
    "model1.fit(var, tar)\n",
    "NumOfSales = test_data['NumberOfSales']      #metto da parte le sales\n",
    "\n",
    "\n",
    "\n",
    "first_test = test_data[direct_features]\n",
    "    \n",
    "\n",
    "\n",
    "Salesp = model1.predict(first_test) #model1 predice cust\n",
    "\n",
    "    \n",
    "R2_s = r2_score(NumOfSales,Salesp)\n",
    "R2_s"
   ]
  },
  {
   "cell_type": "markdown",
   "metadata": {},
   "source": [
    "## 50 RFFS direct(without double regr)"
   ]
  },
  {
   "cell_type": "code",
   "execution_count": 6,
   "metadata": {},
   "outputs": [],
   "source": [
    "direct_features = pd.Index(['NearestCompetitor', 'HasPromotions', 'HyperMarket', 'General',\n",
    "       'Region3', 'December', 'Monday', 'Region_GDP', 'ShoppingCenter',\n",
    "       'Saturday', 'StandardMarket', 'Mean_Sea_Level_PressurehPa',\n",
    "       'Region_PopulationK', 'SuperMarket', 'Region_AreaKM2',\n",
    "       'Mean_VisibilityKm', 'Mean_Humidity', 'Mean_Dew_PointC',\n",
    "       'Mean_TemperatureC', 'H', 'Mean_Wind_SpeedKm_h'])"
   ]
  },
  {
   "cell_type": "code",
   "execution_count": 7,
   "metadata": {},
   "outputs": [
    {
     "data": {
      "text/plain": [
       "0.7877040563702649"
      ]
     },
     "execution_count": 7,
     "metadata": {},
     "output_type": "execute_result"
    }
   ],
   "source": [
    "train_data, test_data = model_selection.train_test_split(train,test_size =0.3, random_state=12345)\n",
    "\n",
    "tar = train_data['NumberOfSales']\n",
    "var = train_data[direct_features]\n",
    "\n",
    "model1 = RandomForestRegressor(random_state=12345) \n",
    "model1.set_params(n_estimators=50)\n",
    "model1.fit(var, tar)\n",
    "NumOfSales = test_data['NumberOfSales']      #metto da parte le sales\n",
    "\n",
    "\n",
    "\n",
    "first_test = test_data[direct_features]\n",
    "    \n",
    "\n",
    "\n",
    "Salesp = model1.predict(first_test) #model1 predice cust\n",
    "\n",
    "    \n",
    "R2_s = r2_score(NumOfSales,Salesp)\n",
    "R2_s"
   ]
  },
  {
   "cell_type": "markdown",
   "metadata": {},
   "source": [
    "# 50 RFFS"
   ]
  },
  {
   "cell_type": "code",
   "execution_count": 20,
   "metadata": {},
   "outputs": [],
   "source": [
    "cust_i = pd.Index(['NearestCompetitor', 'ShoppingCenter', 'Region3', 'HasPromotions',\n",
    "       'StandardMarket', 'Region7', 'General', 'Region_AreaKM2',\n",
    "       'WithNonFoodDepartment', 'SuperMarket', 'Region_GDP', 'HyperMarket',\n",
    "       'Monday', 'December', 'Saturday', 'Region8', 'Region_PopulationK',\n",
    "       'Region0', 'Region9', 'Region2'])\n",
    "sales_i = pd.Index(['NumberOfCustomers', 'HasPromotions', 'NearestCompetitor',\n",
    "       'StandardMarket', 'General', 'Monday', 'December', 'Region3',\n",
    "       'Region_AreaKM2', 'Region_PopulationK', 'Region_GDP', 'Region9',\n",
    "       'HyperMarket', 'Region2', 'Saturday', 'WithNonFoodDepartment',\n",
    "       'ShoppingCenter', 'SuperMarket', 'Region6', 'Region0'])"
   ]
  },
  {
   "cell_type": "code",
   "execution_count": 21,
   "metadata": {},
   "outputs": [
    {
     "data": {
      "text/plain": [
       "0.8114839653427683"
      ]
     },
     "execution_count": 21,
     "metadata": {},
     "output_type": "execute_result"
    }
   ],
   "source": [
    "train_data, test_data = model_selection.train_test_split(train,test_size =0.3, random_state=12345)\n",
    "\n",
    "tar = train_data['NumberOfCustomers']\n",
    "var = train_data[cust_i]\n",
    "\n",
    "\n",
    "model1 = RandomForestRegressor(random_state=12345) #model 1 predice customers\n",
    "model1.set_params(n_estimators=50)\n",
    "model1.fit(var, tar)\n",
    "\n",
    "FitCust = model1.predict(var)\n",
    "\n",
    "tar = train_data['NumberOfSales']\n",
    "var = train_data[sales_i]\n",
    "var['NumberOfCustomers'] = FitCust\n",
    "\n",
    "model2 = RandomForestRegressor(random_state=12345) #model 2 predice sales\n",
    "model2.set_params(n_estimators=50)\n",
    "model2.fit(var, tar)\n",
    "    \n",
    "    ###############################################################################################testing step\n",
    "    \n",
    "NumOfCust = test_data['NumberOfCustomers']   #metto da parte i cust\n",
    "NumOfSales = test_data['NumberOfSales']      #metto da parte le sales\n",
    "\n",
    "\n",
    "\n",
    "first_test = test_data[cust_i]\n",
    "    \n",
    "\n",
    "\n",
    "Custp = model1.predict(first_test) #model1 predice cust\n",
    "    \n",
    "R2_c = r2_score(NumOfCust,Custp) #calcolo R2 dei cust\n",
    "MSE_c = mean_squared_error(NumOfCust,Custp) #calcolo MSE dei cust\n",
    "    \n",
    "\n",
    "second_test = test_data[sales_i]\n",
    "second_test['NumberOfCustomers'] = Custp #metto i cust predetti dal model1 nel test per predire le vendite future\n",
    "    \n",
    "Salesp = model2.predict(second_test) #model2 predice sales\n",
    "    \n",
    "R2_s = r2_score(NumOfSales,Salesp)\n",
    "MSE_s = mean_squared_error(NumOfSales,Salesp)\n",
    "R2_s"
   ]
  },
  {
   "cell_type": "markdown",
   "metadata": {},
   "source": [
    "# All below without fitting the second model with the predict"
   ]
  },
  {
   "cell_type": "markdown",
   "metadata": {},
   "source": [
    "# 50 all"
   ]
  },
  {
   "cell_type": "code",
   "execution_count": 67,
   "metadata": {},
   "outputs": [
    {
     "data": {
      "text/plain": [
       "[0.8139799993268064, 0.8243747111675138, 0.826301038377639]"
      ]
     },
     "execution_count": 67,
     "metadata": {},
     "output_type": "execute_result"
    }
   ],
   "source": [
    "r2c,msec,r2s,mse_s = mycvRF(train,3,50,12345,[],[],True)\n",
    "r2s"
   ]
  },
  {
   "cell_type": "markdown",
   "metadata": {},
   "source": [
    "# 50 LassoFS"
   ]
  },
  {
   "cell_type": "code",
   "execution_count": 55,
   "metadata": {},
   "outputs": [],
   "source": [
    "cust_i = pd.Index(['HasPromotions', 'NearestCompetitor', 'Region_AreaKM2',\n",
    "       'Mean_Dew_PointC', 'Mean_Sea_Level_PressurehPa', 'Precipitationmm',\n",
    "       'StandardMarket', 'HyperMarket', 'ShoppingCenter', 'General',\n",
    "       'WithFishDepartment', 'Region0', 'Region1', 'Region3', 'Region4',\n",
    "       'Region5', 'Region6', 'Region7', 'Region8', 'Region9', 'January',\n",
    "       'February', 'April', 'May', 'June', 'September', 'October', 'November',\n",
    "       'December', 'Wednesday', 'Friday', 'Saturday', 'Monday', 'Thursday',\n",
    "       'Snow', 'Fog'])\n",
    "sales_i = pd.Index(['IsHoliday', 'HasPromotions', 'NearestCompetitor', 'Region_AreaKM2',\n",
    "       'Region_PopulationK', 'Mean_Humidity', 'Mean_Sea_Level_PressurehPa',\n",
    "       'Mean_TemperatureC', 'Mean_VisibilityKm', 'Precipitationmm',\n",
    "       'StandardMarket', 'HyperMarket', 'SuperMarket', 'ShoppingCenter',\n",
    "       'General', 'WithFishDepartment', 'WithNonFoodDepartment', 'Region0',\n",
    "       'Region1', 'Region3', 'Region4', 'Region5', 'Region6', 'Region7',\n",
    "       'Region8', 'January', 'February', 'March', 'April', 'May', 'June',\n",
    "       'July', 'August', 'September', 'October', 'November', 'December',\n",
    "       'Tuesday', 'Wednesday', 'Friday', 'Monday', 'Thursday', 'Sunday',\n",
    "       'Snow', 'Fog', 'Nothing', 'Rain', 'NumberOfCustomers'])"
   ]
  },
  {
   "cell_type": "code",
   "execution_count": 70,
   "metadata": {},
   "outputs": [
    {
     "data": {
      "text/plain": [
       "[0.8030916826122096, 0.8155665952380902, 0.8174717573811381]"
      ]
     },
     "execution_count": 70,
     "metadata": {},
     "output_type": "execute_result"
    }
   ],
   "source": [
    "r2c,msec,r2s,mse_s = mycvRF(train,3,50,12345,cust_i,sales_i,False)\n",
    "r2s"
   ]
  },
  {
   "cell_type": "markdown",
   "metadata": {},
   "source": [
    "# 50 RFFS"
   ]
  },
  {
   "cell_type": "code",
   "execution_count": 18,
   "metadata": {},
   "outputs": [],
   "source": [
    "cust_i = pd.Index(['NearestCompetitor', 'ShoppingCenter', 'Region3', 'HasPromotions',\n",
    "       'StandardMarket', 'Region7', 'General', 'Region_AreaKM2',\n",
    "       'WithNonFoodDepartment', 'SuperMarket', 'Region_GDP', 'HyperMarket',\n",
    "       'Monday', 'December', 'Saturday', 'Region8', 'Region_PopulationK',\n",
    "       'Region0', 'Region9', 'Region2'])\n",
    "sales_i = pd.Index(['NumberOfCustomers', 'HasPromotions', 'NearestCompetitor',\n",
    "       'StandardMarket', 'General', 'Monday', 'December', 'Region3',\n",
    "       'Region_AreaKM2', 'Region_PopulationK', 'Region_GDP', 'Region9',\n",
    "       'HyperMarket', 'Region2', 'Saturday', 'WithNonFoodDepartment',\n",
    "       'ShoppingCenter', 'SuperMarket', 'Region6', 'Region0'])"
   ]
  },
  {
   "cell_type": "code",
   "execution_count": 19,
   "metadata": {},
   "outputs": [
    {
     "data": {
      "text/plain": [
       "0.8022241296313875"
      ]
     },
     "execution_count": 19,
     "metadata": {},
     "output_type": "execute_result"
    }
   ],
   "source": [
    "train_data, test_data = model_selection.train_test_split(train,test_size =0.3, random_state=12345)\n",
    "\n",
    "tar = train_data['NumberOfCustomers']\n",
    "var = train_data[cust_i]\n",
    "\n",
    "\n",
    "model1 = RandomForestRegressor(random_state=12345) #model 1 predice customers\n",
    "model1.set_params(n_estimators=50)\n",
    "model1.fit(var, tar)\n",
    "\n",
    "\n",
    "tar = train_data['NumberOfSales']\n",
    "var = train_data[sales_i]\n",
    "\n",
    "model2 = RandomForestRegressor(random_state=12345) #model 2 predice sales\n",
    "model2.set_params(n_estimators=50)\n",
    "model2.fit(var, tar)\n",
    "    \n",
    "    ###############################################################################################testing step\n",
    "    \n",
    "NumOfCust = test_data['NumberOfCustomers']   #metto da parte i cust\n",
    "NumOfSales = test_data['NumberOfSales']      #metto da parte le sales\n",
    "\n",
    "\n",
    "\n",
    "first_test = test_data[cust_i]\n",
    "    \n",
    "\n",
    "\n",
    "Custp = model1.predict(first_test) #model1 predice cust\n",
    "    \n",
    "R2_c = r2_score(NumOfCust,Custp) #calcolo R2 dei cust\n",
    "MSE_c = mean_squared_error(NumOfCust,Custp) #calcolo MSE dei cust\n",
    "    \n",
    "\n",
    "second_test = test_data[sales_i]\n",
    "second_test['NumberOfCustomers'] = Custp #metto i cust predetti dal model1 nel test per predire le vendite future\n",
    "    \n",
    "Salesp = model2.predict(second_test) #model2 predice sales\n",
    "    \n",
    "R2_s = r2_score(NumOfSales,Salesp)\n",
    "MSE_s = mean_squared_error(NumOfSales,Salesp)\n",
    "R2_s"
   ]
  },
  {
   "cell_type": "markdown",
   "metadata": {},
   "source": [
    "# 150 all"
   ]
  },
  {
   "cell_type": "code",
   "execution_count": 12,
   "metadata": {},
   "outputs": [
    {
     "data": {
      "text/plain": [
       "0.7949239288010542"
      ]
     },
     "execution_count": 12,
     "metadata": {},
     "output_type": "execute_result"
    }
   ],
   "source": [
    "train_data, test_data = model_selection.train_test_split(train,test_size =0.3, random_state=12345)\n",
    "\n",
    "tar = train_data['NumberOfCustomers']\n",
    "var = train_data.drop(labels='NumberOfCustomers',axis=1)\n",
    "var = var.drop(labels='NumberOfSales',axis=1)\n",
    "#else:\n",
    "#    var = train_data[cust_i]\n",
    "\n",
    "model1 = RandomForestRegressor(random_state=12345) #model 1 predice customers\n",
    "model1.set_params(n_estimators=150)\n",
    "model1.fit(var, tar)\n",
    "\n",
    "FitCust = model1.predict(var)\n",
    "\n",
    "tar = train_data['NumberOfSales']\n",
    "var = train_data.drop(labels='NumberOfSales',axis=1)\n",
    "var['NumberOfCustomers'] = FitCust\n",
    "\n",
    "model2 = RandomForestRegressor(random_state=12345) #model 2 predice sales\n",
    "model2.set_params(n_estimators=150)\n",
    "model2.fit(var, tar)\n",
    "    \n",
    "    ###############################################################################################testing step\n",
    "    \n",
    "NumOfCust = test_data['NumberOfCustomers']   #metto da parte i cust\n",
    "NumOfSales = test_data['NumberOfSales']      #metto da parte le sales\n",
    "\n",
    "\n",
    "first_test = test_data.drop(labels='NumberOfSales',axis=1)\n",
    "first_test = first_test.drop(labels='NumberOfCustomers',axis=1)\n",
    "\n",
    "\n",
    "\n",
    "Custp = model1.predict(first_test) #model1 predice cust\n",
    "    \n",
    "R2_c = r2_score(NumOfCust,Custp) #calcolo R2 dei cust\n",
    "MSE_c = mean_squared_error(NumOfCust,Custp) #calcolo MSE dei cust\n",
    "    \n",
    "second_test = test_data.drop(labels='NumberOfSales',axis=1)\n",
    "#second_test = test_data[sales_i] #un po inutile solo per chiarezza\n",
    "second_test['NumberOfCustomers'] = Custp #metto i cust predetti dal model1 nel test per predire le vendite future\n",
    "    \n",
    "Salesp = model2.predict(second_test) #model2 predice sales\n",
    "    \n",
    "R2_s = r2_score(NumOfSales,Salesp)\n",
    "R2_s"
   ]
  },
  {
   "cell_type": "markdown",
   "metadata": {},
   "source": [
    "## 150 all direct(without double regr)"
   ]
  },
  {
   "cell_type": "code",
   "execution_count": 71,
   "metadata": {},
   "outputs": [
    {
     "data": {
      "text/plain": [
       "array([0.81351023, 0.82079829, 0.82293227])"
      ]
     },
     "execution_count": 71,
     "metadata": {},
     "output_type": "execute_result"
    }
   ],
   "source": [
    "model1 = RandomForestRegressor(random_state=12345) \n",
    "tar = train['NumberOfSales']\n",
    "var = train.drop(labels='NumberOfCustomers',axis=1)\n",
    "var = var.drop(labels='NumberOfSales',axis=1)\n",
    "model1.set_params(n_estimators=150)\n",
    "#R2s_s.append(cross_val_score(model1, var, tar, scoring=\"r2\", cv =KFold(3, shuffle=True, random_state=12345)))\n",
    "cross_val_score(model1, var, tar, scoring=\"r2\", cv =KFold(3, shuffle=True, random_state=12345))"
   ]
  },
  {
   "cell_type": "code",
   "execution_count": 5,
   "metadata": {},
   "outputs": [],
   "source": [
    "r2,mse = mycvRFDirect(train,3,150,12345)"
   ]
  },
  {
   "cell_type": "markdown",
   "metadata": {},
   "source": [
    "## 150 RFFS direct(without double regr)"
   ]
  },
  {
   "cell_type": "code",
   "execution_count": 23,
   "metadata": {},
   "outputs": [],
   "source": [
    "direct_features = pd.Index(['NearestCompetitor', 'HasPromotions', 'HyperMarket',\n",
    "       'General', 'Region3', 'December',\n",
    "       'Monday'])"
   ]
  },
  {
   "cell_type": "code",
   "execution_count": 24,
   "metadata": {},
   "outputs": [
    {
     "data": {
      "text/plain": [
       "0.7201857868035306"
      ]
     },
     "execution_count": 24,
     "metadata": {},
     "output_type": "execute_result"
    }
   ],
   "source": [
    "train_data, test_data = model_selection.train_test_split(train,test_size =0.3, random_state=12345)\n",
    "\n",
    "tar = train_data['NumberOfSales']\n",
    "var = train_data[direct_features]\n",
    "\n",
    "model1 = RandomForestRegressor(random_state=12345) \n",
    "model1.set_params(n_estimators=150)\n",
    "model1.fit(var, tar)\n",
    "NumOfSales = test_data['NumberOfSales']      #metto da parte le sales\n",
    "\n",
    "\n",
    "\n",
    "first_test = test_data[direct_features]\n",
    "    \n",
    "\n",
    "\n",
    "Salesp = model1.predict(first_test) #model1 predice cust\n",
    "\n",
    "    \n",
    "R2_s = r2_score(NumOfSales,Salesp)\n",
    "R2_s"
   ]
  },
  {
   "cell_type": "markdown",
   "metadata": {},
   "source": [
    "# 150 LassoFS"
   ]
  },
  {
   "cell_type": "code",
   "execution_count": 13,
   "metadata": {},
   "outputs": [],
   "source": [
    "cust_i = pd.Index(['HasPromotions', 'NearestCompetitor', 'Region_AreaKM2',\n",
    "       'Mean_Dew_PointC', 'Mean_Sea_Level_PressurehPa', 'Precipitationmm',\n",
    "       'StandardMarket', 'HyperMarket', 'ShoppingCenter', 'General',\n",
    "       'WithFishDepartment', 'Region0', 'Region1', 'Region3', 'Region4',\n",
    "       'Region5', 'Region6', 'Region7', 'Region8', 'Region9', 'January',\n",
    "       'February', 'April', 'May', 'June', 'September', 'October', 'November',\n",
    "       'December', 'Wednesday', 'Friday', 'Saturday', 'Monday', 'Thursday',\n",
    "       'Snow', 'Fog'])\n",
    "sales_i = pd.Index(['IsHoliday', 'HasPromotions', 'NearestCompetitor', 'Region_AreaKM2',\n",
    "       'Region_PopulationK', 'Mean_Humidity', 'Mean_Sea_Level_PressurehPa',\n",
    "       'Mean_TemperatureC', 'Mean_VisibilityKm', 'Precipitationmm',\n",
    "       'StandardMarket', 'HyperMarket', 'SuperMarket', 'ShoppingCenter',\n",
    "       'General', 'WithFishDepartment', 'WithNonFoodDepartment', 'Region0',\n",
    "       'Region1', 'Region3', 'Region4', 'Region5', 'Region6', 'Region7',\n",
    "       'Region8', 'January', 'February', 'March', 'April', 'May', 'June',\n",
    "       'July', 'August', 'September', 'October', 'November', 'December',\n",
    "       'Tuesday', 'Wednesday', 'Friday', 'Monday', 'Thursday', 'Sunday',\n",
    "       'Snow', 'Fog', 'Nothing', 'Rain', 'NumberOfCustomers'])"
   ]
  },
  {
   "cell_type": "code",
   "execution_count": 14,
   "metadata": {},
   "outputs": [
    {
     "data": {
      "text/plain": [
       "0.7823853984137392"
      ]
     },
     "execution_count": 14,
     "metadata": {},
     "output_type": "execute_result"
    }
   ],
   "source": [
    "train_data, test_data = model_selection.train_test_split(train,test_size =0.3,random_state=12345)\n",
    "\n",
    "tar = train_data['NumberOfCustomers']\n",
    "var = train_data[cust_i]\n",
    "\n",
    "\n",
    "model1 = RandomForestRegressor(random_state=12345,n_jobs = 2) #model 1 predice customers\n",
    "model1.set_params(n_estimators=150)\n",
    "model1.fit(var, tar)\n",
    "\n",
    "FitCust = model1.predict(var)\n",
    "\n",
    "tar = train_data['NumberOfSales']\n",
    "var = train_data[sales_i]\n",
    "var['NumberOfCustomers'] = FitCust\n",
    "\n",
    "model2 = RandomForestRegressor(random_state=12345,n_jobs = 2) #model 2 predice sales\n",
    "model2.set_params(n_estimators=150)\n",
    "model2.fit(var, tar)\n",
    "    \n",
    "    ###############################################################################################testing step\n",
    "    \n",
    "NumOfCust = test_data['NumberOfCustomers']   #metto da parte i cust\n",
    "NumOfSales = test_data['NumberOfSales']      #metto da parte le sales\n",
    "\n",
    "\n",
    "\n",
    "first_test = test_data[cust_i]\n",
    "    \n",
    "\n",
    "\n",
    "Custp = model1.predict(first_test) #model1 predice cust\n",
    "    \n",
    "R2_c = r2_score(NumOfCust,Custp) #calcolo R2 dei cust\n",
    "MSE_c = mean_squared_error(NumOfCust,Custp) #calcolo MSE dei cust\n",
    "    \n",
    "\n",
    "second_test = test_data[sales_i]\n",
    "second_test['NumberOfCustomers'] = Custp #metto i cust predetti dal model1 nel test per predire le vendite future\n",
    "    \n",
    "Salesp = model2.predict(second_test) #model2 predice sales\n",
    "    \n",
    "R2_s = r2_score(NumOfSales,Salesp)\n",
    "MSE_s = mean_squared_error(NumOfSales,Salesp)\n",
    "R2_s"
   ]
  },
  {
   "cell_type": "markdown",
   "metadata": {},
   "source": [
    "## 150 LassoFS direct(without double regr)"
   ]
  },
  {
   "cell_type": "code",
   "execution_count": 15,
   "metadata": {},
   "outputs": [],
   "source": [
    "direct_features = pd.Index(['HasPromotions', 'NearestCompetitor', 'Region_GDP',\n",
    "       'Mean_Sea_Level_PressurehPa', 'Mean_TemperatureC', 'Precipitationmm',\n",
    "       'StandardMarket', 'HyperMarket', 'SuperMarket', 'ShoppingCenter',\n",
    "       'General', 'WithFishDepartment', 'Region0', 'Region2', 'Region3',\n",
    "       'Region4', 'Region5', 'Region6', 'Region8', 'Region9', 'January',\n",
    "       'February', 'March', 'April', 'May', 'June', 'September', 'October',\n",
    "       'November', 'December', 'Tuesday', 'Wednesday', 'Friday', 'Saturday',\n",
    "       'Monday', 'Snow', 'Fog', 'Rain'])"
   ]
  },
  {
   "cell_type": "code",
   "execution_count": 16,
   "metadata": {},
   "outputs": [
    {
     "data": {
      "text/plain": [
       "0.7967498359482068"
      ]
     },
     "execution_count": 16,
     "metadata": {},
     "output_type": "execute_result"
    }
   ],
   "source": [
    "train_data, test_data = model_selection.train_test_split(train,test_size =0.3, random_state=12345)\n",
    "\n",
    "tar = train_data['NumberOfSales']\n",
    "var = train_data[direct_features]\n",
    "\n",
    "model1 = RandomForestRegressor(random_state=12345) \n",
    "model1.set_params(n_estimators=50)\n",
    "model1.fit(var, tar)\n",
    "NumOfSales = test_data['NumberOfSales']      #metto da parte le sales\n",
    "\n",
    "\n",
    "\n",
    "first_test = test_data[direct_features]\n",
    "    \n",
    "\n",
    "\n",
    "Salesp = model1.predict(first_test) #model1 predice cust\n",
    "\n",
    "    \n",
    "R2_s = r2_score(NumOfSales,Salesp)\n",
    "R2_s"
   ]
  },
  {
   "cell_type": "markdown",
   "metadata": {},
   "source": [
    "# 150 RFFS"
   ]
  },
  {
   "cell_type": "code",
   "execution_count": 22,
   "metadata": {},
   "outputs": [],
   "source": [
    "cust_i = pd.Index(['NearestCompetitor', 'ShoppingCenter', 'Region3', 'HasPromotions',\n",
    "       'StandardMarket', 'Region7', 'General', 'Region_AreaKM2',\n",
    "       'WithNonFoodDepartment', 'SuperMarket', 'Region_GDP', 'HyperMarket',\n",
    "       'Monday', 'December', 'Saturday', 'Region8', 'Region_PopulationK',\n",
    "       'Region0', 'Region9', 'Region2'])\n",
    "sales_i = pd.Index(['NumberOfCustomers', 'HasPromotions', 'NearestCompetitor',\n",
    "       'StandardMarket', 'General', 'Monday', 'December', 'Region3',\n",
    "       'Region_AreaKM2', 'Region_PopulationK', 'Region_GDP', 'Region9',\n",
    "       'HyperMarket', 'Region2', 'Saturday', 'WithNonFoodDepartment',\n",
    "       'ShoppingCenter', 'SuperMarket', 'Region6', 'Region0'])"
   ]
  },
  {
   "cell_type": "code",
   "execution_count": 23,
   "metadata": {},
   "outputs": [
    {
     "data": {
      "text/plain": [
       "0.811559263107862"
      ]
     },
     "execution_count": 23,
     "metadata": {},
     "output_type": "execute_result"
    }
   ],
   "source": [
    "train_data, test_data = model_selection.train_test_split(train,test_size =0.3, random_state=12345)\n",
    "\n",
    "tar = train_data['NumberOfCustomers']\n",
    "var = train_data[cust_i]\n",
    "\n",
    "\n",
    "model1 = RandomForestRegressor(random_state=12345) #model 1 predice customers\n",
    "model1.set_params(n_estimators=150)\n",
    "model1.fit(var, tar)\n",
    "\n",
    "FitCust = model1.predict(var)\n",
    "\n",
    "tar = train_data['NumberOfSales']\n",
    "var = train_data[sales_i]\n",
    "var['NumberOfCustomers'] = FitCust\n",
    "\n",
    "model2 = RandomForestRegressor(random_state=12345) #model 2 predice sales\n",
    "model2.set_params(n_estimators=150)\n",
    "model2.fit(var, tar)\n",
    "    \n",
    "    ###############################################################################################testing step\n",
    "    \n",
    "NumOfCust = test_data['NumberOfCustomers']   #metto da parte i cust\n",
    "NumOfSales = test_data['NumberOfSales']      #metto da parte le sales\n",
    "\n",
    "\n",
    "\n",
    "first_test = test_data[cust_i]\n",
    "    \n",
    "\n",
    "\n",
    "Custp = model1.predict(first_test) #model1 predice cust\n",
    "    \n",
    "R2_c = r2_score(NumOfCust,Custp) #calcolo R2 dei cust\n",
    "MSE_c = mean_squared_error(NumOfCust,Custp) #calcolo MSE dei cust\n",
    "    \n",
    "\n",
    "second_test = test_data[sales_i]\n",
    "second_test['NumberOfCustomers'] = Custp #metto i cust predetti dal model1 nel test per predire le vendite future\n",
    "    \n",
    "Salesp = model2.predict(second_test) #model2 predice sales\n",
    "    \n",
    "R2_s = r2_score(NumOfSales,Salesp)\n",
    "MSE_s = mean_squared_error(NumOfSales,Salesp)\n",
    "R2_s"
   ]
  },
  {
   "cell_type": "markdown",
   "metadata": {},
   "source": [
    "# All below without fitting the second model with the predict"
   ]
  },
  {
   "cell_type": "markdown",
   "metadata": {},
   "source": [
    "# 150 all"
   ]
  },
  {
   "cell_type": "code",
   "execution_count": null,
   "metadata": {},
   "outputs": [],
   "source": [
    "r2c,msec,r2s,mse_s = mycvRF(train,3,150,12345,[],[],True)\n",
    "r2s"
   ]
  },
  {
   "cell_type": "markdown",
   "metadata": {},
   "source": [
    "# 150 LassoFS"
   ]
  },
  {
   "cell_type": "code",
   "execution_count": null,
   "metadata": {},
   "outputs": [],
   "source": [
    "cust_i = pd.Index(['HasPromotions', 'NearestCompetitor', 'Region_AreaKM2',\n",
    "       'Mean_Dew_PointC', 'Mean_Sea_Level_PressurehPa', 'Precipitationmm',\n",
    "       'StandardMarket', 'HyperMarket', 'ShoppingCenter', 'General',\n",
    "       'WithFishDepartment', 'Region0', 'Region1', 'Region3', 'Region4',\n",
    "       'Region5', 'Region6', 'Region7', 'Region8', 'Region9', 'January',\n",
    "       'February', 'April', 'May', 'June', 'September', 'October', 'November',\n",
    "       'December', 'Wednesday', 'Friday', 'Saturday', 'Monday', 'Thursday',\n",
    "       'Snow', 'Fog'])\n",
    "sales_i = pd.Index(['IsHoliday', 'HasPromotions', 'NearestCompetitor', 'Region_AreaKM2',\n",
    "       'Region_PopulationK', 'Mean_Humidity', 'Mean_Sea_Level_PressurehPa',\n",
    "       'Mean_TemperatureC', 'Mean_VisibilityKm', 'Precipitationmm',\n",
    "       'StandardMarket', 'HyperMarket', 'SuperMarket', 'ShoppingCenter',\n",
    "       'General', 'WithFishDepartment', 'WithNonFoodDepartment', 'Region0',\n",
    "       'Region1', 'Region3', 'Region4', 'Region5', 'Region6', 'Region7',\n",
    "       'Region8', 'January', 'February', 'March', 'April', 'May', 'June',\n",
    "       'July', 'August', 'September', 'October', 'November', 'December',\n",
    "       'Tuesday', 'Wednesday', 'Friday', 'Monday', 'Thursday', 'Sunday',\n",
    "       'Snow', 'Fog', 'Nothing', 'Rain', 'NumberOfCustomers'])"
   ]
  },
  {
   "cell_type": "code",
   "execution_count": null,
   "metadata": {},
   "outputs": [],
   "source": [
    "r2c,msec,r2s,mse_s = mycvRF(train,3,150,12345,cust_i,sales_i,False)\n",
    "r2s"
   ]
  },
  {
   "cell_type": "markdown",
   "metadata": {},
   "source": [
    "# 150 RFFS"
   ]
  },
  {
   "cell_type": "code",
   "execution_count": 24,
   "metadata": {},
   "outputs": [],
   "source": [
    "cust_i = pd.Index(['NearestCompetitor', 'ShoppingCenter', 'Region3', 'HasPromotions',\n",
    "       'StandardMarket', 'Region7', 'General', 'Region_AreaKM2',\n",
    "       'WithNonFoodDepartment', 'SuperMarket', 'Region_GDP', 'HyperMarket',\n",
    "       'Monday', 'December', 'Saturday', 'Region8', 'Region_PopulationK',\n",
    "       'Region0', 'Region9', 'Region2'])\n",
    "sales_i = pd.Index(['NumberOfCustomers', 'HasPromotions', 'NearestCompetitor',\n",
    "       'StandardMarket', 'General', 'Monday', 'December', 'Region3',\n",
    "       'Region_AreaKM2', 'Region_PopulationK', 'Region_GDP', 'Region9',\n",
    "       'HyperMarket', 'Region2', 'Saturday', 'WithNonFoodDepartment',\n",
    "       'ShoppingCenter', 'SuperMarket', 'Region6', 'Region0'])"
   ]
  },
  {
   "cell_type": "code",
   "execution_count": 25,
   "metadata": {},
   "outputs": [
    {
     "data": {
      "text/plain": [
       "0.8024608714349151"
      ]
     },
     "execution_count": 25,
     "metadata": {},
     "output_type": "execute_result"
    }
   ],
   "source": [
    "train_data, test_data = model_selection.train_test_split(train,test_size =0.3, random_state=12345)\n",
    "\n",
    "tar = train_data['NumberOfCustomers']\n",
    "var = train_data[cust_i]\n",
    "\n",
    "\n",
    "model1 = RandomForestRegressor(random_state=12345) #model 1 predice customers\n",
    "model1.set_params(n_estimators=150)\n",
    "model1.fit(var, tar)\n",
    "\n",
    "\n",
    "tar = train_data['NumberOfSales']\n",
    "var = train_data[sales_i]\n",
    "\n",
    "model2 = RandomForestRegressor(random_state=12345) #model 2 predice sales\n",
    "model2.set_params(n_estimators=150)\n",
    "model2.fit(var, tar)\n",
    "    \n",
    "    ###############################################################################################testing step\n",
    "    \n",
    "NumOfCust = test_data['NumberOfCustomers']   #metto da parte i cust\n",
    "NumOfSales = test_data['NumberOfSales']      #metto da parte le sales\n",
    "\n",
    "\n",
    "\n",
    "first_test = test_data[cust_i]\n",
    "    \n",
    "\n",
    "\n",
    "Custp = model1.predict(first_test) #model1 predice cust\n",
    "    \n",
    "R2_c = r2_score(NumOfCust,Custp) #calcolo R2 dei cust\n",
    "MSE_c = mean_squared_error(NumOfCust,Custp) #calcolo MSE dei cust\n",
    "    \n",
    "\n",
    "second_test = test_data[sales_i]\n",
    "second_test['NumberOfCustomers'] = Custp #metto i cust predetti dal model1 nel test per predire le vendite future\n",
    "    \n",
    "Salesp = model2.predict(second_test) #model2 predice sales\n",
    "    \n",
    "R2_s = r2_score(NumOfSales,Salesp)\n",
    "MSE_s = mean_squared_error(NumOfSales,Salesp)\n",
    "R2_s"
   ]
  },
  {
   "cell_type": "markdown",
   "metadata": {},
   "source": [
    "# Comparing best results"
   ]
  },
  {
   "cell_type": "code",
   "execution_count": 2,
   "metadata": {},
   "outputs": [],
   "source": [
    "R2s_s = [[0.8210592430007686, 0.830533519620758, 0.8339257920035679],\n",
    "        [0.8156093645619071, 0.8263774735530535, 0.8297193934502831],\n",
    "        [0.8266803778224731, 0.8345156712098017, 0.837037448176467],\n",
    "        [0.8219272767777451, 0.8314003014987681, 0.8347551571574651],\n",
    "        [0.8163929841495856, 0.8271603810578703, 0.8307763602522618]]"
   ]
  },
  {
   "cell_type": "code",
   "execution_count": 3,
   "metadata": {},
   "outputs": [],
   "source": [
    "all_50 = R2s_s[0]\n",
    "lassoFs_50 = R2s_s[1]\n",
    "allDirect_150 = R2s_s[2]\n",
    "all_150 = R2s_s[3]\n",
    "lassoFs_150 = R2s_s[4]"
   ]
  },
  {
   "cell_type": "code",
   "execution_count": 4,
   "metadata": {},
   "outputs": [
    {
     "name": "stdout",
     "output_type": "stream",
     "text": [
      "Sales:all features and 50 trees      \t82.9\t0.544485\n"
     ]
    }
   ],
   "source": [
    "print(\"Sales:all features and 50 trees      \\t%.1f\\t%.6f\" % (100.0*np.average(all_50), 100.0*np.std(all_50)))"
   ]
  },
  {
   "cell_type": "code",
   "execution_count": 5,
   "metadata": {},
   "outputs": [
    {
     "name": "stdout",
     "output_type": "stream",
     "text": [
      "Sales:Lasso features and 50 trees      \t82.4\t0.602046\n"
     ]
    }
   ],
   "source": [
    "print(\"Sales:Lasso features and 50 trees      \\t%.1f\\t%.6f\" % (100.0*np.average(lassoFs_50), 100.0*np.std(lassoFs_50)))"
   ]
  },
  {
   "cell_type": "code",
   "execution_count": 6,
   "metadata": {},
   "outputs": [
    {
     "name": "stdout",
     "output_type": "stream",
     "text": [
      "Sales:all features witout double regression and 150 trees      \t83.3\t0.440984\n"
     ]
    }
   ],
   "source": [
    "print(\"Sales:all features witout double regression and 150 trees      \\t%.1f\\t%.6f\" % (100.0*np.average(allDirect_150), 100.0*np.std(allDirect_150)))"
   ]
  },
  {
   "cell_type": "code",
   "execution_count": 7,
   "metadata": {},
   "outputs": [
    {
     "name": "stdout",
     "output_type": "stream",
     "text": [
      "Sales:all features and 150 trees      \t82.9\t0.543188\n"
     ]
    }
   ],
   "source": [
    "print(\"Sales:all features and 150 trees      \\t%.1f\\t%.6f\" % (100.0*np.average(all_150), 100.0*np.std(all_150)))"
   ]
  },
  {
   "cell_type": "code",
   "execution_count": 8,
   "metadata": {},
   "outputs": [
    {
     "name": "stdout",
     "output_type": "stream",
     "text": [
      "Sales:Lasso features and 150 trees      \t82.5\t0.610913\n"
     ]
    }
   ],
   "source": [
    "print(\"Sales:Lasso features and 150 trees      \\t%.1f\\t%.6f\" % (100.0*np.average(lassoFs_150), 100.0*np.std(lassoFs_150)))"
   ]
  }
 ],
 "metadata": {
  "kernelspec": {
   "display_name": "Python 3",
   "language": "python",
   "name": "python3"
  },
  "language_info": {
   "codemirror_mode": {
    "name": "ipython",
    "version": 3
   },
   "file_extension": ".py",
   "mimetype": "text/x-python",
   "name": "python",
   "nbconvert_exporter": "python",
   "pygments_lexer": "ipython3",
   "version": "3.6.4"
  }
 },
 "nbformat": 4,
 "nbformat_minor": 2
}
