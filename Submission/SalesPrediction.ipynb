{
 "cells": [
  {
   "cell_type": "code",
   "execution_count": 6,
   "metadata": {},
   "outputs": [],
   "source": [
    "import pandas as pd\n",
    "import numpy as np\n",
    "from scipy import stats\n",
    "from sklearn import tree\n",
    "import math\n",
    "import warnings \n",
    "warnings.filterwarnings(\"ignore\")"
   ]
  },
  {
   "cell_type": "code",
   "execution_count": 2,
   "metadata": {},
   "outputs": [],
   "source": [
    "def DT_Fitting(x, y_residual, model_list):\n",
    "    clf = tree.DecisionTreeRegressor(max_depth=6)\n",
    "    clf = clf.fit(x, y_residual)\n",
    "    model_list.append(clf)\n",
    "    yp = clf.predict(x).reshape(-1,1)\n",
    "    y_residual = y_residual-yp\n",
    "    return y_residual"
   ]
  },
  {
   "cell_type": "code",
   "execution_count": 3,
   "metadata": {},
   "outputs": [],
   "source": [
    "def Boosting(dataset, target, no_boosting_runs):\n",
    "    \n",
    "    model_list = []\n",
    "    x = dataset.drop(columns=['NumberOfSales','NumberOfCustomers'])\n",
    "    y_residual = dataset[target].values.reshape(-1,1)\n",
    "        \n",
    "    for i in range(no_boosting_runs):\n",
    "        y_residual = DT_Fitting(x, y_residual, model_list)\n",
    "    \n",
    "    return model_list"
   ]
  },
  {
   "cell_type": "code",
   "execution_count": 9,
   "metadata": {},
   "outputs": [],
   "source": [
    "def GradientBoosting_eval(models,data_to_predict):\n",
    "    prediction = np.zeros((len(data_to_predict),1))\n",
    "    for model in models:\n",
    "        yp = model.predict(data_to_predict).reshape(-1,1)\n",
    "        prediction += yp\n",
    "    return prediction.reshape(-1,1)"
   ]
  },
  {
   "cell_type": "markdown",
   "metadata": {},
   "source": [
    "## Reading csv"
   ]
  },
  {
   "cell_type": "code",
   "execution_count": 10,
   "metadata": {},
   "outputs": [],
   "source": [
    "train=pd.read_csv('TrainClean.csv',index_col=0).reset_index(drop=True)\n",
    "test=pd.read_csv('TestClean.csv',index_col=0).reset_index(drop=True)"
   ]
  },
  {
   "cell_type": "markdown",
   "metadata": {},
   "source": [
    "### Create list of models"
   ]
  },
  {
   "cell_type": "code",
   "execution_count": 11,
   "metadata": {},
   "outputs": [],
   "source": [
    "model_list = Boosting(train,'NumberOfSales',130)"
   ]
  },
  {
   "cell_type": "markdown",
   "metadata": {},
   "source": [
    "### Predict Sales"
   ]
  },
  {
   "cell_type": "code",
   "execution_count": 17,
   "metadata": {},
   "outputs": [],
   "source": [
    "stores = test['StoreID'].unique()\n",
    "months = ['March','April']\n",
    "to_return = pd.DataFrame(columns=['StoreID', 'Month', 'NumberOfSales'])"
   ]
  },
  {
   "cell_type": "code",
   "execution_count": 18,
   "metadata": {},
   "outputs": [],
   "source": [
    "for store in stores:\n",
    "    current_store_df = test.loc[test['StoreID'] == store]\n",
    "    for month in months:\n",
    "        X = current_store_df.loc[current_store_df[month] == 1]\n",
    "        X = X.drop(labels='StoreID', axis=1)\n",
    "        res = GradientBoosting_eval(model_list,X)\n",
    "        res = np.expm1(res)\n",
    "        res = np.round(res)\n",
    "        if(month == 'March'):\n",
    "            res = {'StoreID' : [store], 'Month' : [3], 'NumberOfSales' : [np.sum(res)]}\n",
    "        else:\n",
    "            res = {'StoreID' : [store], 'Month' : [4], 'NumberOfSales' : [np.sum(res)]}\n",
    "        res = pd.DataFrame(res)\n",
    "        to_return = to_return.append(res,ignore_index=True)"
   ]
  },
  {
   "cell_type": "markdown",
   "metadata": {},
   "source": [
    "### Csv Creation"
   ]
  },
  {
   "cell_type": "code",
   "execution_count": 19,
   "metadata": {},
   "outputs": [],
   "source": [
    "to_return.to_csv(\"PredictedSales.csv\")"
   ]
  }
 ],
 "metadata": {
  "kernelspec": {
   "display_name": "Python 3",
   "language": "python",
   "name": "python3"
  },
  "language_info": {
   "codemirror_mode": {
    "name": "ipython",
    "version": 3
   },
   "file_extension": ".py",
   "mimetype": "text/x-python",
   "name": "python",
   "nbconvert_exporter": "python",
   "pygments_lexer": "ipython3",
   "version": "3.6.4"
  }
 },
 "nbformat": 4,
 "nbformat_minor": 2
}
