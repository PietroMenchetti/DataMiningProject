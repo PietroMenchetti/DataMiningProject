{
 "cells": [
  {
   "cell_type": "code",
   "execution_count": 1,
   "metadata": {},
   "outputs": [],
   "source": [
    "import pandas as pd\n",
    "import numpy as np\n",
    "import seaborn as sns\n",
    "import matplotlib\n",
    "import matplotlib.pyplot as plt\n",
    "from scipy import stats\n",
    "from scipy import stats\n",
    "import math\n",
    "from sklearn.preprocessing import MinMaxScaler,PolynomialFeatures, StandardScaler\n",
    "from sklearn import tree,linear_model,neighbors\n",
    "from sklearn.decomposition import PCA\n",
    "from sklearn.model_selection import cross_val_score\n",
    "from sklearn.metrics import mean_squared_error,r2_score\n",
    "from scipy.stats import iqr\n",
    "%matplotlib inline\n",
    "import warnings \n",
    "warnings.filterwarnings(\"ignore\")\n",
    "sns.set(style=\"white\", color_codes=True)\n",
    "sns.set_context(rc={\"font.family\":'sans',\"font.size\":10,\"axes.titlesize\":24,\"axes.labelsize\":24}) \n"
   ]
  },
  {
   "cell_type": "markdown",
   "metadata": {},
   "source": [
    "## Loading data"
   ]
  },
  {
   "cell_type": "code",
   "execution_count": 2,
   "metadata": {},
   "outputs": [
    {
     "data": {
      "text/plain": [
       "Index(['StoreID', 'Date', 'IsHoliday', 'IsOpen', 'HasPromotions', 'StoreType',\n",
       "       'AssortmentType', 'NearestCompetitor', 'Region', 'NumberOfCustomers',\n",
       "       'NumberOfSales', 'Region_AreaKM2', 'Region_GDP', 'Region_PopulationK',\n",
       "       'CloudCover', 'Events', 'Max_Dew_PointC', 'Max_Gust_SpeedKm_h',\n",
       "       'Max_Humidity', 'Max_Sea_Level_PressurehPa', 'Max_TemperatureC',\n",
       "       'Max_VisibilityKm', 'Max_Wind_SpeedKm_h', 'Mean_Dew_PointC',\n",
       "       'Mean_Humidity', 'Mean_Sea_Level_PressurehPa', 'Mean_TemperatureC',\n",
       "       'Mean_VisibilityKm', 'Mean_Wind_SpeedKm_h', 'Min_Dew_PointC',\n",
       "       'Min_Humidity', 'Min_Sea_Level_PressurehPa', 'Min_TemperatureC',\n",
       "       'Min_VisibilitykM', 'Precipitationmm', 'WindDirDegrees'],\n",
       "      dtype='object')"
      ]
     },
     "execution_count": 2,
     "metadata": {},
     "output_type": "execute_result"
    }
   ],
   "source": [
    "train = pd.read_csv('train.csv')\n",
    "test = pd.read_csv('test.csv')\n",
    "train.columns"
   ]
  },
  {
   "cell_type": "code",
   "execution_count": 3,
   "metadata": {},
   "outputs": [
    {
     "data": {
      "text/html": [
       "<div>\n",
       "<style scoped>\n",
       "    .dataframe tbody tr th:only-of-type {\n",
       "        vertical-align: middle;\n",
       "    }\n",
       "\n",
       "    .dataframe tbody tr th {\n",
       "        vertical-align: top;\n",
       "    }\n",
       "\n",
       "    .dataframe thead th {\n",
       "        text-align: right;\n",
       "    }\n",
       "</style>\n",
       "<table border=\"1\" class=\"dataframe\">\n",
       "  <thead>\n",
       "    <tr style=\"text-align: right;\">\n",
       "      <th></th>\n",
       "      <th>StoreID</th>\n",
       "      <th>Date</th>\n",
       "      <th>IsHoliday</th>\n",
       "      <th>IsOpen</th>\n",
       "      <th>HasPromotions</th>\n",
       "      <th>StoreType</th>\n",
       "      <th>AssortmentType</th>\n",
       "      <th>NearestCompetitor</th>\n",
       "      <th>Region</th>\n",
       "      <th>NumberOfCustomers</th>\n",
       "      <th>...</th>\n",
       "      <th>Mean_TemperatureC</th>\n",
       "      <th>Mean_VisibilityKm</th>\n",
       "      <th>Mean_Wind_SpeedKm_h</th>\n",
       "      <th>Min_Dew_PointC</th>\n",
       "      <th>Min_Humidity</th>\n",
       "      <th>Min_Sea_Level_PressurehPa</th>\n",
       "      <th>Min_TemperatureC</th>\n",
       "      <th>Min_VisibilitykM</th>\n",
       "      <th>Precipitationmm</th>\n",
       "      <th>WindDirDegrees</th>\n",
       "    </tr>\n",
       "  </thead>\n",
       "  <tbody>\n",
       "    <tr>\n",
       "      <th>0</th>\n",
       "      <td>1000</td>\n",
       "      <td>01/03/2016</td>\n",
       "      <td>0</td>\n",
       "      <td>1</td>\n",
       "      <td>0</td>\n",
       "      <td>Hyper Market</td>\n",
       "      <td>General</td>\n",
       "      <td>326</td>\n",
       "      <td>7</td>\n",
       "      <td>495</td>\n",
       "      <td>...</td>\n",
       "      <td>1</td>\n",
       "      <td>11.0</td>\n",
       "      <td>16</td>\n",
       "      <td>-2</td>\n",
       "      <td>70</td>\n",
       "      <td>1029</td>\n",
       "      <td>1</td>\n",
       "      <td>6.0</td>\n",
       "      <td>0.0</td>\n",
       "      <td>23</td>\n",
       "    </tr>\n",
       "    <tr>\n",
       "      <th>1</th>\n",
       "      <td>1000</td>\n",
       "      <td>02/03/2016</td>\n",
       "      <td>0</td>\n",
       "      <td>1</td>\n",
       "      <td>0</td>\n",
       "      <td>Hyper Market</td>\n",
       "      <td>General</td>\n",
       "      <td>326</td>\n",
       "      <td>7</td>\n",
       "      <td>608</td>\n",
       "      <td>...</td>\n",
       "      <td>3</td>\n",
       "      <td>13.0</td>\n",
       "      <td>10</td>\n",
       "      <td>-2</td>\n",
       "      <td>58</td>\n",
       "      <td>1025</td>\n",
       "      <td>1</td>\n",
       "      <td>10.0</td>\n",
       "      <td>0.0</td>\n",
       "      <td>56</td>\n",
       "    </tr>\n",
       "    <tr>\n",
       "      <th>2</th>\n",
       "      <td>1000</td>\n",
       "      <td>04/03/2016</td>\n",
       "      <td>0</td>\n",
       "      <td>1</td>\n",
       "      <td>0</td>\n",
       "      <td>Hyper Market</td>\n",
       "      <td>General</td>\n",
       "      <td>326</td>\n",
       "      <td>7</td>\n",
       "      <td>665</td>\n",
       "      <td>...</td>\n",
       "      <td>3</td>\n",
       "      <td>11.0</td>\n",
       "      <td>10</td>\n",
       "      <td>-3</td>\n",
       "      <td>55</td>\n",
       "      <td>1023</td>\n",
       "      <td>2</td>\n",
       "      <td>8.0</td>\n",
       "      <td>0.0</td>\n",
       "      <td>22</td>\n",
       "    </tr>\n",
       "    <tr>\n",
       "      <th>3</th>\n",
       "      <td>1000</td>\n",
       "      <td>05/03/2016</td>\n",
       "      <td>0</td>\n",
       "      <td>1</td>\n",
       "      <td>0</td>\n",
       "      <td>Hyper Market</td>\n",
       "      <td>General</td>\n",
       "      <td>326</td>\n",
       "      <td>7</td>\n",
       "      <td>630</td>\n",
       "      <td>...</td>\n",
       "      <td>3</td>\n",
       "      <td>15.0</td>\n",
       "      <td>10</td>\n",
       "      <td>-6</td>\n",
       "      <td>25</td>\n",
       "      <td>1022</td>\n",
       "      <td>-1</td>\n",
       "      <td>10.0</td>\n",
       "      <td>0.0</td>\n",
       "      <td>108</td>\n",
       "    </tr>\n",
       "    <tr>\n",
       "      <th>4</th>\n",
       "      <td>1000</td>\n",
       "      <td>06/03/2016</td>\n",
       "      <td>0</td>\n",
       "      <td>0</td>\n",
       "      <td>0</td>\n",
       "      <td>Hyper Market</td>\n",
       "      <td>General</td>\n",
       "      <td>326</td>\n",
       "      <td>7</td>\n",
       "      <td>0</td>\n",
       "      <td>...</td>\n",
       "      <td>1</td>\n",
       "      <td>12.0</td>\n",
       "      <td>5</td>\n",
       "      <td>-6</td>\n",
       "      <td>48</td>\n",
       "      <td>1022</td>\n",
       "      <td>-5</td>\n",
       "      <td>5.0</td>\n",
       "      <td>0.0</td>\n",
       "      <td>46</td>\n",
       "    </tr>\n",
       "  </tbody>\n",
       "</table>\n",
       "<p>5 rows × 36 columns</p>\n",
       "</div>"
      ],
      "text/plain": [
       "   StoreID        Date  IsHoliday  IsOpen  HasPromotions     StoreType  \\\n",
       "0     1000  01/03/2016          0       1              0  Hyper Market   \n",
       "1     1000  02/03/2016          0       1              0  Hyper Market   \n",
       "2     1000  04/03/2016          0       1              0  Hyper Market   \n",
       "3     1000  05/03/2016          0       1              0  Hyper Market   \n",
       "4     1000  06/03/2016          0       0              0  Hyper Market   \n",
       "\n",
       "  AssortmentType  NearestCompetitor  Region  NumberOfCustomers  \\\n",
       "0        General                326       7                495   \n",
       "1        General                326       7                608   \n",
       "2        General                326       7                665   \n",
       "3        General                326       7                630   \n",
       "4        General                326       7                  0   \n",
       "\n",
       "        ...        Mean_TemperatureC  Mean_VisibilityKm  Mean_Wind_SpeedKm_h  \\\n",
       "0       ...                        1               11.0                   16   \n",
       "1       ...                        3               13.0                   10   \n",
       "2       ...                        3               11.0                   10   \n",
       "3       ...                        3               15.0                   10   \n",
       "4       ...                        1               12.0                    5   \n",
       "\n",
       "   Min_Dew_PointC  Min_Humidity Min_Sea_Level_PressurehPa  Min_TemperatureC  \\\n",
       "0              -2            70                      1029                 1   \n",
       "1              -2            58                      1025                 1   \n",
       "2              -3            55                      1023                 2   \n",
       "3              -6            25                      1022                -1   \n",
       "4              -6            48                      1022                -5   \n",
       "\n",
       "   Min_VisibilitykM  Precipitationmm  WindDirDegrees  \n",
       "0               6.0              0.0              23  \n",
       "1              10.0              0.0              56  \n",
       "2               8.0              0.0              22  \n",
       "3              10.0              0.0             108  \n",
       "4               5.0              0.0              46  \n",
       "\n",
       "[5 rows x 36 columns]"
      ]
     },
     "execution_count": 3,
     "metadata": {},
     "output_type": "execute_result"
    }
   ],
   "source": [
    "histogramas = False\n",
    "train.head()"
   ]
  },
  {
   "cell_type": "code",
   "execution_count": 4,
   "metadata": {},
   "outputs": [
    {
     "data": {
      "text/html": [
       "<div>\n",
       "<style scoped>\n",
       "    .dataframe tbody tr th:only-of-type {\n",
       "        vertical-align: middle;\n",
       "    }\n",
       "\n",
       "    .dataframe tbody tr th {\n",
       "        vertical-align: top;\n",
       "    }\n",
       "\n",
       "    .dataframe thead th {\n",
       "        text-align: right;\n",
       "    }\n",
       "</style>\n",
       "<table border=\"1\" class=\"dataframe\">\n",
       "  <thead>\n",
       "    <tr style=\"text-align: right;\">\n",
       "      <th></th>\n",
       "      <th>StoreID</th>\n",
       "      <th>Date</th>\n",
       "      <th>IsHoliday</th>\n",
       "      <th>IsOpen</th>\n",
       "      <th>HasPromotions</th>\n",
       "      <th>StoreType</th>\n",
       "      <th>AssortmentType</th>\n",
       "      <th>NearestCompetitor</th>\n",
       "      <th>Region</th>\n",
       "      <th>Region_AreaKM2</th>\n",
       "      <th>...</th>\n",
       "      <th>Mean_TemperatureC</th>\n",
       "      <th>Mean_VisibilityKm</th>\n",
       "      <th>Mean_Wind_SpeedKm_h</th>\n",
       "      <th>Min_Dew_PointC</th>\n",
       "      <th>Min_Humidity</th>\n",
       "      <th>Min_Sea_Level_PressurehPa</th>\n",
       "      <th>Min_TemperatureC</th>\n",
       "      <th>Min_VisibilitykM</th>\n",
       "      <th>Precipitationmm</th>\n",
       "      <th>WindDirDegrees</th>\n",
       "    </tr>\n",
       "  </thead>\n",
       "  <tbody>\n",
       "    <tr>\n",
       "      <th>0</th>\n",
       "      <td>1000</td>\n",
       "      <td>01/03/2018</td>\n",
       "      <td>0</td>\n",
       "      <td>1</td>\n",
       "      <td>0</td>\n",
       "      <td>Hyper Market</td>\n",
       "      <td>General</td>\n",
       "      <td>326</td>\n",
       "      <td>7</td>\n",
       "      <td>9643</td>\n",
       "      <td>...</td>\n",
       "      <td>6</td>\n",
       "      <td>14.0</td>\n",
       "      <td>5</td>\n",
       "      <td>-1</td>\n",
       "      <td>46</td>\n",
       "      <td>1011</td>\n",
       "      <td>2</td>\n",
       "      <td>10.0</td>\n",
       "      <td>0.00</td>\n",
       "      <td>180</td>\n",
       "    </tr>\n",
       "    <tr>\n",
       "      <th>1</th>\n",
       "      <td>1000</td>\n",
       "      <td>02/03/2018</td>\n",
       "      <td>0</td>\n",
       "      <td>1</td>\n",
       "      <td>0</td>\n",
       "      <td>Hyper Market</td>\n",
       "      <td>General</td>\n",
       "      <td>326</td>\n",
       "      <td>7</td>\n",
       "      <td>9643</td>\n",
       "      <td>...</td>\n",
       "      <td>4</td>\n",
       "      <td>12.0</td>\n",
       "      <td>6</td>\n",
       "      <td>-1</td>\n",
       "      <td>52</td>\n",
       "      <td>1009</td>\n",
       "      <td>3</td>\n",
       "      <td>10.0</td>\n",
       "      <td>5.08</td>\n",
       "      <td>315</td>\n",
       "    </tr>\n",
       "    <tr>\n",
       "      <th>2</th>\n",
       "      <td>1000</td>\n",
       "      <td>03/03/2018</td>\n",
       "      <td>0</td>\n",
       "      <td>1</td>\n",
       "      <td>0</td>\n",
       "      <td>Hyper Market</td>\n",
       "      <td>General</td>\n",
       "      <td>326</td>\n",
       "      <td>7</td>\n",
       "      <td>9643</td>\n",
       "      <td>...</td>\n",
       "      <td>3</td>\n",
       "      <td>13.0</td>\n",
       "      <td>11</td>\n",
       "      <td>-3</td>\n",
       "      <td>41</td>\n",
       "      <td>1013</td>\n",
       "      <td>-2</td>\n",
       "      <td>10.0</td>\n",
       "      <td>0.00</td>\n",
       "      <td>210</td>\n",
       "    </tr>\n",
       "    <tr>\n",
       "      <th>3</th>\n",
       "      <td>1000</td>\n",
       "      <td>04/03/2018</td>\n",
       "      <td>0</td>\n",
       "      <td>0</td>\n",
       "      <td>0</td>\n",
       "      <td>Hyper Market</td>\n",
       "      <td>General</td>\n",
       "      <td>326</td>\n",
       "      <td>7</td>\n",
       "      <td>9643</td>\n",
       "      <td>...</td>\n",
       "      <td>6</td>\n",
       "      <td>11.0</td>\n",
       "      <td>18</td>\n",
       "      <td>-2</td>\n",
       "      <td>65</td>\n",
       "      <td>1002</td>\n",
       "      <td>1</td>\n",
       "      <td>6.0</td>\n",
       "      <td>3.05</td>\n",
       "      <td>193</td>\n",
       "    </tr>\n",
       "    <tr>\n",
       "      <th>4</th>\n",
       "      <td>1000</td>\n",
       "      <td>05/03/2018</td>\n",
       "      <td>0</td>\n",
       "      <td>1</td>\n",
       "      <td>1</td>\n",
       "      <td>Hyper Market</td>\n",
       "      <td>General</td>\n",
       "      <td>326</td>\n",
       "      <td>7</td>\n",
       "      <td>9643</td>\n",
       "      <td>...</td>\n",
       "      <td>6</td>\n",
       "      <td>10.0</td>\n",
       "      <td>23</td>\n",
       "      <td>-5</td>\n",
       "      <td>25</td>\n",
       "      <td>1000</td>\n",
       "      <td>2</td>\n",
       "      <td>8.0</td>\n",
       "      <td>0.25</td>\n",
       "      <td>247</td>\n",
       "    </tr>\n",
       "  </tbody>\n",
       "</table>\n",
       "<p>5 rows × 34 columns</p>\n",
       "</div>"
      ],
      "text/plain": [
       "   StoreID        Date  IsHoliday  IsOpen  HasPromotions     StoreType  \\\n",
       "0     1000  01/03/2018          0       1              0  Hyper Market   \n",
       "1     1000  02/03/2018          0       1              0  Hyper Market   \n",
       "2     1000  03/03/2018          0       1              0  Hyper Market   \n",
       "3     1000  04/03/2018          0       0              0  Hyper Market   \n",
       "4     1000  05/03/2018          0       1              1  Hyper Market   \n",
       "\n",
       "  AssortmentType  NearestCompetitor  Region  Region_AreaKM2       ...        \\\n",
       "0        General                326       7            9643       ...         \n",
       "1        General                326       7            9643       ...         \n",
       "2        General                326       7            9643       ...         \n",
       "3        General                326       7            9643       ...         \n",
       "4        General                326       7            9643       ...         \n",
       "\n",
       "   Mean_TemperatureC  Mean_VisibilityKm  Mean_Wind_SpeedKm_h Min_Dew_PointC  \\\n",
       "0                  6               14.0                    5             -1   \n",
       "1                  4               12.0                    6             -1   \n",
       "2                  3               13.0                   11             -3   \n",
       "3                  6               11.0                   18             -2   \n",
       "4                  6               10.0                   23             -5   \n",
       "\n",
       "   Min_Humidity  Min_Sea_Level_PressurehPa  Min_TemperatureC  \\\n",
       "0            46                       1011                 2   \n",
       "1            52                       1009                 3   \n",
       "2            41                       1013                -2   \n",
       "3            65                       1002                 1   \n",
       "4            25                       1000                 2   \n",
       "\n",
       "   Min_VisibilitykM  Precipitationmm  WindDirDegrees  \n",
       "0              10.0             0.00             180  \n",
       "1              10.0             5.08             315  \n",
       "2              10.0             0.00             210  \n",
       "3               6.0             3.05             193  \n",
       "4               8.0             0.25             247  \n",
       "\n",
       "[5 rows x 34 columns]"
      ]
     },
     "execution_count": 4,
     "metadata": {},
     "output_type": "execute_result"
    }
   ],
   "source": [
    "test.head()"
   ]
  },
  {
   "cell_type": "code",
   "execution_count": 5,
   "metadata": {},
   "outputs": [
    {
     "data": {
      "text/html": [
       "<div>\n",
       "<style scoped>\n",
       "    .dataframe tbody tr th:only-of-type {\n",
       "        vertical-align: middle;\n",
       "    }\n",
       "\n",
       "    .dataframe tbody tr th {\n",
       "        vertical-align: top;\n",
       "    }\n",
       "\n",
       "    .dataframe thead th {\n",
       "        text-align: right;\n",
       "    }\n",
       "</style>\n",
       "<table border=\"1\" class=\"dataframe\">\n",
       "  <thead>\n",
       "    <tr style=\"text-align: right;\">\n",
       "      <th></th>\n",
       "      <th>StoreID</th>\n",
       "      <th>IsHoliday</th>\n",
       "      <th>IsOpen</th>\n",
       "      <th>HasPromotions</th>\n",
       "      <th>NearestCompetitor</th>\n",
       "      <th>Region</th>\n",
       "      <th>NumberOfCustomers</th>\n",
       "      <th>NumberOfSales</th>\n",
       "      <th>Region_AreaKM2</th>\n",
       "      <th>Region_GDP</th>\n",
       "      <th>...</th>\n",
       "      <th>Mean_TemperatureC</th>\n",
       "      <th>Mean_VisibilityKm</th>\n",
       "      <th>Mean_Wind_SpeedKm_h</th>\n",
       "      <th>Min_Dew_PointC</th>\n",
       "      <th>Min_Humidity</th>\n",
       "      <th>Min_Sea_Level_PressurehPa</th>\n",
       "      <th>Min_TemperatureC</th>\n",
       "      <th>Min_VisibilitykM</th>\n",
       "      <th>Precipitationmm</th>\n",
       "      <th>WindDirDegrees</th>\n",
       "    </tr>\n",
       "  </thead>\n",
       "  <tbody>\n",
       "    <tr>\n",
       "      <th>count</th>\n",
       "      <td>523021.000000</td>\n",
       "      <td>523021.000000</td>\n",
       "      <td>523021.000000</td>\n",
       "      <td>523021.000000</td>\n",
       "      <td>523021.00000</td>\n",
       "      <td>523021.000000</td>\n",
       "      <td>523021.000000</td>\n",
       "      <td>523021.000000</td>\n",
       "      <td>523021.000000</td>\n",
       "      <td>523021.000000</td>\n",
       "      <td>...</td>\n",
       "      <td>523021.000000</td>\n",
       "      <td>511683.000000</td>\n",
       "      <td>523021.000000</td>\n",
       "      <td>523021.000000</td>\n",
       "      <td>523021.000000</td>\n",
       "      <td>523021.000000</td>\n",
       "      <td>523021.000000</td>\n",
       "      <td>511683.000000</td>\n",
       "      <td>523021.000000</td>\n",
       "      <td>523021.000000</td>\n",
       "    </tr>\n",
       "    <tr>\n",
       "      <th>mean</th>\n",
       "      <td>1373.953914</td>\n",
       "      <td>0.029718</td>\n",
       "      <td>0.829714</td>\n",
       "      <td>0.383292</td>\n",
       "      <td>8002.71122</td>\n",
       "      <td>5.713151</td>\n",
       "      <td>259.325073</td>\n",
       "      <td>4057.377536</td>\n",
       "      <td>12381.265718</td>\n",
       "      <td>14050.547848</td>\n",
       "      <td>...</td>\n",
       "      <td>10.273205</td>\n",
       "      <td>12.151025</td>\n",
       "      <td>11.724961</td>\n",
       "      <td>3.737584</td>\n",
       "      <td>51.375624</td>\n",
       "      <td>1012.078435</td>\n",
       "      <td>6.202315</td>\n",
       "      <td>7.223408</td>\n",
       "      <td>0.808278</td>\n",
       "      <td>170.458096</td>\n",
       "    </tr>\n",
       "    <tr>\n",
       "      <th>std</th>\n",
       "      <td>216.395820</td>\n",
       "      <td>0.169808</td>\n",
       "      <td>0.375884</td>\n",
       "      <td>0.486189</td>\n",
       "      <td>11537.70753</td>\n",
       "      <td>3.357190</td>\n",
       "      <td>185.857102</td>\n",
       "      <td>2729.630381</td>\n",
       "      <td>9140.692427</td>\n",
       "      <td>2755.425404</td>\n",
       "      <td>...</td>\n",
       "      <td>7.041167</td>\n",
       "      <td>4.978385</td>\n",
       "      <td>5.791031</td>\n",
       "      <td>5.909098</td>\n",
       "      <td>19.284023</td>\n",
       "      <td>8.699236</td>\n",
       "      <td>6.312993</td>\n",
       "      <td>4.899575</td>\n",
       "      <td>2.631428</td>\n",
       "      <td>101.728193</td>\n",
       "    </tr>\n",
       "    <tr>\n",
       "      <th>min</th>\n",
       "      <td>1000.000000</td>\n",
       "      <td>0.000000</td>\n",
       "      <td>0.000000</td>\n",
       "      <td>0.000000</td>\n",
       "      <td>47.00000</td>\n",
       "      <td>0.000000</td>\n",
       "      <td>0.000000</td>\n",
       "      <td>0.000000</td>\n",
       "      <td>344.000000</td>\n",
       "      <td>9893.000000</td>\n",
       "      <td>...</td>\n",
       "      <td>-13.000000</td>\n",
       "      <td>0.000000</td>\n",
       "      <td>2.000000</td>\n",
       "      <td>-18.000000</td>\n",
       "      <td>10.000000</td>\n",
       "      <td>970.000000</td>\n",
       "      <td>-15.000000</td>\n",
       "      <td>0.000000</td>\n",
       "      <td>0.000000</td>\n",
       "      <td>-1.000000</td>\n",
       "    </tr>\n",
       "    <tr>\n",
       "      <th>25%</th>\n",
       "      <td>1187.000000</td>\n",
       "      <td>0.000000</td>\n",
       "      <td>1.000000</td>\n",
       "      <td>0.000000</td>\n",
       "      <td>1057.00000</td>\n",
       "      <td>3.000000</td>\n",
       "      <td>166.000000</td>\n",
       "      <td>2573.000000</td>\n",
       "      <td>7215.000000</td>\n",
       "      <td>11849.000000</td>\n",
       "      <td>...</td>\n",
       "      <td>4.000000</td>\n",
       "      <td>10.000000</td>\n",
       "      <td>8.000000</td>\n",
       "      <td>-1.000000</td>\n",
       "      <td>36.000000</td>\n",
       "      <td>1007.000000</td>\n",
       "      <td>1.000000</td>\n",
       "      <td>3.000000</td>\n",
       "      <td>0.000000</td>\n",
       "      <td>75.000000</td>\n",
       "    </tr>\n",
       "    <tr>\n",
       "      <th>50%</th>\n",
       "      <td>1373.000000</td>\n",
       "      <td>0.000000</td>\n",
       "      <td>1.000000</td>\n",
       "      <td>0.000000</td>\n",
       "      <td>3321.00000</td>\n",
       "      <td>6.000000</td>\n",
       "      <td>251.000000</td>\n",
       "      <td>4020.000000</td>\n",
       "      <td>9643.000000</td>\n",
       "      <td>15017.000000</td>\n",
       "      <td>...</td>\n",
       "      <td>11.000000</td>\n",
       "      <td>11.000000</td>\n",
       "      <td>11.000000</td>\n",
       "      <td>4.000000</td>\n",
       "      <td>51.000000</td>\n",
       "      <td>1013.000000</td>\n",
       "      <td>7.000000</td>\n",
       "      <td>8.000000</td>\n",
       "      <td>0.000000</td>\n",
       "      <td>191.000000</td>\n",
       "    </tr>\n",
       "    <tr>\n",
       "      <th>75%</th>\n",
       "      <td>1561.000000</td>\n",
       "      <td>0.000000</td>\n",
       "      <td>1.000000</td>\n",
       "      <td>1.000000</td>\n",
       "      <td>9673.00000</td>\n",
       "      <td>9.000000</td>\n",
       "      <td>345.000000</td>\n",
       "      <td>5538.000000</td>\n",
       "      <td>15566.000000</td>\n",
       "      <td>15931.000000</td>\n",
       "      <td>...</td>\n",
       "      <td>16.000000</td>\n",
       "      <td>14.000000</td>\n",
       "      <td>14.000000</td>\n",
       "      <td>8.000000</td>\n",
       "      <td>66.000000</td>\n",
       "      <td>1018.000000</td>\n",
       "      <td>11.000000</td>\n",
       "      <td>10.000000</td>\n",
       "      <td>0.250000</td>\n",
       "      <td>250.000000</td>\n",
       "    </tr>\n",
       "    <tr>\n",
       "      <th>max</th>\n",
       "      <td>1748.000000</td>\n",
       "      <td>1.000000</td>\n",
       "      <td>1.000000</td>\n",
       "      <td>1.000000</td>\n",
       "      <td>85070.00000</td>\n",
       "      <td>10.000000</td>\n",
       "      <td>2206.000000</td>\n",
       "      <td>26641.000000</td>\n",
       "      <td>32221.000000</td>\n",
       "      <td>23931.000000</td>\n",
       "      <td>...</td>\n",
       "      <td>30.000000</td>\n",
       "      <td>31.000000</td>\n",
       "      <td>53.000000</td>\n",
       "      <td>18.000000</td>\n",
       "      <td>100.000000</td>\n",
       "      <td>1038.000000</td>\n",
       "      <td>24.000000</td>\n",
       "      <td>31.000000</td>\n",
       "      <td>58.930000</td>\n",
       "      <td>360.000000</td>\n",
       "    </tr>\n",
       "  </tbody>\n",
       "</table>\n",
       "<p>8 rows × 32 columns</p>\n",
       "</div>"
      ],
      "text/plain": [
       "             StoreID      IsHoliday         IsOpen  HasPromotions  \\\n",
       "count  523021.000000  523021.000000  523021.000000  523021.000000   \n",
       "mean     1373.953914       0.029718       0.829714       0.383292   \n",
       "std       216.395820       0.169808       0.375884       0.486189   \n",
       "min      1000.000000       0.000000       0.000000       0.000000   \n",
       "25%      1187.000000       0.000000       1.000000       0.000000   \n",
       "50%      1373.000000       0.000000       1.000000       0.000000   \n",
       "75%      1561.000000       0.000000       1.000000       1.000000   \n",
       "max      1748.000000       1.000000       1.000000       1.000000   \n",
       "\n",
       "       NearestCompetitor         Region  NumberOfCustomers  NumberOfSales  \\\n",
       "count       523021.00000  523021.000000      523021.000000  523021.000000   \n",
       "mean          8002.71122       5.713151         259.325073    4057.377536   \n",
       "std          11537.70753       3.357190         185.857102    2729.630381   \n",
       "min             47.00000       0.000000           0.000000       0.000000   \n",
       "25%           1057.00000       3.000000         166.000000    2573.000000   \n",
       "50%           3321.00000       6.000000         251.000000    4020.000000   \n",
       "75%           9673.00000       9.000000         345.000000    5538.000000   \n",
       "max          85070.00000      10.000000        2206.000000   26641.000000   \n",
       "\n",
       "       Region_AreaKM2     Region_GDP       ...        Mean_TemperatureC  \\\n",
       "count   523021.000000  523021.000000       ...            523021.000000   \n",
       "mean     12381.265718   14050.547848       ...                10.273205   \n",
       "std       9140.692427    2755.425404       ...                 7.041167   \n",
       "min        344.000000    9893.000000       ...               -13.000000   \n",
       "25%       7215.000000   11849.000000       ...                 4.000000   \n",
       "50%       9643.000000   15017.000000       ...                11.000000   \n",
       "75%      15566.000000   15931.000000       ...                16.000000   \n",
       "max      32221.000000   23931.000000       ...                30.000000   \n",
       "\n",
       "       Mean_VisibilityKm  Mean_Wind_SpeedKm_h  Min_Dew_PointC   Min_Humidity  \\\n",
       "count      511683.000000        523021.000000   523021.000000  523021.000000   \n",
       "mean           12.151025            11.724961        3.737584      51.375624   \n",
       "std             4.978385             5.791031        5.909098      19.284023   \n",
       "min             0.000000             2.000000      -18.000000      10.000000   \n",
       "25%            10.000000             8.000000       -1.000000      36.000000   \n",
       "50%            11.000000            11.000000        4.000000      51.000000   \n",
       "75%            14.000000            14.000000        8.000000      66.000000   \n",
       "max            31.000000            53.000000       18.000000     100.000000   \n",
       "\n",
       "       Min_Sea_Level_PressurehPa  Min_TemperatureC  Min_VisibilitykM  \\\n",
       "count              523021.000000     523021.000000     511683.000000   \n",
       "mean                 1012.078435          6.202315          7.223408   \n",
       "std                     8.699236          6.312993          4.899575   \n",
       "min                   970.000000        -15.000000          0.000000   \n",
       "25%                  1007.000000          1.000000          3.000000   \n",
       "50%                  1013.000000          7.000000          8.000000   \n",
       "75%                  1018.000000         11.000000         10.000000   \n",
       "max                  1038.000000         24.000000         31.000000   \n",
       "\n",
       "       Precipitationmm  WindDirDegrees  \n",
       "count    523021.000000   523021.000000  \n",
       "mean          0.808278      170.458096  \n",
       "std           2.631428      101.728193  \n",
       "min           0.000000       -1.000000  \n",
       "25%           0.000000       75.000000  \n",
       "50%           0.000000      191.000000  \n",
       "75%           0.250000      250.000000  \n",
       "max          58.930000      360.000000  \n",
       "\n",
       "[8 rows x 32 columns]"
      ]
     },
     "execution_count": 5,
     "metadata": {},
     "output_type": "execute_result"
    }
   ],
   "source": [
    "train.describe()"
   ]
  },
  {
   "cell_type": "code",
   "execution_count": 6,
   "metadata": {},
   "outputs": [
    {
     "data": {
      "text/html": [
       "<div>\n",
       "<style scoped>\n",
       "    .dataframe tbody tr th:only-of-type {\n",
       "        vertical-align: middle;\n",
       "    }\n",
       "\n",
       "    .dataframe tbody tr th {\n",
       "        vertical-align: top;\n",
       "    }\n",
       "\n",
       "    .dataframe thead th {\n",
       "        text-align: right;\n",
       "    }\n",
       "</style>\n",
       "<table border=\"1\" class=\"dataframe\">\n",
       "  <thead>\n",
       "    <tr style=\"text-align: right;\">\n",
       "      <th></th>\n",
       "      <th>StoreID</th>\n",
       "      <th>IsHoliday</th>\n",
       "      <th>IsOpen</th>\n",
       "      <th>HasPromotions</th>\n",
       "      <th>NearestCompetitor</th>\n",
       "      <th>Region</th>\n",
       "      <th>Region_AreaKM2</th>\n",
       "      <th>Region_GDP</th>\n",
       "      <th>Region_PopulationK</th>\n",
       "      <th>CloudCover</th>\n",
       "      <th>...</th>\n",
       "      <th>Mean_TemperatureC</th>\n",
       "      <th>Mean_VisibilityKm</th>\n",
       "      <th>Mean_Wind_SpeedKm_h</th>\n",
       "      <th>Min_Dew_PointC</th>\n",
       "      <th>Min_Humidity</th>\n",
       "      <th>Min_Sea_Level_PressurehPa</th>\n",
       "      <th>Min_TemperatureC</th>\n",
       "      <th>Min_VisibilitykM</th>\n",
       "      <th>Precipitationmm</th>\n",
       "      <th>WindDirDegrees</th>\n",
       "    </tr>\n",
       "  </thead>\n",
       "  <tbody>\n",
       "    <tr>\n",
       "      <th>count</th>\n",
       "      <td>45689.000000</td>\n",
       "      <td>45689.000000</td>\n",
       "      <td>45689.000000</td>\n",
       "      <td>45689.000000</td>\n",
       "      <td>45689.000000</td>\n",
       "      <td>45689.000000</td>\n",
       "      <td>45689.000000</td>\n",
       "      <td>45689.000000</td>\n",
       "      <td>45689.000000</td>\n",
       "      <td>37271.00000</td>\n",
       "      <td>...</td>\n",
       "      <td>45689.000000</td>\n",
       "      <td>43068.000000</td>\n",
       "      <td>45689.000000</td>\n",
       "      <td>45689.000000</td>\n",
       "      <td>45689.000000</td>\n",
       "      <td>45689.000000</td>\n",
       "      <td>45689.000000</td>\n",
       "      <td>43068.000000</td>\n",
       "      <td>45689.000000</td>\n",
       "      <td>45689.000000</td>\n",
       "    </tr>\n",
       "    <tr>\n",
       "      <th>mean</th>\n",
       "      <td>1374.000000</td>\n",
       "      <td>0.032787</td>\n",
       "      <td>0.822649</td>\n",
       "      <td>0.344262</td>\n",
       "      <td>7958.004005</td>\n",
       "      <td>5.556742</td>\n",
       "      <td>13216.973298</td>\n",
       "      <td>14140.499332</td>\n",
       "      <td>3940.098798</td>\n",
       "      <td>5.45797</td>\n",
       "      <td>...</td>\n",
       "      <td>7.009433</td>\n",
       "      <td>13.428323</td>\n",
       "      <td>12.471208</td>\n",
       "      <td>-1.208124</td>\n",
       "      <td>39.309549</td>\n",
       "      <td>1016.101381</td>\n",
       "      <td>1.852853</td>\n",
       "      <td>8.084959</td>\n",
       "      <td>0.462545</td>\n",
       "      <td>188.977522</td>\n",
       "    </tr>\n",
       "    <tr>\n",
       "      <th>std</th>\n",
       "      <td>216.219849</td>\n",
       "      <td>0.178080</td>\n",
       "      <td>0.381970</td>\n",
       "      <td>0.475132</td>\n",
       "      <td>11429.943820</td>\n",
       "      <td>3.369348</td>\n",
       "      <td>9793.699417</td>\n",
       "      <td>2730.696157</td>\n",
       "      <td>2782.135496</td>\n",
       "      <td>1.73856</td>\n",
       "      <td>...</td>\n",
       "      <td>3.530816</td>\n",
       "      <td>5.323993</td>\n",
       "      <td>6.766945</td>\n",
       "      <td>3.232898</td>\n",
       "      <td>15.820149</td>\n",
       "      <td>10.503942</td>\n",
       "      <td>3.287485</td>\n",
       "      <td>5.209967</td>\n",
       "      <td>1.275447</td>\n",
       "      <td>112.300400</td>\n",
       "    </tr>\n",
       "    <tr>\n",
       "      <th>min</th>\n",
       "      <td>1000.000000</td>\n",
       "      <td>0.000000</td>\n",
       "      <td>0.000000</td>\n",
       "      <td>0.000000</td>\n",
       "      <td>47.000000</td>\n",
       "      <td>0.000000</td>\n",
       "      <td>344.000000</td>\n",
       "      <td>9893.000000</td>\n",
       "      <td>816.000000</td>\n",
       "      <td>0.00000</td>\n",
       "      <td>...</td>\n",
       "      <td>-2.000000</td>\n",
       "      <td>2.000000</td>\n",
       "      <td>3.000000</td>\n",
       "      <td>-13.000000</td>\n",
       "      <td>8.000000</td>\n",
       "      <td>979.000000</td>\n",
       "      <td>-6.000000</td>\n",
       "      <td>0.000000</td>\n",
       "      <td>0.000000</td>\n",
       "      <td>-1.000000</td>\n",
       "    </tr>\n",
       "    <tr>\n",
       "      <th>25%</th>\n",
       "      <td>1187.000000</td>\n",
       "      <td>0.000000</td>\n",
       "      <td>1.000000</td>\n",
       "      <td>0.000000</td>\n",
       "      <td>1057.000000</td>\n",
       "      <td>2.000000</td>\n",
       "      <td>7215.000000</td>\n",
       "      <td>11849.000000</td>\n",
       "      <td>1584.000000</td>\n",
       "      <td>5.00000</td>\n",
       "      <td>...</td>\n",
       "      <td>4.000000</td>\n",
       "      <td>10.000000</td>\n",
       "      <td>8.000000</td>\n",
       "      <td>-3.000000</td>\n",
       "      <td>28.000000</td>\n",
       "      <td>1010.000000</td>\n",
       "      <td>0.000000</td>\n",
       "      <td>5.000000</td>\n",
       "      <td>0.000000</td>\n",
       "      <td>71.000000</td>\n",
       "    </tr>\n",
       "    <tr>\n",
       "      <th>50%</th>\n",
       "      <td>1374.000000</td>\n",
       "      <td>0.000000</td>\n",
       "      <td>1.000000</td>\n",
       "      <td>0.000000</td>\n",
       "      <td>3307.000000</td>\n",
       "      <td>6.000000</td>\n",
       "      <td>9643.000000</td>\n",
       "      <td>15017.000000</td>\n",
       "      <td>2770.000000</td>\n",
       "      <td>6.00000</td>\n",
       "      <td>...</td>\n",
       "      <td>7.000000</td>\n",
       "      <td>12.000000</td>\n",
       "      <td>11.000000</td>\n",
       "      <td>-1.000000</td>\n",
       "      <td>37.000000</td>\n",
       "      <td>1018.000000</td>\n",
       "      <td>2.000000</td>\n",
       "      <td>9.000000</td>\n",
       "      <td>0.000000</td>\n",
       "      <td>225.000000</td>\n",
       "    </tr>\n",
       "    <tr>\n",
       "      <th>75%</th>\n",
       "      <td>1561.000000</td>\n",
       "      <td>0.000000</td>\n",
       "      <td>1.000000</td>\n",
       "      <td>1.000000</td>\n",
       "      <td>9673.000000</td>\n",
       "      <td>9.000000</td>\n",
       "      <td>15566.000000</td>\n",
       "      <td>16186.000000</td>\n",
       "      <td>5727.000000</td>\n",
       "      <td>6.00000</td>\n",
       "      <td>...</td>\n",
       "      <td>9.000000</td>\n",
       "      <td>16.000000</td>\n",
       "      <td>14.000000</td>\n",
       "      <td>1.000000</td>\n",
       "      <td>50.000000</td>\n",
       "      <td>1024.000000</td>\n",
       "      <td>4.000000</td>\n",
       "      <td>10.000000</td>\n",
       "      <td>0.000000</td>\n",
       "      <td>273.000000</td>\n",
       "    </tr>\n",
       "    <tr>\n",
       "      <th>max</th>\n",
       "      <td>1748.000000</td>\n",
       "      <td>1.000000</td>\n",
       "      <td>1.000000</td>\n",
       "      <td>1.000000</td>\n",
       "      <td>85070.000000</td>\n",
       "      <td>10.000000</td>\n",
       "      <td>32221.000000</td>\n",
       "      <td>23931.000000</td>\n",
       "      <td>8146.000000</td>\n",
       "      <td>8.00000</td>\n",
       "      <td>...</td>\n",
       "      <td>17.000000</td>\n",
       "      <td>31.000000</td>\n",
       "      <td>39.000000</td>\n",
       "      <td>9.000000</td>\n",
       "      <td>87.000000</td>\n",
       "      <td>1035.000000</td>\n",
       "      <td>12.000000</td>\n",
       "      <td>31.000000</td>\n",
       "      <td>11.940000</td>\n",
       "      <td>360.000000</td>\n",
       "    </tr>\n",
       "  </tbody>\n",
       "</table>\n",
       "<p>8 rows × 30 columns</p>\n",
       "</div>"
      ],
      "text/plain": [
       "            StoreID     IsHoliday        IsOpen  HasPromotions  \\\n",
       "count  45689.000000  45689.000000  45689.000000   45689.000000   \n",
       "mean    1374.000000      0.032787      0.822649       0.344262   \n",
       "std      216.219849      0.178080      0.381970       0.475132   \n",
       "min     1000.000000      0.000000      0.000000       0.000000   \n",
       "25%     1187.000000      0.000000      1.000000       0.000000   \n",
       "50%     1374.000000      0.000000      1.000000       0.000000   \n",
       "75%     1561.000000      0.000000      1.000000       1.000000   \n",
       "max     1748.000000      1.000000      1.000000       1.000000   \n",
       "\n",
       "       NearestCompetitor        Region  Region_AreaKM2    Region_GDP  \\\n",
       "count       45689.000000  45689.000000    45689.000000  45689.000000   \n",
       "mean         7958.004005      5.556742    13216.973298  14140.499332   \n",
       "std         11429.943820      3.369348     9793.699417   2730.696157   \n",
       "min            47.000000      0.000000      344.000000   9893.000000   \n",
       "25%          1057.000000      2.000000     7215.000000  11849.000000   \n",
       "50%          3307.000000      6.000000     9643.000000  15017.000000   \n",
       "75%          9673.000000      9.000000    15566.000000  16186.000000   \n",
       "max         85070.000000     10.000000    32221.000000  23931.000000   \n",
       "\n",
       "       Region_PopulationK   CloudCover       ...        Mean_TemperatureC  \\\n",
       "count        45689.000000  37271.00000       ...             45689.000000   \n",
       "mean          3940.098798      5.45797       ...                 7.009433   \n",
       "std           2782.135496      1.73856       ...                 3.530816   \n",
       "min            816.000000      0.00000       ...                -2.000000   \n",
       "25%           1584.000000      5.00000       ...                 4.000000   \n",
       "50%           2770.000000      6.00000       ...                 7.000000   \n",
       "75%           5727.000000      6.00000       ...                 9.000000   \n",
       "max           8146.000000      8.00000       ...                17.000000   \n",
       "\n",
       "       Mean_VisibilityKm  Mean_Wind_SpeedKm_h  Min_Dew_PointC  Min_Humidity  \\\n",
       "count       43068.000000         45689.000000    45689.000000  45689.000000   \n",
       "mean           13.428323            12.471208       -1.208124     39.309549   \n",
       "std             5.323993             6.766945        3.232898     15.820149   \n",
       "min             2.000000             3.000000      -13.000000      8.000000   \n",
       "25%            10.000000             8.000000       -3.000000     28.000000   \n",
       "50%            12.000000            11.000000       -1.000000     37.000000   \n",
       "75%            16.000000            14.000000        1.000000     50.000000   \n",
       "max            31.000000            39.000000        9.000000     87.000000   \n",
       "\n",
       "       Min_Sea_Level_PressurehPa  Min_TemperatureC  Min_VisibilitykM  \\\n",
       "count               45689.000000      45689.000000      43068.000000   \n",
       "mean                 1016.101381          1.852853          8.084959   \n",
       "std                    10.503942          3.287485          5.209967   \n",
       "min                   979.000000         -6.000000          0.000000   \n",
       "25%                  1010.000000          0.000000          5.000000   \n",
       "50%                  1018.000000          2.000000          9.000000   \n",
       "75%                  1024.000000          4.000000         10.000000   \n",
       "max                  1035.000000         12.000000         31.000000   \n",
       "\n",
       "       Precipitationmm  WindDirDegrees  \n",
       "count     45689.000000    45689.000000  \n",
       "mean          0.462545      188.977522  \n",
       "std           1.275447      112.300400  \n",
       "min           0.000000       -1.000000  \n",
       "25%           0.000000       71.000000  \n",
       "50%           0.000000      225.000000  \n",
       "75%           0.000000      273.000000  \n",
       "max          11.940000      360.000000  \n",
       "\n",
       "[8 rows x 30 columns]"
      ]
     },
     "execution_count": 6,
     "metadata": {},
     "output_type": "execute_result"
    }
   ],
   "source": [
    "test.describe()"
   ]
  },
  {
   "cell_type": "markdown",
   "metadata": {},
   "source": [
    "Dropping tuples with IsOpen = 0 "
   ]
  },
  {
   "cell_type": "code",
   "execution_count": 7,
   "metadata": {},
   "outputs": [],
   "source": [
    "train = train[train.IsOpen != 0]\n",
    "train = train.drop(columns=['IsOpen'])\n",
    "test = test[test.IsOpen != 0]\n",
    "test = test.drop(columns=['IsOpen'])"
   ]
  },
  {
   "cell_type": "markdown",
   "metadata": {},
   "source": [
    "## Categorical/NumberOfSales "
   ]
  },
  {
   "cell_type": "code",
   "execution_count": 8,
   "metadata": {},
   "outputs": [],
   "source": [
    "train['WindDirDegrees']= train['WindDirDegrees'].apply(lambda x : \"Wind \"+str(math.floor(x*8/360)))\n",
    "train['WindDirDegrees']= train['WindDirDegrees'].apply(lambda x : \"Wind 0\" if x==\"Wind 8\" else x)"
   ]
  },
  {
   "cell_type": "markdown",
   "metadata": {},
   "source": [
    "IsHoliday"
   ]
  },
  {
   "cell_type": "code",
   "execution_count": 9,
   "metadata": {},
   "outputs": [],
   "source": [
    "holy = train['IsHoliday']"
   ]
  },
  {
   "cell_type": "code",
   "execution_count": 10,
   "metadata": {},
   "outputs": [],
   "source": [
    "if histogramas:\n",
    "    sns.set_context(\"notebook\", font_scale=1.5, rc={\"lines.linewidth\": 1})\n",
    "    plt.figure(figsize=(5,5)) \n",
    "    sns.barplot(x=holy, y=\"NumberOfSales\", data=train)"
   ]
  },
  {
   "cell_type": "markdown",
   "metadata": {},
   "source": [
    "HasPromotions"
   ]
  },
  {
   "cell_type": "code",
   "execution_count": 11,
   "metadata": {},
   "outputs": [],
   "source": [
    "promo = train['HasPromotions']"
   ]
  },
  {
   "cell_type": "code",
   "execution_count": 12,
   "metadata": {},
   "outputs": [],
   "source": [
    "if histogramas:\n",
    "    sns.set_context(\"notebook\", font_scale=1.5, rc={\"lines.linewidth\": 1})\n",
    "    plt.figure(figsize=(5,5))   #this is the way to set the size of the following figure, i need to add it at each new figure\n",
    "    sns.barplot(x=promo, y=\"NumberOfSales\", data=train)"
   ]
  },
  {
   "cell_type": "code",
   "execution_count": 13,
   "metadata": {},
   "outputs": [],
   "source": [
    "Stype = train['StoreType']"
   ]
  },
  {
   "cell_type": "code",
   "execution_count": 14,
   "metadata": {},
   "outputs": [],
   "source": [
    "if histogramas:\n",
    "    sns.set_context(\"notebook\", font_scale=1.5, rc={\"lines.linewidth\": 1})\n",
    "    plt.figure(figsize=(10,5))   #this is the way to set the size of the following figure, i need to add it at each new figure\n",
    "    sns.barplot(x=Stype, y=\"NumberOfSales\", data=train)"
   ]
  },
  {
   "cell_type": "code",
   "execution_count": 15,
   "metadata": {},
   "outputs": [],
   "source": [
    "Atype = train['AssortmentType']"
   ]
  },
  {
   "cell_type": "code",
   "execution_count": 16,
   "metadata": {},
   "outputs": [],
   "source": [
    "if histogramas:\n",
    "    sns.set_context(\"notebook\", font_scale=1.5, rc={\"lines.linewidth\": 1})\n",
    "    plt.figure(figsize=(10,5))   #this is the way to set the size of the following figure, i need to add it at each new figure\n",
    "    sns.barplot(x=Atype, y=\"NumberOfSales\", data=train)"
   ]
  },
  {
   "cell_type": "code",
   "execution_count": 17,
   "metadata": {},
   "outputs": [],
   "source": [
    "Region = train['Region']"
   ]
  },
  {
   "cell_type": "code",
   "execution_count": 18,
   "metadata": {},
   "outputs": [],
   "source": [
    "if histogramas:\n",
    "    sns.set_context(\"notebook\", font_scale=1.5, rc={\"lines.linewidth\": 1})\n",
    "    plt.figure(figsize=(10,5))   #this is the way to set the size of the following figure, i need to add it at each new figure\n",
    "    sns.barplot(x=Region, y=\"NumberOfSales\", data=train)"
   ]
  },
  {
   "cell_type": "code",
   "execution_count": 19,
   "metadata": {},
   "outputs": [],
   "source": [
    "CC = train['CloudCover']"
   ]
  },
  {
   "cell_type": "code",
   "execution_count": 20,
   "metadata": {},
   "outputs": [],
   "source": [
    "if histogramas:\n",
    "    plt.figure(figsize=(10,5))\n",
    "    sns.set_context(\"notebook\", font_scale=1.0, rc={\"lines.linewidth\": 1})\n",
    "    sns.barplot(x=CC, y=\"NumberOfSales\", data=train)"
   ]
  },
  {
   "cell_type": "code",
   "execution_count": 21,
   "metadata": {},
   "outputs": [],
   "source": [
    "Winds = train['WindDirDegrees']"
   ]
  },
  {
   "cell_type": "code",
   "execution_count": 22,
   "metadata": {},
   "outputs": [],
   "source": [
    "if histogramas:\n",
    "    plt.figure(figsize=(10,5))\n",
    "    sns.set_context(\"notebook\", font_scale=1.0, rc={\"lines.linewidth\": 1})\n",
    "    sns.barplot(x=Winds, y=\"NumberOfSales\", data=train)"
   ]
  },
  {
   "cell_type": "markdown",
   "metadata": {},
   "source": [
    "## Categorical/NumberOfCustomer "
   ]
  },
  {
   "cell_type": "code",
   "execution_count": 23,
   "metadata": {},
   "outputs": [],
   "source": [
    "if histogramas:\n",
    "    plt.figure(figsize=(5,5))\n",
    "    sns.set_context(\"notebook\", font_scale=1.0, rc={\"lines.linewidth\": 1})\n",
    "    sns.barplot(x=holy, y=\"NumberOfCustomers\", data=train)"
   ]
  },
  {
   "cell_type": "code",
   "execution_count": 24,
   "metadata": {},
   "outputs": [],
   "source": [
    "if histogramas:\n",
    "    plt.figure(figsize=(5,5))\n",
    "    sns.set_context(\"notebook\", font_scale=1.0, rc={\"lines.linewidth\": 1})\n",
    "    sns.barplot(x=promo, y=\"NumberOfCustomers\", data=train)"
   ]
  },
  {
   "cell_type": "code",
   "execution_count": 25,
   "metadata": {},
   "outputs": [],
   "source": [
    "if histogramas:\n",
    "    plt.figure(figsize=(10,5))\n",
    "    sns.set_context(\"notebook\", font_scale=1.0, rc={\"lines.linewidth\": 1})\n",
    "    sns.barplot(x=Stype, y=\"NumberOfCustomers\", data=train)"
   ]
  },
  {
   "cell_type": "code",
   "execution_count": 26,
   "metadata": {},
   "outputs": [],
   "source": [
    "if histogramas:\n",
    "    plt.figure(figsize=(10,5))\n",
    "    sns.set_context(\"notebook\", font_scale=1.0, rc={\"lines.linewidth\": 1})\n",
    "    sns.barplot(x=Atype, y=\"NumberOfCustomers\", data=train)"
   ]
  },
  {
   "cell_type": "code",
   "execution_count": 27,
   "metadata": {},
   "outputs": [],
   "source": [
    "if histogramas:\n",
    "    sns.set_context(\"notebook\", font_scale=1.5, rc={\"lines.linewidth\": 1})\n",
    "    plt.figure(figsize=(10,5))   #this is the way to set the size of the following figure, i need to add it at each new figure\n",
    "    sns.barplot(x=Region, y=\"NumberOfCustomers\", data=train)"
   ]
  },
  {
   "cell_type": "code",
   "execution_count": 28,
   "metadata": {},
   "outputs": [],
   "source": [
    "if histogramas:\n",
    "    plt.figure(figsize=(10,5))\n",
    "    sns.set_context(\"notebook\", font_scale=1.0, rc={\"lines.linewidth\": 1})\n",
    "    sns.barplot(x=CC, y=\"NumberOfCustomers\", data=train)"
   ]
  },
  {
   "cell_type": "code",
   "execution_count": 29,
   "metadata": {},
   "outputs": [],
   "source": [
    "if histogramas:\n",
    "    plt.figure(figsize=(10,5))\n",
    "    sns.set_context(\"notebook\", font_scale=1.0, rc={\"lines.linewidth\": 1})\n",
    "    sns.barplot(x=Winds, y=\"NumberOfCustomers\", data=train)"
   ]
  },
  {
   "cell_type": "markdown",
   "metadata": {},
   "source": [
    "Plotting and transforming the distribution of the NumberOfSales   \n",
    "Reducing Skewness of the distribution"
   ]
  },
  {
   "cell_type": "code",
   "execution_count": 30,
   "metadata": {},
   "outputs": [
    {
     "name": "stdout",
     "output_type": "stream",
     "text": [
      "\n",
      " mu = 4890.09 and sigma = 2215.40\n",
      "\n",
      "Skewness: 1.558774\n",
      "Kurtosis: 4.691952\n"
     ]
    },
    {
     "data": {
      "text/plain": [
       "Text(0.5,1,'NumberOfSales distribution')"
      ]
     },
     "execution_count": 30,
     "metadata": {},
     "output_type": "execute_result"
    },
    {
     "data": {
      "image/png": "[encoded data removed]",
      "text/plain": [
       "<matplotlib.figure.Figure at 0x1d20c9e9b00>"
      ]
     },
     "metadata": {},
     "output_type": "display_data"
    }
   ],
   "source": [
    "matplotlib.rcParams['figure.figsize'] = (8.0, 6.0)\n",
    "\n",
    "sns.distplot(train['NumberOfSales'] , fit=stats.norm)\n",
    "\n",
    "\n",
    "(mu, sigma) = stats.norm.fit(train['NumberOfSales'])\n",
    "print( '\\n mu = {:.2f} and sigma = {:.2f}\\n'.format(mu, sigma))\n",
    "print(\"Skewness: %f\" % train['NumberOfSales'].skew())\n",
    "print(\"Kurtosis: %f\" % train['NumberOfSales'].kurt())\n",
    "\n",
    "plt.legend(['Normal dist. ($\\mu=$ {:.2f} and $\\sigma=$ {:.2f} )'.format(mu, sigma)],\n",
    "            loc='best')\n",
    "plt.ylabel('Frequency')\n",
    "plt.title('NumberOfSales distribution')"
   ]
  },
  {
   "cell_type": "code",
   "execution_count": 31,
   "metadata": {},
   "outputs": [
    {
     "name": "stdout",
     "output_type": "stream",
     "text": [
      "\n",
      " mu = 8.40 and sigma = 0.44\n",
      "\n",
      "Skewness: -0.637384\n",
      "Kurtosis: 10.145847\n"
     ]
    }
   ],
   "source": [
    "train[\"NumberOfSales\"] = np.log1p(train[\"NumberOfSales\"])\n",
    "train_target =  np.log1p(train[\"NumberOfSales\"]).copy()\n",
    "(mu, sigma) = stats.norm.fit(train['NumberOfSales'])\n",
    "print( '\\n mu = {:.2f} and sigma = {:.2f}\\n'.format(mu, sigma))\n",
    "print(\"Skewness: %f\" % train['NumberOfSales'].skew())\n",
    "print(\"Kurtosis: %f\" % train['NumberOfSales'].kurt())"
   ]
  },
  {
   "cell_type": "code",
   "execution_count": 32,
   "metadata": {},
   "outputs": [
    {
     "data": {
      "text/plain": [
       "Text(0.5,1,'NumberOfSales distribution')"
      ]
     },
     "execution_count": 32,
     "metadata": {},
     "output_type": "execute_result"
    },
    {
     "data": {
      "image/png": "[encoded data removed]",
      "text/plain": [
       "<matplotlib.figure.Figure at 0x1d2098bb198>"
      ]
     },
     "metadata": {},
     "output_type": "display_data"
    }
   ],
   "source": [
    "matplotlib.rcParams['figure.figsize'] = (8.0, 6.0)\n",
    "sns.distplot(train['NumberOfSales'] , fit=stats.norm)\n",
    "plt.legend(['Normal dist. ($\\mu=$ {:.2f} and $\\sigma=$ {:.2f} )'.format(mu, sigma)],loc='best')\n",
    "plt.ylabel('Frequency')\n",
    "plt.title('NumberOfSales distribution')"
   ]
  },
  {
   "cell_type": "markdown",
   "metadata": {},
   "source": [
    "# Merging train and test"
   ]
  },
  {
   "cell_type": "code",
   "execution_count": 33,
   "metadata": {},
   "outputs": [],
   "source": [
    "NumberOfCustomers = train['NumberOfCustomers']\n",
    "all_data_index = train.columns.drop(['NumberOfSales','NumberOfCustomers'])\n",
    "all_data = pd.concat((train.loc[:,all_data_index],test.loc[:,all_data_index]))"
   ]
  },
  {
   "cell_type": "markdown",
   "metadata": {},
   "source": [
    "# One Hot Encoding"
   ]
  },
  {
   "cell_type": "markdown",
   "metadata": {},
   "source": [
    "Encoding StoreType"
   ]
  },
  {
   "cell_type": "code",
   "execution_count": 34,
   "metadata": {},
   "outputs": [],
   "source": [
    "StoreType = all_data['StoreType'];\n",
    "all_data['StandardMarket'] = StoreType.apply(lambda x: 1 if x=='Standard Market' else 0);\n",
    "all_data['HyperMarket'] = StoreType.apply(lambda x: 1 if x=='Hyper Market' else 0);\n",
    "all_data['SuperMarket'] = StoreType.apply(lambda x: 1 if x=='Super Market' else 0);\n",
    "all_data['ShoppingCenter'] = StoreType.apply(lambda x: 1 if x=='Shopping Center' else 0);"
   ]
  },
  {
   "cell_type": "markdown",
   "metadata": {},
   "source": [
    "Encoding AssortmentType"
   ]
  },
  {
   "cell_type": "code",
   "execution_count": 35,
   "metadata": {},
   "outputs": [],
   "source": [
    "TypeOfProducts = all_data['AssortmentType'];\n",
    "all_data['General'] = TypeOfProducts.apply(lambda x: 1 if x=='General' else 0);\n",
    "all_data['WithFishDepartment'] = TypeOfProducts.apply(lambda x: 1 if x=='With Fish Department' else 0);\n",
    "all_data['WithNonFoodDepartment'] = TypeOfProducts.apply(lambda x: 1 if x=='With Non-Food Department' else 0);"
   ]
  },
  {
   "cell_type": "markdown",
   "metadata": {},
   "source": [
    "Encoding Region"
   ]
  },
  {
   "cell_type": "code",
   "execution_count": 36,
   "metadata": {},
   "outputs": [],
   "source": [
    "Region = all_data['Region'];\n",
    "regionQuantity = Region.unique().size;\n",
    "for i in range(0, regionQuantity-1):\n",
    "    regionName = 'Region{}'.format(i);\n",
    "    all_data[regionName] = Region.apply(lambda x: 1 if x==i else 0);"
   ]
  },
  {
   "cell_type": "markdown",
   "metadata": {},
   "source": [
    "Encoding Month"
   ]
  },
  {
   "cell_type": "code",
   "execution_count": 37,
   "metadata": {},
   "outputs": [],
   "source": [
    "months = []\n",
    "all_date = all_data['Date']\n",
    "for s in all_date:\n",
    "    months.append(int(s[3:5]))\n",
    "all_data['Month'] =months"
   ]
  },
  {
   "cell_type": "code",
   "execution_count": 38,
   "metadata": {},
   "outputs": [],
   "source": [
    "import calendar\n",
    "\n",
    "Month = all_data['Month'];\n",
    "monthsQuantity = Month.unique().size\n",
    "for i in range(1, monthsQuantity+1):\n",
    "    monthName = calendar.month_name[i];\n",
    "    all_data[monthName] = Month.apply(lambda x: 1 if x==i else 0);"
   ]
  },
  {
   "cell_type": "markdown",
   "metadata": {},
   "source": [
    "Enconding days of the week"
   ]
  },
  {
   "cell_type": "code",
   "execution_count": 39,
   "metadata": {},
   "outputs": [],
   "source": [
    "import datetime\n",
    "\n",
    "Days = all_data['Date']\n",
    "DoWs = []\n",
    "for day in Days:\n",
    "    d = int(day[0:2])\n",
    "    month = int(day[3:5])\n",
    "    year = int(day[6:10])\n",
    "    Date = datetime.date(year,month,d)\n",
    "    DoWs.append(calendar.day_name[Date.weekday()])\n",
    "\n",
    "all_data['DoWs'] = DoWs\n",
    "DoWs = all_data['DoWs'];\n",
    "days = DoWs.unique()\n",
    "\n",
    "for d in days:\n",
    "    all_data[d] = DoWs.apply(lambda x: 1 if x==d else 0);"
   ]
  },
  {
   "cell_type": "markdown",
   "metadata": {},
   "source": [
    "Encoding Events"
   ]
  },
  {
   "cell_type": "code",
   "execution_count": 40,
   "metadata": {},
   "outputs": [
    {
     "data": {
      "text/html": [
       "<div>\n",
       "<style scoped>\n",
       "    .dataframe tbody tr th:only-of-type {\n",
       "        vertical-align: middle;\n",
       "    }\n",
       "\n",
       "    .dataframe tbody tr th {\n",
       "        vertical-align: top;\n",
       "    }\n",
       "\n",
       "    .dataframe thead th {\n",
       "        text-align: right;\n",
       "    }\n",
       "</style>\n",
       "<table border=\"1\" class=\"dataframe\">\n",
       "  <thead>\n",
       "    <tr style=\"text-align: right;\">\n",
       "      <th></th>\n",
       "      <th>Snow</th>\n",
       "      <th>Rain</th>\n",
       "      <th>Nothing</th>\n",
       "    </tr>\n",
       "  </thead>\n",
       "  <tbody>\n",
       "    <tr>\n",
       "      <th>0</th>\n",
       "      <td>1</td>\n",
       "      <td>1</td>\n",
       "      <td>0</td>\n",
       "    </tr>\n",
       "    <tr>\n",
       "      <th>1</th>\n",
       "      <td>1</td>\n",
       "      <td>0</td>\n",
       "      <td>0</td>\n",
       "    </tr>\n",
       "    <tr>\n",
       "      <th>2</th>\n",
       "      <td>0</td>\n",
       "      <td>1</td>\n",
       "      <td>0</td>\n",
       "    </tr>\n",
       "    <tr>\n",
       "      <th>3</th>\n",
       "      <td>0</td>\n",
       "      <td>0</td>\n",
       "      <td>1</td>\n",
       "    </tr>\n",
       "    <tr>\n",
       "      <th>5</th>\n",
       "      <td>0</td>\n",
       "      <td>0</td>\n",
       "      <td>1</td>\n",
       "    </tr>\n",
       "    <tr>\n",
       "      <th>6</th>\n",
       "      <td>0</td>\n",
       "      <td>0</td>\n",
       "      <td>1</td>\n",
       "    </tr>\n",
       "    <tr>\n",
       "      <th>7</th>\n",
       "      <td>0</td>\n",
       "      <td>0</td>\n",
       "      <td>1</td>\n",
       "    </tr>\n",
       "    <tr>\n",
       "      <th>8</th>\n",
       "      <td>0</td>\n",
       "      <td>1</td>\n",
       "      <td>0</td>\n",
       "    </tr>\n",
       "    <tr>\n",
       "      <th>9</th>\n",
       "      <td>0</td>\n",
       "      <td>1</td>\n",
       "      <td>0</td>\n",
       "    </tr>\n",
       "    <tr>\n",
       "      <th>10</th>\n",
       "      <td>0</td>\n",
       "      <td>1</td>\n",
       "      <td>0</td>\n",
       "    </tr>\n",
       "  </tbody>\n",
       "</table>\n",
       "</div>"
      ],
      "text/plain": [
       "    Snow  Rain  Nothing\n",
       "0      1     1        0\n",
       "1      1     0        0\n",
       "2      0     1        0\n",
       "3      0     0        1\n",
       "5      0     0        1\n",
       "6      0     0        1\n",
       "7      0     0        1\n",
       "8      0     1        0\n",
       "9      0     1        0\n",
       "10     0     1        0"
      ]
     },
     "execution_count": 40,
     "metadata": {},
     "output_type": "execute_result"
    }
   ],
   "source": [
    "def ExtractEvents(df,col,sep):\n",
    "    df[col]=df[col].astype('str').apply(lambda x: 'Nothing' if x=='nan' else x)\n",
    "    events=list(df[col].unique())\n",
    "    for event in events:\n",
    "        if sep in event:\n",
    "            event=event.split(sep)\n",
    "            for i in event:\n",
    "                events.append(i)\n",
    "    events=list({x for x in events if sep not in x})\n",
    "    for event in events:\n",
    "        df[event]=df[col].astype('str').apply(lambda x: 1 if event in x else 0)\n",
    "    del df[col]\n",
    "    return df\n",
    "\n",
    "all_data=ExtractEvents(all_data,'Events','-')\n",
    "all_data[['Snow','Rain','Nothing']].head(10)"
   ]
  },
  {
   "cell_type": "markdown",
   "metadata": {},
   "source": [
    "Dropping WindDirDegrees"
   ]
  },
  {
   "cell_type": "code",
   "execution_count": 41,
   "metadata": {},
   "outputs": [],
   "source": [
    "all_data = all_data.drop(labels='WindDirDegrees',axis=1)"
   ]
  },
  {
   "cell_type": "code",
   "execution_count": 42,
   "metadata": {},
   "outputs": [],
   "source": [
    "all_data = all_data.drop(labels='StoreType', axis=1)\n",
    "all_data = all_data.drop(labels='AssortmentType', axis=1)\n",
    "all_data = all_data.drop(labels='Region', axis=1)\n",
    "all_data = all_data.drop(labels='Month', axis=1)\n",
    "all_data = all_data.drop(labels='Date', axis=1)\n",
    "all_data = all_data.drop(labels='DoWs',axis=1)"
   ]
  },
  {
   "cell_type": "code",
   "execution_count": 43,
   "metadata": {},
   "outputs": [
    {
     "data": {
      "text/html": [
       "<div>\n",
       "<style scoped>\n",
       "    .dataframe tbody tr th:only-of-type {\n",
       "        vertical-align: middle;\n",
       "    }\n",
       "\n",
       "    .dataframe tbody tr th {\n",
       "        vertical-align: top;\n",
       "    }\n",
       "\n",
       "    .dataframe thead th {\n",
       "        text-align: right;\n",
       "    }\n",
       "</style>\n",
       "<table border=\"1\" class=\"dataframe\">\n",
       "  <thead>\n",
       "    <tr style=\"text-align: right;\">\n",
       "      <th></th>\n",
       "      <th>StoreID</th>\n",
       "      <th>IsHoliday</th>\n",
       "      <th>HasPromotions</th>\n",
       "      <th>NearestCompetitor</th>\n",
       "      <th>Region_AreaKM2</th>\n",
       "      <th>Region_GDP</th>\n",
       "      <th>Region_PopulationK</th>\n",
       "      <th>CloudCover</th>\n",
       "      <th>Max_Dew_PointC</th>\n",
       "      <th>Max_Gust_SpeedKm_h</th>\n",
       "      <th>...</th>\n",
       "      <th>Saturday</th>\n",
       "      <th>Monday</th>\n",
       "      <th>Thursday</th>\n",
       "      <th>Sunday</th>\n",
       "      <th>Thunderstorm</th>\n",
       "      <th>Nothing</th>\n",
       "      <th>Fog</th>\n",
       "      <th>Rain</th>\n",
       "      <th>Hail</th>\n",
       "      <th>Snow</th>\n",
       "    </tr>\n",
       "  </thead>\n",
       "  <tbody>\n",
       "    <tr>\n",
       "      <th>0</th>\n",
       "      <td>1000</td>\n",
       "      <td>0</td>\n",
       "      <td>0</td>\n",
       "      <td>326</td>\n",
       "      <td>9643</td>\n",
       "      <td>17130</td>\n",
       "      <td>2770</td>\n",
       "      <td>8.0</td>\n",
       "      <td>1</td>\n",
       "      <td>NaN</td>\n",
       "      <td>...</td>\n",
       "      <td>0</td>\n",
       "      <td>0</td>\n",
       "      <td>0</td>\n",
       "      <td>0</td>\n",
       "      <td>0</td>\n",
       "      <td>0</td>\n",
       "      <td>0</td>\n",
       "      <td>1</td>\n",
       "      <td>0</td>\n",
       "      <td>1</td>\n",
       "    </tr>\n",
       "    <tr>\n",
       "      <th>1</th>\n",
       "      <td>1000</td>\n",
       "      <td>0</td>\n",
       "      <td>0</td>\n",
       "      <td>326</td>\n",
       "      <td>9643</td>\n",
       "      <td>17130</td>\n",
       "      <td>2770</td>\n",
       "      <td>8.0</td>\n",
       "      <td>0</td>\n",
       "      <td>NaN</td>\n",
       "      <td>...</td>\n",
       "      <td>0</td>\n",
       "      <td>0</td>\n",
       "      <td>0</td>\n",
       "      <td>0</td>\n",
       "      <td>0</td>\n",
       "      <td>0</td>\n",
       "      <td>0</td>\n",
       "      <td>0</td>\n",
       "      <td>0</td>\n",
       "      <td>1</td>\n",
       "    </tr>\n",
       "    <tr>\n",
       "      <th>2</th>\n",
       "      <td>1000</td>\n",
       "      <td>0</td>\n",
       "      <td>0</td>\n",
       "      <td>326</td>\n",
       "      <td>9643</td>\n",
       "      <td>17130</td>\n",
       "      <td>2770</td>\n",
       "      <td>8.0</td>\n",
       "      <td>0</td>\n",
       "      <td>NaN</td>\n",
       "      <td>...</td>\n",
       "      <td>0</td>\n",
       "      <td>0</td>\n",
       "      <td>0</td>\n",
       "      <td>0</td>\n",
       "      <td>0</td>\n",
       "      <td>0</td>\n",
       "      <td>0</td>\n",
       "      <td>1</td>\n",
       "      <td>0</td>\n",
       "      <td>0</td>\n",
       "    </tr>\n",
       "    <tr>\n",
       "      <th>3</th>\n",
       "      <td>1000</td>\n",
       "      <td>0</td>\n",
       "      <td>0</td>\n",
       "      <td>326</td>\n",
       "      <td>9643</td>\n",
       "      <td>17130</td>\n",
       "      <td>2770</td>\n",
       "      <td>6.0</td>\n",
       "      <td>-3</td>\n",
       "      <td>NaN</td>\n",
       "      <td>...</td>\n",
       "      <td>1</td>\n",
       "      <td>0</td>\n",
       "      <td>0</td>\n",
       "      <td>0</td>\n",
       "      <td>0</td>\n",
       "      <td>1</td>\n",
       "      <td>0</td>\n",
       "      <td>0</td>\n",
       "      <td>0</td>\n",
       "      <td>0</td>\n",
       "    </tr>\n",
       "    <tr>\n",
       "      <th>5</th>\n",
       "      <td>1000</td>\n",
       "      <td>0</td>\n",
       "      <td>1</td>\n",
       "      <td>326</td>\n",
       "      <td>9643</td>\n",
       "      <td>17130</td>\n",
       "      <td>2770</td>\n",
       "      <td>NaN</td>\n",
       "      <td>-2</td>\n",
       "      <td>NaN</td>\n",
       "      <td>...</td>\n",
       "      <td>0</td>\n",
       "      <td>1</td>\n",
       "      <td>0</td>\n",
       "      <td>0</td>\n",
       "      <td>0</td>\n",
       "      <td>1</td>\n",
       "      <td>0</td>\n",
       "      <td>0</td>\n",
       "      <td>0</td>\n",
       "      <td>0</td>\n",
       "    </tr>\n",
       "  </tbody>\n",
       "</table>\n",
       "<p>5 rows × 69 columns</p>\n",
       "</div>"
      ],
      "text/plain": [
       "   StoreID  IsHoliday  HasPromotions  NearestCompetitor  Region_AreaKM2  \\\n",
       "0     1000          0              0                326            9643   \n",
       "1     1000          0              0                326            9643   \n",
       "2     1000          0              0                326            9643   \n",
       "3     1000          0              0                326            9643   \n",
       "5     1000          0              1                326            9643   \n",
       "\n",
       "   Region_GDP  Region_PopulationK  CloudCover  Max_Dew_PointC  \\\n",
       "0       17130                2770         8.0               1   \n",
       "1       17130                2770         8.0               0   \n",
       "2       17130                2770         8.0               0   \n",
       "3       17130                2770         6.0              -3   \n",
       "5       17130                2770         NaN              -2   \n",
       "\n",
       "   Max_Gust_SpeedKm_h  ...   Saturday  Monday  Thursday  Sunday  Thunderstorm  \\\n",
       "0                 NaN  ...          0       0         0       0             0   \n",
       "1                 NaN  ...          0       0         0       0             0   \n",
       "2                 NaN  ...          0       0         0       0             0   \n",
       "3                 NaN  ...          1       0         0       0             0   \n",
       "5                 NaN  ...          0       1         0       0             0   \n",
       "\n",
       "   Nothing  Fog  Rain  Hail  Snow  \n",
       "0        0    0     1     0     1  \n",
       "1        0    0     0     0     1  \n",
       "2        0    0     1     0     0  \n",
       "3        1    0     0     0     0  \n",
       "5        1    0     0     0     0  \n",
       "\n",
       "[5 rows x 69 columns]"
      ]
     },
     "execution_count": 43,
     "metadata": {},
     "output_type": "execute_result"
    }
   ],
   "source": [
    "all_data.head()"
   ]
  },
  {
   "cell_type": "markdown",
   "metadata": {},
   "source": [
    "# Outliers Analysis"
   ]
  },
  {
   "cell_type": "code",
   "execution_count": 44,
   "metadata": {},
   "outputs": [],
   "source": [
    "def WinsorizingIQR(df,col):\n",
    "    ran = iqr(df[col])\n",
    "    min_v = df.quantile(0.25)[col] - ran\n",
    "    max_v = df.quantile(0.75)[col] + ran\n",
    "    print(\"Outliers := \"+ str(100*(df[col].loc[df[col] < min_v].shape[0] + df[col].loc[df[col] > max_v].shape[0])/df.shape[0])+ \" %\")\n",
    "    df[col] = df[col].apply(lambda x: max_v if x > max_v else x)\n",
    "    df[col] = df[col].apply(lambda x: min_v if x < min_v else x)"
   ]
  },
  {
   "cell_type": "markdown",
   "metadata": {},
   "source": [
    "Division of features"
   ]
  },
  {
   "cell_type": "code",
   "execution_count": 45,
   "metadata": {},
   "outputs": [],
   "source": [
    "bool_cols = [col for col in all_data if all_data[col].dropna().value_counts().index.isin([0,1]).all()]\n",
    "binary_variables = pd.Index(bool_cols)"
   ]
  },
  {
   "cell_type": "code",
   "execution_count": 46,
   "metadata": {},
   "outputs": [],
   "source": [
    "continous_variables = all_data.columns.difference(binary_variables)"
   ]
  },
  {
   "cell_type": "markdown",
   "metadata": {},
   "source": [
    "We decided to analyze the outliers among weather features, because they are the most likely to be affected by measurements error "
   ]
  },
  {
   "cell_type": "markdown",
   "metadata": {},
   "source": [
    "## Weather Features"
   ]
  },
  {
   "cell_type": "code",
   "execution_count": 47,
   "metadata": {},
   "outputs": [
    {
     "data": {
      "text/plain": [
       "<matplotlib.axes._subplots.AxesSubplot at 0x1d26c3afdd8>"
      ]
     },
     "execution_count": 47,
     "metadata": {},
     "output_type": "execute_result"
    },
    {
     "data": {
      "image/png": "[encoded data removed]",
      "text/plain": [
       "<matplotlib.figure.Figure at 0x1d26c3afb70>"
      ]
     },
     "metadata": {},
     "output_type": "display_data"
    }
   ],
   "source": [
    "sns.set_context(\"notebook\", font_scale=1.5, rc={\"lines.linewidth\": 1})\n",
    "\n",
    "plt.figure(figsize=(10,5))  \n",
    "sns.boxplot(x='Max_Dew_PointC',data=all_data)\n",
    "sns.stripplot(x='Max_Dew_PointC',data=all_data,jitter=True)"
   ]
  },
  {
   "cell_type": "code",
   "execution_count": 48,
   "metadata": {},
   "outputs": [
    {
     "name": "stdout",
     "output_type": "stream",
     "text": [
      "Outliers := 0.9314083097229526 %\n"
     ]
    }
   ],
   "source": [
    "WinsorizingIQR(all_data,'Max_Dew_PointC')"
   ]
  },
  {
   "cell_type": "code",
   "execution_count": 49,
   "metadata": {},
   "outputs": [
    {
     "data": {
      "text/plain": [
       "<matplotlib.axes._subplots.AxesSubplot at 0x1d26c3afe80>"
      ]
     },
     "execution_count": 49,
     "metadata": {},
     "output_type": "execute_result"
    },
    {
     "data": {
      "image/png": "[encoded data removed]",
      "text/plain": [
       "<matplotlib.figure.Figure at 0x1d200027ac8>"
      ]
     },
     "metadata": {},
     "output_type": "display_data"
    }
   ],
   "source": [
    "sns.set_context(\"notebook\", font_scale=1.5, rc={\"lines.linewidth\": 1})\n",
    "\n",
    "plt.figure(figsize=(10,5))  \n",
    "sns.boxplot(x='Max_Humidity',data=all_data)\n",
    "sns.stripplot(x='Max_Humidity',data=all_data,jitter=True)"
   ]
  },
  {
   "cell_type": "code",
   "execution_count": 50,
   "metadata": {},
   "outputs": [
    {
     "name": "stdout",
     "output_type": "stream",
     "text": [
      "Outliers := 4.869534974466858 %\n"
     ]
    }
   ],
   "source": [
    "WinsorizingIQR(all_data,'Max_Humidity')"
   ]
  },
  {
   "cell_type": "code",
   "execution_count": 51,
   "metadata": {},
   "outputs": [
    {
     "data": {
      "text/plain": [
       "<matplotlib.axes._subplots.AxesSubplot at 0x1d209bc78d0>"
      ]
     },
     "execution_count": 51,
     "metadata": {},
     "output_type": "execute_result"
    },
    {
     "data": {
      "image/png": "[encoded data removed]",
      "text/plain": [
       "<matplotlib.figure.Figure at 0x1d209bc7160>"
      ]
     },
     "metadata": {},
     "output_type": "display_data"
    }
   ],
   "source": [
    "sns.set_context(\"notebook\", font_scale=1.5, rc={\"lines.linewidth\": 1})\n",
    "\n",
    "plt.figure(figsize=(10,5))  \n",
    "sns.boxplot(x='Max_Sea_Level_PressurehPa',data=all_data)\n",
    "sns.stripplot(x='Max_Sea_Level_PressurehPa',data=all_data,jitter=True)"
   ]
  },
  {
   "cell_type": "code",
   "execution_count": 52,
   "metadata": {},
   "outputs": [
    {
     "name": "stdout",
     "output_type": "stream",
     "text": [
      "Outliers := 5.740291468028434 %\n"
     ]
    }
   ],
   "source": [
    "WinsorizingIQR(all_data,'Max_Sea_Level_PressurehPa')"
   ]
  },
  {
   "cell_type": "code",
   "execution_count": 53,
   "metadata": {},
   "outputs": [
    {
     "data": {
      "text/plain": [
       "<matplotlib.axes._subplots.AxesSubplot at 0x1d211f68b70>"
      ]
     },
     "execution_count": 53,
     "metadata": {},
     "output_type": "execute_result"
    },
    {
     "data": {
      "image/png": "[encoded data removed]",
      "text/plain": [
       "<matplotlib.figure.Figure at 0x1d211f68470>"
      ]
     },
     "metadata": {},
     "output_type": "display_data"
    }
   ],
   "source": [
    "sns.set_context(\"notebook\", font_scale=1.5, rc={\"lines.linewidth\": 1})\n",
    "\n",
    "plt.figure(figsize=(10,5))  \n",
    "sns.boxplot(x='Max_TemperatureC',data=all_data)\n",
    "sns.stripplot(x='Max_TemperatureC',data=all_data,jitter=True)"
   ]
  },
  {
   "cell_type": "code",
   "execution_count": 54,
   "metadata": {},
   "outputs": [
    {
     "data": {
      "text/plain": [
       "<matplotlib.axes._subplots.AxesSubplot at 0x1d211f68a90>"
      ]
     },
     "execution_count": 54,
     "metadata": {},
     "output_type": "execute_result"
    },
    {
     "data": {
      "image/png": "[encoded data removed]",
      "text/plain": [
       "<matplotlib.figure.Figure at 0x1d211f6dd68>"
      ]
     },
     "metadata": {},
     "output_type": "display_data"
    }
   ],
   "source": [
    "sns.set_context(\"notebook\", font_scale=1.5, rc={\"lines.linewidth\": 1})\n",
    "\n",
    "plt.figure(figsize=(10,5))  \n",
    "sns.boxplot(x='Max_Wind_SpeedKm_h',data=all_data)\n",
    "sns.stripplot(x='Max_Wind_SpeedKm_h',data=all_data,jitter=True)"
   ]
  },
  {
   "cell_type": "code",
   "execution_count": 55,
   "metadata": {},
   "outputs": [
    {
     "name": "stdout",
     "output_type": "stream",
     "text": [
      "Outliers := 5.243837266511715 %\n"
     ]
    }
   ],
   "source": [
    "WinsorizingIQR(all_data,'Max_Wind_SpeedKm_h')"
   ]
  },
  {
   "cell_type": "code",
   "execution_count": 56,
   "metadata": {},
   "outputs": [
    {
     "data": {
      "text/plain": [
       "<matplotlib.axes._subplots.AxesSubplot at 0x1d21204d7f0>"
      ]
     },
     "execution_count": 56,
     "metadata": {},
     "output_type": "execute_result"
    },
    {
     "data": {
      "image/png": "[encoded data removed]",
      "text/plain": [
       "<matplotlib.figure.Figure at 0x1d21204d080>"
      ]
     },
     "metadata": {},
     "output_type": "display_data"
    }
   ],
   "source": [
    "sns.set_context(\"notebook\", font_scale=1.5, rc={\"lines.linewidth\": 1})\n",
    "\n",
    "plt.figure(figsize=(10,5))  \n",
    "sns.boxplot(x='Mean_Dew_PointC',data=all_data)\n",
    "sns.stripplot(x='Mean_Dew_PointC',data=all_data,jitter=True)"
   ]
  },
  {
   "cell_type": "code",
   "execution_count": 57,
   "metadata": {},
   "outputs": [
    {
     "name": "stdout",
     "output_type": "stream",
     "text": [
      "Outliers := 0.8968410158967137 %\n"
     ]
    }
   ],
   "source": [
    "WinsorizingIQR(all_data,'Mean_Dew_PointC')"
   ]
  },
  {
   "cell_type": "code",
   "execution_count": 58,
   "metadata": {},
   "outputs": [
    {
     "data": {
      "text/plain": [
       "<matplotlib.axes._subplots.AxesSubplot at 0x1d21208f320>"
      ]
     },
     "execution_count": 58,
     "metadata": {},
     "output_type": "execute_result"
    },
    {
     "data": {
      "image/png": "[encoded data removed]",
      "text/plain": [
       "<matplotlib.figure.Figure at 0x1d21208ebe0>"
      ]
     },
     "metadata": {},
     "output_type": "display_data"
    }
   ],
   "source": [
    "sns.set_context(\"notebook\", font_scale=1.5, rc={\"lines.linewidth\": 1})\n",
    "\n",
    "plt.figure(figsize=(10,5))  \n",
    "sns.boxplot(x='Mean_Humidity',data=all_data)\n",
    "sns.stripplot(x='Mean_Humidity',data=all_data,jitter=True)"
   ]
  },
  {
   "cell_type": "code",
   "execution_count": 59,
   "metadata": {},
   "outputs": [
    {
     "name": "stdout",
     "output_type": "stream",
     "text": [
      "Outliers := 1.6814973788236092 %\n"
     ]
    }
   ],
   "source": [
    "WinsorizingIQR(all_data,'Mean_Humidity')"
   ]
  },
  {
   "cell_type": "code",
   "execution_count": 60,
   "metadata": {},
   "outputs": [
    {
     "data": {
      "text/plain": [
       "<matplotlib.axes._subplots.AxesSubplot at 0x1d2120ba6a0>"
      ]
     },
     "execution_count": 60,
     "metadata": {},
     "output_type": "execute_result"
    },
    {
     "data": {
      "image/png": "[encoded data removed]",
      "text/plain": [
       "<matplotlib.figure.Figure at 0x1d2120bbef0>"
      ]
     },
     "metadata": {},
     "output_type": "display_data"
    }
   ],
   "source": [
    "sns.set_context(\"notebook\", font_scale=1.5, rc={\"lines.linewidth\": 1})\n",
    "\n",
    "plt.figure(figsize=(10,5)) \n",
    "sns.boxplot(x='Mean_Sea_Level_PressurehPa',data=all_data)\n",
    "sns.stripplot(x='Mean_Sea_Level_PressurehPa',data=all_data,jitter=True)"
   ]
  },
  {
   "cell_type": "code",
   "execution_count": 61,
   "metadata": {},
   "outputs": [
    {
     "name": "stdout",
     "output_type": "stream",
     "text": [
      "Outliers := 4.11350796532243 %\n"
     ]
    }
   ],
   "source": [
    "WinsorizingIQR(all_data,'Mean_Sea_Level_PressurehPa')"
   ]
  },
  {
   "cell_type": "code",
   "execution_count": 62,
   "metadata": {},
   "outputs": [
    {
     "data": {
      "text/plain": [
       "<matplotlib.axes._subplots.AxesSubplot at 0x1d21215d908>"
      ]
     },
     "execution_count": 62,
     "metadata": {},
     "output_type": "execute_result"
    },
    {
     "data": {
      "image/png": "[encoded data removed]",
      "text/plain": [
       "<matplotlib.figure.Figure at 0x1d21215d198>"
      ]
     },
     "metadata": {},
     "output_type": "display_data"
    }
   ],
   "source": [
    "sns.set_context(\"notebook\", font_scale=1.5, rc={\"lines.linewidth\": 1})\n",
    "\n",
    "plt.figure(figsize=(10,5))  \n",
    "sns.boxplot(x='Mean_TemperatureC',data=all_data)\n",
    "sns.stripplot(x='Mean_TemperatureC',data=all_data,jitter=True)"
   ]
  },
  {
   "cell_type": "code",
   "execution_count": 63,
   "metadata": {},
   "outputs": [
    {
     "data": {
      "text/plain": [
       "<matplotlib.axes._subplots.AxesSubplot at 0x1d2121a9048>"
      ]
     },
     "execution_count": 63,
     "metadata": {},
     "output_type": "execute_result"
    },
    {
     "data": {
      "image/png": "[encoded data removed]",
      "text/plain": [
       "<matplotlib.figure.Figure at 0x1d212173240>"
      ]
     },
     "metadata": {},
     "output_type": "display_data"
    }
   ],
   "source": [
    "sns.set_context(\"notebook\", font_scale=1.5, rc={\"lines.linewidth\": 1})\n",
    "\n",
    "plt.figure(figsize=(10,5))  \n",
    "sns.boxplot(x='Mean_Wind_SpeedKm_h',data=all_data)\n",
    "sns.stripplot(x='Mean_Wind_SpeedKm_h',data=all_data,jitter=True)"
   ]
  },
  {
   "cell_type": "code",
   "execution_count": 64,
   "metadata": {},
   "outputs": [
    {
     "name": "stdout",
     "output_type": "stream",
     "text": [
      "Outliers := 9.20698810715437 %\n"
     ]
    }
   ],
   "source": [
    "WinsorizingIQR(all_data,'Mean_Wind_SpeedKm_h')"
   ]
  },
  {
   "cell_type": "code",
   "execution_count": 65,
   "metadata": {},
   "outputs": [
    {
     "data": {
      "text/plain": [
       "<matplotlib.axes._subplots.AxesSubplot at 0x1d21224c6d8>"
      ]
     },
     "execution_count": 65,
     "metadata": {},
     "output_type": "execute_result"
    },
    {
     "data": {
      "image/png": "[encoded data removed]",
      "text/plain": [
       "<matplotlib.figure.Figure at 0x1d21221ff28>"
      ]
     },
     "metadata": {},
     "output_type": "display_data"
    }
   ],
   "source": [
    "sns.set_context(\"notebook\", font_scale=1.5, rc={\"lines.linewidth\": 1})\n",
    "\n",
    "plt.figure(figsize=(10,5))  \n",
    "sns.boxplot(x='Min_Dew_PointC',data=all_data)\n",
    "sns.stripplot(x='Min_Dew_PointC',data=all_data,jitter=True)"
   ]
  },
  {
   "cell_type": "code",
   "execution_count": 66,
   "metadata": {},
   "outputs": [
    {
     "name": "stdout",
     "output_type": "stream",
     "text": [
      "Outliers := 0.9717014743056852 %\n"
     ]
    }
   ],
   "source": [
    "WinsorizingIQR(all_data,'Min_Dew_PointC')"
   ]
  },
  {
   "cell_type": "code",
   "execution_count": 67,
   "metadata": {},
   "outputs": [
    {
     "data": {
      "text/plain": [
       "<matplotlib.axes._subplots.AxesSubplot at 0x1d21a71c128>"
      ]
     },
     "execution_count": 67,
     "metadata": {},
     "output_type": "execute_result"
    },
    {
     "data": {
      "image/png": "[encoded data removed]",
      "text/plain": [
       "<matplotlib.figure.Figure at 0x1d21a719978>"
      ]
     },
     "metadata": {},
     "output_type": "display_data"
    }
   ],
   "source": [
    "sns.set_context(\"notebook\", font_scale=1.5, rc={\"lines.linewidth\": 1})\n",
    "\n",
    "plt.figure(figsize=(10,5))  \n",
    "sns.boxplot(x='Min_Humidity',data=all_data)\n",
    "sns.stripplot(x='Min_Humidity',data=all_data,jitter=True)"
   ]
  },
  {
   "cell_type": "code",
   "execution_count": 68,
   "metadata": {},
   "outputs": [
    {
     "data": {
      "text/plain": [
       "<matplotlib.axes._subplots.AxesSubplot at 0x1d21a343e80>"
      ]
     },
     "execution_count": 68,
     "metadata": {},
     "output_type": "execute_result"
    },
    {
     "data": {
      "image/png": "[encoded data removed]",
      "text/plain": [
       "<matplotlib.figure.Figure at 0x1d21a719400>"
      ]
     },
     "metadata": {},
     "output_type": "display_data"
    }
   ],
   "source": [
    "sns.set_context(\"notebook\", font_scale=1.5, rc={\"lines.linewidth\": 1})\n",
    "\n",
    "plt.figure(figsize=(10,5))  \n",
    "sns.boxplot(x='Min_Sea_Level_PressurehPa',data=all_data)\n",
    "sns.stripplot(x='Min_Sea_Level_PressurehPa',data=all_data,jitter=True)"
   ]
  },
  {
   "cell_type": "code",
   "execution_count": 69,
   "metadata": {},
   "outputs": [
    {
     "name": "stdout",
     "output_type": "stream",
     "text": [
      "Outliers := 5.591206759072324 %\n"
     ]
    }
   ],
   "source": [
    "WinsorizingIQR(all_data,'Min_Sea_Level_PressurehPa')"
   ]
  },
  {
   "cell_type": "code",
   "execution_count": 70,
   "metadata": {},
   "outputs": [
    {
     "data": {
      "text/plain": [
       "<matplotlib.axes._subplots.AxesSubplot at 0x1d21a4000f0>"
      ]
     },
     "execution_count": 70,
     "metadata": {},
     "output_type": "execute_result"
    },
    {
     "data": {
      "image/png": "[encoded data removed]",
      "text/plain": [
       "<matplotlib.figure.Figure at 0x1d21a3fd940>"
      ]
     },
     "metadata": {},
     "output_type": "display_data"
    }
   ],
   "source": [
    "sns.set_context(\"notebook\", font_scale=1.5, rc={\"lines.linewidth\": 1})\n",
    "\n",
    "plt.figure(figsize=(10,5))  \n",
    "sns.boxplot(x='Precipitationmm',data=all_data)\n",
    "sns.stripplot(x='Precipitationmm',data=all_data,jitter=True)"
   ]
  },
  {
   "cell_type": "code",
   "execution_count": 71,
   "metadata": {},
   "outputs": [
    {
     "name": "stdout",
     "output_type": "stream",
     "text": [
      "\n",
      " mu = 0.77 and sigma = 2.57\n",
      "\n",
      "Skewness: 7.664792\n",
      "Kurtosis: 93.650865\n"
     ]
    },
    {
     "data": {
      "text/plain": [
       "Text(0.5,1,'Precipitationmm distribution')"
      ]
     },
     "execution_count": 71,
     "metadata": {},
     "output_type": "execute_result"
    },
    {
     "data": {
      "image/png": "[encoded data removed]",
      "text/plain": [
       "<matplotlib.figure.Figure at 0x1d21a3fd9e8>"
      ]
     },
     "metadata": {},
     "output_type": "display_data"
    }
   ],
   "source": [
    "matplotlib.rcParams['figure.figsize'] = (6.0, 6.0)\n",
    "\n",
    "sns.distplot(all_data['Precipitationmm'] , fit=stats.norm)\n",
    "\n",
    "\n",
    "(mu, sigma) = stats.norm.fit(all_data['Precipitationmm'])\n",
    "print( '\\n mu = {:.2f} and sigma = {:.2f}\\n'.format(mu, sigma))\n",
    "print(\"Skewness: %f\" % all_data['Precipitationmm'].skew())\n",
    "print(\"Kurtosis: %f\" % all_data['Precipitationmm'].kurt())\n",
    "\n",
    "plt.legend(['Normal dist. ($\\mu=$ {:.2f} and $\\sigma=$ {:.2f} )'.format(mu, sigma)],\n",
    "            loc='best')\n",
    "plt.ylabel('Frequency')\n",
    "plt.title('Precipitationmm distribution')"
   ]
  },
  {
   "cell_type": "code",
   "execution_count": 72,
   "metadata": {},
   "outputs": [
    {
     "name": "stdout",
     "output_type": "stream",
     "text": [
      "\n",
      " mu = 0.80 and sigma = 2.65\n",
      "\n",
      "Skewness: 2.444737\n",
      "Kurtosis: 5.760925\n"
     ]
    }
   ],
   "source": [
    "all_data[\"Precipitationmm\"] = np.log1p(all_data[\"Precipitationmm\"])\n",
    "(mu, sigma) = stats.norm.fit(train['Precipitationmm'])\n",
    "print( '\\n mu = {:.2f} and sigma = {:.2f}\\n'.format(mu, sigma))\n",
    "print(\"Skewness: %f\" % all_data['Precipitationmm'].skew())\n",
    "print(\"Kurtosis: %f\" % all_data['Precipitationmm'].kurt())"
   ]
  },
  {
   "cell_type": "code",
   "execution_count": 73,
   "metadata": {},
   "outputs": [
    {
     "data": {
      "text/plain": [
       "Text(0.5,1,'Precipitationmm distribution')"
      ]
     },
     "execution_count": 73,
     "metadata": {},
     "output_type": "execute_result"
    },
    {
     "data": {
      "image/png": "[encoded data removed]",
      "text/plain": [
       "<matplotlib.figure.Figure at 0x1d212070f98>"
      ]
     },
     "metadata": {},
     "output_type": "display_data"
    }
   ],
   "source": [
    "matplotlib.rcParams['figure.figsize'] = (6.0, 6.0)\n",
    "sns.distplot(all_data['Precipitationmm'] , fit=stats.norm)\n",
    "plt.legend(['Normal dist. ($\\mu=$ {:.2f} and $\\sigma=$ {:.2f} )'.format(mu, sigma)],loc='best')\n",
    "plt.ylabel('Frequency')\n",
    "plt.title('Precipitationmm distribution')"
   ]
  },
  {
   "cell_type": "code",
   "execution_count": 74,
   "metadata": {},
   "outputs": [
    {
     "data": {
      "text/plain": [
       "73.75239638294623"
      ]
     },
     "execution_count": 74,
     "metadata": {},
     "output_type": "execute_result"
    }
   ],
   "source": [
    "100*all_data.loc[all_data['Precipitationmm'] == 0].shape[0]/all_data.shape[0]"
   ]
  },
  {
   "cell_type": "markdown",
   "metadata": {},
   "source": [
    "# Analyzing missing values"
   ]
  },
  {
   "cell_type": "code",
   "execution_count": 75,
   "metadata": {},
   "outputs": [
    {
     "data": {
      "text/html": [
       "<div>\n",
       "<style scoped>\n",
       "    .dataframe tbody tr th:only-of-type {\n",
       "        vertical-align: middle;\n",
       "    }\n",
       "\n",
       "    .dataframe tbody tr th {\n",
       "        vertical-align: top;\n",
       "    }\n",
       "\n",
       "    .dataframe thead th {\n",
       "        text-align: right;\n",
       "    }\n",
       "</style>\n",
       "<table border=\"1\" class=\"dataframe\">\n",
       "  <thead>\n",
       "    <tr style=\"text-align: right;\">\n",
       "      <th></th>\n",
       "      <th>Missing Ratio</th>\n",
       "    </tr>\n",
       "  </thead>\n",
       "  <tbody>\n",
       "    <tr>\n",
       "      <th>Max_Gust_SpeedKm_h</th>\n",
       "      <td>78.504657</td>\n",
       "    </tr>\n",
       "    <tr>\n",
       "      <th>CloudCover</th>\n",
       "      <td>8.810419</td>\n",
       "    </tr>\n",
       "    <tr>\n",
       "      <th>Min_VisibilitykM</th>\n",
       "      <td>2.419286</td>\n",
       "    </tr>\n",
       "    <tr>\n",
       "      <th>Mean_VisibilityKm</th>\n",
       "      <td>2.419286</td>\n",
       "    </tr>\n",
       "    <tr>\n",
       "      <th>Max_VisibilityKm</th>\n",
       "      <td>2.419286</td>\n",
       "    </tr>\n",
       "  </tbody>\n",
       "</table>\n",
       "</div>"
      ],
      "text/plain": [
       "                    Missing Ratio\n",
       "Max_Gust_SpeedKm_h      78.504657\n",
       "CloudCover               8.810419\n",
       "Min_VisibilitykM         2.419286\n",
       "Mean_VisibilityKm        2.419286\n",
       "Max_VisibilityKm         2.419286"
      ]
     },
     "execution_count": 75,
     "metadata": {},
     "output_type": "execute_result"
    }
   ],
   "source": [
    "ratios = (all_data.isnull().sum() / len(all_data))*100\n",
    "rate = ratios.drop(ratios[ratios == 0].index).sort_values(ascending=False)[:30]\n",
    "missing_data = pd.DataFrame({'Missing Ratio' :rate})\n",
    "missing_data"
   ]
  },
  {
   "cell_type": "code",
   "execution_count": 76,
   "metadata": {},
   "outputs": [
    {
     "data": {
      "text/plain": [
       "Text(0.5,1,'Top Variables for % of Missing Values')"
      ]
     },
     "execution_count": 76,
     "metadata": {},
     "output_type": "execute_result"
    },
    {
     "data": {
      "image/png": "[encoded data removed]",
      "text/plain": [
       "<matplotlib.figure.Figure at 0x1d21ee3bda0>"
      ]
     },
     "metadata": {},
     "output_type": "display_data"
    }
   ],
   "source": [
    "plt.subplots(figsize=(8,6))\n",
    "plt.xticks(rotation='90')\n",
    "sns.barplot(x=rate.index[:10], y=rate[:10])\n",
    "plt.xlabel('Features', fontsize=15)\n",
    "plt.ylabel('Percent of Missing Values', fontsize=15)\n",
    "plt.title('Top Variables for % of Missing Values', fontsize=15)"
   ]
  },
  {
   "cell_type": "markdown",
   "metadata": {},
   "source": [
    "## Droppinng Max_Gust_SpeedKm_h  \n",
    "Too many missing values"
   ]
  },
  {
   "cell_type": "code",
   "execution_count": 77,
   "metadata": {},
   "outputs": [],
   "source": [
    "all_data = all_data.drop(labels='Max_Gust_SpeedKm_h', axis=1)"
   ]
  },
  {
   "cell_type": "markdown",
   "metadata": {},
   "source": [
    "## Imputing CloudCover  \n",
    "Filling missing values with median to preserve an integer value"
   ]
  },
  {
   "cell_type": "code",
   "execution_count": 78,
   "metadata": {},
   "outputs": [],
   "source": [
    "all_data[\"CloudCover\"] = all_data[\"CloudCover\"].transform(lambda x: x.fillna(x.median()))"
   ]
  },
  {
   "cell_type": "markdown",
   "metadata": {},
   "source": [
    "## Categorical Selection"
   ]
  },
  {
   "cell_type": "markdown",
   "metadata": {},
   "source": [
    "### CloudCover"
   ]
  },
  {
   "cell_type": "markdown",
   "metadata": {},
   "source": [
    "CloudCover attribute will be transformed to a binary variable zeroClouds, since we noticed a uniform behaviour in the sales for Cloud Cover values from 1 to 9 and a different behaviour for CloudCover = 0."
   ]
  },
  {
   "cell_type": "code",
   "execution_count": 79,
   "metadata": {},
   "outputs": [],
   "source": [
    "all_data['ZeroClouds'] = all_data['CloudCover'].apply(lambda x: 1 if x==0 else 0);\n",
    "all_data = all_data.drop(labels='CloudCover',axis=1);"
   ]
  },
  {
   "cell_type": "code",
   "execution_count": 80,
   "metadata": {},
   "outputs": [
    {
     "data": {
      "text/plain": [
       "count    471544.000000\n",
       "mean          0.000238\n",
       "std           0.015410\n",
       "min           0.000000\n",
       "25%           0.000000\n",
       "50%           0.000000\n",
       "75%           0.000000\n",
       "max           1.000000\n",
       "Name: ZeroClouds, dtype: float64"
      ]
     },
     "execution_count": 80,
     "metadata": {},
     "output_type": "execute_result"
    }
   ],
   "source": [
    "all_data['ZeroClouds'].describe()"
   ]
  },
  {
   "cell_type": "markdown",
   "metadata": {},
   "source": [
    "## Imputing Visibility"
   ]
  },
  {
   "cell_type": "code",
   "execution_count": 81,
   "metadata": {},
   "outputs": [],
   "source": [
    "mean_of_min = math.ceil(all_data.loc[~np.isnan(all_data['Min_VisibilitykM'])]['Min_VisibilitykM'].describe()['mean'])\n",
    "mean_of_max = math.ceil(all_data.loc[~np.isnan(all_data['Max_VisibilityKm'])]['Max_VisibilityKm'].describe()['mean'])\n",
    "mean_of_mean = math.ceil(all_data.loc[~np.isnan(all_data['Max_VisibilityKm'])]['Max_VisibilityKm'].describe()['mean'])"
   ]
  },
  {
   "cell_type": "code",
   "execution_count": 82,
   "metadata": {},
   "outputs": [],
   "source": [
    "all_data['Max_VisibilityKm'] = all_data['Max_VisibilityKm'].fillna(mean_of_max)\n",
    "all_data['Min_VisibilitykM'] = all_data['Min_VisibilitykM'].fillna(mean_of_min)\n",
    "all_data['Mean_VisibilityKm'] = all_data['Mean_VisibilityKm'].fillna(mean_of_mean)"
   ]
  },
  {
   "cell_type": "code",
   "execution_count": 83,
   "metadata": {},
   "outputs": [
    {
     "data": {
      "text/html": [
       "<div>\n",
       "<style scoped>\n",
       "    .dataframe tbody tr th:only-of-type {\n",
       "        vertical-align: middle;\n",
       "    }\n",
       "\n",
       "    .dataframe tbody tr th {\n",
       "        vertical-align: top;\n",
       "    }\n",
       "\n",
       "    .dataframe thead th {\n",
       "        text-align: right;\n",
       "    }\n",
       "</style>\n",
       "<table border=\"1\" class=\"dataframe\">\n",
       "  <thead>\n",
       "    <tr style=\"text-align: right;\">\n",
       "      <th></th>\n",
       "      <th>Missing Ratio</th>\n",
       "    </tr>\n",
       "  </thead>\n",
       "  <tbody>\n",
       "  </tbody>\n",
       "</table>\n",
       "</div>"
      ],
      "text/plain": [
       "Empty DataFrame\n",
       "Columns: [Missing Ratio]\n",
       "Index: []"
      ]
     },
     "execution_count": 83,
     "metadata": {},
     "output_type": "execute_result"
    }
   ],
   "source": [
    "ratios = (all_data.isnull().sum() / len(all_data))*100\n",
    "rate = ratios.drop(ratios[ratios == 0].index).sort_values(ascending=False)[:30]\n",
    "missing_data = pd.DataFrame({'Missing Ratio' :rate})\n",
    "missing_data"
   ]
  },
  {
   "cell_type": "markdown",
   "metadata": {},
   "source": [
    "Computing Humidex Index"
   ]
  },
  {
   "cell_type": "code",
   "execution_count": 84,
   "metadata": {},
   "outputs": [],
   "source": [
    "all_data['Mean_H'] = np.ceil(all_data['Mean_TemperatureC'] + 0.5555 * (6.11*np.exp(5417.7530*(1/273.16 - 1/(273.16 + all_data['Mean_Dew_PointC'])) - 10)))"
   ]
  },
  {
   "cell_type": "code",
   "execution_count": 85,
   "metadata": {},
   "outputs": [],
   "source": [
    "all_data['Max_H'] = np.ceil(all_data['Max_TemperatureC'] + 0.5555 * (6.11*np.exp(5417.7530*(1/273.16 - 1/(273.16 + all_data['Max_Dew_PointC'])) - 10)))"
   ]
  },
  {
   "cell_type": "code",
   "execution_count": 86,
   "metadata": {},
   "outputs": [],
   "source": [
    "all_data['Min_H'] = np.ceil(all_data['Min_TemperatureC'] + 0.5555 * (6.11*np.exp(5417.7530*(1/273.16 - 1/(273.16 + all_data['Min_Dew_PointC'])) - 10)))"
   ]
  },
  {
   "cell_type": "markdown",
   "metadata": {},
   "source": [
    "Computing Wind Chill Index"
   ]
  },
  {
   "cell_type": "code",
   "execution_count": 87,
   "metadata": {},
   "outputs": [],
   "source": [
    "all_data['Mean_WCI'] = (10*np.sqrt(all_data['Mean_Wind_SpeedKm_h']*10/36) - all_data['Mean_Wind_SpeedKm_h']*10/36 + 10.5)*(33 - all_data['Mean_TemperatureC'])"
   ]
  },
  {
   "cell_type": "code",
   "execution_count": 88,
   "metadata": {},
   "outputs": [],
   "source": [
    "all_data['Max_WCI'] = (10*np.sqrt(all_data['Max_Wind_SpeedKm_h']*10/36) - all_data['Max_Wind_SpeedKm_h']*10/36 + 10.5)*(33 - all_data['Max_TemperatureC'])"
   ]
  },
  {
   "cell_type": "markdown",
   "metadata": {},
   "source": [
    "Computing Australian  Apparent Temperature"
   ]
  },
  {
   "cell_type": "code",
   "execution_count": 89,
   "metadata": {},
   "outputs": [],
   "source": [
    "all_data['Mean_AT'] = all_data['Mean_TemperatureC'] + 0.33*(all_data['Mean_Humidity']/100)*6.105*np.exp(17.27*all_data['Mean_TemperatureC']/(273.15 + all_data['Mean_TemperatureC'])) -0.7*all_data['Mean_Wind_SpeedKm_h']*10/36 - 4"
   ]
  },
  {
   "cell_type": "code",
   "execution_count": 90,
   "metadata": {},
   "outputs": [],
   "source": [
    "all_data['Mean_AT'] = all_data['Max_TemperatureC'] + 0.33*(all_data['Max_Humidity']/100)*6.105*np.exp(17.27*all_data['Max_TemperatureC']/(273.15 + all_data['Mean_TemperatureC'])) -0.7*all_data['Max_Wind_SpeedKm_h']*10/36 - 4"
   ]
  },
  {
   "cell_type": "code",
   "execution_count": 91,
   "metadata": {},
   "outputs": [],
   "source": [
    "test_offset = train.shape[0]\n",
    "train = all_data.iloc[0:test_offset,:]\n",
    "train = train.drop(labels='StoreID', axis=1)\n",
    "test = all_data.iloc[test_offset:all_data.shape[0],:]"
   ]
  },
  {
   "cell_type": "markdown",
   "metadata": {},
   "source": [
    "Saves test"
   ]
  },
  {
   "cell_type": "code",
   "execution_count": 92,
   "metadata": {},
   "outputs": [],
   "source": [
    "test = test.drop(labels = 'Max_Dew_PointC',axis=1)\n",
    "test = test.drop(labels = 'Max_Humidity',axis=1)\n",
    "test = test.drop(labels = 'Max_Sea_Level_PressurehPa',axis=1)\n",
    "test = test.drop(labels = 'Min_Dew_PointC',axis=1)\n",
    "test = test.drop(labels = 'Min_Humidity',axis=1)\n",
    "test = test.drop(labels = 'Min_Sea_Level_PressurehPa',axis=1)\n",
    "test = test.drop(labels = 'Min_TemperatureC',axis=1)\n",
    "test = test.drop(labels = 'Min_VisibilitykM',axis=1)\n",
    "test = test.drop(labels = 'Max_TemperatureC',axis=1)\n",
    "test = test.drop(labels = 'Max_VisibilityKm',axis=1)\n",
    "test = test.drop(labels = 'Max_Wind_SpeedKm_h',axis=1)\n",
    "test.to_csv(\"TestClean.csv\")"
   ]
  },
  {
   "cell_type": "markdown",
   "metadata": {},
   "source": [
    "Save train"
   ]
  },
  {
   "cell_type": "code",
   "execution_count": 93,
   "metadata": {},
   "outputs": [],
   "source": [
    "train = train.drop(labels = 'Max_Dew_PointC',axis=1)\n",
    "train = train.drop(labels = 'Max_Humidity',axis=1)\n",
    "train = train.drop(labels = 'Max_Sea_Level_PressurehPa',axis=1)\n",
    "train = train.drop(labels = 'Min_Dew_PointC',axis=1)\n",
    "train = train.drop(labels = 'Min_Humidity',axis=1)\n",
    "train = train.drop(labels = 'Min_Sea_Level_PressurehPa',axis=1)\n",
    "train = train.drop(labels = 'Min_TemperatureC',axis=1)\n",
    "train = train.drop(labels = 'Min_VisibilitykM',axis=1)\n",
    "train = train.drop(labels = 'Max_TemperatureC',axis=1)\n",
    "train = train.drop(labels = 'Max_VisibilityKm',axis=1)\n",
    "train = train.drop(labels = 'Max_Wind_SpeedKm_h',axis=1)\n",
    "train['NumberOfSales'] = train_target\n",
    "train['NumberOfCustomers'] = NumberOfCustomers \n",
    "train.to_csv(\"TrainClean.csv\")"
   ]
  },
  {
   "cell_type": "markdown",
   "metadata": {},
   "source": [
    "# Computing Correlation  "
   ]
  },
  {
   "cell_type": "markdown",
   "metadata": {},
   "source": [
    "Numerical correlation, using Pearson Correlation"
   ]
  },
  {
   "cell_type": "code",
   "execution_count": 94,
   "metadata": {},
   "outputs": [],
   "source": [
    "from scipy import stats\n",
    "from sklearn.preprocessing import PolynomialFeatures"
   ]
  },
  {
   "cell_type": "code",
   "execution_count": 95,
   "metadata": {},
   "outputs": [],
   "source": [
    "def compute_corr(df,var,degree,tar):\n",
    "    new_dataset = df\n",
    "    current_column = var\n",
    "    corr = {}\n",
    "    indexes = []\n",
    "    for d in range(2,degree+1):\n",
    "        column_name = var+\" at the power of \" + str(d)\n",
    "        new_dataset[column_name] = new_dataset[current_column]*df[var]\n",
    "        corr[column_name] = new_dataset[column_name].corr(new_dataset[tar],method='pearson',min_periods=1)\n",
    "        current_column = column_name\n",
    "        indexes.append(current_column)\n",
    "    \n",
    "    if (df[var].values > 0).all():\n",
    "        column_name = var+\"logbase2\"   \n",
    "        new_dataset[column_name] = np.log2(df[var])\n",
    "        indexes.append(current_column)\n",
    "        corr[column_name] = new_dataset[column_name].corr(new_dataset[tar],method='pearson',min_periods=1)\n",
    "        column_name = var+\"logbase10\"\n",
    "        new_dataset[column_name] = np.log10(df[var])\n",
    "        indexes.append(current_column)\n",
    "        corr[column_name] = new_dataset[column_name].corr(new_dataset[tar],method='pearson',min_periods=1)\n",
    "    \n",
    "    return corr,indexes"
   ]
  },
  {
   "cell_type": "code",
   "execution_count": 96,
   "metadata": {},
   "outputs": [],
   "source": [
    "bool_cols = [col for col in train if train[col].dropna().value_counts().index.isin([0,1]).all()]\n",
    "binary_variables = pd.Index(bool_cols)"
   ]
  },
  {
   "cell_type": "code",
   "execution_count": null,
   "metadata": {},
   "outputs": [],
   "source": [
    "continous_variables = train.columns.difference(binary_variables)"
   ]
  },
  {
   "cell_type": "code",
   "execution_count": null,
   "metadata": {},
   "outputs": [],
   "source": [
    "sns.set_context(\"notebook\", font_scale=1.0, rc={\"lines.linewidth\": 2.5})\n",
    "cov=train[continous_variables].corr(method='pearson')\n",
    "cm = sns.clustermap(cov, annot=True, center=0, cmap=\"Blues\", figsize=(20, 20))\n",
    "cm.cax.set_visible(False)"
   ]
  },
  {
   "cell_type": "code",
   "execution_count": null,
   "metadata": {},
   "outputs": [],
   "source": [
    "cov.loc[np.absolute(cov['NumberOfSales']) > 0.6]['NumberOfSales']"
   ]
  },
  {
   "cell_type": "code",
   "execution_count": null,
   "metadata": {},
   "outputs": [],
   "source": [
    "cov.loc[np.absolute(cov['NumberOfCustomers']) > 0.6]['NumberOfCustomers']"
   ]
  },
  {
   "cell_type": "markdown",
   "metadata": {},
   "source": [
    "# Computing correlations of interactions among features"
   ]
  },
  {
   "cell_type": "code",
   "execution_count": null,
   "metadata": {},
   "outputs": [],
   "source": [
    "X = train[continous_variables].values\n",
    "poly = PolynomialFeatures(degree =2,include_bias=False,interaction_only=True)\n",
    "Y = poly.fit_transform(X)"
   ]
  },
  {
   "cell_type": "code",
   "execution_count": null,
   "metadata": {},
   "outputs": [],
   "source": [
    "new_cols = poly.get_feature_names(input_features=train[continous_variables].columns)"
   ]
  },
  {
   "cell_type": "code",
   "execution_count": null,
   "metadata": {},
   "outputs": [],
   "source": [
    "new_data = pd.DataFrame(data=Y,columns=new_cols)"
   ]
  },
  {
   "cell_type": "code",
   "execution_count": null,
   "metadata": {},
   "outputs": [],
   "source": [
    "cov = new_data.corr(method='pearson')"
   ]
  },
  {
   "cell_type": "code",
   "execution_count": null,
   "metadata": {},
   "outputs": [],
   "source": [
    "cov.loc[cov['NumberOfSales'] > 0.6]['NumberOfSales']"
   ]
  },
  {
   "cell_type": "code",
   "execution_count": null,
   "metadata": {},
   "outputs": [],
   "source": [
    "cov.loc[cov['NumberOfCustomers'] > 0.6]['NumberOfCustomers']"
   ]
  },
  {
   "cell_type": "code",
   "execution_count": null,
   "metadata": {},
   "outputs": [],
   "source": [
    "correlations = {}\n",
    "indexes = {}\n",
    "for v in continous_variables:\n",
    "    correlations[v],indexes[v] = compute_corr(train,v,4,'NumberOfSales');"
   ]
  },
  {
   "cell_type": "code",
   "execution_count": null,
   "metadata": {},
   "outputs": [],
   "source": [
    "for v in continous_variables:\n",
    "    for k in indexes[v]:\n",
    "        if (np.absolute(correlations[v][k]) > 0.6 and v!='NumberOfSales'):\n",
    "            print(\" Pearson Correlation:=\"+str(correlations[v][k]))"
   ]
  },
  {
   "cell_type": "code",
   "execution_count": null,
   "metadata": {},
   "outputs": [],
   "source": [
    "correlations = {}\n",
    "indexes = {}\n",
    "for v in continous_variables:\n",
    "    correlations[v],indexes[v] = compute_corr(train,v,4,'NumberOfCustomers');"
   ]
  },
  {
   "cell_type": "code",
   "execution_count": null,
   "metadata": {},
   "outputs": [],
   "source": [
    "for v in continous_variables:\n",
    "    for k in indexes[v]:\n",
    "        if (np.absolute(correlations[v][k]) > 0.6 and v!='NumberOfCustomers' and v!='NumberOfSales'):\n",
    "            print(k+\"Pearson Correlation:=\"+str(correlations[v][k]))"
   ]
  },
  {
   "cell_type": "code",
   "execution_count": null,
   "metadata": {},
   "outputs": [],
   "source": [
    "point_biserial = {}\n",
    "for col in binary_variables:\n",
    "        point_biserial[col] = round(stats.pointbiserialr(train[col].values,train[\"NumberOfSales\"].values)[0],3)\n",
    "        if (np.absolute(point_biserial[col]) > 0.1):\n",
    "            print(col+\" Point Biserial Correlation:=\"+str(point_biserial[col]))"
   ]
  },
  {
   "cell_type": "code",
   "execution_count": null,
   "metadata": {},
   "outputs": [],
   "source": [
    "point_biserial_1 = {}\n",
    "for col in binary_variables:\n",
    "        point_biserial_1[col] = round(stats.pointbiserialr(train[col].values,train[\"NumberOfCustomers\"].values)[0],3)\n",
    "        if (np.absolute(point_biserial[col]) > 0.1):\n",
    "            print(col+\" Point Biserial Correlation:=\"+str(point_biserial_1[col]))"
   ]
  }
 ],
 "metadata": {
  "kernelspec": {
   "display_name": "Python 3",
   "language": "python",
   "name": "python3"
  },
  "language_info": {
   "codemirror_mode": {
    "name": "ipython",
    "version": 3
   },
   "file_extension": ".py",
   "mimetype": "text/x-python",
   "name": "python",
   "nbconvert_exporter": "python",
   "pygments_lexer": "ipython3",
   "version": "3.6.4"
  }
 },
 "nbformat": 4,
 "nbformat_minor": 2
}
